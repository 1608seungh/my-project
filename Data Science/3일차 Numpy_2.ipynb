{
 "cells": [
  {
   "cell_type": "code",
   "execution_count": 1,
   "id": "79d4f37c",
   "metadata": {
    "id": "79d4f37c"
   },
   "outputs": [
    {
     "data": {
      "text/plain": [
       "array([[ 97,  78,  43,  53],\n",
       "       [ 78,  65,  57,  68],\n",
       "       [100,  98,  36,  59],\n",
       "       [ 35,  50,   7,  46]])"
      ]
     },
     "execution_count": 1,
     "metadata": {},
     "output_type": "execute_result"
    }
   ],
   "source": [
    "import numpy as np\n",
    "\n",
    "scores = np.array([[97, 78, 43, 53], [78, 65, 57, 68], [100, 98, 36, 59], [35, 50, 7, 46]])\n",
    "scores"
   ]
  },
  {
   "cell_type": "markdown",
   "id": "52e797ae",
   "metadata": {
    "id": "52e797ae"
   },
   "source": [
    "#### Q9. 각 과목별로 과목명과 50점 이상 점수들을 출력하는 코드를 아래 셀에 작성하시오. "
   ]
  },
  {
   "cell_type": "markdown",
   "id": "4a42097c",
   "metadata": {
    "id": "4a42097c"
   },
   "source": [
    "* 기존에 선언한 scores 배열을 사용"
   ]
  },
  {
   "cell_type": "markdown",
   "id": "b7272cc1",
   "metadata": {
    "id": "b7272cc1"
   },
   "source": [
    "||A|B|C|D|\n",
    "|--|--|--|--|--|\n",
    "|국어|97|78|43|53|\n",
    "|영어|78|65|57|68|\n",
    "|수학|100|98|36|59|\n",
    "|탐구|35|50|7|46|"
   ]
  },
  {
   "cell_type": "code",
   "execution_count": 132,
   "id": "1cdd0da2",
   "metadata": {},
   "outputs": [
    {
     "name": "stdout",
     "output_type": "stream",
     "text": [
      "국어 [97 78 53]\n",
      "영어 [78 65 57 68]\n",
      "수학 [100  98  59]\n",
      "탐구 [50]\n"
     ]
    }
   ],
   "source": [
    "Q9 = np.array(['국어', '영어', '수학', '탐구'])\n",
    "\n",
    "for i, title in enumerate(Q9):\n",
    "    print(title, scores[i, scores[i] >= 50])"
   ]
  },
  {
   "cell_type": "markdown",
   "id": "9bdf9013",
   "metadata": {
    "id": "9bdf9013"
   },
   "source": [
    "## Missing Value"
   ]
  },
  {
   "cell_type": "markdown",
   "id": "b867ce08",
   "metadata": {
    "id": "b867ce08"
   },
   "source": [
    "* 공부를 위해 사용하는 학습용 데이터가 아닌 실제 문제를 해결하기 위해 사용되는 데이터는 결측치들(missing value)이 존재한다.\n",
    "* 이러한 결측치는 분석 결과에 영향을 미치므로 적절하게 처리하는 것이 중요하다.\n",
    "* 결측치 처리 방식은 일반적으로 다음과 같다.\n",
    "    * 결측치가 존재하는 행 혹은 열 삭제\n",
    "    * 중앙값, 평균, 최빈값 혹은 특정값으로 대체"
   ]
  },
  {
   "cell_type": "code",
   "execution_count": 76,
   "id": "1a97c231",
   "metadata": {
    "id": "1a97c231"
   },
   "outputs": [
    {
     "data": {
      "text/plain": [
       "array([[ 97.,  78.,  43.,  nan],\n",
       "       [ 78.,  nan,  57.,  68.],\n",
       "       [100.,  nan,  nan,  59.],\n",
       "       [ 35.,  50.,   7.,  46.]])"
      ]
     },
     "execution_count": 76,
     "metadata": {},
     "output_type": "execute_result"
    }
   ],
   "source": [
    "data = np.array([[97, 78, 43, np.nan], [78, np.nan, 57, 68], [100, np.nan, np.nan, 59], [35, 50, 7, 46]])\n",
    "data"
   ]
  },
  {
   "cell_type": "code",
   "execution_count": 77,
   "id": "68bc32e7",
   "metadata": {
    "id": "68bc32e7"
   },
   "outputs": [
    {
     "data": {
      "text/plain": [
       "array([[ 97.,  78.,  43.,  nan],\n",
       "       [ 78.,  nan,  57.,  68.],\n",
       "       [100.,  nan,  nan,  59.],\n",
       "       [ 35.,  50.,   7.,  46.]])"
      ]
     },
     "execution_count": 77,
     "metadata": {},
     "output_type": "execute_result"
    }
   ],
   "source": [
    "data"
   ]
  },
  {
   "cell_type": "markdown",
   "id": "00a2d9be",
   "metadata": {
    "id": "00a2d9be"
   },
   "source": [
    "### Missing value check"
   ]
  },
  {
   "cell_type": "markdown",
   "id": "7f0f3cfd",
   "metadata": {
    "id": "7f0f3cfd"
   },
   "source": [
    "* np.isnan()을  사용하여 결측치를 찾아낼 수 있음\n",
    "* any()를 사용하면 축에 따라 하나라도 결측치가 존재하면 True를 반환, 아니라면 False를 반환\n",
    "* all()을 사용하면 축에 따라 모두 결측치가 존재하면 True를 반환, 아니라면 False를 반환"
   ]
  },
  {
   "cell_type": "code",
   "execution_count": 78,
   "id": "df00499f",
   "metadata": {
    "id": "df00499f"
   },
   "outputs": [
    {
     "data": {
      "text/plain": [
       "array([[False, False, False,  True],\n",
       "       [False,  True, False, False],\n",
       "       [False,  True,  True, False],\n",
       "       [False, False, False, False]])"
      ]
     },
     "execution_count": 78,
     "metadata": {},
     "output_type": "execute_result"
    }
   ],
   "source": [
    "np.isnan(data)"
   ]
  },
  {
   "cell_type": "code",
   "execution_count": 79,
   "id": "a4c549ff",
   "metadata": {
    "id": "a4c549ff"
   },
   "outputs": [
    {
     "name": "stdout",
     "output_type": "stream",
     "text": [
      "[ True  True  True False]\n",
      "[False  True  True  True]\n"
     ]
    }
   ],
   "source": [
    "print(np.isnan(data).any(axis=1))\n",
    "print(np.isnan(data).any(axis=0))"
   ]
  },
  {
   "cell_type": "code",
   "execution_count": 80,
   "id": "736831af",
   "metadata": {
    "id": "736831af"
   },
   "outputs": [
    {
     "name": "stdout",
     "output_type": "stream",
     "text": [
      "[False False False False]\n",
      "[False False False False]\n"
     ]
    }
   ],
   "source": [
    "print(np.isnan(data).all(axis=1))\n",
    "print(np.isnan(data).all(axis=0))"
   ]
  },
  {
   "cell_type": "markdown",
   "id": "ff1f38e6",
   "metadata": {
    "id": "ff1f38e6"
   },
   "source": [
    "### Missing value replacement"
   ]
  },
  {
   "cell_type": "markdown",
   "id": "f10b17c5",
   "metadata": {
    "id": "f10b17c5"
   },
   "source": [
    "* np.nan_to_num(nan = 0)을 이용해서 결측치를 숫자로 대체\n",
    "    * 기본값은 0"
   ]
  },
  {
   "cell_type": "code",
   "execution_count": 81,
   "id": "37090d32",
   "metadata": {
    "id": "37090d32"
   },
   "outputs": [
    {
     "data": {
      "text/plain": [
       "array([[ 97.,  78.,  43.,   0.],\n",
       "       [ 78.,   0.,  57.,  68.],\n",
       "       [100.,   0.,   0.,  59.],\n",
       "       [ 35.,  50.,   7.,  46.]])"
      ]
     },
     "execution_count": 81,
     "metadata": {},
     "output_type": "execute_result"
    }
   ],
   "source": [
    "temp_data = np.nan_to_num(data)\n",
    "temp_data"
   ]
  },
  {
   "cell_type": "code",
   "execution_count": 82,
   "id": "3b27ea32",
   "metadata": {
    "id": "3b27ea32"
   },
   "outputs": [
    {
     "data": {
      "text/plain": [
       "array([[ 97.,  78.,  43.,  -2.],\n",
       "       [ 78.,  -2.,  57.,  68.],\n",
       "       [100.,  -2.,  -2.,  59.],\n",
       "       [ 35.,  50.,   7.,  46.]])"
      ]
     },
     "execution_count": 82,
     "metadata": {},
     "output_type": "execute_result"
    }
   ],
   "source": [
    "np.nan_to_num(data, nan = -2)"
   ]
  },
  {
   "cell_type": "markdown",
   "id": "df70c13e",
   "metadata": {
    "id": "df70c13e"
   },
   "source": [
    "#### Median"
   ]
  },
  {
   "cell_type": "markdown",
   "id": "720b78b9",
   "metadata": {
    "id": "720b78b9"
   },
   "source": [
    "* 중앙값 대체\n",
    "* 결측치가 존재할 때 중앙값을 계산할 수 없으므로 np.nanmedian()를 사용하여 결측치를 무시하고 중앙값을 구할 수 있음"
   ]
  },
  {
   "cell_type": "code",
   "execution_count": 83,
   "id": "48c27779",
   "metadata": {
    "id": "48c27779"
   },
   "outputs": [
    {
     "data": {
      "text/plain": [
       "48.0"
      ]
     },
     "execution_count": 83,
     "metadata": {},
     "output_type": "execute_result"
    }
   ],
   "source": [
    "median = np.median(temp_data)\n",
    "median"
   ]
  },
  {
   "cell_type": "code",
   "execution_count": 84,
   "id": "0ed1d614",
   "metadata": {
    "id": "0ed1d614"
   },
   "outputs": [
    {
     "data": {
      "text/plain": [
       "array([[ 97.,  78.,  43.,  48.],\n",
       "       [ 78.,  48.,  57.,  68.],\n",
       "       [100.,  48.,  48.,  59.],\n",
       "       [ 35.,  50.,   7.,  46.]])"
      ]
     },
     "execution_count": 84,
     "metadata": {},
     "output_type": "execute_result"
    }
   ],
   "source": [
    "np.nan_to_num(data, nan = median)"
   ]
  },
  {
   "cell_type": "code",
   "execution_count": 85,
   "id": "8d6040e8",
   "metadata": {
    "id": "8d6040e8"
   },
   "outputs": [
    {
     "data": {
      "text/plain": [
       "58.0"
      ]
     },
     "execution_count": 85,
     "metadata": {},
     "output_type": "execute_result"
    }
   ],
   "source": [
    "np.nanmedian(data)"
   ]
  },
  {
   "cell_type": "code",
   "execution_count": 86,
   "id": "01a3b1cc",
   "metadata": {
    "id": "01a3b1cc"
   },
   "outputs": [
    {
     "data": {
      "text/plain": [
       "array([[ 97.,  78.,  43.,  58.],\n",
       "       [ 78.,  58.,  57.,  68.],\n",
       "       [100.,  58.,  58.,  59.],\n",
       "       [ 35.,  50.,   7.,  46.]])"
      ]
     },
     "execution_count": 86,
     "metadata": {},
     "output_type": "execute_result"
    }
   ],
   "source": [
    "np.nan_to_num(data, nan = np.nanmedian(data))"
   ]
  },
  {
   "cell_type": "markdown",
   "id": "9226e242",
   "metadata": {
    "id": "9226e242"
   },
   "source": [
    "#### Mean"
   ]
  },
  {
   "cell_type": "markdown",
   "id": "20956568",
   "metadata": {
    "id": "20956568"
   },
   "source": [
    "* 평균값 대체\n",
    "* 결측치가 존재할 때 평균을 계산할 수 없으므로 np.nanmean()를 사용하여 결측치를 무시하고 평균을 구할 수 있음"
   ]
  },
  {
   "cell_type": "code",
   "execution_count": 87,
   "id": "0917c6ff",
   "metadata": {
    "id": "0917c6ff"
   },
   "outputs": [
    {
     "data": {
      "text/plain": [
       "44.875"
      ]
     },
     "execution_count": 87,
     "metadata": {},
     "output_type": "execute_result"
    }
   ],
   "source": [
    "mean = np.mean(temp_data)\n",
    "mean"
   ]
  },
  {
   "cell_type": "code",
   "execution_count": 88,
   "id": "af8f2e0a",
   "metadata": {
    "id": "af8f2e0a"
   },
   "outputs": [
    {
     "data": {
      "text/plain": [
       "array([[ 97.   ,  78.   ,  43.   ,  44.875],\n",
       "       [ 78.   ,  44.875,  57.   ,  68.   ],\n",
       "       [100.   ,  44.875,  44.875,  59.   ],\n",
       "       [ 35.   ,  50.   ,   7.   ,  46.   ]])"
      ]
     },
     "execution_count": 88,
     "metadata": {},
     "output_type": "execute_result"
    }
   ],
   "source": [
    "np.nan_to_num(data, nan = mean)"
   ]
  },
  {
   "cell_type": "code",
   "execution_count": 89,
   "id": "0b5ac605",
   "metadata": {
    "id": "0b5ac605"
   },
   "outputs": [
    {
     "data": {
      "text/plain": [
       "59.833333333333336"
      ]
     },
     "execution_count": 89,
     "metadata": {},
     "output_type": "execute_result"
    }
   ],
   "source": [
    "np.nanmean(data)"
   ]
  },
  {
   "cell_type": "code",
   "execution_count": 90,
   "id": "a01cc10d",
   "metadata": {
    "id": "a01cc10d"
   },
   "outputs": [
    {
     "data": {
      "text/plain": [
       "array([[ 97.        ,  78.        ,  43.        ,  59.83333333],\n",
       "       [ 78.        ,  59.83333333,  57.        ,  68.        ],\n",
       "       [100.        ,  59.83333333,  59.83333333,  59.        ],\n",
       "       [ 35.        ,  50.        ,   7.        ,  46.        ]])"
      ]
     },
     "execution_count": 90,
     "metadata": {},
     "output_type": "execute_result"
    }
   ],
   "source": [
    "np.nan_to_num(data, nan = np.nanmean(data))"
   ]
  },
  {
   "cell_type": "markdown",
   "id": "6d8dec91",
   "metadata": {
    "id": "6d8dec91"
   },
   "source": [
    "#### Q10. 다음과 같이 결측치를 가지는 임의의 데이터가 주어졌을 때, 결측치를 각 열에 대한 중앙값으로 대체하는 구하는 코드를 아래 셀에 작성하시오. "
   ]
  },
  {
   "cell_type": "markdown",
   "id": "67bdef4c",
   "metadata": {
    "id": "67bdef4c"
   },
   "source": [
    "* 0열에 대한 결측치는 0열에 대한 중앙값을 구하여 대체, 1열에 대한 결측치는 1열에 대한 중앙값을 구하여 대체하라는 의미\n",
    "1. 주어진 데이터를 확인\n",
    "    * 임의로 생성한 데이터이므로 사람마다 다른 데이터를 가짐\n",
    "2. 값을 대체하기 전에 생성된 중앙값을 확인"
   ]
  },
  {
   "cell_type": "code",
   "execution_count": 91,
   "id": "5ecef9d5",
   "metadata": {
    "id": "5ecef9d5"
   },
   "outputs": [],
   "source": [
    "idx = np.random.choice(20, 7, replace = False)\n",
    "Q10 = np.random.randint(1, 100, (25, )).astype('float')  # 데이터 자료형이 float일 때 결측치 삽입 가능, 정수형 배열을 실수형 배열로 변환\n",
    "Q10[idx] = np.nan\n",
    "Q10 = Q10.reshape(5, 5)"
   ]
  },
  {
   "cell_type": "code",
   "execution_count": 92,
   "id": "5782a092",
   "metadata": {
    "id": "5782a092"
   },
   "outputs": [],
   "source": [
    "### Your Code ###"
   ]
  },
  {
   "cell_type": "code",
   "execution_count": 133,
   "id": "ddccdbc2",
   "metadata": {},
   "outputs": [
    {
     "data": {
      "text/plain": [
       "array([[nan, nan,  4., 41., 63.],\n",
       "       [17., 74., 87., nan, nan],\n",
       "       [62., 30., 67., 32., 80.],\n",
       "       [nan, 18., nan, nan, 38.],\n",
       "       [53., 53., 22., 13., 87.]])"
      ]
     },
     "execution_count": 133,
     "metadata": {},
     "output_type": "execute_result"
    }
   ],
   "source": [
    "Q10"
   ]
  },
  {
   "cell_type": "code",
   "execution_count": 136,
   "id": "05c3ba07",
   "metadata": {},
   "outputs": [
    {
     "data": {
      "text/plain": [
       "array([53. , 41.5, 44.5, 32. , 71.5])"
      ]
     },
     "execution_count": 136,
     "metadata": {},
     "output_type": "execute_result"
    }
   ],
   "source": [
    "np.nanmedian(Q10, axis=0)"
   ]
  },
  {
   "cell_type": "code",
   "execution_count": 139,
   "id": "03b59879",
   "metadata": {},
   "outputs": [
    {
     "data": {
      "text/plain": [
       "array([[53. , 41.5,  4. , 41. , 63. ],\n",
       "       [17. , 74. , 87. , 32. , 71.5],\n",
       "       [62. , 30. , 67. , 32. , 80. ],\n",
       "       [53. , 18. , 44.5, 32. , 38. ],\n",
       "       [53. , 53. , 22. , 13. , 87. ]])"
      ]
     },
     "execution_count": 139,
     "metadata": {},
     "output_type": "execute_result"
    }
   ],
   "source": [
    "Q10 = np.nan_to_num(Q10, nan = np.nanmedian(Q10, axis=0))\n",
    "Q10"
   ]
  }
 ],
 "metadata": {
  "colab": {
   "collapsed_sections": [
    "b2e6947b",
    "9394cd6c",
    "e29d0abd",
    "06ecd904",
    "957c04d9",
    "8e0e2a6d",
    "e6789e37",
    "0fa8c7ec",
    "c20ba3b5",
    "9918111a",
    "8e1d2e67",
    "58b5530f",
    "f7861e5f",
    "37d2edcc",
    "27ddc8f7",
    "177b27fd",
    "9d8bf81a",
    "0fec4d82",
    "3b26bac7",
    "dc39563d",
    "4e76d21c",
    "9d38398d",
    "c6c5a4a1",
    "6cd6ff90",
    "92918f83",
    "2f8fea4f",
    "4d1f3f38",
    "453d85d4",
    "85fe151e",
    "db8f6e58",
    "aedc00d8",
    "1074e0c5",
    "1575e416",
    "72423565",
    "52e797ae",
    "9bdf9013",
    "00a2d9be",
    "ff1f38e6",
    "df70c13e",
    "9226e242",
    "6d8dec91"
   ],
   "provenance": []
  },
  "kernelspec": {
   "display_name": "Python 3 (ipykernel)",
   "language": "python",
   "name": "python3"
  },
  "language_info": {
   "codemirror_mode": {
    "name": "ipython",
    "version": 3
   },
   "file_extension": ".py",
   "mimetype": "text/x-python",
   "name": "python",
   "nbconvert_exporter": "python",
   "pygments_lexer": "ipython3",
   "version": "3.9.13"
  }
 },
 "nbformat": 4,
 "nbformat_minor": 5
}
