{
 "cells": [
  {
   "cell_type": "code",
   "execution_count": 2,
   "id": "d2ac86a3",
   "metadata": {},
   "outputs": [
    {
     "data": {
      "text/plain": [
       "array([[ 97,  78,  43,  53],\n",
       "       [ 78,  65,  57,  68],\n",
       "       [100,  98,  36,  59],\n",
       "       [ 35,  50,   7,  46]])"
      ]
     },
     "execution_count": 2,
     "metadata": {},
     "output_type": "execute_result"
    }
   ],
   "source": [
    "import numpy as np\n",
    "\n",
    "scores = np.array([[97,78,43,53],\n",
    "                   [78,65,57,68],\n",
    "                   [100,98,36,59],\n",
    "                   [35,50,7,46]])\n",
    "scores"
   ]
  },
  {
   "cell_type": "code",
   "execution_count": 3,
   "id": "ca8bd35d",
   "metadata": {},
   "outputs": [
    {
     "data": {
      "text/plain": [
       "array([0, 0, 0, 0, 0, 0, 0, 1, 0, 0, 0, 0, 0, 0, 0, 0, 0, 0, 0, 0, 0, 0,\n",
       "       0, 0, 0, 0, 0, 0, 0, 0, 0, 0, 0, 0, 0, 1, 1, 0, 0, 0, 0, 0, 0, 1,\n",
       "       0, 0, 1, 0, 0, 0, 1, 0, 0, 1, 0, 0, 0, 1, 0, 1, 0, 0, 0, 0, 0, 1,\n",
       "       0, 0, 1, 0, 0, 0, 0, 0, 0, 0, 0, 0, 2, 0, 0, 0, 0, 0, 0, 0, 0, 0,\n",
       "       0, 0, 0, 0, 0, 0, 0, 0, 0, 1, 1, 0, 1], dtype=int64)"
      ]
     },
     "execution_count": 3,
     "metadata": {},
     "output_type": "execute_result"
    }
   ],
   "source": [
    "np.bincount(scores.reshape(-1))"
   ]
  },
  {
   "cell_type": "code",
   "execution_count": 10,
   "id": "ff3dc7a8",
   "metadata": {},
   "outputs": [
    {
     "name": "stdout",
     "output_type": "stream",
     "text": [
      "국어 [97 78 53]\n",
      "영어 [78 65 57 68]\n",
      "수학 [100  98  59]\n",
      "탐구 [50]\n"
     ]
    }
   ],
   "source": [
    "Q9 = np.array(['국어','영어','수학','탐구'])\n",
    "\n",
    "for i, title in enumerate(Q9):\n",
    "    print(title, scores[i, scores[i] >= 50])"
   ]
  },
  {
   "cell_type": "markdown",
   "id": "ed4463a7",
   "metadata": {},
   "source": [
    "# Missing Value"
   ]
  },
  {
   "cell_type": "markdown",
   "id": "c828c66b",
   "metadata": {},
   "source": [
    "* 학생용 데이터가 아닌 실제 문제를 해결하기 위해 사용되는 데이터는 결측지가 존재\n",
    "* 이러한 결측치 처리는 분석 결과에 영향을 미친다.\n",
    "    * 적절히 처리하는 것이 중요\n",
    "* 처리 방법\n",
    "    * 결측치가 존재하는 행이나 열 자체를 삭제한다.\n",
    "    * 중앙값, 평균, 최빈값 혹은 특정값으로 대체 "
   ]
  },
  {
   "cell_type": "code",
   "execution_count": 12,
   "id": "44a52cb1",
   "metadata": {},
   "outputs": [
    {
     "data": {
      "text/plain": [
       "array([[ 97.,  78.,  43.,  nan],\n",
       "       [ 78.,  nan,  57.,  68.],\n",
       "       [100.,  nan,  nan,  59.],\n",
       "       [ 35.,  50.,   7.,  46.]])"
      ]
     },
     "execution_count": 12,
     "metadata": {},
     "output_type": "execute_result"
    }
   ],
   "source": [
    "data = np.array([[97,78,43,np.nan],\n",
    "                 [78,np.nan,57,68],\n",
    "                 [100,np.nan,np.nan,59],\n",
    "                 [35,50,7,46]])\n",
    "data "
   ]
  },
  {
   "cell_type": "code",
   "execution_count": 13,
   "id": "56abadd6",
   "metadata": {},
   "outputs": [
    {
     "data": {
      "text/plain": [
       "array([[False, False, False,  True],\n",
       "       [False,  True, False, False],\n",
       "       [False,  True,  True, False],\n",
       "       [False, False, False, False]])"
      ]
     },
     "execution_count": 13,
     "metadata": {},
     "output_type": "execute_result"
    }
   ],
   "source": [
    "np.isnan(data)"
   ]
  },
  {
   "cell_type": "code",
   "execution_count": 15,
   "id": "3fd862da",
   "metadata": {},
   "outputs": [
    {
     "data": {
      "text/plain": [
       "array([ True,  True,  True, False])"
      ]
     },
     "execution_count": 15,
     "metadata": {},
     "output_type": "execute_result"
    }
   ],
   "source": [
    "np.isnan(data).any(axis=1)"
   ]
  },
  {
   "cell_type": "code",
   "execution_count": 16,
   "id": "cd556626",
   "metadata": {},
   "outputs": [
    {
     "data": {
      "text/plain": [
       "array([False,  True,  True,  True])"
      ]
     },
     "execution_count": 16,
     "metadata": {},
     "output_type": "execute_result"
    }
   ],
   "source": [
    "np.isnan(data).any(axis=0)"
   ]
  },
  {
   "cell_type": "code",
   "execution_count": 17,
   "id": "2dbb4ac3",
   "metadata": {},
   "outputs": [
    {
     "data": {
      "text/plain": [
       "array([False, False, False, False])"
      ]
     },
     "execution_count": 17,
     "metadata": {},
     "output_type": "execute_result"
    }
   ],
   "source": [
    "np.isnan(data).all(axis=1)"
   ]
  },
  {
   "cell_type": "markdown",
   "id": "d2fcf89d",
   "metadata": {},
   "source": [
    "# Missing Value Replacement  "
   ]
  },
  {
   "cell_type": "code",
   "execution_count": 18,
   "id": "d489d9bd",
   "metadata": {},
   "outputs": [
    {
     "data": {
      "text/plain": [
       "array([[ 97.,  78.,  43.,   0.],\n",
       "       [ 78.,   0.,  57.,  68.],\n",
       "       [100.,   0.,   0.,  59.],\n",
       "       [ 35.,  50.,   7.,  46.]])"
      ]
     },
     "execution_count": 18,
     "metadata": {},
     "output_type": "execute_result"
    }
   ],
   "source": [
    "temp = np.nan_to_num(data)\n",
    "temp"
   ]
  },
  {
   "cell_type": "code",
   "execution_count": 19,
   "id": "acaa720c",
   "metadata": {},
   "outputs": [
    {
     "data": {
      "text/plain": [
       "array([[ 97.,  78.,  43.,  27.],\n",
       "       [ 78.,  27.,  57.,  68.],\n",
       "       [100.,  27.,  27.,  59.],\n",
       "       [ 35.,  50.,   7.,  46.]])"
      ]
     },
     "execution_count": 19,
     "metadata": {},
     "output_type": "execute_result"
    }
   ],
   "source": [
    "np.nan_to_num(data,nan=27)\n"
   ]
  },
  {
   "cell_type": "markdown",
   "id": "e3f4c60b",
   "metadata": {},
   "source": [
    "* 중앙값으로 처리 (Median)"
   ]
  },
  {
   "cell_type": "code",
   "execution_count": 21,
   "id": "e90bd0c2",
   "metadata": {},
   "outputs": [
    {
     "data": {
      "text/plain": [
       "48.0"
      ]
     },
     "execution_count": 21,
     "metadata": {},
     "output_type": "execute_result"
    }
   ],
   "source": [
    "median = np.median(temp)\n",
    "median"
   ]
  },
  {
   "cell_type": "code",
   "execution_count": 22,
   "id": "f9ec3aa1",
   "metadata": {},
   "outputs": [
    {
     "data": {
      "text/plain": [
       "array([[ 97.,  78.,  43.,  48.],\n",
       "       [ 78.,  48.,  57.,  68.],\n",
       "       [100.,  48.,  48.,  59.],\n",
       "       [ 35.,  50.,   7.,  46.]])"
      ]
     },
     "execution_count": 22,
     "metadata": {},
     "output_type": "execute_result"
    }
   ],
   "source": [
    "temp = np.nan_to_num(data, nan=median)\n",
    "temp"
   ]
  },
  {
   "cell_type": "code",
   "execution_count": 23,
   "id": "ca4aed01",
   "metadata": {},
   "outputs": [
    {
     "data": {
      "text/plain": [
       "array([[ 97.,  78.,  43.,  58.],\n",
       "       [ 78.,  58.,  57.,  68.],\n",
       "       [100.,  58.,  58.,  59.],\n",
       "       [ 35.,  50.,   7.,  46.]])"
      ]
     },
     "execution_count": 23,
     "metadata": {},
     "output_type": "execute_result"
    }
   ],
   "source": [
    "np.nan_to_num(data, nan=np.nanmedian(data))"
   ]
  },
  {
   "cell_type": "code",
   "execution_count": 29,
   "id": "132bdf29",
   "metadata": {},
   "outputs": [
    {
     "data": {
      "text/plain": [
       "array([[ 97.        ,  78.        ,  43.        ,  59.83333333],\n",
       "       [ 78.        ,  59.83333333,  57.        ,  68.        ],\n",
       "       [100.        ,  59.83333333,  59.83333333,  59.        ],\n",
       "       [ 35.        ,  50.        ,   7.        ,  46.        ]])"
      ]
     },
     "execution_count": 29,
     "metadata": {},
     "output_type": "execute_result"
    }
   ],
   "source": [
    "\n",
    "temp2 = np.nan_to_num(data, nan=np.nanmean(data))\n",
    "temp2"
   ]
  }
 ],
 "metadata": {
  "kernelspec": {
   "display_name": "Python 3 (ipykernel)",
   "language": "python",
   "name": "python3"
  },
  "language_info": {
   "codemirror_mode": {
    "name": "ipython",
    "version": 3
   },
   "file_extension": ".py",
   "mimetype": "text/x-python",
   "name": "python",
   "nbconvert_exporter": "python",
   "pygments_lexer": "ipython3",
   "version": "3.9.13"
  }
 },
 "nbformat": 4,
 "nbformat_minor": 5
}
