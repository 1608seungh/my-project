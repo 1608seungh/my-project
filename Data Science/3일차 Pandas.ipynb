{
 "cells": [
  {
   "cell_type": "markdown",
   "id": "427fd1f9",
   "metadata": {},
   "source": [
    "# Pandas"
   ]
  },
  {
   "cell_type": "markdown",
   "id": "ed416e43",
   "metadata": {},
   "source": [
    "# What is Pandas?"
   ]
  },
  {
   "cell_type": "markdown",
   "id": "6d83e29a",
   "metadata": {},
   "source": [
    "<img src=\"https://pandas.pydata.org/docs/_static/pandas.svg\" width=\"300\">"
   ]
  },
  {
   "cell_type": "markdown",
   "id": "0dc4d042",
   "metadata": {},
   "source": [
    "* 파이썬 프로그래밍을 통한 데이터 조작 및 분석을 가능하게 해주는 라이브러리\n",
    "    * Numpy와 마찬가지로 Python에 최적화\n",
    "        * Numpy 기반으로 작성\n",
    "        * 분석에 대한 편리성 제공\n",
    "    * 주요 기능\n",
    "        * 통합 인덱싱을 활용한 데이터 조작을 가능하게 하는 데이터프레임(DataFrame) 오브젝트\n",
    "        * 인메모리(in-memory) 데이터 구조와 다양한 파일 포맷들 간의 데이터 읽기/쓰기 환경 지원\n",
    "        * 쉬운 데이터 결측치의 정렬 및 처리\n",
    "        * 데이터셋의 재구조화 및 피보팅\n",
    "        * 레이블 기반의 슬라이싱, 잘 지원된 인덱싱, 대용량 데이터셋에 대한 서브셋 지원\n",
    "        * 데이터 구조의 칼럼 추가 및 삭제\n",
    "        * 데이터셋의 분할-적용-병합을 통한 GroupBy 엔진 지원\n",
    "        * 데이터셋 병합(merging) 및 조인(joining) 지원\n",
    "        * 저차원 데이터에서의 고차원 데이터 처리를 위한 계층적 축 인덱싱 지원\n",
    "        * date range, 빈도 변환, 이동 창 통계, 이동 창 선형회귀, 날짜 이동 등의 시계열 작업 지원\n",
    "        * 데이터 필터 지원"
   ]
  },
  {
   "cell_type": "markdown",
   "id": "70742122",
   "metadata": {},
   "source": [
    "# How to use Pandas"
   ]
  },
  {
   "cell_type": "markdown",
   "id": "8fa89012",
   "metadata": {},
   "source": [
    "## Installation"
   ]
  },
  {
   "cell_type": "markdown",
   "id": "68b4494d",
   "metadata": {
    "id": "68b4494d"
   },
   "source": [
    "* 만약 설치가 안 되어 있다면 아래 셀을 실행하여 설치할 수 있다."
   ]
  },
  {
   "cell_type": "code",
   "execution_count": 1,
   "id": "43931aee",
   "metadata": {
    "id": "43931aee"
   },
   "outputs": [],
   "source": [
    "#pip install pandas"
   ]
  },
  {
   "cell_type": "markdown",
   "id": "bee293ae",
   "metadata": {
    "id": "bee293ae"
   },
   "source": [
    "* Pandas 라이브러리를 사용하기 위해 아래 셀과 같이 import\n",
    "* pd는 import한 라이브러리의 별칭\n",
    "    * 별칭을 지정하지 않으면 해당 라이브러리를 사용할 때마다 \"pandas.\" 의 형태로 사용해야 함\n",
    "    * 별칭을 지정하는데 별도의 규칙은 없지만 통용적으로 \"pd\"를 사용"
   ]
  },
  {
   "cell_type": "code",
   "execution_count": 2,
   "id": "a13849d1",
   "metadata": {},
   "outputs": [],
   "source": [
    "import pandas as pd"
   ]
  },
  {
   "cell_type": "code",
   "execution_count": 3,
   "id": "faa16e92",
   "metadata": {},
   "outputs": [],
   "source": [
    "#pd.__version__"
   ]
  },
  {
   "cell_type": "markdown",
   "id": "502b9682",
   "metadata": {},
   "source": [
    "## DataFrame creation"
   ]
  },
  {
   "cell_type": "markdown",
   "id": "a021a68a",
   "metadata": {},
   "source": [
    "* 기본적인 데이터프레임 생성 방법을 알아본다."
   ]
  },
  {
   "cell_type": "markdown",
   "id": "8d27f652",
   "metadata": {},
   "source": [
    "* 데이터 프레임은 2차원 형태의 데이터 구조를 나타냄\n",
    "    * 각 행과 열은 Labeling된 축을 포함\n",
    "* DataFrame(data, index, columns, dtype, copy)\n",
    "    * data: Dataframe을 생성할 데이터\n",
    "    * index: 각 행에 대한 Label\n",
    "    * columns: 각 열에 대한 Label\n",
    "    * dtype: 데이터의 타입\n",
    "* index와 columns을 지정하지 않으면 실제 index로 표현됨"
   ]
  },
  {
   "cell_type": "code",
   "execution_count": 4,
   "id": "a6c7a1fb",
   "metadata": {},
   "outputs": [],
   "source": [
    "import numpy as np"
   ]
  },
  {
   "cell_type": "code",
   "execution_count": 5,
   "id": "6ddd4360",
   "metadata": {},
   "outputs": [],
   "source": [
    "subjects = ['국어', '영어', '수학', '탐구']  # index\n",
    "students = ['A', 'B', 'C', 'D']  # columns"
   ]
  },
  {
   "cell_type": "markdown",
   "id": "69b45cd1",
   "metadata": {},
   "source": [
    "### Using dictionary"
   ]
  },
  {
   "cell_type": "markdown",
   "id": "a03978c5",
   "metadata": {},
   "source": [
    "* Dictionary를 이용한 df 생성\n",
    "    * Dictionary를 사용할 경우 자체에서 각 열에 대한 Label과 값을 지정할 수 있음"
   ]
  },
  {
   "cell_type": "code",
   "execution_count": 6,
   "id": "1964ec98",
   "metadata": {},
   "outputs": [
    {
     "data": {
      "text/html": [
       "<div>\n",
       "<style scoped>\n",
       "    .dataframe tbody tr th:only-of-type {\n",
       "        vertical-align: middle;\n",
       "    }\n",
       "\n",
       "    .dataframe tbody tr th {\n",
       "        vertical-align: top;\n",
       "    }\n",
       "\n",
       "    .dataframe thead th {\n",
       "        text-align: right;\n",
       "    }\n",
       "</style>\n",
       "<table border=\"1\" class=\"dataframe\">\n",
       "  <thead>\n",
       "    <tr style=\"text-align: right;\">\n",
       "      <th></th>\n",
       "      <th>A</th>\n",
       "      <th>B</th>\n",
       "      <th>C</th>\n",
       "      <th>D</th>\n",
       "    </tr>\n",
       "  </thead>\n",
       "  <tbody>\n",
       "    <tr>\n",
       "      <th>국어</th>\n",
       "      <td>90</td>\n",
       "      <td>89</td>\n",
       "      <td>47</td>\n",
       "      <td>63</td>\n",
       "    </tr>\n",
       "    <tr>\n",
       "      <th>영어</th>\n",
       "      <td>86</td>\n",
       "      <td>78</td>\n",
       "      <td>65</td>\n",
       "      <td>69</td>\n",
       "    </tr>\n",
       "    <tr>\n",
       "      <th>수학</th>\n",
       "      <td>86</td>\n",
       "      <td>88</td>\n",
       "      <td>83</td>\n",
       "      <td>87</td>\n",
       "    </tr>\n",
       "    <tr>\n",
       "      <th>탐구</th>\n",
       "      <td>73</td>\n",
       "      <td>95</td>\n",
       "      <td>74</td>\n",
       "      <td>52</td>\n",
       "    </tr>\n",
       "  </tbody>\n",
       "</table>\n",
       "</div>"
      ],
      "text/plain": [
       "     A   B   C   D\n",
       "국어  90  89  47  63\n",
       "영어  86  78  65  69\n",
       "수학  86  88  83  87\n",
       "탐구  73  95  74  52"
      ]
     },
     "execution_count": 6,
     "metadata": {},
     "output_type": "execute_result"
    }
   ],
   "source": [
    "dict_scores = {'A': [90, 86, 86, 73], 'B': [89, 78, 88, 95], 'C': [47, 65, 83, 74], 'D': [63, 69, 87, 52]}\n",
    "\n",
    "dict_df = pd.DataFrame(dict_scores, subjects)\n",
    "dict_df"
   ]
  },
  {
   "cell_type": "markdown",
   "id": "a32f38a8",
   "metadata": {},
   "source": [
    "### Using Numpy array"
   ]
  },
  {
   "cell_type": "markdown",
   "id": "6b7b438c",
   "metadata": {},
   "source": [
    "* Numpy를 이용한 df 생성\n",
    "    * Numpy 배열을 사용할 경우 배열의 각 열이 DataFrame의 열이 됨"
   ]
  },
  {
   "cell_type": "code",
   "execution_count": 7,
   "id": "56e4d728",
   "metadata": {},
   "outputs": [
    {
     "data": {
      "text/html": [
       "<div>\n",
       "<style scoped>\n",
       "    .dataframe tbody tr th:only-of-type {\n",
       "        vertical-align: middle;\n",
       "    }\n",
       "\n",
       "    .dataframe tbody tr th {\n",
       "        vertical-align: top;\n",
       "    }\n",
       "\n",
       "    .dataframe thead th {\n",
       "        text-align: right;\n",
       "    }\n",
       "</style>\n",
       "<table border=\"1\" class=\"dataframe\">\n",
       "  <thead>\n",
       "    <tr style=\"text-align: right;\">\n",
       "      <th></th>\n",
       "      <th>A</th>\n",
       "      <th>B</th>\n",
       "      <th>C</th>\n",
       "      <th>D</th>\n",
       "    </tr>\n",
       "  </thead>\n",
       "  <tbody>\n",
       "    <tr>\n",
       "      <th>국어</th>\n",
       "      <td>90</td>\n",
       "      <td>86</td>\n",
       "      <td>86</td>\n",
       "      <td>73</td>\n",
       "    </tr>\n",
       "    <tr>\n",
       "      <th>영어</th>\n",
       "      <td>89</td>\n",
       "      <td>78</td>\n",
       "      <td>88</td>\n",
       "      <td>95</td>\n",
       "    </tr>\n",
       "    <tr>\n",
       "      <th>수학</th>\n",
       "      <td>47</td>\n",
       "      <td>65</td>\n",
       "      <td>83</td>\n",
       "      <td>74</td>\n",
       "    </tr>\n",
       "    <tr>\n",
       "      <th>탐구</th>\n",
       "      <td>63</td>\n",
       "      <td>69</td>\n",
       "      <td>87</td>\n",
       "      <td>52</td>\n",
       "    </tr>\n",
       "  </tbody>\n",
       "</table>\n",
       "</div>"
      ],
      "text/plain": [
       "     A   B   C   D\n",
       "국어  90  86  86  73\n",
       "영어  89  78  88  95\n",
       "수학  47  65  83  74\n",
       "탐구  63  69  87  52"
      ]
     },
     "execution_count": 7,
     "metadata": {},
     "output_type": "execute_result"
    }
   ],
   "source": [
    "np_scores = np.array([[90, 86, 86, 73], [89, 78, 88, 95], [47, 65, 83, 74], [63, 69, 87, 52]])\n",
    "\n",
    "np_df = pd.DataFrame(np_scores, subjects, students)\n",
    "np_df"
   ]
  },
  {
   "cell_type": "markdown",
   "id": "29310d1a",
   "metadata": {},
   "source": [
    "#### Q1. 0 ~ 1 사이의 임의의 값을 가진 3 x 5 크기의 Numpy 배열로 DataFrame을 생성하는 코드를 아래 셀에 작성하시오."
   ]
  },
  {
   "cell_type": "code",
   "execution_count": 8,
   "id": "c8ea7863",
   "metadata": {},
   "outputs": [],
   "source": [
    "### Your Code ###"
   ]
  },
  {
   "cell_type": "code",
   "execution_count": 9,
   "id": "e2086c06",
   "metadata": {},
   "outputs": [
    {
     "data": {
      "text/html": [
       "<div>\n",
       "<style scoped>\n",
       "    .dataframe tbody tr th:only-of-type {\n",
       "        vertical-align: middle;\n",
       "    }\n",
       "\n",
       "    .dataframe tbody tr th {\n",
       "        vertical-align: top;\n",
       "    }\n",
       "\n",
       "    .dataframe thead th {\n",
       "        text-align: right;\n",
       "    }\n",
       "</style>\n",
       "<table border=\"1\" class=\"dataframe\">\n",
       "  <thead>\n",
       "    <tr style=\"text-align: right;\">\n",
       "      <th></th>\n",
       "      <th>0</th>\n",
       "      <th>1</th>\n",
       "      <th>2</th>\n",
       "      <th>3</th>\n",
       "      <th>4</th>\n",
       "    </tr>\n",
       "  </thead>\n",
       "  <tbody>\n",
       "    <tr>\n",
       "      <th>0</th>\n",
       "      <td>0.703012</td>\n",
       "      <td>0.488362</td>\n",
       "      <td>0.262174</td>\n",
       "      <td>0.088165</td>\n",
       "      <td>0.705144</td>\n",
       "    </tr>\n",
       "    <tr>\n",
       "      <th>1</th>\n",
       "      <td>0.020840</td>\n",
       "      <td>0.905316</td>\n",
       "      <td>0.428776</td>\n",
       "      <td>0.685874</td>\n",
       "      <td>0.713311</td>\n",
       "    </tr>\n",
       "    <tr>\n",
       "      <th>2</th>\n",
       "      <td>0.885621</td>\n",
       "      <td>0.230009</td>\n",
       "      <td>0.040330</td>\n",
       "      <td>0.920532</td>\n",
       "      <td>0.916140</td>\n",
       "    </tr>\n",
       "  </tbody>\n",
       "</table>\n",
       "</div>"
      ],
      "text/plain": [
       "          0         1         2         3         4\n",
       "0  0.703012  0.488362  0.262174  0.088165  0.705144\n",
       "1  0.020840  0.905316  0.428776  0.685874  0.713311\n",
       "2  0.885621  0.230009  0.040330  0.920532  0.916140"
      ]
     },
     "execution_count": 9,
     "metadata": {},
     "output_type": "execute_result"
    }
   ],
   "source": [
    "Q1 = np.random.rand(3, 5)\n",
    "Q1 = pd.DataFrame(Q1)\n",
    "Q1"
   ]
  },
  {
   "cell_type": "markdown",
   "id": "a70b729c",
   "metadata": {},
   "source": [
    "## DataFrame analysis "
   ]
  },
  {
   "cell_type": "markdown",
   "id": "504d3841",
   "metadata": {},
   "source": [
    "* 기본적인 데이터프레임 분석 방법을 알아본다."
   ]
  },
  {
   "cell_type": "markdown",
   "id": "55e2e2d0",
   "metadata": {},
   "source": [
    "### axes and values"
   ]
  },
  {
   "cell_type": "markdown",
   "id": "0833fac0",
   "metadata": {},
   "source": [
    "* axes\n",
    "    * 데이터프레임의 축 정보 반환\n",
    "       * index와 columns를 이용해 각각의 정보를 따로 확인 가능"
   ]
  },
  {
   "cell_type": "code",
   "execution_count": 10,
   "id": "f9bb2af6",
   "metadata": {},
   "outputs": [
    {
     "data": {
      "text/plain": [
       "[Index(['국어', '영어', '수학', '탐구'], dtype='object'),\n",
       " Index(['A', 'B', 'C', 'D'], dtype='object')]"
      ]
     },
     "execution_count": 10,
     "metadata": {},
     "output_type": "execute_result"
    }
   ],
   "source": [
    "np_df.axes"
   ]
  },
  {
   "cell_type": "code",
   "execution_count": 11,
   "id": "459c0999",
   "metadata": {},
   "outputs": [
    {
     "name": "stdout",
     "output_type": "stream",
     "text": [
      "Index(['국어', '영어', '수학', '탐구'], dtype='object')\n",
      "Index(['A', 'B', 'C', 'D'], dtype='object')\n"
     ]
    }
   ],
   "source": [
    "print(np_df.index)\n",
    "print(np_df.columns)"
   ]
  },
  {
   "cell_type": "markdown",
   "id": "5d2c6b29",
   "metadata": {},
   "source": [
    "* values\n",
    "    * 데이터프레임을 Numpy 배열로 변환하여 반환"
   ]
  },
  {
   "cell_type": "code",
   "execution_count": 12,
   "id": "f90f401b",
   "metadata": {},
   "outputs": [
    {
     "data": {
      "text/plain": [
       "array([[90, 86, 86, 73],\n",
       "       [89, 78, 88, 95],\n",
       "       [47, 65, 83, 74],\n",
       "       [63, 69, 87, 52]])"
      ]
     },
     "execution_count": 12,
     "metadata": {},
     "output_type": "execute_result"
    }
   ],
   "source": [
    "np_df.values"
   ]
  },
  {
   "cell_type": "markdown",
   "id": "367f2140",
   "metadata": {},
   "source": [
    "### info and describe"
   ]
  },
  {
   "cell_type": "markdown",
   "id": "b8c7de89",
   "metadata": {},
   "source": [
    "* info\n",
    "    * 데이터프레임의 요약 정보 출력\n",
    "    * 행과 열의 크기, 데이터들의 타입, 각 타입에 해당하는 데이터의 수에 대해서 파악 가능"
   ]
  },
  {
   "cell_type": "code",
   "execution_count": 13,
   "id": "76defb29",
   "metadata": {},
   "outputs": [
    {
     "name": "stdout",
     "output_type": "stream",
     "text": [
      "<class 'pandas.core.frame.DataFrame'>\n",
      "Index: 4 entries, 국어 to 탐구\n",
      "Data columns (total 4 columns):\n",
      " #   Column  Non-Null Count  Dtype\n",
      "---  ------  --------------  -----\n",
      " 0   A       4 non-null      int32\n",
      " 1   B       4 non-null      int32\n",
      " 2   C       4 non-null      int32\n",
      " 3   D       4 non-null      int32\n",
      "dtypes: int32(4)\n",
      "memory usage: 96.0+ bytes\n"
     ]
    }
   ],
   "source": [
    "np_df.info()"
   ]
  },
  {
   "cell_type": "markdown",
   "id": "b7137831",
   "metadata": {},
   "source": [
    "* describe()\n",
    "    * DataFrame의 기술 통계 출력"
   ]
  },
  {
   "cell_type": "code",
   "execution_count": 14,
   "id": "83b41e8f",
   "metadata": {},
   "outputs": [
    {
     "data": {
      "text/html": [
       "<div>\n",
       "<style scoped>\n",
       "    .dataframe tbody tr th:only-of-type {\n",
       "        vertical-align: middle;\n",
       "    }\n",
       "\n",
       "    .dataframe tbody tr th {\n",
       "        vertical-align: top;\n",
       "    }\n",
       "\n",
       "    .dataframe thead th {\n",
       "        text-align: right;\n",
       "    }\n",
       "</style>\n",
       "<table border=\"1\" class=\"dataframe\">\n",
       "  <thead>\n",
       "    <tr style=\"text-align: right;\">\n",
       "      <th></th>\n",
       "      <th>A</th>\n",
       "      <th>B</th>\n",
       "      <th>C</th>\n",
       "      <th>D</th>\n",
       "    </tr>\n",
       "  </thead>\n",
       "  <tbody>\n",
       "    <tr>\n",
       "      <th>count</th>\n",
       "      <td>4.000000</td>\n",
       "      <td>4.000000</td>\n",
       "      <td>4.000000</td>\n",
       "      <td>4.000000</td>\n",
       "    </tr>\n",
       "    <tr>\n",
       "      <th>mean</th>\n",
       "      <td>72.250000</td>\n",
       "      <td>74.500000</td>\n",
       "      <td>86.000000</td>\n",
       "      <td>73.500000</td>\n",
       "    </tr>\n",
       "    <tr>\n",
       "      <th>std</th>\n",
       "      <td>20.966243</td>\n",
       "      <td>9.398581</td>\n",
       "      <td>2.160247</td>\n",
       "      <td>17.559423</td>\n",
       "    </tr>\n",
       "    <tr>\n",
       "      <th>min</th>\n",
       "      <td>47.000000</td>\n",
       "      <td>65.000000</td>\n",
       "      <td>83.000000</td>\n",
       "      <td>52.000000</td>\n",
       "    </tr>\n",
       "    <tr>\n",
       "      <th>25%</th>\n",
       "      <td>59.000000</td>\n",
       "      <td>68.000000</td>\n",
       "      <td>85.250000</td>\n",
       "      <td>67.750000</td>\n",
       "    </tr>\n",
       "    <tr>\n",
       "      <th>50%</th>\n",
       "      <td>76.000000</td>\n",
       "      <td>73.500000</td>\n",
       "      <td>86.500000</td>\n",
       "      <td>73.500000</td>\n",
       "    </tr>\n",
       "    <tr>\n",
       "      <th>75%</th>\n",
       "      <td>89.250000</td>\n",
       "      <td>80.000000</td>\n",
       "      <td>87.250000</td>\n",
       "      <td>79.250000</td>\n",
       "    </tr>\n",
       "    <tr>\n",
       "      <th>max</th>\n",
       "      <td>90.000000</td>\n",
       "      <td>86.000000</td>\n",
       "      <td>88.000000</td>\n",
       "      <td>95.000000</td>\n",
       "    </tr>\n",
       "  </tbody>\n",
       "</table>\n",
       "</div>"
      ],
      "text/plain": [
       "               A          B          C          D\n",
       "count   4.000000   4.000000   4.000000   4.000000\n",
       "mean   72.250000  74.500000  86.000000  73.500000\n",
       "std    20.966243   9.398581   2.160247  17.559423\n",
       "min    47.000000  65.000000  83.000000  52.000000\n",
       "25%    59.000000  68.000000  85.250000  67.750000\n",
       "50%    76.000000  73.500000  86.500000  73.500000\n",
       "75%    89.250000  80.000000  87.250000  79.250000\n",
       "max    90.000000  86.000000  88.000000  95.000000"
      ]
     },
     "execution_count": 14,
     "metadata": {},
     "output_type": "execute_result"
    }
   ],
   "source": [
    "np_df.describe()"
   ]
  },
  {
   "cell_type": "markdown",
   "id": "25a48162",
   "metadata": {},
   "source": [
    "* 아래의 코드를 통해 출력되는 자릿수를 조정하거나 원래 세팅으로 되돌릴 수 있음"
   ]
  },
  {
   "cell_type": "code",
   "execution_count": 15,
   "id": "d1b4fb36",
   "metadata": {},
   "outputs": [],
   "source": [
    "pd.options.display.float_format = '{:.2f}'.format"
   ]
  },
  {
   "cell_type": "code",
   "execution_count": 16,
   "id": "5ec4e06d",
   "metadata": {},
   "outputs": [],
   "source": [
    "pd.options.display.float_format = None"
   ]
  },
  {
   "cell_type": "markdown",
   "id": "11a25286",
   "metadata": {},
   "source": [
    "### DataFrame shape"
   ]
  },
  {
   "cell_type": "markdown",
   "id": "7c36713e",
   "metadata": {},
   "source": [
    "* 데이터프레임의 상태를 확인하는 방법은 Numpy 배열과 동일하다."
   ]
  },
  {
   "cell_type": "code",
   "execution_count": 17,
   "id": "8aba1e4b",
   "metadata": {},
   "outputs": [
    {
     "name": "stdout",
     "output_type": "stream",
     "text": [
      "행의 길이: 4\n",
      "요소의 수: 16\n",
      "df의 크기: (4, 4)\n",
      "df의 차원: 2\n"
     ]
    }
   ],
   "source": [
    "print(f'행의 길이: {len(np_df)}')\n",
    "print(f'요소의 수: {np_df.size}')\n",
    "print(f'df의 크기: {np_df.shape}')  # tuple 자료형\n",
    "print(f'df의 차원: {np_df.ndim}')"
   ]
  },
  {
   "cell_type": "markdown",
   "id": "39d92456",
   "metadata": {},
   "source": [
    "#### Q2. Q1에서 생성했던 데이터프레임의 요약 정보와 기술 통계를 확인하는 코드를 아래 셀에 작성하시오."
   ]
  },
  {
   "cell_type": "code",
   "execution_count": 18,
   "id": "e2574eaa",
   "metadata": {},
   "outputs": [],
   "source": [
    "### Your Code ###"
   ]
  },
  {
   "cell_type": "code",
   "execution_count": 19,
   "id": "0ff4507d",
   "metadata": {},
   "outputs": [
    {
     "name": "stdout",
     "output_type": "stream",
     "text": [
      "<class 'pandas.core.frame.DataFrame'>\n",
      "RangeIndex: 3 entries, 0 to 2\n",
      "Data columns (total 5 columns):\n",
      " #   Column  Non-Null Count  Dtype  \n",
      "---  ------  --------------  -----  \n",
      " 0   0       3 non-null      float64\n",
      " 1   1       3 non-null      float64\n",
      " 2   2       3 non-null      float64\n",
      " 3   3       3 non-null      float64\n",
      " 4   4       3 non-null      float64\n",
      "dtypes: float64(5)\n",
      "memory usage: 248.0 bytes\n"
     ]
    },
    {
     "data": {
      "text/html": [
       "<div>\n",
       "<style scoped>\n",
       "    .dataframe tbody tr th:only-of-type {\n",
       "        vertical-align: middle;\n",
       "    }\n",
       "\n",
       "    .dataframe tbody tr th {\n",
       "        vertical-align: top;\n",
       "    }\n",
       "\n",
       "    .dataframe thead th {\n",
       "        text-align: right;\n",
       "    }\n",
       "</style>\n",
       "<table border=\"1\" class=\"dataframe\">\n",
       "  <thead>\n",
       "    <tr style=\"text-align: right;\">\n",
       "      <th></th>\n",
       "      <th>0</th>\n",
       "      <th>1</th>\n",
       "      <th>2</th>\n",
       "      <th>3</th>\n",
       "      <th>4</th>\n",
       "    </tr>\n",
       "  </thead>\n",
       "  <tbody>\n",
       "    <tr>\n",
       "      <th>count</th>\n",
       "      <td>3.000000</td>\n",
       "      <td>3.000000</td>\n",
       "      <td>3.000000</td>\n",
       "      <td>3.000000</td>\n",
       "      <td>3.000000</td>\n",
       "    </tr>\n",
       "    <tr>\n",
       "      <th>mean</th>\n",
       "      <td>0.536491</td>\n",
       "      <td>0.541229</td>\n",
       "      <td>0.243760</td>\n",
       "      <td>0.564857</td>\n",
       "      <td>0.778198</td>\n",
       "    </tr>\n",
       "    <tr>\n",
       "      <th>std</th>\n",
       "      <td>0.455805</td>\n",
       "      <td>0.340744</td>\n",
       "      <td>0.194877</td>\n",
       "      <td>0.429177</td>\n",
       "      <td>0.119531</td>\n",
       "    </tr>\n",
       "    <tr>\n",
       "      <th>min</th>\n",
       "      <td>0.020840</td>\n",
       "      <td>0.230009</td>\n",
       "      <td>0.040330</td>\n",
       "      <td>0.088165</td>\n",
       "      <td>0.705144</td>\n",
       "    </tr>\n",
       "    <tr>\n",
       "      <th>25%</th>\n",
       "      <td>0.361926</td>\n",
       "      <td>0.359185</td>\n",
       "      <td>0.151252</td>\n",
       "      <td>0.387019</td>\n",
       "      <td>0.709228</td>\n",
       "    </tr>\n",
       "    <tr>\n",
       "      <th>50%</th>\n",
       "      <td>0.703012</td>\n",
       "      <td>0.488362</td>\n",
       "      <td>0.262174</td>\n",
       "      <td>0.685874</td>\n",
       "      <td>0.713311</td>\n",
       "    </tr>\n",
       "    <tr>\n",
       "      <th>75%</th>\n",
       "      <td>0.794317</td>\n",
       "      <td>0.696839</td>\n",
       "      <td>0.345475</td>\n",
       "      <td>0.803203</td>\n",
       "      <td>0.814726</td>\n",
       "    </tr>\n",
       "    <tr>\n",
       "      <th>max</th>\n",
       "      <td>0.885621</td>\n",
       "      <td>0.905316</td>\n",
       "      <td>0.428776</td>\n",
       "      <td>0.920532</td>\n",
       "      <td>0.916140</td>\n",
       "    </tr>\n",
       "  </tbody>\n",
       "</table>\n",
       "</div>"
      ],
      "text/plain": [
       "              0         1         2         3         4\n",
       "count  3.000000  3.000000  3.000000  3.000000  3.000000\n",
       "mean   0.536491  0.541229  0.243760  0.564857  0.778198\n",
       "std    0.455805  0.340744  0.194877  0.429177  0.119531\n",
       "min    0.020840  0.230009  0.040330  0.088165  0.705144\n",
       "25%    0.361926  0.359185  0.151252  0.387019  0.709228\n",
       "50%    0.703012  0.488362  0.262174  0.685874  0.713311\n",
       "75%    0.794317  0.696839  0.345475  0.803203  0.814726\n",
       "max    0.885621  0.905316  0.428776  0.920532  0.916140"
      ]
     },
     "execution_count": 19,
     "metadata": {},
     "output_type": "execute_result"
    }
   ],
   "source": [
    "Q1.info()\n",
    "Q1.describe()"
   ]
  },
  {
   "cell_type": "markdown",
   "id": "b280ad26",
   "metadata": {},
   "source": [
    "## DataFrame access"
   ]
  },
  {
   "cell_type": "markdown",
   "id": "2f5f3c04",
   "metadata": {},
   "source": [
    "* 기본적인 데이터프레임 접근 방법을 알아본다."
   ]
  },
  {
   "cell_type": "markdown",
   "id": "4886c342",
   "metadata": {},
   "source": [
    "### Column access"
   ]
  },
  {
   "cell_type": "markdown",
   "id": "1e2c2a57",
   "metadata": {},
   "source": [
    "* 생성된 데이터프레임은 열의 Label을 통해 바로 접근이 가능\n",
    "    * 접근 결과는 시리즈(Series) 자료형\n",
    "        * 1차원의 형태를 가짐\n",
    "        * 시리즈 자료형은 아래와 같이 데이터프레임 자료형으로 변환 가능\n",
    "            * pd.DataFrame(df)\n",
    "            * pd.Series.to_frame(df)"
   ]
  },
  {
   "cell_type": "code",
   "execution_count": 20,
   "id": "eba35bdf",
   "metadata": {},
   "outputs": [
    {
     "data": {
      "text/plain": [
       "국어    90\n",
       "영어    89\n",
       "수학    47\n",
       "탐구    63\n",
       "Name: A, dtype: int32"
      ]
     },
     "execution_count": 20,
     "metadata": {},
     "output_type": "execute_result"
    }
   ],
   "source": [
    "np_df.A"
   ]
  },
  {
   "cell_type": "code",
   "execution_count": 21,
   "id": "c5f83e17",
   "metadata": {},
   "outputs": [
    {
     "data": {
      "text/plain": [
       "국어    73\n",
       "영어    95\n",
       "수학    74\n",
       "탐구    52\n",
       "Name: D, dtype: int32"
      ]
     },
     "execution_count": 21,
     "metadata": {},
     "output_type": "execute_result"
    }
   ],
   "source": [
    "np_df.D"
   ]
  },
  {
   "cell_type": "code",
   "execution_count": 22,
   "id": "a92be529",
   "metadata": {},
   "outputs": [
    {
     "data": {
      "text/html": [
       "<div>\n",
       "<style scoped>\n",
       "    .dataframe tbody tr th:only-of-type {\n",
       "        vertical-align: middle;\n",
       "    }\n",
       "\n",
       "    .dataframe tbody tr th {\n",
       "        vertical-align: top;\n",
       "    }\n",
       "\n",
       "    .dataframe thead th {\n",
       "        text-align: right;\n",
       "    }\n",
       "</style>\n",
       "<table border=\"1\" class=\"dataframe\">\n",
       "  <thead>\n",
       "    <tr style=\"text-align: right;\">\n",
       "      <th></th>\n",
       "      <th>C</th>\n",
       "    </tr>\n",
       "  </thead>\n",
       "  <tbody>\n",
       "    <tr>\n",
       "      <th>국어</th>\n",
       "      <td>86</td>\n",
       "    </tr>\n",
       "    <tr>\n",
       "      <th>영어</th>\n",
       "      <td>88</td>\n",
       "    </tr>\n",
       "    <tr>\n",
       "      <th>수학</th>\n",
       "      <td>83</td>\n",
       "    </tr>\n",
       "    <tr>\n",
       "      <th>탐구</th>\n",
       "      <td>87</td>\n",
       "    </tr>\n",
       "  </tbody>\n",
       "</table>\n",
       "</div>"
      ],
      "text/plain": [
       "     C\n",
       "국어  86\n",
       "영어  88\n",
       "수학  83\n",
       "탐구  87"
      ]
     },
     "execution_count": 22,
     "metadata": {},
     "output_type": "execute_result"
    }
   ],
   "source": [
    "pd.DataFrame(np_df.C)"
   ]
  },
  {
   "cell_type": "markdown",
   "id": "962a60df",
   "metadata": {},
   "source": [
    "### Indexing"
   ]
  },
  {
   "cell_type": "markdown",
   "id": "120dc2da",
   "metadata": {},
   "source": [
    "* 열이 문자 Label을 가졌다면 Label을 통해서만 접근 가능\n",
    "* 접근 결과는 시리즈(Series) 자료형\n",
    "* 행은 Indexing 불가"
   ]
  },
  {
   "cell_type": "code",
   "execution_count": 23,
   "id": "fdea5e7a",
   "metadata": {},
   "outputs": [
    {
     "data": {
      "text/plain": [
       "국어    90\n",
       "영어    89\n",
       "수학    47\n",
       "탐구    63\n",
       "Name: A, dtype: int32"
      ]
     },
     "execution_count": 23,
     "metadata": {},
     "output_type": "execute_result"
    }
   ],
   "source": [
    "np_df['A']"
   ]
  },
  {
   "cell_type": "code",
   "execution_count": 24,
   "id": "8dc9bcc0",
   "metadata": {},
   "outputs": [
    {
     "data": {
      "text/plain": [
       "pandas.core.series.Series"
      ]
     },
     "execution_count": 24,
     "metadata": {},
     "output_type": "execute_result"
    }
   ],
   "source": [
    "type(np_df['A'])"
   ]
  },
  {
   "cell_type": "markdown",
   "id": "87395f28",
   "metadata": {},
   "source": [
    "* 데이터프레임의 형태로 확인하고자 하는 경우 Index 혹은 Label을 아래와 같이 대괄호로 감싸줌\n",
    "    * 이 경우, 여러 열에 접근 가능\n",
    "        * Slicing이 아니기 때문에 순서 상관없음"
   ]
  },
  {
   "cell_type": "code",
   "execution_count": 25,
   "id": "ea59aea3",
   "metadata": {},
   "outputs": [
    {
     "data": {
      "text/html": [
       "<div>\n",
       "<style scoped>\n",
       "    .dataframe tbody tr th:only-of-type {\n",
       "        vertical-align: middle;\n",
       "    }\n",
       "\n",
       "    .dataframe tbody tr th {\n",
       "        vertical-align: top;\n",
       "    }\n",
       "\n",
       "    .dataframe thead th {\n",
       "        text-align: right;\n",
       "    }\n",
       "</style>\n",
       "<table border=\"1\" class=\"dataframe\">\n",
       "  <thead>\n",
       "    <tr style=\"text-align: right;\">\n",
       "      <th></th>\n",
       "      <th>A</th>\n",
       "    </tr>\n",
       "  </thead>\n",
       "  <tbody>\n",
       "    <tr>\n",
       "      <th>국어</th>\n",
       "      <td>90</td>\n",
       "    </tr>\n",
       "    <tr>\n",
       "      <th>영어</th>\n",
       "      <td>89</td>\n",
       "    </tr>\n",
       "    <tr>\n",
       "      <th>수학</th>\n",
       "      <td>47</td>\n",
       "    </tr>\n",
       "    <tr>\n",
       "      <th>탐구</th>\n",
       "      <td>63</td>\n",
       "    </tr>\n",
       "  </tbody>\n",
       "</table>\n",
       "</div>"
      ],
      "text/plain": [
       "     A\n",
       "국어  90\n",
       "영어  89\n",
       "수학  47\n",
       "탐구  63"
      ]
     },
     "execution_count": 25,
     "metadata": {},
     "output_type": "execute_result"
    }
   ],
   "source": [
    "np_df[['A']]"
   ]
  },
  {
   "cell_type": "code",
   "execution_count": 26,
   "id": "604a83e4",
   "metadata": {},
   "outputs": [
    {
     "data": {
      "text/html": [
       "<div>\n",
       "<style scoped>\n",
       "    .dataframe tbody tr th:only-of-type {\n",
       "        vertical-align: middle;\n",
       "    }\n",
       "\n",
       "    .dataframe tbody tr th {\n",
       "        vertical-align: top;\n",
       "    }\n",
       "\n",
       "    .dataframe thead th {\n",
       "        text-align: right;\n",
       "    }\n",
       "</style>\n",
       "<table border=\"1\" class=\"dataframe\">\n",
       "  <thead>\n",
       "    <tr style=\"text-align: right;\">\n",
       "      <th></th>\n",
       "      <th>A</th>\n",
       "      <th>D</th>\n",
       "      <th>C</th>\n",
       "    </tr>\n",
       "  </thead>\n",
       "  <tbody>\n",
       "    <tr>\n",
       "      <th>국어</th>\n",
       "      <td>90</td>\n",
       "      <td>73</td>\n",
       "      <td>86</td>\n",
       "    </tr>\n",
       "    <tr>\n",
       "      <th>영어</th>\n",
       "      <td>89</td>\n",
       "      <td>95</td>\n",
       "      <td>88</td>\n",
       "    </tr>\n",
       "    <tr>\n",
       "      <th>수학</th>\n",
       "      <td>47</td>\n",
       "      <td>74</td>\n",
       "      <td>83</td>\n",
       "    </tr>\n",
       "    <tr>\n",
       "      <th>탐구</th>\n",
       "      <td>63</td>\n",
       "      <td>52</td>\n",
       "      <td>87</td>\n",
       "    </tr>\n",
       "  </tbody>\n",
       "</table>\n",
       "</div>"
      ],
      "text/plain": [
       "     A   D   C\n",
       "국어  90  73  86\n",
       "영어  89  95  88\n",
       "수학  47  74  83\n",
       "탐구  63  52  87"
      ]
     },
     "execution_count": 26,
     "metadata": {},
     "output_type": "execute_result"
    }
   ],
   "source": [
    "np_df[['A', 'D', 'C']]"
   ]
  },
  {
   "cell_type": "markdown",
   "id": "fc6d8cd0",
   "metadata": {},
   "source": [
    "#### Boolean Indexing"
   ]
  },
  {
   "cell_type": "markdown",
   "id": "2680e740",
   "metadata": {},
   "source": [
    "* Pandas는 Numpy와 마찬가지로 Boolean Indexing 기능을 제공함"
   ]
  },
  {
   "cell_type": "code",
   "execution_count": 27,
   "id": "c0c706f6",
   "metadata": {},
   "outputs": [
    {
     "data": {
      "text/html": [
       "<div>\n",
       "<style scoped>\n",
       "    .dataframe tbody tr th:only-of-type {\n",
       "        vertical-align: middle;\n",
       "    }\n",
       "\n",
       "    .dataframe tbody tr th {\n",
       "        vertical-align: top;\n",
       "    }\n",
       "\n",
       "    .dataframe thead th {\n",
       "        text-align: right;\n",
       "    }\n",
       "</style>\n",
       "<table border=\"1\" class=\"dataframe\">\n",
       "  <thead>\n",
       "    <tr style=\"text-align: right;\">\n",
       "      <th></th>\n",
       "      <th>A</th>\n",
       "      <th>B</th>\n",
       "      <th>C</th>\n",
       "      <th>D</th>\n",
       "    </tr>\n",
       "  </thead>\n",
       "  <tbody>\n",
       "    <tr>\n",
       "      <th>국어</th>\n",
       "      <td>True</td>\n",
       "      <td>True</td>\n",
       "      <td>True</td>\n",
       "      <td>True</td>\n",
       "    </tr>\n",
       "    <tr>\n",
       "      <th>영어</th>\n",
       "      <td>True</td>\n",
       "      <td>True</td>\n",
       "      <td>True</td>\n",
       "      <td>True</td>\n",
       "    </tr>\n",
       "    <tr>\n",
       "      <th>수학</th>\n",
       "      <td>False</td>\n",
       "      <td>False</td>\n",
       "      <td>True</td>\n",
       "      <td>True</td>\n",
       "    </tr>\n",
       "    <tr>\n",
       "      <th>탐구</th>\n",
       "      <td>False</td>\n",
       "      <td>False</td>\n",
       "      <td>True</td>\n",
       "      <td>False</td>\n",
       "    </tr>\n",
       "  </tbody>\n",
       "</table>\n",
       "</div>"
      ],
      "text/plain": [
       "        A      B     C      D\n",
       "국어   True   True  True   True\n",
       "영어   True   True  True   True\n",
       "수학  False  False  True   True\n",
       "탐구  False  False  True  False"
      ]
     },
     "execution_count": 27,
     "metadata": {},
     "output_type": "execute_result"
    }
   ],
   "source": [
    "idx = np_df > 70\n",
    "idx"
   ]
  },
  {
   "cell_type": "code",
   "execution_count": 28,
   "id": "4bc47433",
   "metadata": {},
   "outputs": [
    {
     "data": {
      "text/html": [
       "<div>\n",
       "<style scoped>\n",
       "    .dataframe tbody tr th:only-of-type {\n",
       "        vertical-align: middle;\n",
       "    }\n",
       "\n",
       "    .dataframe tbody tr th {\n",
       "        vertical-align: top;\n",
       "    }\n",
       "\n",
       "    .dataframe thead th {\n",
       "        text-align: right;\n",
       "    }\n",
       "</style>\n",
       "<table border=\"1\" class=\"dataframe\">\n",
       "  <thead>\n",
       "    <tr style=\"text-align: right;\">\n",
       "      <th></th>\n",
       "      <th>A</th>\n",
       "      <th>B</th>\n",
       "      <th>C</th>\n",
       "      <th>D</th>\n",
       "    </tr>\n",
       "  </thead>\n",
       "  <tbody>\n",
       "    <tr>\n",
       "      <th>국어</th>\n",
       "      <td>90.0</td>\n",
       "      <td>86.0</td>\n",
       "      <td>86</td>\n",
       "      <td>73.0</td>\n",
       "    </tr>\n",
       "    <tr>\n",
       "      <th>영어</th>\n",
       "      <td>89.0</td>\n",
       "      <td>78.0</td>\n",
       "      <td>88</td>\n",
       "      <td>95.0</td>\n",
       "    </tr>\n",
       "    <tr>\n",
       "      <th>수학</th>\n",
       "      <td>NaN</td>\n",
       "      <td>NaN</td>\n",
       "      <td>83</td>\n",
       "      <td>74.0</td>\n",
       "    </tr>\n",
       "    <tr>\n",
       "      <th>탐구</th>\n",
       "      <td>NaN</td>\n",
       "      <td>NaN</td>\n",
       "      <td>87</td>\n",
       "      <td>NaN</td>\n",
       "    </tr>\n",
       "  </tbody>\n",
       "</table>\n",
       "</div>"
      ],
      "text/plain": [
       "       A     B   C     D\n",
       "국어  90.0  86.0  86  73.0\n",
       "영어  89.0  78.0  88  95.0\n",
       "수학   NaN   NaN  83  74.0\n",
       "탐구   NaN   NaN  87   NaN"
      ]
     },
     "execution_count": 28,
     "metadata": {},
     "output_type": "execute_result"
    }
   ],
   "source": [
    "np_df[idx]"
   ]
  },
  {
   "cell_type": "code",
   "execution_count": 29,
   "id": "b2c43e29",
   "metadata": {},
   "outputs": [
    {
     "data": {
      "text/html": [
       "<div>\n",
       "<style scoped>\n",
       "    .dataframe tbody tr th:only-of-type {\n",
       "        vertical-align: middle;\n",
       "    }\n",
       "\n",
       "    .dataframe tbody tr th {\n",
       "        vertical-align: top;\n",
       "    }\n",
       "\n",
       "    .dataframe thead th {\n",
       "        text-align: right;\n",
       "    }\n",
       "</style>\n",
       "<table border=\"1\" class=\"dataframe\">\n",
       "  <thead>\n",
       "    <tr style=\"text-align: right;\">\n",
       "      <th></th>\n",
       "      <th>A</th>\n",
       "    </tr>\n",
       "  </thead>\n",
       "  <tbody>\n",
       "    <tr>\n",
       "      <th>국어</th>\n",
       "      <td>90</td>\n",
       "    </tr>\n",
       "    <tr>\n",
       "      <th>영어</th>\n",
       "      <td>89</td>\n",
       "    </tr>\n",
       "  </tbody>\n",
       "</table>\n",
       "</div>"
      ],
      "text/plain": [
       "     A\n",
       "국어  90\n",
       "영어  89"
      ]
     },
     "execution_count": 29,
     "metadata": {},
     "output_type": "execute_result"
    }
   ],
   "source": [
    "pd.DataFrame(np_df['A'][np_df['A'] > 70])"
   ]
  },
  {
   "cell_type": "markdown",
   "id": "fcf0ca29",
   "metadata": {},
   "source": [
    "### Slicing"
   ]
  },
  {
   "cell_type": "markdown",
   "id": "d8e0708a",
   "metadata": {},
   "source": [
    "* 행은 Slicing을 통해서만 접근 가능"
   ]
  },
  {
   "cell_type": "code",
   "execution_count": 30,
   "id": "d2cd1616",
   "metadata": {},
   "outputs": [
    {
     "data": {
      "text/html": [
       "<div>\n",
       "<style scoped>\n",
       "    .dataframe tbody tr th:only-of-type {\n",
       "        vertical-align: middle;\n",
       "    }\n",
       "\n",
       "    .dataframe tbody tr th {\n",
       "        vertical-align: top;\n",
       "    }\n",
       "\n",
       "    .dataframe thead th {\n",
       "        text-align: right;\n",
       "    }\n",
       "</style>\n",
       "<table border=\"1\" class=\"dataframe\">\n",
       "  <thead>\n",
       "    <tr style=\"text-align: right;\">\n",
       "      <th></th>\n",
       "      <th>A</th>\n",
       "      <th>B</th>\n",
       "      <th>C</th>\n",
       "      <th>D</th>\n",
       "    </tr>\n",
       "  </thead>\n",
       "  <tbody>\n",
       "    <tr>\n",
       "      <th>국어</th>\n",
       "      <td>90</td>\n",
       "      <td>86</td>\n",
       "      <td>86</td>\n",
       "      <td>73</td>\n",
       "    </tr>\n",
       "    <tr>\n",
       "      <th>영어</th>\n",
       "      <td>89</td>\n",
       "      <td>78</td>\n",
       "      <td>88</td>\n",
       "      <td>95</td>\n",
       "    </tr>\n",
       "    <tr>\n",
       "      <th>수학</th>\n",
       "      <td>47</td>\n",
       "      <td>65</td>\n",
       "      <td>83</td>\n",
       "      <td>74</td>\n",
       "    </tr>\n",
       "    <tr>\n",
       "      <th>탐구</th>\n",
       "      <td>63</td>\n",
       "      <td>69</td>\n",
       "      <td>87</td>\n",
       "      <td>52</td>\n",
       "    </tr>\n",
       "  </tbody>\n",
       "</table>\n",
       "</div>"
      ],
      "text/plain": [
       "     A   B   C   D\n",
       "국어  90  86  86  73\n",
       "영어  89  78  88  95\n",
       "수학  47  65  83  74\n",
       "탐구  63  69  87  52"
      ]
     },
     "execution_count": 30,
     "metadata": {},
     "output_type": "execute_result"
    }
   ],
   "source": [
    "np_df[:]"
   ]
  },
  {
   "cell_type": "code",
   "execution_count": 31,
   "id": "4e0e5530",
   "metadata": {},
   "outputs": [
    {
     "data": {
      "text/html": [
       "<div>\n",
       "<style scoped>\n",
       "    .dataframe tbody tr th:only-of-type {\n",
       "        vertical-align: middle;\n",
       "    }\n",
       "\n",
       "    .dataframe tbody tr th {\n",
       "        vertical-align: top;\n",
       "    }\n",
       "\n",
       "    .dataframe thead th {\n",
       "        text-align: right;\n",
       "    }\n",
       "</style>\n",
       "<table border=\"1\" class=\"dataframe\">\n",
       "  <thead>\n",
       "    <tr style=\"text-align: right;\">\n",
       "      <th></th>\n",
       "      <th>A</th>\n",
       "      <th>B</th>\n",
       "      <th>C</th>\n",
       "      <th>D</th>\n",
       "    </tr>\n",
       "  </thead>\n",
       "  <tbody>\n",
       "    <tr>\n",
       "      <th>수학</th>\n",
       "      <td>47</td>\n",
       "      <td>65</td>\n",
       "      <td>83</td>\n",
       "      <td>74</td>\n",
       "    </tr>\n",
       "    <tr>\n",
       "      <th>탐구</th>\n",
       "      <td>63</td>\n",
       "      <td>69</td>\n",
       "      <td>87</td>\n",
       "      <td>52</td>\n",
       "    </tr>\n",
       "  </tbody>\n",
       "</table>\n",
       "</div>"
      ],
      "text/plain": [
       "     A   B   C   D\n",
       "수학  47  65  83  74\n",
       "탐구  63  69  87  52"
      ]
     },
     "execution_count": 31,
     "metadata": {},
     "output_type": "execute_result"
    }
   ],
   "source": [
    "np_df[2:]"
   ]
  },
  {
   "cell_type": "markdown",
   "id": "a6ed8d1b",
   "metadata": {},
   "source": [
    "* 행이 문자 Label을 가졌다면 Label을 통해 접근 가능\n",
    "    * 일반 index로 접근하는 방법과는 달리 end에 해당하는 부분도 포함"
   ]
  },
  {
   "cell_type": "code",
   "execution_count": 32,
   "id": "0407af77",
   "metadata": {},
   "outputs": [
    {
     "data": {
      "text/html": [
       "<div>\n",
       "<style scoped>\n",
       "    .dataframe tbody tr th:only-of-type {\n",
       "        vertical-align: middle;\n",
       "    }\n",
       "\n",
       "    .dataframe tbody tr th {\n",
       "        vertical-align: top;\n",
       "    }\n",
       "\n",
       "    .dataframe thead th {\n",
       "        text-align: right;\n",
       "    }\n",
       "</style>\n",
       "<table border=\"1\" class=\"dataframe\">\n",
       "  <thead>\n",
       "    <tr style=\"text-align: right;\">\n",
       "      <th></th>\n",
       "      <th>A</th>\n",
       "      <th>B</th>\n",
       "      <th>C</th>\n",
       "      <th>D</th>\n",
       "    </tr>\n",
       "  </thead>\n",
       "  <tbody>\n",
       "    <tr>\n",
       "      <th>영어</th>\n",
       "      <td>89</td>\n",
       "      <td>78</td>\n",
       "      <td>88</td>\n",
       "      <td>95</td>\n",
       "    </tr>\n",
       "    <tr>\n",
       "      <th>수학</th>\n",
       "      <td>47</td>\n",
       "      <td>65</td>\n",
       "      <td>83</td>\n",
       "      <td>74</td>\n",
       "    </tr>\n",
       "    <tr>\n",
       "      <th>탐구</th>\n",
       "      <td>63</td>\n",
       "      <td>69</td>\n",
       "      <td>87</td>\n",
       "      <td>52</td>\n",
       "    </tr>\n",
       "  </tbody>\n",
       "</table>\n",
       "</div>"
      ],
      "text/plain": [
       "     A   B   C   D\n",
       "영어  89  78  88  95\n",
       "수학  47  65  83  74\n",
       "탐구  63  69  87  52"
      ]
     },
     "execution_count": 32,
     "metadata": {},
     "output_type": "execute_result"
    }
   ],
   "source": [
    "np_df['영어':]"
   ]
  },
  {
   "cell_type": "code",
   "execution_count": 33,
   "id": "e32e1fc2",
   "metadata": {},
   "outputs": [
    {
     "data": {
      "text/html": [
       "<div>\n",
       "<style scoped>\n",
       "    .dataframe tbody tr th:only-of-type {\n",
       "        vertical-align: middle;\n",
       "    }\n",
       "\n",
       "    .dataframe tbody tr th {\n",
       "        vertical-align: top;\n",
       "    }\n",
       "\n",
       "    .dataframe thead th {\n",
       "        text-align: right;\n",
       "    }\n",
       "</style>\n",
       "<table border=\"1\" class=\"dataframe\">\n",
       "  <thead>\n",
       "    <tr style=\"text-align: right;\">\n",
       "      <th></th>\n",
       "      <th>A</th>\n",
       "      <th>B</th>\n",
       "      <th>C</th>\n",
       "      <th>D</th>\n",
       "    </tr>\n",
       "  </thead>\n",
       "  <tbody>\n",
       "    <tr>\n",
       "      <th>영어</th>\n",
       "      <td>89</td>\n",
       "      <td>78</td>\n",
       "      <td>88</td>\n",
       "      <td>95</td>\n",
       "    </tr>\n",
       "    <tr>\n",
       "      <th>수학</th>\n",
       "      <td>47</td>\n",
       "      <td>65</td>\n",
       "      <td>83</td>\n",
       "      <td>74</td>\n",
       "    </tr>\n",
       "  </tbody>\n",
       "</table>\n",
       "</div>"
      ],
      "text/plain": [
       "     A   B   C   D\n",
       "영어  89  78  88  95\n",
       "수학  47  65  83  74"
      ]
     },
     "execution_count": 33,
     "metadata": {},
     "output_type": "execute_result"
    }
   ],
   "source": [
    "np_df['영어':'수학']"
   ]
  },
  {
   "cell_type": "markdown",
   "id": "9d69cdb8",
   "metadata": {},
   "source": [
    "* Indexing과 Slicing을 혼합할 수 있음"
   ]
  },
  {
   "cell_type": "code",
   "execution_count": 34,
   "id": "4bfff7b6",
   "metadata": {},
   "outputs": [
    {
     "data": {
      "text/html": [
       "<div>\n",
       "<style scoped>\n",
       "    .dataframe tbody tr th:only-of-type {\n",
       "        vertical-align: middle;\n",
       "    }\n",
       "\n",
       "    .dataframe tbody tr th {\n",
       "        vertical-align: top;\n",
       "    }\n",
       "\n",
       "    .dataframe thead th {\n",
       "        text-align: right;\n",
       "    }\n",
       "</style>\n",
       "<table border=\"1\" class=\"dataframe\">\n",
       "  <thead>\n",
       "    <tr style=\"text-align: right;\">\n",
       "      <th></th>\n",
       "      <th>C</th>\n",
       "    </tr>\n",
       "  </thead>\n",
       "  <tbody>\n",
       "    <tr>\n",
       "      <th>영어</th>\n",
       "      <td>88</td>\n",
       "    </tr>\n",
       "    <tr>\n",
       "      <th>수학</th>\n",
       "      <td>83</td>\n",
       "    </tr>\n",
       "    <tr>\n",
       "      <th>탐구</th>\n",
       "      <td>87</td>\n",
       "    </tr>\n",
       "  </tbody>\n",
       "</table>\n",
       "</div>"
      ],
      "text/plain": [
       "     C\n",
       "영어  88\n",
       "수학  83\n",
       "탐구  87"
      ]
     },
     "execution_count": 34,
     "metadata": {},
     "output_type": "execute_result"
    }
   ],
   "source": [
    "np_df[['C']][-3:]"
   ]
  },
  {
   "cell_type": "code",
   "execution_count": 35,
   "id": "5f6d6766",
   "metadata": {},
   "outputs": [
    {
     "data": {
      "text/html": [
       "<div>\n",
       "<style scoped>\n",
       "    .dataframe tbody tr th:only-of-type {\n",
       "        vertical-align: middle;\n",
       "    }\n",
       "\n",
       "    .dataframe tbody tr th {\n",
       "        vertical-align: top;\n",
       "    }\n",
       "\n",
       "    .dataframe thead th {\n",
       "        text-align: right;\n",
       "    }\n",
       "</style>\n",
       "<table border=\"1\" class=\"dataframe\">\n",
       "  <thead>\n",
       "    <tr style=\"text-align: right;\">\n",
       "      <th></th>\n",
       "      <th>D</th>\n",
       "    </tr>\n",
       "  </thead>\n",
       "  <tbody>\n",
       "    <tr>\n",
       "      <th>탐구</th>\n",
       "      <td>52</td>\n",
       "    </tr>\n",
       "  </tbody>\n",
       "</table>\n",
       "</div>"
      ],
      "text/plain": [
       "     D\n",
       "탐구  52"
      ]
     },
     "execution_count": 35,
     "metadata": {},
     "output_type": "execute_result"
    }
   ],
   "source": [
    "np_df[['D']][3:]"
   ]
  },
  {
   "cell_type": "code",
   "execution_count": 36,
   "id": "718f34f1",
   "metadata": {},
   "outputs": [
    {
     "data": {
      "text/html": [
       "<div>\n",
       "<style scoped>\n",
       "    .dataframe tbody tr th:only-of-type {\n",
       "        vertical-align: middle;\n",
       "    }\n",
       "\n",
       "    .dataframe tbody tr th {\n",
       "        vertical-align: top;\n",
       "    }\n",
       "\n",
       "    .dataframe thead th {\n",
       "        text-align: right;\n",
       "    }\n",
       "</style>\n",
       "<table border=\"1\" class=\"dataframe\">\n",
       "  <thead>\n",
       "    <tr style=\"text-align: right;\">\n",
       "      <th></th>\n",
       "      <th>B</th>\n",
       "    </tr>\n",
       "  </thead>\n",
       "  <tbody>\n",
       "    <tr>\n",
       "      <th>영어</th>\n",
       "      <td>78</td>\n",
       "    </tr>\n",
       "    <tr>\n",
       "      <th>탐구</th>\n",
       "      <td>69</td>\n",
       "    </tr>\n",
       "  </tbody>\n",
       "</table>\n",
       "</div>"
      ],
      "text/plain": [
       "     B\n",
       "영어  78\n",
       "탐구  69"
      ]
     },
     "execution_count": 36,
     "metadata": {},
     "output_type": "execute_result"
    }
   ],
   "source": [
    "np_df[['B']][1:5:2]"
   ]
  },
  {
   "cell_type": "markdown",
   "id": "09407d54",
   "metadata": {},
   "source": [
    "#### Q3.  A와 C 학생의 국어 점수와 수학 점수를 데이터프레임으로 표시하는 코드를 아래 셀에 작성하시오."
   ]
  },
  {
   "cell_type": "code",
   "execution_count": 37,
   "id": "c2454a44",
   "metadata": {},
   "outputs": [],
   "source": [
    "### Your Code ###"
   ]
  },
  {
   "cell_type": "code",
   "execution_count": 38,
   "id": "38f15843",
   "metadata": {},
   "outputs": [
    {
     "data": {
      "text/html": [
       "<div>\n",
       "<style scoped>\n",
       "    .dataframe tbody tr th:only-of-type {\n",
       "        vertical-align: middle;\n",
       "    }\n",
       "\n",
       "    .dataframe tbody tr th {\n",
       "        vertical-align: top;\n",
       "    }\n",
       "\n",
       "    .dataframe thead th {\n",
       "        text-align: right;\n",
       "    }\n",
       "</style>\n",
       "<table border=\"1\" class=\"dataframe\">\n",
       "  <thead>\n",
       "    <tr style=\"text-align: right;\">\n",
       "      <th></th>\n",
       "      <th>B</th>\n",
       "      <th>C</th>\n",
       "    </tr>\n",
       "  </thead>\n",
       "  <tbody>\n",
       "    <tr>\n",
       "      <th>국어</th>\n",
       "      <td>86</td>\n",
       "      <td>86</td>\n",
       "    </tr>\n",
       "    <tr>\n",
       "      <th>수학</th>\n",
       "      <td>65</td>\n",
       "      <td>83</td>\n",
       "    </tr>\n",
       "  </tbody>\n",
       "</table>\n",
       "</div>"
      ],
      "text/plain": [
       "     B   C\n",
       "국어  86  86\n",
       "수학  65  83"
      ]
     },
     "execution_count": 38,
     "metadata": {},
     "output_type": "execute_result"
    }
   ],
   "source": [
    "np_df[['B', 'C']][0:5:2]"
   ]
  },
  {
   "cell_type": "markdown",
   "id": "1d1e1341",
   "metadata": {},
   "source": [
    "## Modification"
   ]
  },
  {
   "cell_type": "markdown",
   "id": "57b5ed00",
   "metadata": {},
   "source": [
    "* 기본적인 데이터프레임의 데이터 조작 방법을 알아본다."
   ]
  },
  {
   "cell_type": "markdown",
   "id": "75491149",
   "metadata": {},
   "source": [
    "### Append"
   ]
  },
  {
   "cell_type": "markdown",
   "id": "b10e690f",
   "metadata": {},
   "source": [
    "* 추가될 데이터 길이는 추가할 데이터프레임의 크기와 동일해야 함\n",
    "* 데이터의 형태는 Numpy 배열, List, 집합 자료형이 가능"
   ]
  },
  {
   "cell_type": "markdown",
   "id": "c036ec52",
   "metadata": {},
   "source": [
    "* Row\n",
    "    * 추가하고자 하는 데이터프레임을 생성하여 추가\n",
    "    * DataFrame.append(DataFrame)\n",
    "        * 추가되어 변경된 DataFrame은 기존 DataFrame으로 재할당해야 함\n",
    "        * 새로 삽입할 데이터프레임의 차원이 2차원이 아닐 경우 추가가 불가하므로 주의할 것"
   ]
  },
  {
   "cell_type": "code",
   "execution_count": 39,
   "id": "28591b1c",
   "metadata": {},
   "outputs": [
    {
     "data": {
      "text/html": [
       "<div>\n",
       "<style scoped>\n",
       "    .dataframe tbody tr th:only-of-type {\n",
       "        vertical-align: middle;\n",
       "    }\n",
       "\n",
       "    .dataframe tbody tr th {\n",
       "        vertical-align: top;\n",
       "    }\n",
       "\n",
       "    .dataframe thead th {\n",
       "        text-align: right;\n",
       "    }\n",
       "</style>\n",
       "<table border=\"1\" class=\"dataframe\">\n",
       "  <thead>\n",
       "    <tr style=\"text-align: right;\">\n",
       "      <th></th>\n",
       "      <th>A</th>\n",
       "      <th>B</th>\n",
       "      <th>C</th>\n",
       "      <th>D</th>\n",
       "    </tr>\n",
       "  </thead>\n",
       "  <tbody>\n",
       "    <tr>\n",
       "      <th>국어</th>\n",
       "      <td>90</td>\n",
       "      <td>86</td>\n",
       "      <td>86</td>\n",
       "      <td>73</td>\n",
       "    </tr>\n",
       "    <tr>\n",
       "      <th>영어</th>\n",
       "      <td>89</td>\n",
       "      <td>78</td>\n",
       "      <td>88</td>\n",
       "      <td>95</td>\n",
       "    </tr>\n",
       "    <tr>\n",
       "      <th>수학</th>\n",
       "      <td>47</td>\n",
       "      <td>65</td>\n",
       "      <td>83</td>\n",
       "      <td>74</td>\n",
       "    </tr>\n",
       "    <tr>\n",
       "      <th>탐구</th>\n",
       "      <td>63</td>\n",
       "      <td>69</td>\n",
       "      <td>87</td>\n",
       "      <td>52</td>\n",
       "    </tr>\n",
       "    <tr>\n",
       "      <th>정보</th>\n",
       "      <td>78</td>\n",
       "      <td>64</td>\n",
       "      <td>91</td>\n",
       "      <td>56</td>\n",
       "    </tr>\n",
       "  </tbody>\n",
       "</table>\n",
       "</div>"
      ],
      "text/plain": [
       "     A   B   C   D\n",
       "국어  90  86  86  73\n",
       "영어  89  78  88  95\n",
       "수학  47  65  83  74\n",
       "탐구  63  69  87  52\n",
       "정보  78  64  91  56"
      ]
     },
     "execution_count": 39,
     "metadata": {},
     "output_type": "execute_result"
    }
   ],
   "source": [
    "new_row = pd.DataFrame(np.array([[78, 64, 91, 56]]), ['정보'], students)\n",
    "np_df.append(new_row)"
   ]
  },
  {
   "cell_type": "code",
   "execution_count": 40,
   "id": "91d9095e",
   "metadata": {},
   "outputs": [
    {
     "data": {
      "text/html": [
       "<div>\n",
       "<style scoped>\n",
       "    .dataframe tbody tr th:only-of-type {\n",
       "        vertical-align: middle;\n",
       "    }\n",
       "\n",
       "    .dataframe tbody tr th {\n",
       "        vertical-align: top;\n",
       "    }\n",
       "\n",
       "    .dataframe thead th {\n",
       "        text-align: right;\n",
       "    }\n",
       "</style>\n",
       "<table border=\"1\" class=\"dataframe\">\n",
       "  <thead>\n",
       "    <tr style=\"text-align: right;\">\n",
       "      <th></th>\n",
       "      <th>A</th>\n",
       "      <th>B</th>\n",
       "      <th>C</th>\n",
       "      <th>D</th>\n",
       "    </tr>\n",
       "  </thead>\n",
       "  <tbody>\n",
       "    <tr>\n",
       "      <th>국어</th>\n",
       "      <td>90</td>\n",
       "      <td>86</td>\n",
       "      <td>86</td>\n",
       "      <td>73</td>\n",
       "    </tr>\n",
       "    <tr>\n",
       "      <th>영어</th>\n",
       "      <td>89</td>\n",
       "      <td>78</td>\n",
       "      <td>88</td>\n",
       "      <td>95</td>\n",
       "    </tr>\n",
       "    <tr>\n",
       "      <th>수학</th>\n",
       "      <td>47</td>\n",
       "      <td>65</td>\n",
       "      <td>83</td>\n",
       "      <td>74</td>\n",
       "    </tr>\n",
       "    <tr>\n",
       "      <th>탐구</th>\n",
       "      <td>63</td>\n",
       "      <td>69</td>\n",
       "      <td>87</td>\n",
       "      <td>52</td>\n",
       "    </tr>\n",
       "    <tr>\n",
       "      <th>정보</th>\n",
       "      <td>78</td>\n",
       "      <td>64</td>\n",
       "      <td>91</td>\n",
       "      <td>56</td>\n",
       "    </tr>\n",
       "    <tr>\n",
       "      <th>재량</th>\n",
       "      <td>50</td>\n",
       "      <td>50</td>\n",
       "      <td>50</td>\n",
       "      <td>50</td>\n",
       "    </tr>\n",
       "  </tbody>\n",
       "</table>\n",
       "</div>"
      ],
      "text/plain": [
       "     A   B   C   D\n",
       "국어  90  86  86  73\n",
       "영어  89  78  88  95\n",
       "수학  47  65  83  74\n",
       "탐구  63  69  87  52\n",
       "정보  78  64  91  56\n",
       "재량  50  50  50  50"
      ]
     },
     "execution_count": 40,
     "metadata": {},
     "output_type": "execute_result"
    }
   ],
   "source": [
    "new_row = pd.DataFrame(np.array([[78, 64, 91, 56], [50, 50, 50, 50]]), ['정보', '재량'], students)\n",
    "np_df.append(new_row)"
   ]
  },
  {
   "cell_type": "code",
   "execution_count": 41,
   "id": "d97148fb",
   "metadata": {},
   "outputs": [
    {
     "data": {
      "text/html": [
       "<div>\n",
       "<style scoped>\n",
       "    .dataframe tbody tr th:only-of-type {\n",
       "        vertical-align: middle;\n",
       "    }\n",
       "\n",
       "    .dataframe tbody tr th {\n",
       "        vertical-align: top;\n",
       "    }\n",
       "\n",
       "    .dataframe thead th {\n",
       "        text-align: right;\n",
       "    }\n",
       "</style>\n",
       "<table border=\"1\" class=\"dataframe\">\n",
       "  <thead>\n",
       "    <tr style=\"text-align: right;\">\n",
       "      <th></th>\n",
       "      <th>A</th>\n",
       "      <th>B</th>\n",
       "      <th>C</th>\n",
       "      <th>D</th>\n",
       "    </tr>\n",
       "  </thead>\n",
       "  <tbody>\n",
       "    <tr>\n",
       "      <th>국어</th>\n",
       "      <td>90</td>\n",
       "      <td>86</td>\n",
       "      <td>86</td>\n",
       "      <td>73</td>\n",
       "    </tr>\n",
       "    <tr>\n",
       "      <th>영어</th>\n",
       "      <td>89</td>\n",
       "      <td>78</td>\n",
       "      <td>88</td>\n",
       "      <td>95</td>\n",
       "    </tr>\n",
       "    <tr>\n",
       "      <th>수학</th>\n",
       "      <td>47</td>\n",
       "      <td>65</td>\n",
       "      <td>83</td>\n",
       "      <td>74</td>\n",
       "    </tr>\n",
       "    <tr>\n",
       "      <th>탐구</th>\n",
       "      <td>63</td>\n",
       "      <td>69</td>\n",
       "      <td>87</td>\n",
       "      <td>52</td>\n",
       "    </tr>\n",
       "  </tbody>\n",
       "</table>\n",
       "</div>"
      ],
      "text/plain": [
       "     A   B   C   D\n",
       "국어  90  86  86  73\n",
       "영어  89  78  88  95\n",
       "수학  47  65  83  74\n",
       "탐구  63  69  87  52"
      ]
     },
     "execution_count": 41,
     "metadata": {},
     "output_type": "execute_result"
    }
   ],
   "source": [
    "np_df"
   ]
  },
  {
   "cell_type": "markdown",
   "id": "3da62b63",
   "metadata": {},
   "source": [
    "* Column\n",
    "    * DataFrame[columns] = 데이터 셋\n",
    "        * columns는 Label 또는 Index로 지정 가능\n",
    "    * DataFrame.insert(삽입 위치, columns, 데이터 셋)\n",
    "        * 이미 존재하는 columns에 대해서는 사용할 수 없음"
   ]
  },
  {
   "cell_type": "code",
   "execution_count": 42,
   "id": "eee23fb3",
   "metadata": {},
   "outputs": [
    {
     "data": {
      "text/html": [
       "<div>\n",
       "<style scoped>\n",
       "    .dataframe tbody tr th:only-of-type {\n",
       "        vertical-align: middle;\n",
       "    }\n",
       "\n",
       "    .dataframe tbody tr th {\n",
       "        vertical-align: top;\n",
       "    }\n",
       "\n",
       "    .dataframe thead th {\n",
       "        text-align: right;\n",
       "    }\n",
       "</style>\n",
       "<table border=\"1\" class=\"dataframe\">\n",
       "  <thead>\n",
       "    <tr style=\"text-align: right;\">\n",
       "      <th></th>\n",
       "      <th>A</th>\n",
       "      <th>B</th>\n",
       "      <th>C</th>\n",
       "      <th>D</th>\n",
       "      <th>E</th>\n",
       "      <th>G</th>\n",
       "    </tr>\n",
       "  </thead>\n",
       "  <tbody>\n",
       "    <tr>\n",
       "      <th>국어</th>\n",
       "      <td>90</td>\n",
       "      <td>86</td>\n",
       "      <td>86</td>\n",
       "      <td>73</td>\n",
       "      <td>65</td>\n",
       "      <td>45</td>\n",
       "    </tr>\n",
       "    <tr>\n",
       "      <th>영어</th>\n",
       "      <td>89</td>\n",
       "      <td>78</td>\n",
       "      <td>88</td>\n",
       "      <td>95</td>\n",
       "      <td>67</td>\n",
       "      <td>36</td>\n",
       "    </tr>\n",
       "    <tr>\n",
       "      <th>수학</th>\n",
       "      <td>47</td>\n",
       "      <td>65</td>\n",
       "      <td>83</td>\n",
       "      <td>74</td>\n",
       "      <td>93</td>\n",
       "      <td>61</td>\n",
       "    </tr>\n",
       "    <tr>\n",
       "      <th>탐구</th>\n",
       "      <td>63</td>\n",
       "      <td>69</td>\n",
       "      <td>87</td>\n",
       "      <td>52</td>\n",
       "      <td>94</td>\n",
       "      <td>52</td>\n",
       "    </tr>\n",
       "  </tbody>\n",
       "</table>\n",
       "</div>"
      ],
      "text/plain": [
       "     A   B   C   D   E   G\n",
       "국어  90  86  86  73  65  45\n",
       "영어  89  78  88  95  67  36\n",
       "수학  47  65  83  74  93  61\n",
       "탐구  63  69  87  52  94  52"
      ]
     },
     "execution_count": 42,
     "metadata": {},
     "output_type": "execute_result"
    }
   ],
   "source": [
    "np_df['E'] = np.array([65, 67, 93, 94])\n",
    "np_df['G'] = np.array([45, 36, 61, 52])\n",
    "np_df"
   ]
  },
  {
   "cell_type": "code",
   "execution_count": 43,
   "id": "afc0a1a6",
   "metadata": {},
   "outputs": [
    {
     "data": {
      "text/html": [
       "<div>\n",
       "<style scoped>\n",
       "    .dataframe tbody tr th:only-of-type {\n",
       "        vertical-align: middle;\n",
       "    }\n",
       "\n",
       "    .dataframe tbody tr th {\n",
       "        vertical-align: top;\n",
       "    }\n",
       "\n",
       "    .dataframe thead th {\n",
       "        text-align: right;\n",
       "    }\n",
       "</style>\n",
       "<table border=\"1\" class=\"dataframe\">\n",
       "  <thead>\n",
       "    <tr style=\"text-align: right;\">\n",
       "      <th></th>\n",
       "      <th>A</th>\n",
       "      <th>B</th>\n",
       "      <th>C</th>\n",
       "      <th>D</th>\n",
       "      <th>E</th>\n",
       "      <th>F</th>\n",
       "      <th>G</th>\n",
       "    </tr>\n",
       "  </thead>\n",
       "  <tbody>\n",
       "    <tr>\n",
       "      <th>국어</th>\n",
       "      <td>90</td>\n",
       "      <td>86</td>\n",
       "      <td>86</td>\n",
       "      <td>73</td>\n",
       "      <td>65</td>\n",
       "      <td>91</td>\n",
       "      <td>45</td>\n",
       "    </tr>\n",
       "    <tr>\n",
       "      <th>영어</th>\n",
       "      <td>89</td>\n",
       "      <td>78</td>\n",
       "      <td>88</td>\n",
       "      <td>95</td>\n",
       "      <td>67</td>\n",
       "      <td>87</td>\n",
       "      <td>36</td>\n",
       "    </tr>\n",
       "    <tr>\n",
       "      <th>수학</th>\n",
       "      <td>47</td>\n",
       "      <td>65</td>\n",
       "      <td>83</td>\n",
       "      <td>74</td>\n",
       "      <td>93</td>\n",
       "      <td>93</td>\n",
       "      <td>61</td>\n",
       "    </tr>\n",
       "    <tr>\n",
       "      <th>탐구</th>\n",
       "      <td>63</td>\n",
       "      <td>69</td>\n",
       "      <td>87</td>\n",
       "      <td>52</td>\n",
       "      <td>94</td>\n",
       "      <td>100</td>\n",
       "      <td>52</td>\n",
       "    </tr>\n",
       "  </tbody>\n",
       "</table>\n",
       "</div>"
      ],
      "text/plain": [
       "     A   B   C   D   E    F   G\n",
       "국어  90  86  86  73  65   91  45\n",
       "영어  89  78  88  95  67   87  36\n",
       "수학  47  65  83  74  93   93  61\n",
       "탐구  63  69  87  52  94  100  52"
      ]
     },
     "execution_count": 43,
     "metadata": {},
     "output_type": "execute_result"
    }
   ],
   "source": [
    "np_df.insert(5, 'F', np.array([91, 87, 93, 100]))\n",
    "np_df"
   ]
  },
  {
   "cell_type": "code",
   "execution_count": 44,
   "id": "6e67015d",
   "metadata": {},
   "outputs": [
    {
     "name": "stdout",
     "output_type": "stream",
     "text": [
      "<class 'pandas.core.frame.DataFrame'>\n",
      "Index: 4 entries, 국어 to 탐구\n",
      "Data columns (total 7 columns):\n",
      " #   Column  Non-Null Count  Dtype\n",
      "---  ------  --------------  -----\n",
      " 0   A       4 non-null      int32\n",
      " 1   B       4 non-null      int32\n",
      " 2   C       4 non-null      int32\n",
      " 3   D       4 non-null      int32\n",
      " 4   E       4 non-null      int32\n",
      " 5   F       4 non-null      int32\n",
      " 6   G       4 non-null      int32\n",
      "dtypes: int32(7)\n",
      "memory usage: 316.0+ bytes\n"
     ]
    }
   ],
   "source": [
    "np_df.info()"
   ]
  },
  {
   "cell_type": "markdown",
   "id": "8eaac90b",
   "metadata": {},
   "source": [
    "### Update"
   ]
  },
  {
   "cell_type": "markdown",
   "id": "9122cd9d",
   "metadata": {},
   "source": [
    "* 특정 열에 대한 값 일괄 갱신\n",
    "    * DataFrame.replace({'columns':기존 값}, 갱신 값)\n",
    "        * 열을 지정하지 않으면 기존 값에 부합하는 모든 값을 갱신"
   ]
  },
  {
   "cell_type": "code",
   "execution_count": 45,
   "id": "8617ba74",
   "metadata": {},
   "outputs": [
    {
     "data": {
      "text/html": [
       "<div>\n",
       "<style scoped>\n",
       "    .dataframe tbody tr th:only-of-type {\n",
       "        vertical-align: middle;\n",
       "    }\n",
       "\n",
       "    .dataframe tbody tr th {\n",
       "        vertical-align: top;\n",
       "    }\n",
       "\n",
       "    .dataframe thead th {\n",
       "        text-align: right;\n",
       "    }\n",
       "</style>\n",
       "<table border=\"1\" class=\"dataframe\">\n",
       "  <thead>\n",
       "    <tr style=\"text-align: right;\">\n",
       "      <th></th>\n",
       "      <th>A</th>\n",
       "      <th>B</th>\n",
       "      <th>C</th>\n",
       "      <th>D</th>\n",
       "      <th>E</th>\n",
       "      <th>F</th>\n",
       "      <th>G</th>\n",
       "    </tr>\n",
       "  </thead>\n",
       "  <tbody>\n",
       "    <tr>\n",
       "      <th>국어</th>\n",
       "      <td>90</td>\n",
       "      <td>86</td>\n",
       "      <td>86</td>\n",
       "      <td>73</td>\n",
       "      <td>65</td>\n",
       "      <td>0</td>\n",
       "      <td>45</td>\n",
       "    </tr>\n",
       "    <tr>\n",
       "      <th>영어</th>\n",
       "      <td>89</td>\n",
       "      <td>78</td>\n",
       "      <td>88</td>\n",
       "      <td>95</td>\n",
       "      <td>67</td>\n",
       "      <td>0</td>\n",
       "      <td>36</td>\n",
       "    </tr>\n",
       "    <tr>\n",
       "      <th>수학</th>\n",
       "      <td>47</td>\n",
       "      <td>65</td>\n",
       "      <td>83</td>\n",
       "      <td>74</td>\n",
       "      <td>93</td>\n",
       "      <td>0</td>\n",
       "      <td>61</td>\n",
       "    </tr>\n",
       "    <tr>\n",
       "      <th>탐구</th>\n",
       "      <td>63</td>\n",
       "      <td>69</td>\n",
       "      <td>87</td>\n",
       "      <td>52</td>\n",
       "      <td>94</td>\n",
       "      <td>0</td>\n",
       "      <td>52</td>\n",
       "    </tr>\n",
       "  </tbody>\n",
       "</table>\n",
       "</div>"
      ],
      "text/plain": [
       "     A   B   C   D   E  F   G\n",
       "국어  90  86  86  73  65  0  45\n",
       "영어  89  78  88  95  67  0  36\n",
       "수학  47  65  83  74  93  0  61\n",
       "탐구  63  69  87  52  94  0  52"
      ]
     },
     "execution_count": 45,
     "metadata": {},
     "output_type": "execute_result"
    }
   ],
   "source": [
    "np_df['F'] = 0\n",
    "np_df"
   ]
  },
  {
   "cell_type": "code",
   "execution_count": 46,
   "id": "6bbd273a",
   "metadata": {},
   "outputs": [
    {
     "data": {
      "text/html": [
       "<div>\n",
       "<style scoped>\n",
       "    .dataframe tbody tr th:only-of-type {\n",
       "        vertical-align: middle;\n",
       "    }\n",
       "\n",
       "    .dataframe tbody tr th {\n",
       "        vertical-align: top;\n",
       "    }\n",
       "\n",
       "    .dataframe thead th {\n",
       "        text-align: right;\n",
       "    }\n",
       "</style>\n",
       "<table border=\"1\" class=\"dataframe\">\n",
       "  <thead>\n",
       "    <tr style=\"text-align: right;\">\n",
       "      <th></th>\n",
       "      <th>A</th>\n",
       "      <th>B</th>\n",
       "      <th>C</th>\n",
       "      <th>D</th>\n",
       "      <th>E</th>\n",
       "      <th>F</th>\n",
       "      <th>G</th>\n",
       "    </tr>\n",
       "  </thead>\n",
       "  <tbody>\n",
       "    <tr>\n",
       "      <th>국어</th>\n",
       "      <td>0</td>\n",
       "      <td>86</td>\n",
       "      <td>0</td>\n",
       "      <td>73</td>\n",
       "      <td>65</td>\n",
       "      <td>0</td>\n",
       "      <td>45</td>\n",
       "    </tr>\n",
       "    <tr>\n",
       "      <th>영어</th>\n",
       "      <td>0</td>\n",
       "      <td>78</td>\n",
       "      <td>0</td>\n",
       "      <td>95</td>\n",
       "      <td>67</td>\n",
       "      <td>0</td>\n",
       "      <td>36</td>\n",
       "    </tr>\n",
       "    <tr>\n",
       "      <th>수학</th>\n",
       "      <td>0</td>\n",
       "      <td>65</td>\n",
       "      <td>0</td>\n",
       "      <td>74</td>\n",
       "      <td>93</td>\n",
       "      <td>0</td>\n",
       "      <td>61</td>\n",
       "    </tr>\n",
       "    <tr>\n",
       "      <th>탐구</th>\n",
       "      <td>0</td>\n",
       "      <td>69</td>\n",
       "      <td>0</td>\n",
       "      <td>52</td>\n",
       "      <td>94</td>\n",
       "      <td>0</td>\n",
       "      <td>52</td>\n",
       "    </tr>\n",
       "  </tbody>\n",
       "</table>\n",
       "</div>"
      ],
      "text/plain": [
       "    A   B  C   D   E  F   G\n",
       "국어  0  86  0  73  65  0  45\n",
       "영어  0  78  0  95  67  0  36\n",
       "수학  0  65  0  74  93  0  61\n",
       "탐구  0  69  0  52  94  0  52"
      ]
     },
     "execution_count": 46,
     "metadata": {},
     "output_type": "execute_result"
    }
   ],
   "source": [
    "np_df[['A', 'C']] = 0\n",
    "np_df"
   ]
  },
  {
   "cell_type": "code",
   "execution_count": 47,
   "id": "6a842f51",
   "metadata": {},
   "outputs": [
    {
     "data": {
      "text/html": [
       "<div>\n",
       "<style scoped>\n",
       "    .dataframe tbody tr th:only-of-type {\n",
       "        vertical-align: middle;\n",
       "    }\n",
       "\n",
       "    .dataframe tbody tr th {\n",
       "        vertical-align: top;\n",
       "    }\n",
       "\n",
       "    .dataframe thead th {\n",
       "        text-align: right;\n",
       "    }\n",
       "</style>\n",
       "<table border=\"1\" class=\"dataframe\">\n",
       "  <thead>\n",
       "    <tr style=\"text-align: right;\">\n",
       "      <th></th>\n",
       "      <th>A</th>\n",
       "      <th>B</th>\n",
       "      <th>C</th>\n",
       "      <th>D</th>\n",
       "      <th>E</th>\n",
       "      <th>F</th>\n",
       "      <th>G</th>\n",
       "    </tr>\n",
       "  </thead>\n",
       "  <tbody>\n",
       "    <tr>\n",
       "      <th>국어</th>\n",
       "      <td>0</td>\n",
       "      <td>86</td>\n",
       "      <td>50</td>\n",
       "      <td>73</td>\n",
       "      <td>65</td>\n",
       "      <td>0</td>\n",
       "      <td>45</td>\n",
       "    </tr>\n",
       "    <tr>\n",
       "      <th>영어</th>\n",
       "      <td>0</td>\n",
       "      <td>78</td>\n",
       "      <td>50</td>\n",
       "      <td>95</td>\n",
       "      <td>67</td>\n",
       "      <td>0</td>\n",
       "      <td>36</td>\n",
       "    </tr>\n",
       "    <tr>\n",
       "      <th>수학</th>\n",
       "      <td>0</td>\n",
       "      <td>65</td>\n",
       "      <td>50</td>\n",
       "      <td>74</td>\n",
       "      <td>93</td>\n",
       "      <td>0</td>\n",
       "      <td>61</td>\n",
       "    </tr>\n",
       "    <tr>\n",
       "      <th>탐구</th>\n",
       "      <td>0</td>\n",
       "      <td>69</td>\n",
       "      <td>50</td>\n",
       "      <td>52</td>\n",
       "      <td>94</td>\n",
       "      <td>0</td>\n",
       "      <td>52</td>\n",
       "    </tr>\n",
       "  </tbody>\n",
       "</table>\n",
       "</div>"
      ],
      "text/plain": [
       "    A   B   C   D   E  F   G\n",
       "국어  0  86  50  73  65  0  45\n",
       "영어  0  78  50  95  67  0  36\n",
       "수학  0  65  50  74  93  0  61\n",
       "탐구  0  69  50  52  94  0  52"
      ]
     },
     "execution_count": 47,
     "metadata": {},
     "output_type": "execute_result"
    }
   ],
   "source": [
    "np_df = np_df.replace({'C':0}, 50)\n",
    "np_df"
   ]
  },
  {
   "cell_type": "markdown",
   "id": "f10c1bd7",
   "metadata": {},
   "source": [
    "* 이미 존재하는 columns에 대해 add 연산을 수행하면 갱신이 이루어짐"
   ]
  },
  {
   "cell_type": "code",
   "execution_count": 48,
   "id": "9a84e6e3",
   "metadata": {},
   "outputs": [
    {
     "data": {
      "text/html": [
       "<div>\n",
       "<style scoped>\n",
       "    .dataframe tbody tr th:only-of-type {\n",
       "        vertical-align: middle;\n",
       "    }\n",
       "\n",
       "    .dataframe tbody tr th {\n",
       "        vertical-align: top;\n",
       "    }\n",
       "\n",
       "    .dataframe thead th {\n",
       "        text-align: right;\n",
       "    }\n",
       "</style>\n",
       "<table border=\"1\" class=\"dataframe\">\n",
       "  <thead>\n",
       "    <tr style=\"text-align: right;\">\n",
       "      <th></th>\n",
       "      <th>A</th>\n",
       "      <th>B</th>\n",
       "      <th>C</th>\n",
       "      <th>D</th>\n",
       "      <th>E</th>\n",
       "      <th>F</th>\n",
       "      <th>G</th>\n",
       "    </tr>\n",
       "  </thead>\n",
       "  <tbody>\n",
       "    <tr>\n",
       "      <th>국어</th>\n",
       "      <td>0</td>\n",
       "      <td>86</td>\n",
       "      <td>50</td>\n",
       "      <td>73</td>\n",
       "      <td>65</td>\n",
       "      <td>100</td>\n",
       "      <td>45</td>\n",
       "    </tr>\n",
       "    <tr>\n",
       "      <th>영어</th>\n",
       "      <td>0</td>\n",
       "      <td>78</td>\n",
       "      <td>50</td>\n",
       "      <td>95</td>\n",
       "      <td>67</td>\n",
       "      <td>87</td>\n",
       "      <td>36</td>\n",
       "    </tr>\n",
       "    <tr>\n",
       "      <th>수학</th>\n",
       "      <td>0</td>\n",
       "      <td>65</td>\n",
       "      <td>50</td>\n",
       "      <td>74</td>\n",
       "      <td>93</td>\n",
       "      <td>93</td>\n",
       "      <td>61</td>\n",
       "    </tr>\n",
       "    <tr>\n",
       "      <th>탐구</th>\n",
       "      <td>0</td>\n",
       "      <td>69</td>\n",
       "      <td>50</td>\n",
       "      <td>52</td>\n",
       "      <td>94</td>\n",
       "      <td>91</td>\n",
       "      <td>52</td>\n",
       "    </tr>\n",
       "  </tbody>\n",
       "</table>\n",
       "</div>"
      ],
      "text/plain": [
       "    A   B   C   D   E    F   G\n",
       "국어  0  86  50  73  65  100  45\n",
       "영어  0  78  50  95  67   87  36\n",
       "수학  0  65  50  74  93   93  61\n",
       "탐구  0  69  50  52  94   91  52"
      ]
     },
     "execution_count": 48,
     "metadata": {},
     "output_type": "execute_result"
    }
   ],
   "source": [
    "np_df['F'] = np.array([100, 87, 93, 91])\n",
    "np_df"
   ]
  },
  {
   "cell_type": "markdown",
   "id": "08b5c4bf",
   "metadata": {},
   "source": [
    "* Indexing 및 Slicing을 이용한 값 갱신\n",
    "    * DataFrame[col][row]와 같이 대괄호를 연속해서 값을 접근하는 방법을 chained indexing이라고 함\n",
    "    * chained indexing을 통해 값을 갱신하면 예기치 않은 문제를 발생시킬 수 있으므로 Pandas에서는 경고를 발생시킴\n",
    "        * 어디까지나 경고이므로 코드는 수행됨\n",
    "        * pd.set_option('mode.chained_assignment',  None)을 이용해 경고 끄기 가능"
   ]
  },
  {
   "cell_type": "markdown",
   "id": "9e4b320c",
   "metadata": {},
   "source": [
    "* chained indexing의 예\n",
    "```\n",
    "np_df['B']['국어']\n",
    "```"
   ]
  },
  {
   "cell_type": "code",
   "execution_count": 49,
   "id": "d7e29247",
   "metadata": {},
   "outputs": [
    {
     "name": "stderr",
     "output_type": "stream",
     "text": [
      "C:\\Users\\whgjs\\AppData\\Local\\Temp/ipykernel_18340/2500743888.py:1: SettingWithCopyWarning: \n",
      "A value is trying to be set on a copy of a slice from a DataFrame\n",
      "\n",
      "See the caveats in the documentation: https://pandas.pydata.org/pandas-docs/stable/user_guide/indexing.html#returning-a-view-versus-a-copy\n",
      "  np_df['F'][1] = -1\n"
     ]
    },
    {
     "data": {
      "text/html": [
       "<div>\n",
       "<style scoped>\n",
       "    .dataframe tbody tr th:only-of-type {\n",
       "        vertical-align: middle;\n",
       "    }\n",
       "\n",
       "    .dataframe tbody tr th {\n",
       "        vertical-align: top;\n",
       "    }\n",
       "\n",
       "    .dataframe thead th {\n",
       "        text-align: right;\n",
       "    }\n",
       "</style>\n",
       "<table border=\"1\" class=\"dataframe\">\n",
       "  <thead>\n",
       "    <tr style=\"text-align: right;\">\n",
       "      <th></th>\n",
       "      <th>A</th>\n",
       "      <th>B</th>\n",
       "      <th>C</th>\n",
       "      <th>D</th>\n",
       "      <th>E</th>\n",
       "      <th>F</th>\n",
       "      <th>G</th>\n",
       "    </tr>\n",
       "  </thead>\n",
       "  <tbody>\n",
       "    <tr>\n",
       "      <th>국어</th>\n",
       "      <td>0</td>\n",
       "      <td>86</td>\n",
       "      <td>50</td>\n",
       "      <td>73</td>\n",
       "      <td>65</td>\n",
       "      <td>100</td>\n",
       "      <td>45</td>\n",
       "    </tr>\n",
       "    <tr>\n",
       "      <th>영어</th>\n",
       "      <td>0</td>\n",
       "      <td>78</td>\n",
       "      <td>50</td>\n",
       "      <td>95</td>\n",
       "      <td>67</td>\n",
       "      <td>-1</td>\n",
       "      <td>36</td>\n",
       "    </tr>\n",
       "    <tr>\n",
       "      <th>수학</th>\n",
       "      <td>0</td>\n",
       "      <td>65</td>\n",
       "      <td>50</td>\n",
       "      <td>74</td>\n",
       "      <td>93</td>\n",
       "      <td>93</td>\n",
       "      <td>61</td>\n",
       "    </tr>\n",
       "    <tr>\n",
       "      <th>탐구</th>\n",
       "      <td>0</td>\n",
       "      <td>69</td>\n",
       "      <td>50</td>\n",
       "      <td>52</td>\n",
       "      <td>94</td>\n",
       "      <td>91</td>\n",
       "      <td>52</td>\n",
       "    </tr>\n",
       "  </tbody>\n",
       "</table>\n",
       "</div>"
      ],
      "text/plain": [
       "    A   B   C   D   E    F   G\n",
       "국어  0  86  50  73  65  100  45\n",
       "영어  0  78  50  95  67   -1  36\n",
       "수학  0  65  50  74  93   93  61\n",
       "탐구  0  69  50  52  94   91  52"
      ]
     },
     "execution_count": 49,
     "metadata": {},
     "output_type": "execute_result"
    }
   ],
   "source": [
    "np_df['F'][1] = -1\n",
    "np_df"
   ]
  },
  {
   "cell_type": "code",
   "execution_count": 50,
   "id": "220238c9",
   "metadata": {},
   "outputs": [
    {
     "name": "stderr",
     "output_type": "stream",
     "text": [
      "C:\\Users\\whgjs\\AppData\\Local\\Temp/ipykernel_18340/3247808422.py:1: SettingWithCopyWarning: \n",
      "A value is trying to be set on a copy of a slice from a DataFrame\n",
      "\n",
      "See the caveats in the documentation: https://pandas.pydata.org/pandas-docs/stable/user_guide/indexing.html#returning-a-view-versus-a-copy\n",
      "  np_df['F']['수학':] = -50\n"
     ]
    },
    {
     "data": {
      "text/html": [
       "<div>\n",
       "<style scoped>\n",
       "    .dataframe tbody tr th:only-of-type {\n",
       "        vertical-align: middle;\n",
       "    }\n",
       "\n",
       "    .dataframe tbody tr th {\n",
       "        vertical-align: top;\n",
       "    }\n",
       "\n",
       "    .dataframe thead th {\n",
       "        text-align: right;\n",
       "    }\n",
       "</style>\n",
       "<table border=\"1\" class=\"dataframe\">\n",
       "  <thead>\n",
       "    <tr style=\"text-align: right;\">\n",
       "      <th></th>\n",
       "      <th>A</th>\n",
       "      <th>B</th>\n",
       "      <th>C</th>\n",
       "      <th>D</th>\n",
       "      <th>E</th>\n",
       "      <th>F</th>\n",
       "      <th>G</th>\n",
       "    </tr>\n",
       "  </thead>\n",
       "  <tbody>\n",
       "    <tr>\n",
       "      <th>국어</th>\n",
       "      <td>0</td>\n",
       "      <td>86</td>\n",
       "      <td>50</td>\n",
       "      <td>73</td>\n",
       "      <td>65</td>\n",
       "      <td>100</td>\n",
       "      <td>45</td>\n",
       "    </tr>\n",
       "    <tr>\n",
       "      <th>영어</th>\n",
       "      <td>0</td>\n",
       "      <td>78</td>\n",
       "      <td>50</td>\n",
       "      <td>95</td>\n",
       "      <td>67</td>\n",
       "      <td>-1</td>\n",
       "      <td>36</td>\n",
       "    </tr>\n",
       "    <tr>\n",
       "      <th>수학</th>\n",
       "      <td>0</td>\n",
       "      <td>65</td>\n",
       "      <td>50</td>\n",
       "      <td>74</td>\n",
       "      <td>93</td>\n",
       "      <td>-50</td>\n",
       "      <td>61</td>\n",
       "    </tr>\n",
       "    <tr>\n",
       "      <th>탐구</th>\n",
       "      <td>0</td>\n",
       "      <td>69</td>\n",
       "      <td>50</td>\n",
       "      <td>52</td>\n",
       "      <td>94</td>\n",
       "      <td>-50</td>\n",
       "      <td>52</td>\n",
       "    </tr>\n",
       "  </tbody>\n",
       "</table>\n",
       "</div>"
      ],
      "text/plain": [
       "    A   B   C   D   E    F   G\n",
       "국어  0  86  50  73  65  100  45\n",
       "영어  0  78  50  95  67   -1  36\n",
       "수학  0  65  50  74  93  -50  61\n",
       "탐구  0  69  50  52  94  -50  52"
      ]
     },
     "execution_count": 50,
     "metadata": {},
     "output_type": "execute_result"
    }
   ],
   "source": [
    "np_df['F']['수학':] = -50\n",
    "np_df"
   ]
  },
  {
   "cell_type": "code",
   "execution_count": 51,
   "id": "5fd68348",
   "metadata": {
    "scrolled": true
   },
   "outputs": [
    {
     "name": "stderr",
     "output_type": "stream",
     "text": [
      "C:\\Users\\whgjs\\AppData\\Local\\Temp/ipykernel_18340/4230506500.py:1: SettingWithCopyWarning: \n",
      "A value is trying to be set on a copy of a slice from a DataFrame\n",
      "\n",
      "See the caveats in the documentation: https://pandas.pydata.org/pandas-docs/stable/user_guide/indexing.html#returning-a-view-versus-a-copy\n",
      "  np_df['D'][1:3] = np.array([1, 1])\n"
     ]
    },
    {
     "data": {
      "text/html": [
       "<div>\n",
       "<style scoped>\n",
       "    .dataframe tbody tr th:only-of-type {\n",
       "        vertical-align: middle;\n",
       "    }\n",
       "\n",
       "    .dataframe tbody tr th {\n",
       "        vertical-align: top;\n",
       "    }\n",
       "\n",
       "    .dataframe thead th {\n",
       "        text-align: right;\n",
       "    }\n",
       "</style>\n",
       "<table border=\"1\" class=\"dataframe\">\n",
       "  <thead>\n",
       "    <tr style=\"text-align: right;\">\n",
       "      <th></th>\n",
       "      <th>A</th>\n",
       "      <th>B</th>\n",
       "      <th>C</th>\n",
       "      <th>D</th>\n",
       "      <th>E</th>\n",
       "      <th>F</th>\n",
       "      <th>G</th>\n",
       "    </tr>\n",
       "  </thead>\n",
       "  <tbody>\n",
       "    <tr>\n",
       "      <th>국어</th>\n",
       "      <td>0</td>\n",
       "      <td>86</td>\n",
       "      <td>50</td>\n",
       "      <td>73</td>\n",
       "      <td>65</td>\n",
       "      <td>100</td>\n",
       "      <td>45</td>\n",
       "    </tr>\n",
       "    <tr>\n",
       "      <th>영어</th>\n",
       "      <td>0</td>\n",
       "      <td>78</td>\n",
       "      <td>50</td>\n",
       "      <td>1</td>\n",
       "      <td>67</td>\n",
       "      <td>-1</td>\n",
       "      <td>36</td>\n",
       "    </tr>\n",
       "    <tr>\n",
       "      <th>수학</th>\n",
       "      <td>0</td>\n",
       "      <td>65</td>\n",
       "      <td>50</td>\n",
       "      <td>1</td>\n",
       "      <td>93</td>\n",
       "      <td>-50</td>\n",
       "      <td>61</td>\n",
       "    </tr>\n",
       "    <tr>\n",
       "      <th>탐구</th>\n",
       "      <td>0</td>\n",
       "      <td>69</td>\n",
       "      <td>50</td>\n",
       "      <td>52</td>\n",
       "      <td>94</td>\n",
       "      <td>-50</td>\n",
       "      <td>52</td>\n",
       "    </tr>\n",
       "  </tbody>\n",
       "</table>\n",
       "</div>"
      ],
      "text/plain": [
       "    A   B   C   D   E    F   G\n",
       "국어  0  86  50  73  65  100  45\n",
       "영어  0  78  50   1  67   -1  36\n",
       "수학  0  65  50   1  93  -50  61\n",
       "탐구  0  69  50  52  94  -50  52"
      ]
     },
     "execution_count": 51,
     "metadata": {},
     "output_type": "execute_result"
    }
   ],
   "source": [
    "np_df['D'][1:3] = np.array([1, 1])\n",
    "np_df"
   ]
  },
  {
   "cell_type": "markdown",
   "id": "55bdefef",
   "metadata": {},
   "source": [
    "### Delete"
   ]
  },
  {
   "cell_type": "markdown",
   "id": "140fd851",
   "metadata": {},
   "source": [
    "* 특정 열 전체 삭제"
   ]
  },
  {
   "cell_type": "code",
   "execution_count": 52,
   "id": "3a680388",
   "metadata": {},
   "outputs": [
    {
     "data": {
      "text/html": [
       "<div>\n",
       "<style scoped>\n",
       "    .dataframe tbody tr th:only-of-type {\n",
       "        vertical-align: middle;\n",
       "    }\n",
       "\n",
       "    .dataframe tbody tr th {\n",
       "        vertical-align: top;\n",
       "    }\n",
       "\n",
       "    .dataframe thead th {\n",
       "        text-align: right;\n",
       "    }\n",
       "</style>\n",
       "<table border=\"1\" class=\"dataframe\">\n",
       "  <thead>\n",
       "    <tr style=\"text-align: right;\">\n",
       "      <th></th>\n",
       "      <th>A</th>\n",
       "      <th>B</th>\n",
       "      <th>C</th>\n",
       "      <th>D</th>\n",
       "      <th>E</th>\n",
       "      <th>F</th>\n",
       "    </tr>\n",
       "  </thead>\n",
       "  <tbody>\n",
       "    <tr>\n",
       "      <th>국어</th>\n",
       "      <td>0</td>\n",
       "      <td>86</td>\n",
       "      <td>50</td>\n",
       "      <td>73</td>\n",
       "      <td>65</td>\n",
       "      <td>100</td>\n",
       "    </tr>\n",
       "    <tr>\n",
       "      <th>영어</th>\n",
       "      <td>0</td>\n",
       "      <td>78</td>\n",
       "      <td>50</td>\n",
       "      <td>1</td>\n",
       "      <td>67</td>\n",
       "      <td>-1</td>\n",
       "    </tr>\n",
       "    <tr>\n",
       "      <th>수학</th>\n",
       "      <td>0</td>\n",
       "      <td>65</td>\n",
       "      <td>50</td>\n",
       "      <td>1</td>\n",
       "      <td>93</td>\n",
       "      <td>-50</td>\n",
       "    </tr>\n",
       "    <tr>\n",
       "      <th>탐구</th>\n",
       "      <td>0</td>\n",
       "      <td>69</td>\n",
       "      <td>50</td>\n",
       "      <td>52</td>\n",
       "      <td>94</td>\n",
       "      <td>-50</td>\n",
       "    </tr>\n",
       "  </tbody>\n",
       "</table>\n",
       "</div>"
      ],
      "text/plain": [
       "    A   B   C   D   E    F\n",
       "국어  0  86  50  73  65  100\n",
       "영어  0  78  50   1  67   -1\n",
       "수학  0  65  50   1  93  -50\n",
       "탐구  0  69  50  52  94  -50"
      ]
     },
     "execution_count": 52,
     "metadata": {},
     "output_type": "execute_result"
    }
   ],
   "source": [
    "del np_df['G']\n",
    "np_df"
   ]
  },
  {
   "cell_type": "markdown",
   "id": "876a3374",
   "metadata": {},
   "source": [
    "* 축을 이용한 삭제\n",
    "    <img src=\"https://i.stack.imgur.com/FzimB.png\" width=\"500\">\n",
    "    \n",
    "    * 축은 Numpy와 반대\n",
    "    * Pandas의 축은 axis=0를 기본 값으로 가짐\n",
    "        * 행 자체를 가리킬 땐 axis=0\n",
    "            * 행의 방향을 나타낼땐 axis=1\n",
    "        * 열 자체를 가리킬 땐 axis=1\n",
    "            * 열의 방향을 나타날 땐 axis=0"
   ]
  },
  {
   "cell_type": "code",
   "execution_count": 53,
   "id": "bfdd310e",
   "metadata": {},
   "outputs": [
    {
     "data": {
      "text/html": [
       "<div>\n",
       "<style scoped>\n",
       "    .dataframe tbody tr th:only-of-type {\n",
       "        vertical-align: middle;\n",
       "    }\n",
       "\n",
       "    .dataframe tbody tr th {\n",
       "        vertical-align: top;\n",
       "    }\n",
       "\n",
       "    .dataframe thead th {\n",
       "        text-align: right;\n",
       "    }\n",
       "</style>\n",
       "<table border=\"1\" class=\"dataframe\">\n",
       "  <thead>\n",
       "    <tr style=\"text-align: right;\">\n",
       "      <th></th>\n",
       "      <th>A</th>\n",
       "      <th>B</th>\n",
       "      <th>C</th>\n",
       "      <th>D</th>\n",
       "      <th>E</th>\n",
       "    </tr>\n",
       "  </thead>\n",
       "  <tbody>\n",
       "    <tr>\n",
       "      <th>국어</th>\n",
       "      <td>0</td>\n",
       "      <td>86</td>\n",
       "      <td>50</td>\n",
       "      <td>73</td>\n",
       "      <td>65</td>\n",
       "    </tr>\n",
       "    <tr>\n",
       "      <th>영어</th>\n",
       "      <td>0</td>\n",
       "      <td>78</td>\n",
       "      <td>50</td>\n",
       "      <td>1</td>\n",
       "      <td>67</td>\n",
       "    </tr>\n",
       "    <tr>\n",
       "      <th>수학</th>\n",
       "      <td>0</td>\n",
       "      <td>65</td>\n",
       "      <td>50</td>\n",
       "      <td>1</td>\n",
       "      <td>93</td>\n",
       "    </tr>\n",
       "    <tr>\n",
       "      <th>탐구</th>\n",
       "      <td>0</td>\n",
       "      <td>69</td>\n",
       "      <td>50</td>\n",
       "      <td>52</td>\n",
       "      <td>94</td>\n",
       "    </tr>\n",
       "  </tbody>\n",
       "</table>\n",
       "</div>"
      ],
      "text/plain": [
       "    A   B   C   D   E\n",
       "국어  0  86  50  73  65\n",
       "영어  0  78  50   1  67\n",
       "수학  0  65  50   1  93\n",
       "탐구  0  69  50  52  94"
      ]
     },
     "execution_count": 53,
     "metadata": {},
     "output_type": "execute_result"
    }
   ],
   "source": [
    "np_df = np_df.drop(['F'], axis=1)\n",
    "np_df"
   ]
  },
  {
   "cell_type": "code",
   "execution_count": 54,
   "id": "4c2f8969",
   "metadata": {},
   "outputs": [
    {
     "data": {
      "text/html": [
       "<div>\n",
       "<style scoped>\n",
       "    .dataframe tbody tr th:only-of-type {\n",
       "        vertical-align: middle;\n",
       "    }\n",
       "\n",
       "    .dataframe tbody tr th {\n",
       "        vertical-align: top;\n",
       "    }\n",
       "\n",
       "    .dataframe thead th {\n",
       "        text-align: right;\n",
       "    }\n",
       "</style>\n",
       "<table border=\"1\" class=\"dataframe\">\n",
       "  <thead>\n",
       "    <tr style=\"text-align: right;\">\n",
       "      <th></th>\n",
       "      <th>A</th>\n",
       "      <th>B</th>\n",
       "      <th>C</th>\n",
       "      <th>D</th>\n",
       "      <th>E</th>\n",
       "    </tr>\n",
       "  </thead>\n",
       "  <tbody>\n",
       "    <tr>\n",
       "      <th>국어</th>\n",
       "      <td>0</td>\n",
       "      <td>86</td>\n",
       "      <td>50</td>\n",
       "      <td>73</td>\n",
       "      <td>65</td>\n",
       "    </tr>\n",
       "    <tr>\n",
       "      <th>영어</th>\n",
       "      <td>0</td>\n",
       "      <td>78</td>\n",
       "      <td>50</td>\n",
       "      <td>1</td>\n",
       "      <td>67</td>\n",
       "    </tr>\n",
       "    <tr>\n",
       "      <th>수학</th>\n",
       "      <td>0</td>\n",
       "      <td>65</td>\n",
       "      <td>50</td>\n",
       "      <td>1</td>\n",
       "      <td>93</td>\n",
       "    </tr>\n",
       "  </tbody>\n",
       "</table>\n",
       "</div>"
      ],
      "text/plain": [
       "    A   B   C   D   E\n",
       "국어  0  86  50  73  65\n",
       "영어  0  78  50   1  67\n",
       "수학  0  65  50   1  93"
      ]
     },
     "execution_count": 54,
     "metadata": {},
     "output_type": "execute_result"
    }
   ],
   "source": [
    "np_df.drop(['탐구'], axis=0)\n",
    "#np_df.drop(['탐구'])"
   ]
  },
  {
   "cell_type": "markdown",
   "id": "800d1a81",
   "metadata": {},
   "source": [
    "#### Q4.  다음과 같이 데이터프레임이 주어졌을 때 0을 70으로 변경하고 각 열의 평균을 행에 추가하는 코드를 아래 셀에 작성하시오."
   ]
  },
  {
   "cell_type": "markdown",
   "id": "0c415c2c",
   "metadata": {},
   "source": [
    "* 행의 Label은 '평균'이라고 지정\n",
    "* 열의 Label은 동일\n",
    "* 데이터프레임도 Numpy 배열과 동일한 방법으로 평균을 구할 수 있음"
   ]
  },
  {
   "cell_type": "code",
   "execution_count": 55,
   "id": "2a08b3a5",
   "metadata": {},
   "outputs": [
    {
     "data": {
      "text/html": [
       "<div>\n",
       "<style scoped>\n",
       "    .dataframe tbody tr th:only-of-type {\n",
       "        vertical-align: middle;\n",
       "    }\n",
       "\n",
       "    .dataframe tbody tr th {\n",
       "        vertical-align: top;\n",
       "    }\n",
       "\n",
       "    .dataframe thead th {\n",
       "        text-align: right;\n",
       "    }\n",
       "</style>\n",
       "<table border=\"1\" class=\"dataframe\">\n",
       "  <thead>\n",
       "    <tr style=\"text-align: right;\">\n",
       "      <th></th>\n",
       "      <th>A</th>\n",
       "      <th>B</th>\n",
       "      <th>C</th>\n",
       "      <th>D</th>\n",
       "    </tr>\n",
       "  </thead>\n",
       "  <tbody>\n",
       "    <tr>\n",
       "      <th>국어</th>\n",
       "      <td>0</td>\n",
       "      <td>86</td>\n",
       "      <td>86</td>\n",
       "      <td>0</td>\n",
       "    </tr>\n",
       "    <tr>\n",
       "      <th>영어</th>\n",
       "      <td>0</td>\n",
       "      <td>78</td>\n",
       "      <td>88</td>\n",
       "      <td>95</td>\n",
       "    </tr>\n",
       "    <tr>\n",
       "      <th>수학</th>\n",
       "      <td>47</td>\n",
       "      <td>65</td>\n",
       "      <td>0</td>\n",
       "      <td>74</td>\n",
       "    </tr>\n",
       "    <tr>\n",
       "      <th>탐구</th>\n",
       "      <td>63</td>\n",
       "      <td>0</td>\n",
       "      <td>87</td>\n",
       "      <td>52</td>\n",
       "    </tr>\n",
       "  </tbody>\n",
       "</table>\n",
       "</div>"
      ],
      "text/plain": [
       "     A   B   C   D\n",
       "국어   0  86  86   0\n",
       "영어   0  78  88  95\n",
       "수학  47  65   0  74\n",
       "탐구  63   0  87  52"
      ]
     },
     "execution_count": 55,
     "metadata": {},
     "output_type": "execute_result"
    }
   ],
   "source": [
    "Q4 = np.array([[0, 86, 86, 0], [0, 78, 88, 95], [47, 65, 0, 74], [63, 0, 87, 52]])\n",
    "Q4_df = pd.DataFrame(Q4, subjects, students)\n",
    "Q4_df"
   ]
  },
  {
   "cell_type": "code",
   "execution_count": 56,
   "id": "fa49ec42",
   "metadata": {},
   "outputs": [],
   "source": [
    "### Your Code ###"
   ]
  },
  {
   "cell_type": "code",
   "execution_count": 123,
   "id": "87745e48",
   "metadata": {},
   "outputs": [
    {
     "data": {
      "text/plain": [
       "array([[62.5 , 74.75, 82.75, 72.75]])"
      ]
     },
     "execution_count": 123,
     "metadata": {},
     "output_type": "execute_result"
    }
   ],
   "source": [
    "Q4_df.mean(axis=0).to_numpy().reshape(1, 4)"
   ]
  },
  {
   "cell_type": "code",
   "execution_count": 120,
   "id": "4ab35e12",
   "metadata": {},
   "outputs": [
    {
     "data": {
      "text/html": [
       "<div>\n",
       "<style scoped>\n",
       "    .dataframe tbody tr th:only-of-type {\n",
       "        vertical-align: middle;\n",
       "    }\n",
       "\n",
       "    .dataframe tbody tr th {\n",
       "        vertical-align: top;\n",
       "    }\n",
       "\n",
       "    .dataframe thead th {\n",
       "        text-align: right;\n",
       "    }\n",
       "</style>\n",
       "<table border=\"1\" class=\"dataframe\">\n",
       "  <thead>\n",
       "    <tr style=\"text-align: right;\">\n",
       "      <th></th>\n",
       "      <th>A</th>\n",
       "      <th>B</th>\n",
       "      <th>C</th>\n",
       "      <th>D</th>\n",
       "    </tr>\n",
       "  </thead>\n",
       "  <tbody>\n",
       "    <tr>\n",
       "      <th>국어</th>\n",
       "      <td>70.0</td>\n",
       "      <td>86.0</td>\n",
       "      <td>86.0</td>\n",
       "      <td>70.0</td>\n",
       "    </tr>\n",
       "    <tr>\n",
       "      <th>영어</th>\n",
       "      <td>70.0</td>\n",
       "      <td>78.0</td>\n",
       "      <td>88.0</td>\n",
       "      <td>95.0</td>\n",
       "    </tr>\n",
       "    <tr>\n",
       "      <th>수학</th>\n",
       "      <td>47.0</td>\n",
       "      <td>65.0</td>\n",
       "      <td>70.0</td>\n",
       "      <td>74.0</td>\n",
       "    </tr>\n",
       "    <tr>\n",
       "      <th>탐구</th>\n",
       "      <td>63.0</td>\n",
       "      <td>70.0</td>\n",
       "      <td>87.0</td>\n",
       "      <td>52.0</td>\n",
       "    </tr>\n",
       "    <tr>\n",
       "      <th>평균</th>\n",
       "      <td>NaN</td>\n",
       "      <td>NaN</td>\n",
       "      <td>NaN</td>\n",
       "      <td>NaN</td>\n",
       "    </tr>\n",
       "  </tbody>\n",
       "</table>\n",
       "</div>"
      ],
      "text/plain": [
       "       A     B     C     D\n",
       "국어  70.0  86.0  86.0  70.0\n",
       "영어  70.0  78.0  88.0  95.0\n",
       "수학  47.0  65.0  70.0  74.0\n",
       "탐구  63.0  70.0  87.0  52.0\n",
       "평균   NaN   NaN   NaN   NaN"
      ]
     },
     "execution_count": 120,
     "metadata": {},
     "output_type": "execute_result"
    }
   ],
   "source": [
    "Q4_df[Q4_df == 0] = 70\n",
    "new_arr = Q4_df.mean(axis=0).to_numpy().reshape(1, 4)\n",
    "new_Q4 = pd.DataFrame(new_arr, ['평균'], students)\n",
    "Q4_df.append(new_Q4)"
   ]
  },
  {
   "cell_type": "markdown",
   "id": "0a01bff8",
   "metadata": {},
   "source": [
    "## Advanced indexing"
   ]
  },
  {
   "cell_type": "markdown",
   "id": "b41b309d",
   "metadata": {},
   "source": [
    "* 기존 접근 방법에서 향상된 데이터프레임 접근 방법을 알아본다.\n",
    "    * 2차원의 형태를 가진 데이터프레임에 적합"
   ]
  },
  {
   "cell_type": "markdown",
   "id": "9f20c419",
   "metadata": {},
   "source": [
    "### loc Indexing"
   ]
  },
  {
   "cell_type": "markdown",
   "id": "3973e7c0",
   "metadata": {},
   "source": [
    "* Label 기반 Indexing\n",
    "    * 행 Indexing 가능\n",
    "    * 열에 대해 단독 Indexing 불가\n",
    "        * 행을 통한 Indexing은 가능\n",
    "        \n",
    "* DataFrame.loc[row, col]\n"
   ]
  },
  {
   "cell_type": "code",
   "execution_count": 58,
   "id": "55e9f731",
   "metadata": {},
   "outputs": [
    {
     "data": {
      "text/html": [
       "<div>\n",
       "<style scoped>\n",
       "    .dataframe tbody tr th:only-of-type {\n",
       "        vertical-align: middle;\n",
       "    }\n",
       "\n",
       "    .dataframe tbody tr th {\n",
       "        vertical-align: top;\n",
       "    }\n",
       "\n",
       "    .dataframe thead th {\n",
       "        text-align: right;\n",
       "    }\n",
       "</style>\n",
       "<table border=\"1\" class=\"dataframe\">\n",
       "  <thead>\n",
       "    <tr style=\"text-align: right;\">\n",
       "      <th></th>\n",
       "      <th>A</th>\n",
       "      <th>B</th>\n",
       "      <th>C</th>\n",
       "      <th>D</th>\n",
       "    </tr>\n",
       "  </thead>\n",
       "  <tbody>\n",
       "    <tr>\n",
       "      <th>국어</th>\n",
       "      <td>90</td>\n",
       "      <td>86</td>\n",
       "      <td>86</td>\n",
       "      <td>73</td>\n",
       "    </tr>\n",
       "    <tr>\n",
       "      <th>영어</th>\n",
       "      <td>89</td>\n",
       "      <td>78</td>\n",
       "      <td>88</td>\n",
       "      <td>95</td>\n",
       "    </tr>\n",
       "    <tr>\n",
       "      <th>수학</th>\n",
       "      <td>47</td>\n",
       "      <td>65</td>\n",
       "      <td>83</td>\n",
       "      <td>74</td>\n",
       "    </tr>\n",
       "    <tr>\n",
       "      <th>탐구</th>\n",
       "      <td>63</td>\n",
       "      <td>69</td>\n",
       "      <td>87</td>\n",
       "      <td>52</td>\n",
       "    </tr>\n",
       "  </tbody>\n",
       "</table>\n",
       "</div>"
      ],
      "text/plain": [
       "     A   B   C   D\n",
       "국어  90  86  86  73\n",
       "영어  89  78  88  95\n",
       "수학  47  65  83  74\n",
       "탐구  63  69  87  52"
      ]
     },
     "execution_count": 58,
     "metadata": {},
     "output_type": "execute_result"
    }
   ],
   "source": [
    "np_df =  pd.DataFrame(np_scores, subjects, students)\n",
    "np_df"
   ]
  },
  {
   "cell_type": "code",
   "execution_count": 59,
   "id": "0e4fd533",
   "metadata": {
    "scrolled": false
   },
   "outputs": [
    {
     "data": {
      "text/html": [
       "<div>\n",
       "<style scoped>\n",
       "    .dataframe tbody tr th:only-of-type {\n",
       "        vertical-align: middle;\n",
       "    }\n",
       "\n",
       "    .dataframe tbody tr th {\n",
       "        vertical-align: top;\n",
       "    }\n",
       "\n",
       "    .dataframe thead th {\n",
       "        text-align: right;\n",
       "    }\n",
       "</style>\n",
       "<table border=\"1\" class=\"dataframe\">\n",
       "  <thead>\n",
       "    <tr style=\"text-align: right;\">\n",
       "      <th></th>\n",
       "      <th>A</th>\n",
       "      <th>B</th>\n",
       "      <th>C</th>\n",
       "      <th>D</th>\n",
       "    </tr>\n",
       "  </thead>\n",
       "  <tbody>\n",
       "    <tr>\n",
       "      <th>국어</th>\n",
       "      <td>90</td>\n",
       "      <td>86</td>\n",
       "      <td>86</td>\n",
       "      <td>73</td>\n",
       "    </tr>\n",
       "  </tbody>\n",
       "</table>\n",
       "</div>"
      ],
      "text/plain": [
       "     A   B   C   D\n",
       "국어  90  86  86  73"
      ]
     },
     "execution_count": 59,
     "metadata": {},
     "output_type": "execute_result"
    }
   ],
   "source": [
    "np_df.loc[['국어']]"
   ]
  },
  {
   "cell_type": "code",
   "execution_count": 60,
   "id": "5e1a645c",
   "metadata": {
    "scrolled": true
   },
   "outputs": [
    {
     "data": {
      "text/html": [
       "<div>\n",
       "<style scoped>\n",
       "    .dataframe tbody tr th:only-of-type {\n",
       "        vertical-align: middle;\n",
       "    }\n",
       "\n",
       "    .dataframe tbody tr th {\n",
       "        vertical-align: top;\n",
       "    }\n",
       "\n",
       "    .dataframe thead th {\n",
       "        text-align: right;\n",
       "    }\n",
       "</style>\n",
       "<table border=\"1\" class=\"dataframe\">\n",
       "  <thead>\n",
       "    <tr style=\"text-align: right;\">\n",
       "      <th></th>\n",
       "      <th>A</th>\n",
       "      <th>B</th>\n",
       "      <th>C</th>\n",
       "      <th>D</th>\n",
       "    </tr>\n",
       "  </thead>\n",
       "  <tbody>\n",
       "    <tr>\n",
       "      <th>국어</th>\n",
       "      <td>90</td>\n",
       "      <td>86</td>\n",
       "      <td>86</td>\n",
       "      <td>73</td>\n",
       "    </tr>\n",
       "    <tr>\n",
       "      <th>탐구</th>\n",
       "      <td>63</td>\n",
       "      <td>69</td>\n",
       "      <td>87</td>\n",
       "      <td>52</td>\n",
       "    </tr>\n",
       "  </tbody>\n",
       "</table>\n",
       "</div>"
      ],
      "text/plain": [
       "     A   B   C   D\n",
       "국어  90  86  86  73\n",
       "탐구  63  69  87  52"
      ]
     },
     "execution_count": 60,
     "metadata": {},
     "output_type": "execute_result"
    }
   ],
   "source": [
    "np_df.loc[['국어', '탐구']]"
   ]
  },
  {
   "cell_type": "code",
   "execution_count": 61,
   "id": "a71cf8a3",
   "metadata": {
    "scrolled": true
   },
   "outputs": [
    {
     "data": {
      "text/html": [
       "<div>\n",
       "<style scoped>\n",
       "    .dataframe tbody tr th:only-of-type {\n",
       "        vertical-align: middle;\n",
       "    }\n",
       "\n",
       "    .dataframe tbody tr th {\n",
       "        vertical-align: top;\n",
       "    }\n",
       "\n",
       "    .dataframe thead th {\n",
       "        text-align: right;\n",
       "    }\n",
       "</style>\n",
       "<table border=\"1\" class=\"dataframe\">\n",
       "  <thead>\n",
       "    <tr style=\"text-align: right;\">\n",
       "      <th></th>\n",
       "      <th>D</th>\n",
       "    </tr>\n",
       "  </thead>\n",
       "  <tbody>\n",
       "    <tr>\n",
       "      <th>국어</th>\n",
       "      <td>73</td>\n",
       "    </tr>\n",
       "    <tr>\n",
       "      <th>탐구</th>\n",
       "      <td>52</td>\n",
       "    </tr>\n",
       "  </tbody>\n",
       "</table>\n",
       "</div>"
      ],
      "text/plain": [
       "     D\n",
       "국어  73\n",
       "탐구  52"
      ]
     },
     "execution_count": 61,
     "metadata": {},
     "output_type": "execute_result"
    }
   ],
   "source": [
    "np_df.loc[['국어', '탐구'], ['D']]"
   ]
  },
  {
   "cell_type": "code",
   "execution_count": 62,
   "id": "84faa2b9",
   "metadata": {},
   "outputs": [
    {
     "data": {
      "text/html": [
       "<div>\n",
       "<style scoped>\n",
       "    .dataframe tbody tr th:only-of-type {\n",
       "        vertical-align: middle;\n",
       "    }\n",
       "\n",
       "    .dataframe tbody tr th {\n",
       "        vertical-align: top;\n",
       "    }\n",
       "\n",
       "    .dataframe thead th {\n",
       "        text-align: right;\n",
       "    }\n",
       "</style>\n",
       "<table border=\"1\" class=\"dataframe\">\n",
       "  <thead>\n",
       "    <tr style=\"text-align: right;\">\n",
       "      <th></th>\n",
       "      <th>D</th>\n",
       "      <th>C</th>\n",
       "    </tr>\n",
       "  </thead>\n",
       "  <tbody>\n",
       "    <tr>\n",
       "      <th>탐구</th>\n",
       "      <td>52</td>\n",
       "      <td>87</td>\n",
       "    </tr>\n",
       "    <tr>\n",
       "      <th>국어</th>\n",
       "      <td>73</td>\n",
       "      <td>86</td>\n",
       "    </tr>\n",
       "  </tbody>\n",
       "</table>\n",
       "</div>"
      ],
      "text/plain": [
       "     D   C\n",
       "탐구  52  87\n",
       "국어  73  86"
      ]
     },
     "execution_count": 62,
     "metadata": {},
     "output_type": "execute_result"
    }
   ],
   "source": [
    "np_df.loc[['탐구', '국어'], ['D', 'C']]"
   ]
  },
  {
   "cell_type": "code",
   "execution_count": 63,
   "id": "a55bc985",
   "metadata": {},
   "outputs": [
    {
     "data": {
      "text/html": [
       "<div>\n",
       "<style scoped>\n",
       "    .dataframe tbody tr th:only-of-type {\n",
       "        vertical-align: middle;\n",
       "    }\n",
       "\n",
       "    .dataframe tbody tr th {\n",
       "        vertical-align: top;\n",
       "    }\n",
       "\n",
       "    .dataframe thead th {\n",
       "        text-align: right;\n",
       "    }\n",
       "</style>\n",
       "<table border=\"1\" class=\"dataframe\">\n",
       "  <thead>\n",
       "    <tr style=\"text-align: right;\">\n",
       "      <th></th>\n",
       "      <th>C</th>\n",
       "    </tr>\n",
       "  </thead>\n",
       "  <tbody>\n",
       "    <tr>\n",
       "      <th>국어</th>\n",
       "      <td>86</td>\n",
       "    </tr>\n",
       "  </tbody>\n",
       "</table>\n",
       "</div>"
      ],
      "text/plain": [
       "     C\n",
       "국어  86"
      ]
     },
     "execution_count": 63,
     "metadata": {},
     "output_type": "execute_result"
    }
   ],
   "source": [
    "np_df.loc[['국어'], ['C']]"
   ]
  },
  {
   "cell_type": "code",
   "execution_count": 64,
   "id": "8807000e",
   "metadata": {},
   "outputs": [
    {
     "data": {
      "text/plain": [
       "A    False\n",
       "B     True\n",
       "C     True\n",
       "D    False\n",
       "Name: 탐구, dtype: bool"
      ]
     },
     "execution_count": 64,
     "metadata": {},
     "output_type": "execute_result"
    }
   ],
   "source": [
    "np_df.T.탐구 > 65"
   ]
  },
  {
   "cell_type": "code",
   "execution_count": 65,
   "id": "81a4885c",
   "metadata": {},
   "outputs": [
    {
     "data": {
      "text/html": [
       "<div>\n",
       "<style scoped>\n",
       "    .dataframe tbody tr th:only-of-type {\n",
       "        vertical-align: middle;\n",
       "    }\n",
       "\n",
       "    .dataframe tbody tr th {\n",
       "        vertical-align: top;\n",
       "    }\n",
       "\n",
       "    .dataframe thead th {\n",
       "        text-align: right;\n",
       "    }\n",
       "</style>\n",
       "<table border=\"1\" class=\"dataframe\">\n",
       "  <thead>\n",
       "    <tr style=\"text-align: right;\">\n",
       "      <th></th>\n",
       "      <th>탐구</th>\n",
       "    </tr>\n",
       "  </thead>\n",
       "  <tbody>\n",
       "    <tr>\n",
       "      <th>B</th>\n",
       "      <td>69</td>\n",
       "    </tr>\n",
       "    <tr>\n",
       "      <th>C</th>\n",
       "      <td>87</td>\n",
       "    </tr>\n",
       "  </tbody>\n",
       "</table>\n",
       "</div>"
      ],
      "text/plain": [
       "   탐구\n",
       "B  69\n",
       "C  87"
      ]
     },
     "execution_count": 65,
     "metadata": {},
     "output_type": "execute_result"
    }
   ],
   "source": [
    "np_df.T.loc[np_df.T.탐구 > 65, ['탐구']]"
   ]
  },
  {
   "cell_type": "markdown",
   "id": "8edd3931",
   "metadata": {},
   "source": [
    "#### loc Slicing"
   ]
  },
  {
   "cell_type": "code",
   "execution_count": 66,
   "id": "3aac324b",
   "metadata": {},
   "outputs": [
    {
     "data": {
      "text/html": [
       "<div>\n",
       "<style scoped>\n",
       "    .dataframe tbody tr th:only-of-type {\n",
       "        vertical-align: middle;\n",
       "    }\n",
       "\n",
       "    .dataframe tbody tr th {\n",
       "        vertical-align: top;\n",
       "    }\n",
       "\n",
       "    .dataframe thead th {\n",
       "        text-align: right;\n",
       "    }\n",
       "</style>\n",
       "<table border=\"1\" class=\"dataframe\">\n",
       "  <thead>\n",
       "    <tr style=\"text-align: right;\">\n",
       "      <th></th>\n",
       "      <th>A</th>\n",
       "      <th>B</th>\n",
       "      <th>C</th>\n",
       "    </tr>\n",
       "  </thead>\n",
       "  <tbody>\n",
       "    <tr>\n",
       "      <th>국어</th>\n",
       "      <td>90</td>\n",
       "      <td>86</td>\n",
       "      <td>86</td>\n",
       "    </tr>\n",
       "    <tr>\n",
       "      <th>영어</th>\n",
       "      <td>89</td>\n",
       "      <td>78</td>\n",
       "      <td>88</td>\n",
       "    </tr>\n",
       "    <tr>\n",
       "      <th>수학</th>\n",
       "      <td>47</td>\n",
       "      <td>65</td>\n",
       "      <td>83</td>\n",
       "    </tr>\n",
       "  </tbody>\n",
       "</table>\n",
       "</div>"
      ],
      "text/plain": [
       "     A   B   C\n",
       "국어  90  86  86\n",
       "영어  89  78  88\n",
       "수학  47  65  83"
      ]
     },
     "execution_count": 66,
     "metadata": {},
     "output_type": "execute_result"
    }
   ],
   "source": [
    "np_df.loc['국어':'수학', 'A':'C']"
   ]
  },
  {
   "cell_type": "code",
   "execution_count": 67,
   "id": "d7737835",
   "metadata": {},
   "outputs": [
    {
     "data": {
      "text/html": [
       "<div>\n",
       "<style scoped>\n",
       "    .dataframe tbody tr th:only-of-type {\n",
       "        vertical-align: middle;\n",
       "    }\n",
       "\n",
       "    .dataframe tbody tr th {\n",
       "        vertical-align: top;\n",
       "    }\n",
       "\n",
       "    .dataframe thead th {\n",
       "        text-align: right;\n",
       "    }\n",
       "</style>\n",
       "<table border=\"1\" class=\"dataframe\">\n",
       "  <thead>\n",
       "    <tr style=\"text-align: right;\">\n",
       "      <th></th>\n",
       "      <th>A</th>\n",
       "      <th>B</th>\n",
       "      <th>C</th>\n",
       "    </tr>\n",
       "  </thead>\n",
       "  <tbody>\n",
       "    <tr>\n",
       "      <th>수학</th>\n",
       "      <td>47</td>\n",
       "      <td>65</td>\n",
       "      <td>83</td>\n",
       "    </tr>\n",
       "  </tbody>\n",
       "</table>\n",
       "</div>"
      ],
      "text/plain": [
       "     A   B   C\n",
       "수학  47  65  83"
      ]
     },
     "execution_count": 67,
     "metadata": {},
     "output_type": "execute_result"
    }
   ],
   "source": [
    "np_df.loc[['수학'], 'A':'C']"
   ]
  },
  {
   "cell_type": "code",
   "execution_count": 68,
   "id": "6e55504b",
   "metadata": {
    "scrolled": true
   },
   "outputs": [
    {
     "data": {
      "text/html": [
       "<div>\n",
       "<style scoped>\n",
       "    .dataframe tbody tr th:only-of-type {\n",
       "        vertical-align: middle;\n",
       "    }\n",
       "\n",
       "    .dataframe tbody tr th {\n",
       "        vertical-align: top;\n",
       "    }\n",
       "\n",
       "    .dataframe thead th {\n",
       "        text-align: right;\n",
       "    }\n",
       "</style>\n",
       "<table border=\"1\" class=\"dataframe\">\n",
       "  <thead>\n",
       "    <tr style=\"text-align: right;\">\n",
       "      <th></th>\n",
       "      <th>D</th>\n",
       "    </tr>\n",
       "  </thead>\n",
       "  <tbody>\n",
       "    <tr>\n",
       "      <th>영어</th>\n",
       "      <td>95</td>\n",
       "    </tr>\n",
       "    <tr>\n",
       "      <th>수학</th>\n",
       "      <td>74</td>\n",
       "    </tr>\n",
       "    <tr>\n",
       "      <th>탐구</th>\n",
       "      <td>52</td>\n",
       "    </tr>\n",
       "  </tbody>\n",
       "</table>\n",
       "</div>"
      ],
      "text/plain": [
       "     D\n",
       "영어  95\n",
       "수학  74\n",
       "탐구  52"
      ]
     },
     "execution_count": 68,
     "metadata": {},
     "output_type": "execute_result"
    }
   ],
   "source": [
    "np_df.loc['영어':'탐구', ['D']]"
   ]
  },
  {
   "cell_type": "markdown",
   "id": "72309369",
   "metadata": {},
   "source": [
    "#### Q5.  Slicing 부분에서 확인할 수 있는 공통적인 특징을 아래 셀에 서술하시오."
   ]
  },
  {
   "cell_type": "markdown",
   "id": "bc629b7c",
   "metadata": {},
   "source": [
    "* 특징에 대한 이유를 알았을 경우, 같이 서술하시오."
   ]
  },
  {
   "cell_type": "markdown",
   "id": "f0056e90",
   "metadata": {},
   "source": [
    "데이터프레임으로 나타낼 때, slicing 부분은 괄호로 묶이지 않음"
   ]
  },
  {
   "cell_type": "markdown",
   "id": "bf4dec1d",
   "metadata": {},
   "source": [
    "### iloc Indexing"
   ]
  },
  {
   "cell_type": "markdown",
   "id": "ff01d523",
   "metadata": {},
   "source": [
    "* Index 기반 Indexing\n",
    "    * Boolean Indexing의 경우 Boolean 배열만을 입력받음\n",
    "* SettingWithCopyWarning 해결을 위해 권장됨"
   ]
  },
  {
   "cell_type": "code",
   "execution_count": 69,
   "id": "4dd483e8",
   "metadata": {
    "scrolled": false
   },
   "outputs": [
    {
     "data": {
      "text/html": [
       "<div>\n",
       "<style scoped>\n",
       "    .dataframe tbody tr th:only-of-type {\n",
       "        vertical-align: middle;\n",
       "    }\n",
       "\n",
       "    .dataframe tbody tr th {\n",
       "        vertical-align: top;\n",
       "    }\n",
       "\n",
       "    .dataframe thead th {\n",
       "        text-align: right;\n",
       "    }\n",
       "</style>\n",
       "<table border=\"1\" class=\"dataframe\">\n",
       "  <thead>\n",
       "    <tr style=\"text-align: right;\">\n",
       "      <th></th>\n",
       "      <th>A</th>\n",
       "      <th>B</th>\n",
       "      <th>C</th>\n",
       "      <th>D</th>\n",
       "    </tr>\n",
       "  </thead>\n",
       "  <tbody>\n",
       "    <tr>\n",
       "      <th>국어</th>\n",
       "      <td>90</td>\n",
       "      <td>86</td>\n",
       "      <td>86</td>\n",
       "      <td>73</td>\n",
       "    </tr>\n",
       "  </tbody>\n",
       "</table>\n",
       "</div>"
      ],
      "text/plain": [
       "     A   B   C   D\n",
       "국어  90  86  86  73"
      ]
     },
     "execution_count": 69,
     "metadata": {},
     "output_type": "execute_result"
    }
   ],
   "source": [
    "np_df.iloc[[0]]"
   ]
  },
  {
   "cell_type": "code",
   "execution_count": 70,
   "id": "6d4eb79a",
   "metadata": {
    "scrolled": true
   },
   "outputs": [
    {
     "data": {
      "text/html": [
       "<div>\n",
       "<style scoped>\n",
       "    .dataframe tbody tr th:only-of-type {\n",
       "        vertical-align: middle;\n",
       "    }\n",
       "\n",
       "    .dataframe tbody tr th {\n",
       "        vertical-align: top;\n",
       "    }\n",
       "\n",
       "    .dataframe thead th {\n",
       "        text-align: right;\n",
       "    }\n",
       "</style>\n",
       "<table border=\"1\" class=\"dataframe\">\n",
       "  <thead>\n",
       "    <tr style=\"text-align: right;\">\n",
       "      <th></th>\n",
       "      <th>A</th>\n",
       "      <th>B</th>\n",
       "      <th>C</th>\n",
       "      <th>D</th>\n",
       "    </tr>\n",
       "  </thead>\n",
       "  <tbody>\n",
       "    <tr>\n",
       "      <th>국어</th>\n",
       "      <td>90</td>\n",
       "      <td>86</td>\n",
       "      <td>86</td>\n",
       "      <td>73</td>\n",
       "    </tr>\n",
       "    <tr>\n",
       "      <th>탐구</th>\n",
       "      <td>63</td>\n",
       "      <td>69</td>\n",
       "      <td>87</td>\n",
       "      <td>52</td>\n",
       "    </tr>\n",
       "  </tbody>\n",
       "</table>\n",
       "</div>"
      ],
      "text/plain": [
       "     A   B   C   D\n",
       "국어  90  86  86  73\n",
       "탐구  63  69  87  52"
      ]
     },
     "execution_count": 70,
     "metadata": {},
     "output_type": "execute_result"
    }
   ],
   "source": [
    "np_df.iloc[[0, 3]]"
   ]
  },
  {
   "cell_type": "code",
   "execution_count": 71,
   "id": "8bd1d39f",
   "metadata": {},
   "outputs": [
    {
     "data": {
      "text/html": [
       "<div>\n",
       "<style scoped>\n",
       "    .dataframe tbody tr th:only-of-type {\n",
       "        vertical-align: middle;\n",
       "    }\n",
       "\n",
       "    .dataframe tbody tr th {\n",
       "        vertical-align: top;\n",
       "    }\n",
       "\n",
       "    .dataframe thead th {\n",
       "        text-align: right;\n",
       "    }\n",
       "</style>\n",
       "<table border=\"1\" class=\"dataframe\">\n",
       "  <thead>\n",
       "    <tr style=\"text-align: right;\">\n",
       "      <th></th>\n",
       "      <th>D</th>\n",
       "    </tr>\n",
       "  </thead>\n",
       "  <tbody>\n",
       "    <tr>\n",
       "      <th>국어</th>\n",
       "      <td>73</td>\n",
       "    </tr>\n",
       "    <tr>\n",
       "      <th>탐구</th>\n",
       "      <td>52</td>\n",
       "    </tr>\n",
       "  </tbody>\n",
       "</table>\n",
       "</div>"
      ],
      "text/plain": [
       "     D\n",
       "국어  73\n",
       "탐구  52"
      ]
     },
     "execution_count": 71,
     "metadata": {},
     "output_type": "execute_result"
    }
   ],
   "source": [
    "np_df.iloc[[0, 3],[3]]"
   ]
  },
  {
   "cell_type": "code",
   "execution_count": 72,
   "id": "a64f66a6",
   "metadata": {},
   "outputs": [
    {
     "data": {
      "text/html": [
       "<div>\n",
       "<style scoped>\n",
       "    .dataframe tbody tr th:only-of-type {\n",
       "        vertical-align: middle;\n",
       "    }\n",
       "\n",
       "    .dataframe tbody tr th {\n",
       "        vertical-align: top;\n",
       "    }\n",
       "\n",
       "    .dataframe thead th {\n",
       "        text-align: right;\n",
       "    }\n",
       "</style>\n",
       "<table border=\"1\" class=\"dataframe\">\n",
       "  <thead>\n",
       "    <tr style=\"text-align: right;\">\n",
       "      <th></th>\n",
       "      <th>D</th>\n",
       "      <th>C</th>\n",
       "    </tr>\n",
       "  </thead>\n",
       "  <tbody>\n",
       "    <tr>\n",
       "      <th>탐구</th>\n",
       "      <td>52</td>\n",
       "      <td>87</td>\n",
       "    </tr>\n",
       "    <tr>\n",
       "      <th>국어</th>\n",
       "      <td>73</td>\n",
       "      <td>86</td>\n",
       "    </tr>\n",
       "  </tbody>\n",
       "</table>\n",
       "</div>"
      ],
      "text/plain": [
       "     D   C\n",
       "탐구  52  87\n",
       "국어  73  86"
      ]
     },
     "execution_count": 72,
     "metadata": {},
     "output_type": "execute_result"
    }
   ],
   "source": [
    "np_df.iloc[[3, 0],[3, 2]]"
   ]
  },
  {
   "cell_type": "code",
   "execution_count": 73,
   "id": "6f099265",
   "metadata": {},
   "outputs": [
    {
     "data": {
      "text/html": [
       "<div>\n",
       "<style scoped>\n",
       "    .dataframe tbody tr th:only-of-type {\n",
       "        vertical-align: middle;\n",
       "    }\n",
       "\n",
       "    .dataframe tbody tr th {\n",
       "        vertical-align: top;\n",
       "    }\n",
       "\n",
       "    .dataframe thead th {\n",
       "        text-align: right;\n",
       "    }\n",
       "</style>\n",
       "<table border=\"1\" class=\"dataframe\">\n",
       "  <thead>\n",
       "    <tr style=\"text-align: right;\">\n",
       "      <th></th>\n",
       "      <th>C</th>\n",
       "    </tr>\n",
       "  </thead>\n",
       "  <tbody>\n",
       "    <tr>\n",
       "      <th>국어</th>\n",
       "      <td>86</td>\n",
       "    </tr>\n",
       "  </tbody>\n",
       "</table>\n",
       "</div>"
      ],
      "text/plain": [
       "     C\n",
       "국어  86"
      ]
     },
     "execution_count": 73,
     "metadata": {},
     "output_type": "execute_result"
    }
   ],
   "source": [
    "np_df.iloc[[0],[2]]"
   ]
  },
  {
   "cell_type": "code",
   "execution_count": 74,
   "id": "1cda07eb",
   "metadata": {},
   "outputs": [
    {
     "data": {
      "text/html": [
       "<div>\n",
       "<style scoped>\n",
       "    .dataframe tbody tr th:only-of-type {\n",
       "        vertical-align: middle;\n",
       "    }\n",
       "\n",
       "    .dataframe tbody tr th {\n",
       "        vertical-align: top;\n",
       "    }\n",
       "\n",
       "    .dataframe thead th {\n",
       "        text-align: right;\n",
       "    }\n",
       "</style>\n",
       "<table border=\"1\" class=\"dataframe\">\n",
       "  <thead>\n",
       "    <tr style=\"text-align: right;\">\n",
       "      <th></th>\n",
       "      <th>탐구</th>\n",
       "    </tr>\n",
       "  </thead>\n",
       "  <tbody>\n",
       "    <tr>\n",
       "      <th>B</th>\n",
       "      <td>69</td>\n",
       "    </tr>\n",
       "    <tr>\n",
       "      <th>C</th>\n",
       "      <td>87</td>\n",
       "    </tr>\n",
       "  </tbody>\n",
       "</table>\n",
       "</div>"
      ],
      "text/plain": [
       "   탐구\n",
       "B  69\n",
       "C  87"
      ]
     },
     "execution_count": 74,
     "metadata": {},
     "output_type": "execute_result"
    }
   ],
   "source": [
    "np_df.T.iloc[np.array(np_df.T.탐구 > 65), [-1]]"
   ]
  },
  {
   "cell_type": "markdown",
   "id": "8eea0cb3",
   "metadata": {},
   "source": [
    "#### iloc Slicing"
   ]
  },
  {
   "cell_type": "code",
   "execution_count": 75,
   "id": "c49b26cc",
   "metadata": {},
   "outputs": [
    {
     "data": {
      "text/html": [
       "<div>\n",
       "<style scoped>\n",
       "    .dataframe tbody tr th:only-of-type {\n",
       "        vertical-align: middle;\n",
       "    }\n",
       "\n",
       "    .dataframe tbody tr th {\n",
       "        vertical-align: top;\n",
       "    }\n",
       "\n",
       "    .dataframe thead th {\n",
       "        text-align: right;\n",
       "    }\n",
       "</style>\n",
       "<table border=\"1\" class=\"dataframe\">\n",
       "  <thead>\n",
       "    <tr style=\"text-align: right;\">\n",
       "      <th></th>\n",
       "      <th>A</th>\n",
       "      <th>B</th>\n",
       "      <th>C</th>\n",
       "    </tr>\n",
       "  </thead>\n",
       "  <tbody>\n",
       "    <tr>\n",
       "      <th>국어</th>\n",
       "      <td>90</td>\n",
       "      <td>86</td>\n",
       "      <td>86</td>\n",
       "    </tr>\n",
       "    <tr>\n",
       "      <th>영어</th>\n",
       "      <td>89</td>\n",
       "      <td>78</td>\n",
       "      <td>88</td>\n",
       "    </tr>\n",
       "    <tr>\n",
       "      <th>수학</th>\n",
       "      <td>47</td>\n",
       "      <td>65</td>\n",
       "      <td>83</td>\n",
       "    </tr>\n",
       "  </tbody>\n",
       "</table>\n",
       "</div>"
      ],
      "text/plain": [
       "     A   B   C\n",
       "국어  90  86  86\n",
       "영어  89  78  88\n",
       "수학  47  65  83"
      ]
     },
     "execution_count": 75,
     "metadata": {},
     "output_type": "execute_result"
    }
   ],
   "source": [
    "np_df.iloc[0:3, 0:3]"
   ]
  },
  {
   "cell_type": "code",
   "execution_count": 76,
   "id": "cde9011a",
   "metadata": {},
   "outputs": [
    {
     "data": {
      "text/html": [
       "<div>\n",
       "<style scoped>\n",
       "    .dataframe tbody tr th:only-of-type {\n",
       "        vertical-align: middle;\n",
       "    }\n",
       "\n",
       "    .dataframe tbody tr th {\n",
       "        vertical-align: top;\n",
       "    }\n",
       "\n",
       "    .dataframe thead th {\n",
       "        text-align: right;\n",
       "    }\n",
       "</style>\n",
       "<table border=\"1\" class=\"dataframe\">\n",
       "  <thead>\n",
       "    <tr style=\"text-align: right;\">\n",
       "      <th></th>\n",
       "      <th>A</th>\n",
       "      <th>B</th>\n",
       "      <th>C</th>\n",
       "    </tr>\n",
       "  </thead>\n",
       "  <tbody>\n",
       "    <tr>\n",
       "      <th>수학</th>\n",
       "      <td>47</td>\n",
       "      <td>65</td>\n",
       "      <td>83</td>\n",
       "    </tr>\n",
       "  </tbody>\n",
       "</table>\n",
       "</div>"
      ],
      "text/plain": [
       "     A   B   C\n",
       "수학  47  65  83"
      ]
     },
     "execution_count": 76,
     "metadata": {},
     "output_type": "execute_result"
    }
   ],
   "source": [
    "np_df.iloc[[2], 0:3]"
   ]
  },
  {
   "cell_type": "code",
   "execution_count": 77,
   "id": "742fb532",
   "metadata": {},
   "outputs": [
    {
     "data": {
      "text/html": [
       "<div>\n",
       "<style scoped>\n",
       "    .dataframe tbody tr th:only-of-type {\n",
       "        vertical-align: middle;\n",
       "    }\n",
       "\n",
       "    .dataframe tbody tr th {\n",
       "        vertical-align: top;\n",
       "    }\n",
       "\n",
       "    .dataframe thead th {\n",
       "        text-align: right;\n",
       "    }\n",
       "</style>\n",
       "<table border=\"1\" class=\"dataframe\">\n",
       "  <thead>\n",
       "    <tr style=\"text-align: right;\">\n",
       "      <th></th>\n",
       "      <th>D</th>\n",
       "    </tr>\n",
       "  </thead>\n",
       "  <tbody>\n",
       "    <tr>\n",
       "      <th>영어</th>\n",
       "      <td>95</td>\n",
       "    </tr>\n",
       "    <tr>\n",
       "      <th>수학</th>\n",
       "      <td>74</td>\n",
       "    </tr>\n",
       "    <tr>\n",
       "      <th>탐구</th>\n",
       "      <td>52</td>\n",
       "    </tr>\n",
       "  </tbody>\n",
       "</table>\n",
       "</div>"
      ],
      "text/plain": [
       "     D\n",
       "영어  95\n",
       "수학  74\n",
       "탐구  52"
      ]
     },
     "execution_count": 77,
     "metadata": {},
     "output_type": "execute_result"
    }
   ],
   "source": [
    "np_df.iloc[1:, [-1]]"
   ]
  },
  {
   "cell_type": "markdown",
   "id": "5e7e2f8e",
   "metadata": {},
   "source": [
    "#### Row append"
   ]
  },
  {
   "cell_type": "markdown",
   "id": "e147e240",
   "metadata": {},
   "source": [
    "* loc을 사용하면 간단하게 마지막에 행 추가 가능\n",
    "    * 이미 존재하는 행에 대해서 사용할 경우, 값에 대한 갱신이 이루어짐\n",
    "* iloc과 concat을 사용하면 원하는 위치에 행 추가 가능\n",
    "    * 추가되어 변경된 DataFrame은 기존 DataFrame으로 재할당해야 함"
   ]
  },
  {
   "cell_type": "code",
   "execution_count": 78,
   "id": "92a4e9da",
   "metadata": {},
   "outputs": [
    {
     "data": {
      "text/html": [
       "<div>\n",
       "<style scoped>\n",
       "    .dataframe tbody tr th:only-of-type {\n",
       "        vertical-align: middle;\n",
       "    }\n",
       "\n",
       "    .dataframe tbody tr th {\n",
       "        vertical-align: top;\n",
       "    }\n",
       "\n",
       "    .dataframe thead th {\n",
       "        text-align: right;\n",
       "    }\n",
       "</style>\n",
       "<table border=\"1\" class=\"dataframe\">\n",
       "  <thead>\n",
       "    <tr style=\"text-align: right;\">\n",
       "      <th></th>\n",
       "      <th>A</th>\n",
       "      <th>B</th>\n",
       "      <th>C</th>\n",
       "      <th>D</th>\n",
       "    </tr>\n",
       "  </thead>\n",
       "  <tbody>\n",
       "    <tr>\n",
       "      <th>국어</th>\n",
       "      <td>90</td>\n",
       "      <td>86</td>\n",
       "      <td>86</td>\n",
       "      <td>73</td>\n",
       "    </tr>\n",
       "    <tr>\n",
       "      <th>영어</th>\n",
       "      <td>89</td>\n",
       "      <td>78</td>\n",
       "      <td>88</td>\n",
       "      <td>95</td>\n",
       "    </tr>\n",
       "    <tr>\n",
       "      <th>수학</th>\n",
       "      <td>47</td>\n",
       "      <td>65</td>\n",
       "      <td>83</td>\n",
       "      <td>74</td>\n",
       "    </tr>\n",
       "    <tr>\n",
       "      <th>탐구</th>\n",
       "      <td>63</td>\n",
       "      <td>69</td>\n",
       "      <td>87</td>\n",
       "      <td>52</td>\n",
       "    </tr>\n",
       "    <tr>\n",
       "      <th>정보</th>\n",
       "      <td>75</td>\n",
       "      <td>86</td>\n",
       "      <td>50</td>\n",
       "      <td>83</td>\n",
       "    </tr>\n",
       "  </tbody>\n",
       "</table>\n",
       "</div>"
      ],
      "text/plain": [
       "     A   B   C   D\n",
       "국어  90  86  86  73\n",
       "영어  89  78  88  95\n",
       "수학  47  65  83  74\n",
       "탐구  63  69  87  52\n",
       "정보  75  86  50  83"
      ]
     },
     "execution_count": 78,
     "metadata": {},
     "output_type": "execute_result"
    }
   ],
   "source": [
    "np_df.loc['정보'] = [75, 86, 50, 83]\n",
    "np_df"
   ]
  },
  {
   "cell_type": "code",
   "execution_count": 79,
   "id": "5e88fc2b",
   "metadata": {},
   "outputs": [
    {
     "data": {
      "text/html": [
       "<div>\n",
       "<style scoped>\n",
       "    .dataframe tbody tr th:only-of-type {\n",
       "        vertical-align: middle;\n",
       "    }\n",
       "\n",
       "    .dataframe tbody tr th {\n",
       "        vertical-align: top;\n",
       "    }\n",
       "\n",
       "    .dataframe thead th {\n",
       "        text-align: right;\n",
       "    }\n",
       "</style>\n",
       "<table border=\"1\" class=\"dataframe\">\n",
       "  <thead>\n",
       "    <tr style=\"text-align: right;\">\n",
       "      <th></th>\n",
       "      <th>A</th>\n",
       "      <th>B</th>\n",
       "      <th>C</th>\n",
       "      <th>D</th>\n",
       "    </tr>\n",
       "  </thead>\n",
       "  <tbody>\n",
       "    <tr>\n",
       "      <th>국어</th>\n",
       "      <td>90</td>\n",
       "      <td>86</td>\n",
       "      <td>86</td>\n",
       "      <td>73</td>\n",
       "    </tr>\n",
       "    <tr>\n",
       "      <th>영어</th>\n",
       "      <td>89</td>\n",
       "      <td>78</td>\n",
       "      <td>88</td>\n",
       "      <td>95</td>\n",
       "    </tr>\n",
       "    <tr>\n",
       "      <th>체육</th>\n",
       "      <td>80</td>\n",
       "      <td>67</td>\n",
       "      <td>95</td>\n",
       "      <td>90</td>\n",
       "    </tr>\n",
       "    <tr>\n",
       "      <th>수학</th>\n",
       "      <td>47</td>\n",
       "      <td>65</td>\n",
       "      <td>83</td>\n",
       "      <td>74</td>\n",
       "    </tr>\n",
       "    <tr>\n",
       "      <th>탐구</th>\n",
       "      <td>63</td>\n",
       "      <td>69</td>\n",
       "      <td>87</td>\n",
       "      <td>52</td>\n",
       "    </tr>\n",
       "    <tr>\n",
       "      <th>정보</th>\n",
       "      <td>75</td>\n",
       "      <td>86</td>\n",
       "      <td>50</td>\n",
       "      <td>83</td>\n",
       "    </tr>\n",
       "  </tbody>\n",
       "</table>\n",
       "</div>"
      ],
      "text/plain": [
       "     A   B   C   D\n",
       "국어  90  86  86  73\n",
       "영어  89  78  88  95\n",
       "체육  80  67  95  90\n",
       "수학  47  65  83  74\n",
       "탐구  63  69  87  52\n",
       "정보  75  86  50  83"
      ]
     },
     "execution_count": 79,
     "metadata": {},
     "output_type": "execute_result"
    }
   ],
   "source": [
    "new_row = pd.DataFrame(np.array([[80, 67, 95, 90]]), ['체육'], students)\n",
    "pd.concat([np_df.iloc[:2], new_row, np_df.iloc[2:]])"
   ]
  },
  {
   "cell_type": "code",
   "execution_count": 80,
   "id": "c62bd121",
   "metadata": {},
   "outputs": [
    {
     "data": {
      "text/html": [
       "<div>\n",
       "<style scoped>\n",
       "    .dataframe tbody tr th:only-of-type {\n",
       "        vertical-align: middle;\n",
       "    }\n",
       "\n",
       "    .dataframe tbody tr th {\n",
       "        vertical-align: top;\n",
       "    }\n",
       "\n",
       "    .dataframe thead th {\n",
       "        text-align: right;\n",
       "    }\n",
       "</style>\n",
       "<table border=\"1\" class=\"dataframe\">\n",
       "  <thead>\n",
       "    <tr style=\"text-align: right;\">\n",
       "      <th></th>\n",
       "      <th>A</th>\n",
       "      <th>B</th>\n",
       "      <th>C</th>\n",
       "      <th>D</th>\n",
       "    </tr>\n",
       "  </thead>\n",
       "  <tbody>\n",
       "    <tr>\n",
       "      <th>국어</th>\n",
       "      <td>90</td>\n",
       "      <td>86</td>\n",
       "      <td>86</td>\n",
       "      <td>73</td>\n",
       "    </tr>\n",
       "    <tr>\n",
       "      <th>영어</th>\n",
       "      <td>89</td>\n",
       "      <td>78</td>\n",
       "      <td>88</td>\n",
       "      <td>95</td>\n",
       "    </tr>\n",
       "    <tr>\n",
       "      <th>수학</th>\n",
       "      <td>47</td>\n",
       "      <td>65</td>\n",
       "      <td>83</td>\n",
       "      <td>74</td>\n",
       "    </tr>\n",
       "    <tr>\n",
       "      <th>탐구</th>\n",
       "      <td>63</td>\n",
       "      <td>69</td>\n",
       "      <td>87</td>\n",
       "      <td>52</td>\n",
       "    </tr>\n",
       "    <tr>\n",
       "      <th>정보</th>\n",
       "      <td>75</td>\n",
       "      <td>86</td>\n",
       "      <td>50</td>\n",
       "      <td>83</td>\n",
       "    </tr>\n",
       "  </tbody>\n",
       "</table>\n",
       "</div>"
      ],
      "text/plain": [
       "     A   B   C   D\n",
       "국어  90  86  86  73\n",
       "영어  89  78  88  95\n",
       "수학  47  65  83  74\n",
       "탐구  63  69  87  52\n",
       "정보  75  86  50  83"
      ]
     },
     "execution_count": 80,
     "metadata": {},
     "output_type": "execute_result"
    }
   ],
   "source": [
    "np_df"
   ]
  },
  {
   "cell_type": "markdown",
   "id": "745778aa",
   "metadata": {},
   "source": [
    "#### Q6. iloc을 사용하여 50점 이하의 점수를 가진 행을 출력하는 코드를 아래 셀에 작성하시오."
   ]
  },
  {
   "cell_type": "code",
   "execution_count": 81,
   "id": "158cdb01",
   "metadata": {},
   "outputs": [],
   "source": [
    "### Your Code ###"
   ]
  },
  {
   "cell_type": "code",
   "execution_count": 82,
   "id": "ad0639f6",
   "metadata": {},
   "outputs": [
    {
     "data": {
      "text/html": [
       "<div>\n",
       "<style scoped>\n",
       "    .dataframe tbody tr th:only-of-type {\n",
       "        vertical-align: middle;\n",
       "    }\n",
       "\n",
       "    .dataframe tbody tr th {\n",
       "        vertical-align: top;\n",
       "    }\n",
       "\n",
       "    .dataframe thead th {\n",
       "        text-align: right;\n",
       "    }\n",
       "</style>\n",
       "<table border=\"1\" class=\"dataframe\">\n",
       "  <thead>\n",
       "    <tr style=\"text-align: right;\">\n",
       "      <th></th>\n",
       "      <th>A</th>\n",
       "      <th>B</th>\n",
       "      <th>C</th>\n",
       "      <th>D</th>\n",
       "    </tr>\n",
       "  </thead>\n",
       "  <tbody>\n",
       "    <tr>\n",
       "      <th>수학</th>\n",
       "      <td>47</td>\n",
       "      <td>65</td>\n",
       "      <td>83</td>\n",
       "      <td>74</td>\n",
       "    </tr>\n",
       "    <tr>\n",
       "      <th>정보</th>\n",
       "      <td>75</td>\n",
       "      <td>86</td>\n",
       "      <td>50</td>\n",
       "      <td>83</td>\n",
       "    </tr>\n",
       "  </tbody>\n",
       "</table>\n",
       "</div>"
      ],
      "text/plain": [
       "     A   B   C   D\n",
       "수학  47  65  83  74\n",
       "정보  75  86  50  83"
      ]
     },
     "execution_count": 82,
     "metadata": {},
     "output_type": "execute_result"
    }
   ],
   "source": [
    "np_df.iloc[np.array(np_df <= 50)]"
   ]
  },
  {
   "cell_type": "markdown",
   "id": "d3af84b7",
   "metadata": {},
   "source": [
    "## Missing Value"
   ]
  },
  {
   "cell_type": "markdown",
   "id": "9877787c",
   "metadata": {},
   "source": [
    "* 기본적인 결측치 처리 방법을 알아본다."
   ]
  },
  {
   "cell_type": "code",
   "execution_count": 83,
   "id": "fd5a9562",
   "metadata": {},
   "outputs": [],
   "source": [
    "np_df = pd.DataFrame(np.random.rand(7, 5))\n",
    "idx = np.random.choice(7, 5, replace = False)\n",
    "col = np.random.choice(5, 4, replace = False)\n",
    "\n",
    "for c in np.random.choice(col, 3):\n",
    "    np_df.iloc[np.random.choice(idx, 3), c] = np.nan"
   ]
  },
  {
   "cell_type": "markdown",
   "id": "3fa8e50c",
   "metadata": {},
   "source": [
    "### Missing value check"
   ]
  },
  {
   "cell_type": "markdown",
   "id": "7005b721",
   "metadata": {},
   "source": [
    "* 다음과 같은 방법 등으로 결측치의 상태를 파악할 수 있음\n",
    "    * isna() 함수는 결측치를 True 아닌 데이터를 False로 나타내는 데이터프레임을 반환\n",
    "    * 데이터프레임의 크기가 작을 때는 데이터프레임을 바로 확인하면 되지만 크기가 커질 경우, 확인하기 어려움"
   ]
  },
  {
   "cell_type": "code",
   "execution_count": 84,
   "id": "551f3c1a",
   "metadata": {},
   "outputs": [
    {
     "name": "stdout",
     "output_type": "stream",
     "text": [
      "<class 'pandas.core.frame.DataFrame'>\n",
      "RangeIndex: 7 entries, 0 to 6\n",
      "Data columns (total 5 columns):\n",
      " #   Column  Non-Null Count  Dtype  \n",
      "---  ------  --------------  -----  \n",
      " 0   0       7 non-null      float64\n",
      " 1   1       7 non-null      float64\n",
      " 2   2       5 non-null      float64\n",
      " 3   3       4 non-null      float64\n",
      " 4   4       7 non-null      float64\n",
      "dtypes: float64(5)\n",
      "memory usage: 408.0 bytes\n"
     ]
    }
   ],
   "source": [
    "np_df.info()"
   ]
  },
  {
   "cell_type": "code",
   "execution_count": 85,
   "id": "9b1f8630",
   "metadata": {},
   "outputs": [
    {
     "data": {
      "text/html": [
       "<div>\n",
       "<style scoped>\n",
       "    .dataframe tbody tr th:only-of-type {\n",
       "        vertical-align: middle;\n",
       "    }\n",
       "\n",
       "    .dataframe tbody tr th {\n",
       "        vertical-align: top;\n",
       "    }\n",
       "\n",
       "    .dataframe thead th {\n",
       "        text-align: right;\n",
       "    }\n",
       "</style>\n",
       "<table border=\"1\" class=\"dataframe\">\n",
       "  <thead>\n",
       "    <tr style=\"text-align: right;\">\n",
       "      <th></th>\n",
       "      <th>0</th>\n",
       "      <th>1</th>\n",
       "      <th>2</th>\n",
       "      <th>3</th>\n",
       "      <th>4</th>\n",
       "    </tr>\n",
       "  </thead>\n",
       "  <tbody>\n",
       "    <tr>\n",
       "      <th>0</th>\n",
       "      <td>False</td>\n",
       "      <td>False</td>\n",
       "      <td>False</td>\n",
       "      <td>False</td>\n",
       "      <td>False</td>\n",
       "    </tr>\n",
       "    <tr>\n",
       "      <th>1</th>\n",
       "      <td>False</td>\n",
       "      <td>False</td>\n",
       "      <td>True</td>\n",
       "      <td>True</td>\n",
       "      <td>False</td>\n",
       "    </tr>\n",
       "    <tr>\n",
       "      <th>2</th>\n",
       "      <td>False</td>\n",
       "      <td>False</td>\n",
       "      <td>False</td>\n",
       "      <td>False</td>\n",
       "      <td>False</td>\n",
       "    </tr>\n",
       "    <tr>\n",
       "      <th>3</th>\n",
       "      <td>False</td>\n",
       "      <td>False</td>\n",
       "      <td>False</td>\n",
       "      <td>True</td>\n",
       "      <td>False</td>\n",
       "    </tr>\n",
       "    <tr>\n",
       "      <th>4</th>\n",
       "      <td>False</td>\n",
       "      <td>False</td>\n",
       "      <td>True</td>\n",
       "      <td>True</td>\n",
       "      <td>False</td>\n",
       "    </tr>\n",
       "    <tr>\n",
       "      <th>5</th>\n",
       "      <td>False</td>\n",
       "      <td>False</td>\n",
       "      <td>False</td>\n",
       "      <td>False</td>\n",
       "      <td>False</td>\n",
       "    </tr>\n",
       "    <tr>\n",
       "      <th>6</th>\n",
       "      <td>False</td>\n",
       "      <td>False</td>\n",
       "      <td>False</td>\n",
       "      <td>False</td>\n",
       "      <td>False</td>\n",
       "    </tr>\n",
       "  </tbody>\n",
       "</table>\n",
       "</div>"
      ],
      "text/plain": [
       "       0      1      2      3      4\n",
       "0  False  False  False  False  False\n",
       "1  False  False   True   True  False\n",
       "2  False  False  False  False  False\n",
       "3  False  False  False   True  False\n",
       "4  False  False   True   True  False\n",
       "5  False  False  False  False  False\n",
       "6  False  False  False  False  False"
      ]
     },
     "execution_count": 85,
     "metadata": {},
     "output_type": "execute_result"
    }
   ],
   "source": [
    "np_df.isna()"
   ]
  },
  {
   "cell_type": "code",
   "execution_count": 86,
   "id": "9764ada4",
   "metadata": {},
   "outputs": [
    {
     "data": {
      "text/plain": [
       "0    0\n",
       "1    0\n",
       "2    2\n",
       "3    3\n",
       "4    0\n",
       "dtype: int64"
      ]
     },
     "execution_count": 86,
     "metadata": {},
     "output_type": "execute_result"
    }
   ],
   "source": [
    "np_df.isna().sum()\n",
    "#np_df.isnull().sum()"
   ]
  },
  {
   "cell_type": "code",
   "execution_count": 87,
   "id": "396d6db6",
   "metadata": {},
   "outputs": [
    {
     "data": {
      "text/html": [
       "<div>\n",
       "<style scoped>\n",
       "    .dataframe tbody tr th:only-of-type {\n",
       "        vertical-align: middle;\n",
       "    }\n",
       "\n",
       "    .dataframe tbody tr th {\n",
       "        vertical-align: top;\n",
       "    }\n",
       "\n",
       "    .dataframe thead th {\n",
       "        text-align: right;\n",
       "    }\n",
       "</style>\n",
       "<table border=\"1\" class=\"dataframe\">\n",
       "  <thead>\n",
       "    <tr style=\"text-align: right;\">\n",
       "      <th></th>\n",
       "      <th>0</th>\n",
       "      <th>1</th>\n",
       "      <th>2</th>\n",
       "      <th>3</th>\n",
       "      <th>4</th>\n",
       "    </tr>\n",
       "  </thead>\n",
       "  <tbody>\n",
       "    <tr>\n",
       "      <th>0</th>\n",
       "      <td>0.239868</td>\n",
       "      <td>0.711434</td>\n",
       "      <td>0.278524</td>\n",
       "      <td>0.431152</td>\n",
       "      <td>0.380374</td>\n",
       "    </tr>\n",
       "    <tr>\n",
       "      <th>1</th>\n",
       "      <td>0.902471</td>\n",
       "      <td>0.992868</td>\n",
       "      <td>NaN</td>\n",
       "      <td>NaN</td>\n",
       "      <td>0.228983</td>\n",
       "    </tr>\n",
       "    <tr>\n",
       "      <th>2</th>\n",
       "      <td>0.942548</td>\n",
       "      <td>0.654179</td>\n",
       "      <td>0.507120</td>\n",
       "      <td>0.499166</td>\n",
       "      <td>0.629774</td>\n",
       "    </tr>\n",
       "    <tr>\n",
       "      <th>3</th>\n",
       "      <td>0.932253</td>\n",
       "      <td>0.968465</td>\n",
       "      <td>0.636513</td>\n",
       "      <td>NaN</td>\n",
       "      <td>0.579804</td>\n",
       "    </tr>\n",
       "    <tr>\n",
       "      <th>4</th>\n",
       "      <td>0.296756</td>\n",
       "      <td>0.384328</td>\n",
       "      <td>NaN</td>\n",
       "      <td>NaN</td>\n",
       "      <td>0.756257</td>\n",
       "    </tr>\n",
       "    <tr>\n",
       "      <th>5</th>\n",
       "      <td>0.061391</td>\n",
       "      <td>0.564035</td>\n",
       "      <td>0.792213</td>\n",
       "      <td>0.565069</td>\n",
       "      <td>0.141102</td>\n",
       "    </tr>\n",
       "    <tr>\n",
       "      <th>6</th>\n",
       "      <td>0.319149</td>\n",
       "      <td>0.905808</td>\n",
       "      <td>0.203492</td>\n",
       "      <td>0.980204</td>\n",
       "      <td>0.704833</td>\n",
       "    </tr>\n",
       "  </tbody>\n",
       "</table>\n",
       "</div>"
      ],
      "text/plain": [
       "          0         1         2         3         4\n",
       "0  0.239868  0.711434  0.278524  0.431152  0.380374\n",
       "1  0.902471  0.992868       NaN       NaN  0.228983\n",
       "2  0.942548  0.654179  0.507120  0.499166  0.629774\n",
       "3  0.932253  0.968465  0.636513       NaN  0.579804\n",
       "4  0.296756  0.384328       NaN       NaN  0.756257\n",
       "5  0.061391  0.564035  0.792213  0.565069  0.141102\n",
       "6  0.319149  0.905808  0.203492  0.980204  0.704833"
      ]
     },
     "execution_count": 87,
     "metadata": {},
     "output_type": "execute_result"
    }
   ],
   "source": [
    "np_df"
   ]
  },
  {
   "cell_type": "markdown",
   "id": "a4d13df8",
   "metadata": {},
   "source": [
    "### Missing value delete"
   ]
  },
  {
   "cell_type": "markdown",
   "id": "4690ea6c",
   "metadata": {},
   "source": [
    "* 축을 지정하여 결측치가 존재하는 행 혹은 열 전체를 제거\n",
    "    * 변경된 DataFrame은 기존 DataFrame으로 재할당해야 함\n",
    "* DataFrame.dropna(axis)"
   ]
  },
  {
   "cell_type": "code",
   "execution_count": 127,
   "id": "19b36b24",
   "metadata": {},
   "outputs": [
    {
     "data": {
      "text/html": [
       "<div>\n",
       "<style scoped>\n",
       "    .dataframe tbody tr th:only-of-type {\n",
       "        vertical-align: middle;\n",
       "    }\n",
       "\n",
       "    .dataframe tbody tr th {\n",
       "        vertical-align: top;\n",
       "    }\n",
       "\n",
       "    .dataframe thead th {\n",
       "        text-align: right;\n",
       "    }\n",
       "</style>\n",
       "<table border=\"1\" class=\"dataframe\">\n",
       "  <thead>\n",
       "    <tr style=\"text-align: right;\">\n",
       "      <th></th>\n",
       "      <th>0</th>\n",
       "      <th>1</th>\n",
       "      <th>4</th>\n",
       "    </tr>\n",
       "  </thead>\n",
       "  <tbody>\n",
       "    <tr>\n",
       "      <th>0</th>\n",
       "      <td>0.239868</td>\n",
       "      <td>0.711434</td>\n",
       "      <td>0.380374</td>\n",
       "    </tr>\n",
       "    <tr>\n",
       "      <th>1</th>\n",
       "      <td>0.902471</td>\n",
       "      <td>0.992868</td>\n",
       "      <td>0.228983</td>\n",
       "    </tr>\n",
       "    <tr>\n",
       "      <th>2</th>\n",
       "      <td>0.942548</td>\n",
       "      <td>0.654179</td>\n",
       "      <td>0.629774</td>\n",
       "    </tr>\n",
       "    <tr>\n",
       "      <th>3</th>\n",
       "      <td>0.932253</td>\n",
       "      <td>0.968465</td>\n",
       "      <td>0.579804</td>\n",
       "    </tr>\n",
       "    <tr>\n",
       "      <th>4</th>\n",
       "      <td>0.296756</td>\n",
       "      <td>0.384328</td>\n",
       "      <td>0.756257</td>\n",
       "    </tr>\n",
       "    <tr>\n",
       "      <th>5</th>\n",
       "      <td>0.061391</td>\n",
       "      <td>0.564035</td>\n",
       "      <td>0.141102</td>\n",
       "    </tr>\n",
       "    <tr>\n",
       "      <th>6</th>\n",
       "      <td>0.319149</td>\n",
       "      <td>0.905808</td>\n",
       "      <td>0.704833</td>\n",
       "    </tr>\n",
       "  </tbody>\n",
       "</table>\n",
       "</div>"
      ],
      "text/plain": [
       "          0         1         4\n",
       "0  0.239868  0.711434  0.380374\n",
       "1  0.902471  0.992868  0.228983\n",
       "2  0.942548  0.654179  0.629774\n",
       "3  0.932253  0.968465  0.579804\n",
       "4  0.296756  0.384328  0.756257\n",
       "5  0.061391  0.564035  0.141102\n",
       "6  0.319149  0.905808  0.704833"
      ]
     },
     "metadata": {},
     "output_type": "display_data"
    },
    {
     "data": {
      "text/plain": [
       "None"
      ]
     },
     "metadata": {},
     "output_type": "display_data"
    }
   ],
   "source": [
    "del_test = np_df\n",
    "display(del_test.dropna(axis=0), del_test.dropna(axis=1 , inplace=True))"
   ]
  },
  {
   "cell_type": "code",
   "execution_count": 89,
   "id": "2fdde3b8",
   "metadata": {},
   "outputs": [
    {
     "data": {
      "text/html": [
       "<div>\n",
       "<style scoped>\n",
       "    .dataframe tbody tr th:only-of-type {\n",
       "        vertical-align: middle;\n",
       "    }\n",
       "\n",
       "    .dataframe tbody tr th {\n",
       "        vertical-align: top;\n",
       "    }\n",
       "\n",
       "    .dataframe thead th {\n",
       "        text-align: right;\n",
       "    }\n",
       "</style>\n",
       "<table border=\"1\" class=\"dataframe\">\n",
       "  <thead>\n",
       "    <tr style=\"text-align: right;\">\n",
       "      <th></th>\n",
       "      <th>0</th>\n",
       "      <th>1</th>\n",
       "      <th>2</th>\n",
       "      <th>3</th>\n",
       "      <th>4</th>\n",
       "    </tr>\n",
       "  </thead>\n",
       "  <tbody>\n",
       "    <tr>\n",
       "      <th>0</th>\n",
       "      <td>0.239868</td>\n",
       "      <td>0.711434</td>\n",
       "      <td>0.278524</td>\n",
       "      <td>0.431152</td>\n",
       "      <td>0.380374</td>\n",
       "    </tr>\n",
       "    <tr>\n",
       "      <th>1</th>\n",
       "      <td>0.902471</td>\n",
       "      <td>0.992868</td>\n",
       "      <td>NaN</td>\n",
       "      <td>NaN</td>\n",
       "      <td>0.228983</td>\n",
       "    </tr>\n",
       "    <tr>\n",
       "      <th>2</th>\n",
       "      <td>0.942548</td>\n",
       "      <td>0.654179</td>\n",
       "      <td>0.507120</td>\n",
       "      <td>0.499166</td>\n",
       "      <td>0.629774</td>\n",
       "    </tr>\n",
       "    <tr>\n",
       "      <th>3</th>\n",
       "      <td>0.932253</td>\n",
       "      <td>0.968465</td>\n",
       "      <td>0.636513</td>\n",
       "      <td>NaN</td>\n",
       "      <td>0.579804</td>\n",
       "    </tr>\n",
       "    <tr>\n",
       "      <th>4</th>\n",
       "      <td>0.296756</td>\n",
       "      <td>0.384328</td>\n",
       "      <td>NaN</td>\n",
       "      <td>NaN</td>\n",
       "      <td>0.756257</td>\n",
       "    </tr>\n",
       "    <tr>\n",
       "      <th>5</th>\n",
       "      <td>0.061391</td>\n",
       "      <td>0.564035</td>\n",
       "      <td>0.792213</td>\n",
       "      <td>0.565069</td>\n",
       "      <td>0.141102</td>\n",
       "    </tr>\n",
       "    <tr>\n",
       "      <th>6</th>\n",
       "      <td>0.319149</td>\n",
       "      <td>0.905808</td>\n",
       "      <td>0.203492</td>\n",
       "      <td>0.980204</td>\n",
       "      <td>0.704833</td>\n",
       "    </tr>\n",
       "  </tbody>\n",
       "</table>\n",
       "</div>"
      ],
      "text/plain": [
       "          0         1         2         3         4\n",
       "0  0.239868  0.711434  0.278524  0.431152  0.380374\n",
       "1  0.902471  0.992868       NaN       NaN  0.228983\n",
       "2  0.942548  0.654179  0.507120  0.499166  0.629774\n",
       "3  0.932253  0.968465  0.636513       NaN  0.579804\n",
       "4  0.296756  0.384328       NaN       NaN  0.756257\n",
       "5  0.061391  0.564035  0.792213  0.565069  0.141102\n",
       "6  0.319149  0.905808  0.203492  0.980204  0.704833"
      ]
     },
     "execution_count": 89,
     "metadata": {},
     "output_type": "execute_result"
    }
   ],
   "source": [
    "del_test"
   ]
  },
  {
   "cell_type": "markdown",
   "id": "54917805",
   "metadata": {},
   "source": [
    "### Missing value replacement"
   ]
  },
  {
   "cell_type": "markdown",
   "id": "4079884c",
   "metadata": {},
   "source": [
    "* 결측치 제거 대신 다른 값으로 대체\n",
    "    * Numpy와 마찬가지로 각 행 혹은 열의 평균 등으로 대체할 수 있음\n",
    "        * Numpy와는 다르게 결측치를 무시 -> nanmean과 동일\n",
    "    * 변경된 DataFrame은 기존 DataFrame으로 재할당해야 함\n",
    "* DataFrame.fillna()\n",
    "    * 축에 따름\n",
    "    * method: 인접한 값으로 변경\n",
    "        * method = 'option'\n",
    "        * bfill: 결측값 아래\n",
    "        * ffill: 결측값 위\n",
    "    * limit: 결측값 변경 횟수\n",
    "        * limit = 횟수"
   ]
  },
  {
   "cell_type": "code",
   "execution_count": 90,
   "id": "ac13c16b",
   "metadata": {},
   "outputs": [
    {
     "data": {
      "text/html": [
       "<div>\n",
       "<style scoped>\n",
       "    .dataframe tbody tr th:only-of-type {\n",
       "        vertical-align: middle;\n",
       "    }\n",
       "\n",
       "    .dataframe tbody tr th {\n",
       "        vertical-align: top;\n",
       "    }\n",
       "\n",
       "    .dataframe thead th {\n",
       "        text-align: right;\n",
       "    }\n",
       "</style>\n",
       "<table border=\"1\" class=\"dataframe\">\n",
       "  <thead>\n",
       "    <tr style=\"text-align: right;\">\n",
       "      <th></th>\n",
       "      <th>0</th>\n",
       "      <th>1</th>\n",
       "      <th>2</th>\n",
       "      <th>3</th>\n",
       "      <th>4</th>\n",
       "    </tr>\n",
       "  </thead>\n",
       "  <tbody>\n",
       "    <tr>\n",
       "      <th>0</th>\n",
       "      <td>0.239868</td>\n",
       "      <td>0.711434</td>\n",
       "      <td>0.278524</td>\n",
       "      <td>0.431152</td>\n",
       "      <td>0.380374</td>\n",
       "    </tr>\n",
       "    <tr>\n",
       "      <th>1</th>\n",
       "      <td>0.902471</td>\n",
       "      <td>0.992868</td>\n",
       "      <td>0.483572</td>\n",
       "      <td>0.618898</td>\n",
       "      <td>0.228983</td>\n",
       "    </tr>\n",
       "    <tr>\n",
       "      <th>2</th>\n",
       "      <td>0.942548</td>\n",
       "      <td>0.654179</td>\n",
       "      <td>0.507120</td>\n",
       "      <td>0.499166</td>\n",
       "      <td>0.629774</td>\n",
       "    </tr>\n",
       "    <tr>\n",
       "      <th>3</th>\n",
       "      <td>0.932253</td>\n",
       "      <td>0.968465</td>\n",
       "      <td>0.636513</td>\n",
       "      <td>0.618898</td>\n",
       "      <td>0.579804</td>\n",
       "    </tr>\n",
       "    <tr>\n",
       "      <th>4</th>\n",
       "      <td>0.296756</td>\n",
       "      <td>0.384328</td>\n",
       "      <td>0.483572</td>\n",
       "      <td>0.618898</td>\n",
       "      <td>0.756257</td>\n",
       "    </tr>\n",
       "    <tr>\n",
       "      <th>5</th>\n",
       "      <td>0.061391</td>\n",
       "      <td>0.564035</td>\n",
       "      <td>0.792213</td>\n",
       "      <td>0.565069</td>\n",
       "      <td>0.141102</td>\n",
       "    </tr>\n",
       "    <tr>\n",
       "      <th>6</th>\n",
       "      <td>0.319149</td>\n",
       "      <td>0.905808</td>\n",
       "      <td>0.203492</td>\n",
       "      <td>0.980204</td>\n",
       "      <td>0.704833</td>\n",
       "    </tr>\n",
       "  </tbody>\n",
       "</table>\n",
       "</div>"
      ],
      "text/plain": [
       "          0         1         2         3         4\n",
       "0  0.239868  0.711434  0.278524  0.431152  0.380374\n",
       "1  0.902471  0.992868  0.483572  0.618898  0.228983\n",
       "2  0.942548  0.654179  0.507120  0.499166  0.629774\n",
       "3  0.932253  0.968465  0.636513  0.618898  0.579804\n",
       "4  0.296756  0.384328  0.483572  0.618898  0.756257\n",
       "5  0.061391  0.564035  0.792213  0.565069  0.141102\n",
       "6  0.319149  0.905808  0.203492  0.980204  0.704833"
      ]
     },
     "execution_count": 90,
     "metadata": {},
     "output_type": "execute_result"
    }
   ],
   "source": [
    "np_df.fillna(np_df.mean(axis=0))"
   ]
  },
  {
   "cell_type": "markdown",
   "id": "48d73947",
   "metadata": {},
   "source": [
    "#### Q7. 주어진 임의의 데이터를 아래의 과정에 따라 처리하는 코드를 아래 셀에 작성하시오."
   ]
  },
  {
   "cell_type": "markdown",
   "id": "23388ba0",
   "metadata": {},
   "source": [
    "1. 결측치를 열의 평균으로 한 번 변경\n",
    "2. 남은 결측치를 결측치들의 아래의 값으로 변경\n",
    "3. 남은 결측치에 대해서 제거\n",
    "4. 전체 결과 출력 후, 초기 데이터와 비교\n",
    "    * 결측치가 남아있다면 그 이유에 대해 서술"
   ]
  },
  {
   "cell_type": "code",
   "execution_count": 91,
   "id": "9d449c5c",
   "metadata": {},
   "outputs": [],
   "source": [
    "Q7 = pd.DataFrame(np.random.rand(15, 6))\n",
    "idx = np.random.choice(15, 10, replace = False)\n",
    "col = np.arange(6)\n",
    "\n",
    "for c in np.random.choice(col, 15):\n",
    "    Q7.iloc[np.random.choice(idx, 4), c] = np.nan"
   ]
  },
  {
   "cell_type": "code",
   "execution_count": 92,
   "id": "1ce7a3c2",
   "metadata": {},
   "outputs": [],
   "source": [
    "### Your Code ###"
   ]
  },
  {
   "cell_type": "code",
   "execution_count": 93,
   "id": "ec0bb878",
   "metadata": {},
   "outputs": [
    {
     "data": {
      "text/html": [
       "<div>\n",
       "<style scoped>\n",
       "    .dataframe tbody tr th:only-of-type {\n",
       "        vertical-align: middle;\n",
       "    }\n",
       "\n",
       "    .dataframe tbody tr th {\n",
       "        vertical-align: top;\n",
       "    }\n",
       "\n",
       "    .dataframe thead th {\n",
       "        text-align: right;\n",
       "    }\n",
       "</style>\n",
       "<table border=\"1\" class=\"dataframe\">\n",
       "  <thead>\n",
       "    <tr style=\"text-align: right;\">\n",
       "      <th></th>\n",
       "      <th>0</th>\n",
       "      <th>1</th>\n",
       "      <th>2</th>\n",
       "      <th>3</th>\n",
       "      <th>4</th>\n",
       "      <th>5</th>\n",
       "    </tr>\n",
       "  </thead>\n",
       "  <tbody>\n",
       "    <tr>\n",
       "      <th>0</th>\n",
       "      <td>0.433975</td>\n",
       "      <td>0.363542</td>\n",
       "      <td>0.803217</td>\n",
       "      <td>0.515778</td>\n",
       "      <td>0.643657</td>\n",
       "      <td>0.415962</td>\n",
       "    </tr>\n",
       "    <tr>\n",
       "      <th>1</th>\n",
       "      <td>0.507637</td>\n",
       "      <td>0.273288</td>\n",
       "      <td>0.708720</td>\n",
       "      <td>0.023732</td>\n",
       "      <td>0.975893</td>\n",
       "      <td>0.324958</td>\n",
       "    </tr>\n",
       "    <tr>\n",
       "      <th>2</th>\n",
       "      <td>0.805100</td>\n",
       "      <td>0.273288</td>\n",
       "      <td>0.677307</td>\n",
       "      <td>0.023732</td>\n",
       "      <td>0.647287</td>\n",
       "      <td>0.514330</td>\n",
       "    </tr>\n",
       "    <tr>\n",
       "      <th>3</th>\n",
       "      <td>0.743721</td>\n",
       "      <td>0.273288</td>\n",
       "      <td>0.464942</td>\n",
       "      <td>0.023732</td>\n",
       "      <td>0.647287</td>\n",
       "      <td>0.922897</td>\n",
       "    </tr>\n",
       "    <tr>\n",
       "      <th>4</th>\n",
       "      <td>0.743721</td>\n",
       "      <td>0.273288</td>\n",
       "      <td>0.020830</td>\n",
       "      <td>0.023732</td>\n",
       "      <td>0.647287</td>\n",
       "      <td>0.776416</td>\n",
       "    </tr>\n",
       "    <tr>\n",
       "      <th>5</th>\n",
       "      <td>0.743721</td>\n",
       "      <td>0.273288</td>\n",
       "      <td>0.600617</td>\n",
       "      <td>0.023732</td>\n",
       "      <td>0.780674</td>\n",
       "      <td>0.776416</td>\n",
       "    </tr>\n",
       "    <tr>\n",
       "      <th>6</th>\n",
       "      <td>0.394358</td>\n",
       "      <td>0.273288</td>\n",
       "      <td>0.118138</td>\n",
       "      <td>0.802348</td>\n",
       "      <td>0.780674</td>\n",
       "      <td>0.776416</td>\n",
       "    </tr>\n",
       "    <tr>\n",
       "      <th>7</th>\n",
       "      <td>0.394358</td>\n",
       "      <td>0.273288</td>\n",
       "      <td>0.473609</td>\n",
       "      <td>0.973295</td>\n",
       "      <td>0.780674</td>\n",
       "      <td>0.776416</td>\n",
       "    </tr>\n",
       "    <tr>\n",
       "      <th>8</th>\n",
       "      <td>0.218106</td>\n",
       "      <td>0.807783</td>\n",
       "      <td>0.254803</td>\n",
       "      <td>0.400269</td>\n",
       "      <td>0.686839</td>\n",
       "      <td>0.254125</td>\n",
       "    </tr>\n",
       "    <tr>\n",
       "      <th>9</th>\n",
       "      <td>0.858997</td>\n",
       "      <td>0.093447</td>\n",
       "      <td>0.193246</td>\n",
       "      <td>0.539530</td>\n",
       "      <td>0.489707</td>\n",
       "      <td>0.101348</td>\n",
       "    </tr>\n",
       "    <tr>\n",
       "      <th>10</th>\n",
       "      <td>0.102252</td>\n",
       "      <td>0.506549</td>\n",
       "      <td>0.368008</td>\n",
       "      <td>0.385778</td>\n",
       "      <td>0.039128</td>\n",
       "      <td>0.677525</td>\n",
       "    </tr>\n",
       "    <tr>\n",
       "      <th>11</th>\n",
       "      <td>0.102252</td>\n",
       "      <td>0.506549</td>\n",
       "      <td>0.562515</td>\n",
       "      <td>0.560797</td>\n",
       "      <td>0.039128</td>\n",
       "      <td>0.198426</td>\n",
       "    </tr>\n",
       "    <tr>\n",
       "      <th>12</th>\n",
       "      <td>0.391433</td>\n",
       "      <td>0.136646</td>\n",
       "      <td>0.937585</td>\n",
       "      <td>0.675404</td>\n",
       "      <td>0.716396</td>\n",
       "      <td>0.957316</td>\n",
       "    </tr>\n",
       "    <tr>\n",
       "      <th>13</th>\n",
       "      <td>0.710810</td>\n",
       "      <td>0.136646</td>\n",
       "      <td>0.335135</td>\n",
       "      <td>0.280851</td>\n",
       "      <td>0.813329</td>\n",
       "      <td>0.957316</td>\n",
       "    </tr>\n",
       "    <tr>\n",
       "      <th>14</th>\n",
       "      <td>0.417622</td>\n",
       "      <td>0.136646</td>\n",
       "      <td>0.585298</td>\n",
       "      <td>0.280851</td>\n",
       "      <td>0.813329</td>\n",
       "      <td>0.957316</td>\n",
       "    </tr>\n",
       "  </tbody>\n",
       "</table>\n",
       "</div>"
      ],
      "text/plain": [
       "           0         1         2         3         4         5\n",
       "0   0.433975  0.363542  0.803217  0.515778  0.643657  0.415962\n",
       "1   0.507637  0.273288  0.708720  0.023732  0.975893  0.324958\n",
       "2   0.805100  0.273288  0.677307  0.023732  0.647287  0.514330\n",
       "3   0.743721  0.273288  0.464942  0.023732  0.647287  0.922897\n",
       "4   0.743721  0.273288  0.020830  0.023732  0.647287  0.776416\n",
       "5   0.743721  0.273288  0.600617  0.023732  0.780674  0.776416\n",
       "6   0.394358  0.273288  0.118138  0.802348  0.780674  0.776416\n",
       "7   0.394358  0.273288  0.473609  0.973295  0.780674  0.776416\n",
       "8   0.218106  0.807783  0.254803  0.400269  0.686839  0.254125\n",
       "9   0.858997  0.093447  0.193246  0.539530  0.489707  0.101348\n",
       "10  0.102252  0.506549  0.368008  0.385778  0.039128  0.677525\n",
       "11  0.102252  0.506549  0.562515  0.560797  0.039128  0.198426\n",
       "12  0.391433  0.136646  0.937585  0.675404  0.716396  0.957316\n",
       "13  0.710810  0.136646  0.335135  0.280851  0.813329  0.957316\n",
       "14  0.417622  0.136646  0.585298  0.280851  0.813329  0.957316"
      ]
     },
     "execution_count": 93,
     "metadata": {},
     "output_type": "execute_result"
    }
   ],
   "source": [
    "Q7_ans = Q7.fillna(Q7.mean(axis=0), limit = 1)\n",
    "Q7_ans = Q7_ans.fillna(method = 'bfill')\n",
    "Q7_ans"
   ]
  },
  {
   "cell_type": "code",
   "execution_count": 94,
   "id": "68c40c93",
   "metadata": {},
   "outputs": [
    {
     "data": {
      "text/html": [
       "<div>\n",
       "<style scoped>\n",
       "    .dataframe tbody tr th:only-of-type {\n",
       "        vertical-align: middle;\n",
       "    }\n",
       "\n",
       "    .dataframe tbody tr th {\n",
       "        vertical-align: top;\n",
       "    }\n",
       "\n",
       "    .dataframe thead th {\n",
       "        text-align: right;\n",
       "    }\n",
       "</style>\n",
       "<table border=\"1\" class=\"dataframe\">\n",
       "  <thead>\n",
       "    <tr style=\"text-align: right;\">\n",
       "      <th></th>\n",
       "      <th>0</th>\n",
       "      <th>1</th>\n",
       "      <th>2</th>\n",
       "      <th>3</th>\n",
       "      <th>4</th>\n",
       "      <th>5</th>\n",
       "    </tr>\n",
       "  </thead>\n",
       "  <tbody>\n",
       "    <tr>\n",
       "      <th>0</th>\n",
       "      <td>0.433975</td>\n",
       "      <td>NaN</td>\n",
       "      <td>0.803217</td>\n",
       "      <td>NaN</td>\n",
       "      <td>NaN</td>\n",
       "      <td>0.415962</td>\n",
       "    </tr>\n",
       "    <tr>\n",
       "      <th>1</th>\n",
       "      <td>NaN</td>\n",
       "      <td>NaN</td>\n",
       "      <td>0.708720</td>\n",
       "      <td>NaN</td>\n",
       "      <td>0.975893</td>\n",
       "      <td>0.324958</td>\n",
       "    </tr>\n",
       "    <tr>\n",
       "      <th>2</th>\n",
       "      <td>0.805100</td>\n",
       "      <td>NaN</td>\n",
       "      <td>0.677307</td>\n",
       "      <td>NaN</td>\n",
       "      <td>NaN</td>\n",
       "      <td>NaN</td>\n",
       "    </tr>\n",
       "    <tr>\n",
       "      <th>3</th>\n",
       "      <td>NaN</td>\n",
       "      <td>NaN</td>\n",
       "      <td>0.464942</td>\n",
       "      <td>NaN</td>\n",
       "      <td>NaN</td>\n",
       "      <td>0.922897</td>\n",
       "    </tr>\n",
       "    <tr>\n",
       "      <th>4</th>\n",
       "      <td>NaN</td>\n",
       "      <td>NaN</td>\n",
       "      <td>0.020830</td>\n",
       "      <td>NaN</td>\n",
       "      <td>0.647287</td>\n",
       "      <td>NaN</td>\n",
       "    </tr>\n",
       "    <tr>\n",
       "      <th>5</th>\n",
       "      <td>0.743721</td>\n",
       "      <td>NaN</td>\n",
       "      <td>0.600617</td>\n",
       "      <td>0.023732</td>\n",
       "      <td>NaN</td>\n",
       "      <td>NaN</td>\n",
       "    </tr>\n",
       "    <tr>\n",
       "      <th>6</th>\n",
       "      <td>NaN</td>\n",
       "      <td>NaN</td>\n",
       "      <td>0.118138</td>\n",
       "      <td>0.802348</td>\n",
       "      <td>NaN</td>\n",
       "      <td>NaN</td>\n",
       "    </tr>\n",
       "    <tr>\n",
       "      <th>7</th>\n",
       "      <td>0.394358</td>\n",
       "      <td>0.273288</td>\n",
       "      <td>0.473609</td>\n",
       "      <td>0.973295</td>\n",
       "      <td>0.780674</td>\n",
       "      <td>0.776416</td>\n",
       "    </tr>\n",
       "    <tr>\n",
       "      <th>8</th>\n",
       "      <td>0.218106</td>\n",
       "      <td>0.807783</td>\n",
       "      <td>0.254803</td>\n",
       "      <td>0.400269</td>\n",
       "      <td>0.686839</td>\n",
       "      <td>0.254125</td>\n",
       "    </tr>\n",
       "    <tr>\n",
       "      <th>9</th>\n",
       "      <td>0.858997</td>\n",
       "      <td>0.093447</td>\n",
       "      <td>0.193246</td>\n",
       "      <td>0.539530</td>\n",
       "      <td>0.489707</td>\n",
       "      <td>0.101348</td>\n",
       "    </tr>\n",
       "    <tr>\n",
       "      <th>10</th>\n",
       "      <td>NaN</td>\n",
       "      <td>NaN</td>\n",
       "      <td>0.368008</td>\n",
       "      <td>0.385778</td>\n",
       "      <td>NaN</td>\n",
       "      <td>0.677525</td>\n",
       "    </tr>\n",
       "    <tr>\n",
       "      <th>11</th>\n",
       "      <td>0.102252</td>\n",
       "      <td>0.506549</td>\n",
       "      <td>0.562515</td>\n",
       "      <td>0.560797</td>\n",
       "      <td>0.039128</td>\n",
       "      <td>0.198426</td>\n",
       "    </tr>\n",
       "    <tr>\n",
       "      <th>12</th>\n",
       "      <td>0.391433</td>\n",
       "      <td>NaN</td>\n",
       "      <td>0.937585</td>\n",
       "      <td>0.675404</td>\n",
       "      <td>0.716396</td>\n",
       "      <td>NaN</td>\n",
       "    </tr>\n",
       "    <tr>\n",
       "      <th>13</th>\n",
       "      <td>0.710810</td>\n",
       "      <td>NaN</td>\n",
       "      <td>0.335135</td>\n",
       "      <td>NaN</td>\n",
       "      <td>NaN</td>\n",
       "      <td>NaN</td>\n",
       "    </tr>\n",
       "    <tr>\n",
       "      <th>14</th>\n",
       "      <td>0.417622</td>\n",
       "      <td>0.136646</td>\n",
       "      <td>0.585298</td>\n",
       "      <td>0.280851</td>\n",
       "      <td>0.813329</td>\n",
       "      <td>0.957316</td>\n",
       "    </tr>\n",
       "  </tbody>\n",
       "</table>\n",
       "</div>"
      ],
      "text/plain": [
       "           0         1         2         3         4         5\n",
       "0   0.433975       NaN  0.803217       NaN       NaN  0.415962\n",
       "1        NaN       NaN  0.708720       NaN  0.975893  0.324958\n",
       "2   0.805100       NaN  0.677307       NaN       NaN       NaN\n",
       "3        NaN       NaN  0.464942       NaN       NaN  0.922897\n",
       "4        NaN       NaN  0.020830       NaN  0.647287       NaN\n",
       "5   0.743721       NaN  0.600617  0.023732       NaN       NaN\n",
       "6        NaN       NaN  0.118138  0.802348       NaN       NaN\n",
       "7   0.394358  0.273288  0.473609  0.973295  0.780674  0.776416\n",
       "8   0.218106  0.807783  0.254803  0.400269  0.686839  0.254125\n",
       "9   0.858997  0.093447  0.193246  0.539530  0.489707  0.101348\n",
       "10       NaN       NaN  0.368008  0.385778       NaN  0.677525\n",
       "11  0.102252  0.506549  0.562515  0.560797  0.039128  0.198426\n",
       "12  0.391433       NaN  0.937585  0.675404  0.716396       NaN\n",
       "13  0.710810       NaN  0.335135       NaN       NaN       NaN\n",
       "14  0.417622  0.136646  0.585298  0.280851  0.813329  0.957316"
      ]
     },
     "execution_count": 94,
     "metadata": {},
     "output_type": "execute_result"
    }
   ],
   "source": [
    "Q7"
   ]
  },
  {
   "cell_type": "markdown",
   "id": "5f6067f0",
   "metadata": {},
   "source": [
    "* 하단에 채울 값이 없기에 처리 불가"
   ]
  },
  {
   "cell_type": "markdown",
   "id": "e5db6954",
   "metadata": {},
   "source": [
    "## File I/O"
   ]
  },
  {
   "cell_type": "markdown",
   "id": "53a1c381",
   "metadata": {},
   "source": [
    "* 기본적인 파일 입출력 방법을 알아본다."
   ]
  },
  {
   "cell_type": "markdown",
   "id": "404fc975",
   "metadata": {},
   "source": [
    " ### CSV"
   ]
  },
  {
   "cell_type": "markdown",
   "id": "fa4d40ac",
   "metadata": {},
   "source": [
    "* pd.read_csv('파일 경로/파일.csv')\n",
    "    * 읽어올 파일은 주피터 노트북 파일과 동일한 폴더에 존재하지 않을 경우 경로를 함께 지정해야 함\n",
    "* 읽어들인 파일은 별도의 변수에 저장해야 함"
   ]
  },
  {
   "cell_type": "markdown",
   "id": "1767d065",
   "metadata": {},
   "source": [
    "* 연습용 파일 다운받기\n",
    "    1. https://drive.google.com/file/d/1Je5g4vCWihSN6Qw8irjlv8UhUGr-uiSf/view?usp=sharing\n",
    "    2. 상단 우측에 프린터기 아이콘 옆 버튼을 통해 다운로드 가능\n",
    "    3. 편의를 위해 한 폴더에 넣어주기"
   ]
  },
  {
   "cell_type": "markdown",
   "id": "2f67910f",
   "metadata": {},
   "source": [
    "#### CSV Read"
   ]
  },
  {
   "cell_type": "markdown",
   "id": "b7fc32fb",
   "metadata": {},
   "source": [
    "* CSV 파일을 읽어오면 기본적으로 아래와 같이 표시됨"
   ]
  },
  {
   "cell_type": "code",
   "execution_count": 95,
   "id": "36a7eea3",
   "metadata": {},
   "outputs": [],
   "source": [
    "csv_df = pd.read_csv('test.csv')"
   ]
  },
  {
   "cell_type": "code",
   "execution_count": 130,
   "id": "c4d71804",
   "metadata": {},
   "outputs": [
    {
     "data": {
      "text/html": [
       "<div>\n",
       "<style scoped>\n",
       "    .dataframe tbody tr th:only-of-type {\n",
       "        vertical-align: middle;\n",
       "    }\n",
       "\n",
       "    .dataframe tbody tr th {\n",
       "        vertical-align: top;\n",
       "    }\n",
       "\n",
       "    .dataframe thead th {\n",
       "        text-align: right;\n",
       "    }\n",
       "</style>\n",
       "<table border=\"1\" class=\"dataframe\">\n",
       "  <thead>\n",
       "    <tr style=\"text-align: right;\">\n",
       "      <th></th>\n",
       "      <th>PassengerId</th>\n",
       "      <th>Survived</th>\n",
       "      <th>Pclass</th>\n",
       "      <th>Name</th>\n",
       "      <th>Sex</th>\n",
       "      <th>Age</th>\n",
       "      <th>SibSp</th>\n",
       "      <th>Parch</th>\n",
       "      <th>Ticket</th>\n",
       "      <th>Fare</th>\n",
       "      <th>Cabin</th>\n",
       "      <th>Embarked</th>\n",
       "    </tr>\n",
       "  </thead>\n",
       "  <tbody>\n",
       "    <tr>\n",
       "      <th>0</th>\n",
       "      <td>1</td>\n",
       "      <td>0</td>\n",
       "      <td>3</td>\n",
       "      <td>Braund, Mr. Owen Harris</td>\n",
       "      <td>male</td>\n",
       "      <td>22.0</td>\n",
       "      <td>1</td>\n",
       "      <td>0</td>\n",
       "      <td>A/5 21171</td>\n",
       "      <td>7.2500</td>\n",
       "      <td>NaN</td>\n",
       "      <td>S</td>\n",
       "    </tr>\n",
       "    <tr>\n",
       "      <th>1</th>\n",
       "      <td>2</td>\n",
       "      <td>1</td>\n",
       "      <td>1</td>\n",
       "      <td>Cumings, Mrs. John Bradley (Florence Briggs Th...</td>\n",
       "      <td>female</td>\n",
       "      <td>38.0</td>\n",
       "      <td>1</td>\n",
       "      <td>0</td>\n",
       "      <td>PC 17599</td>\n",
       "      <td>71.2833</td>\n",
       "      <td>C85</td>\n",
       "      <td>C</td>\n",
       "    </tr>\n",
       "    <tr>\n",
       "      <th>2</th>\n",
       "      <td>3</td>\n",
       "      <td>1</td>\n",
       "      <td>3</td>\n",
       "      <td>Heikkinen, Miss. Laina</td>\n",
       "      <td>female</td>\n",
       "      <td>26.0</td>\n",
       "      <td>0</td>\n",
       "      <td>0</td>\n",
       "      <td>STON/O2. 3101282</td>\n",
       "      <td>7.9250</td>\n",
       "      <td>NaN</td>\n",
       "      <td>S</td>\n",
       "    </tr>\n",
       "    <tr>\n",
       "      <th>3</th>\n",
       "      <td>4</td>\n",
       "      <td>1</td>\n",
       "      <td>1</td>\n",
       "      <td>Futrelle, Mrs. Jacques Heath (Lily May Peel)</td>\n",
       "      <td>female</td>\n",
       "      <td>35.0</td>\n",
       "      <td>1</td>\n",
       "      <td>0</td>\n",
       "      <td>113803</td>\n",
       "      <td>53.1000</td>\n",
       "      <td>C123</td>\n",
       "      <td>S</td>\n",
       "    </tr>\n",
       "    <tr>\n",
       "      <th>4</th>\n",
       "      <td>5</td>\n",
       "      <td>0</td>\n",
       "      <td>3</td>\n",
       "      <td>Allen, Mr. William Henry</td>\n",
       "      <td>male</td>\n",
       "      <td>35.0</td>\n",
       "      <td>0</td>\n",
       "      <td>0</td>\n",
       "      <td>373450</td>\n",
       "      <td>8.0500</td>\n",
       "      <td>NaN</td>\n",
       "      <td>S</td>\n",
       "    </tr>\n",
       "    <tr>\n",
       "      <th>...</th>\n",
       "      <td>...</td>\n",
       "      <td>...</td>\n",
       "      <td>...</td>\n",
       "      <td>...</td>\n",
       "      <td>...</td>\n",
       "      <td>...</td>\n",
       "      <td>...</td>\n",
       "      <td>...</td>\n",
       "      <td>...</td>\n",
       "      <td>...</td>\n",
       "      <td>...</td>\n",
       "      <td>...</td>\n",
       "    </tr>\n",
       "    <tr>\n",
       "      <th>886</th>\n",
       "      <td>887</td>\n",
       "      <td>0</td>\n",
       "      <td>2</td>\n",
       "      <td>Montvila, Rev. Juozas</td>\n",
       "      <td>male</td>\n",
       "      <td>27.0</td>\n",
       "      <td>0</td>\n",
       "      <td>0</td>\n",
       "      <td>211536</td>\n",
       "      <td>13.0000</td>\n",
       "      <td>NaN</td>\n",
       "      <td>S</td>\n",
       "    </tr>\n",
       "    <tr>\n",
       "      <th>887</th>\n",
       "      <td>888</td>\n",
       "      <td>1</td>\n",
       "      <td>1</td>\n",
       "      <td>Graham, Miss. Margaret Edith</td>\n",
       "      <td>female</td>\n",
       "      <td>19.0</td>\n",
       "      <td>0</td>\n",
       "      <td>0</td>\n",
       "      <td>112053</td>\n",
       "      <td>30.0000</td>\n",
       "      <td>B42</td>\n",
       "      <td>S</td>\n",
       "    </tr>\n",
       "    <tr>\n",
       "      <th>888</th>\n",
       "      <td>889</td>\n",
       "      <td>0</td>\n",
       "      <td>3</td>\n",
       "      <td>Johnston, Miss. Catherine Helen \"Carrie\"</td>\n",
       "      <td>female</td>\n",
       "      <td>NaN</td>\n",
       "      <td>1</td>\n",
       "      <td>2</td>\n",
       "      <td>W./C. 6607</td>\n",
       "      <td>23.4500</td>\n",
       "      <td>NaN</td>\n",
       "      <td>S</td>\n",
       "    </tr>\n",
       "    <tr>\n",
       "      <th>889</th>\n",
       "      <td>890</td>\n",
       "      <td>1</td>\n",
       "      <td>1</td>\n",
       "      <td>Behr, Mr. Karl Howell</td>\n",
       "      <td>male</td>\n",
       "      <td>26.0</td>\n",
       "      <td>0</td>\n",
       "      <td>0</td>\n",
       "      <td>111369</td>\n",
       "      <td>30.0000</td>\n",
       "      <td>C148</td>\n",
       "      <td>C</td>\n",
       "    </tr>\n",
       "    <tr>\n",
       "      <th>890</th>\n",
       "      <td>891</td>\n",
       "      <td>0</td>\n",
       "      <td>3</td>\n",
       "      <td>Dooley, Mr. Patrick</td>\n",
       "      <td>male</td>\n",
       "      <td>32.0</td>\n",
       "      <td>0</td>\n",
       "      <td>0</td>\n",
       "      <td>370376</td>\n",
       "      <td>7.7500</td>\n",
       "      <td>NaN</td>\n",
       "      <td>Q</td>\n",
       "    </tr>\n",
       "  </tbody>\n",
       "</table>\n",
       "<p>891 rows × 12 columns</p>\n",
       "</div>"
      ],
      "text/plain": [
       "     PassengerId  Survived  Pclass  \\\n",
       "0              1         0       3   \n",
       "1              2         1       1   \n",
       "2              3         1       3   \n",
       "3              4         1       1   \n",
       "4              5         0       3   \n",
       "..           ...       ...     ...   \n",
       "886          887         0       2   \n",
       "887          888         1       1   \n",
       "888          889         0       3   \n",
       "889          890         1       1   \n",
       "890          891         0       3   \n",
       "\n",
       "                                                  Name     Sex   Age  SibSp  \\\n",
       "0                              Braund, Mr. Owen Harris    male  22.0      1   \n",
       "1    Cumings, Mrs. John Bradley (Florence Briggs Th...  female  38.0      1   \n",
       "2                               Heikkinen, Miss. Laina  female  26.0      0   \n",
       "3         Futrelle, Mrs. Jacques Heath (Lily May Peel)  female  35.0      1   \n",
       "4                             Allen, Mr. William Henry    male  35.0      0   \n",
       "..                                                 ...     ...   ...    ...   \n",
       "886                              Montvila, Rev. Juozas    male  27.0      0   \n",
       "887                       Graham, Miss. Margaret Edith  female  19.0      0   \n",
       "888           Johnston, Miss. Catherine Helen \"Carrie\"  female   NaN      1   \n",
       "889                              Behr, Mr. Karl Howell    male  26.0      0   \n",
       "890                                Dooley, Mr. Patrick    male  32.0      0   \n",
       "\n",
       "     Parch            Ticket     Fare Cabin Embarked  \n",
       "0        0         A/5 21171   7.2500   NaN        S  \n",
       "1        0          PC 17599  71.2833   C85        C  \n",
       "2        0  STON/O2. 3101282   7.9250   NaN        S  \n",
       "3        0            113803  53.1000  C123        S  \n",
       "4        0            373450   8.0500   NaN        S  \n",
       "..     ...               ...      ...   ...      ...  \n",
       "886      0            211536  13.0000   NaN        S  \n",
       "887      0            112053  30.0000   B42        S  \n",
       "888      2        W./C. 6607  23.4500   NaN        S  \n",
       "889      0            111369  30.0000  C148        C  \n",
       "890      0            370376   7.7500   NaN        Q  \n",
       "\n",
       "[891 rows x 12 columns]"
      ]
     },
     "execution_count": 130,
     "metadata": {},
     "output_type": "execute_result"
    }
   ],
   "source": [
    "csv_df"
   ]
  },
  {
   "cell_type": "code",
   "execution_count": 97,
   "id": "c0f6079c",
   "metadata": {},
   "outputs": [
    {
     "name": "stdout",
     "output_type": "stream",
     "text": [
      "<class 'pandas.core.frame.DataFrame'>\n",
      "RangeIndex: 891 entries, 0 to 890\n",
      "Data columns (total 12 columns):\n",
      " #   Column       Non-Null Count  Dtype  \n",
      "---  ------       --------------  -----  \n",
      " 0   PassengerId  891 non-null    int64  \n",
      " 1   Survived     891 non-null    int64  \n",
      " 2   Pclass       891 non-null    int64  \n",
      " 3   Name         891 non-null    object \n",
      " 4   Sex          891 non-null    object \n",
      " 5   Age          714 non-null    float64\n",
      " 6   SibSp        891 non-null    int64  \n",
      " 7   Parch        891 non-null    int64  \n",
      " 8   Ticket       891 non-null    object \n",
      " 9   Fare         891 non-null    float64\n",
      " 10  Cabin        204 non-null    object \n",
      " 11  Embarked     889 non-null    object \n",
      "dtypes: float64(2), int64(5), object(5)\n",
      "memory usage: 83.7+ KB\n"
     ]
    }
   ],
   "source": [
    "csv_df.info()"
   ]
  },
  {
   "cell_type": "code",
   "execution_count": 135,
   "id": "b778386b",
   "metadata": {},
   "outputs": [
    {
     "data": {
      "text/plain": [
       "3    491\n",
       "1    216\n",
       "2    184\n",
       "Name: Pclass, dtype: int64"
      ]
     },
     "execution_count": 135,
     "metadata": {},
     "output_type": "execute_result"
    }
   ],
   "source": [
    "csv_df['Pclass'].value_counts()"
   ]
  },
  {
   "cell_type": "code",
   "execution_count": 98,
   "id": "3505f9bf",
   "metadata": {},
   "outputs": [
    {
     "data": {
      "text/plain": [
       "PassengerId      0\n",
       "Survived         0\n",
       "Pclass           0\n",
       "Name             0\n",
       "Sex              0\n",
       "Age            177\n",
       "SibSp            0\n",
       "Parch            0\n",
       "Ticket           0\n",
       "Fare             0\n",
       "Cabin          687\n",
       "Embarked         2\n",
       "dtype: int64"
      ]
     },
     "execution_count": 98,
     "metadata": {},
     "output_type": "execute_result"
    }
   ],
   "source": [
    "csv_df.isna().sum()"
   ]
  },
  {
   "cell_type": "code",
   "execution_count": 99,
   "id": "026b773c",
   "metadata": {},
   "outputs": [
    {
     "data": {
      "text/html": [
       "<div>\n",
       "<style scoped>\n",
       "    .dataframe tbody tr th:only-of-type {\n",
       "        vertical-align: middle;\n",
       "    }\n",
       "\n",
       "    .dataframe tbody tr th {\n",
       "        vertical-align: top;\n",
       "    }\n",
       "\n",
       "    .dataframe thead th {\n",
       "        text-align: right;\n",
       "    }\n",
       "</style>\n",
       "<table border=\"1\" class=\"dataframe\">\n",
       "  <thead>\n",
       "    <tr style=\"text-align: right;\">\n",
       "      <th></th>\n",
       "      <th>PassengerId</th>\n",
       "      <th>Survived</th>\n",
       "      <th>Pclass</th>\n",
       "      <th>Age</th>\n",
       "      <th>SibSp</th>\n",
       "      <th>Parch</th>\n",
       "      <th>Fare</th>\n",
       "    </tr>\n",
       "  </thead>\n",
       "  <tbody>\n",
       "    <tr>\n",
       "      <th>count</th>\n",
       "      <td>891.000000</td>\n",
       "      <td>891.000000</td>\n",
       "      <td>891.000000</td>\n",
       "      <td>714.000000</td>\n",
       "      <td>891.000000</td>\n",
       "      <td>891.000000</td>\n",
       "      <td>891.000000</td>\n",
       "    </tr>\n",
       "    <tr>\n",
       "      <th>mean</th>\n",
       "      <td>446.000000</td>\n",
       "      <td>0.383838</td>\n",
       "      <td>2.308642</td>\n",
       "      <td>29.699118</td>\n",
       "      <td>0.523008</td>\n",
       "      <td>0.381594</td>\n",
       "      <td>32.204208</td>\n",
       "    </tr>\n",
       "    <tr>\n",
       "      <th>std</th>\n",
       "      <td>257.353842</td>\n",
       "      <td>0.486592</td>\n",
       "      <td>0.836071</td>\n",
       "      <td>14.526497</td>\n",
       "      <td>1.102743</td>\n",
       "      <td>0.806057</td>\n",
       "      <td>49.693429</td>\n",
       "    </tr>\n",
       "    <tr>\n",
       "      <th>min</th>\n",
       "      <td>1.000000</td>\n",
       "      <td>0.000000</td>\n",
       "      <td>1.000000</td>\n",
       "      <td>0.420000</td>\n",
       "      <td>0.000000</td>\n",
       "      <td>0.000000</td>\n",
       "      <td>0.000000</td>\n",
       "    </tr>\n",
       "    <tr>\n",
       "      <th>25%</th>\n",
       "      <td>223.500000</td>\n",
       "      <td>0.000000</td>\n",
       "      <td>2.000000</td>\n",
       "      <td>20.125000</td>\n",
       "      <td>0.000000</td>\n",
       "      <td>0.000000</td>\n",
       "      <td>7.910400</td>\n",
       "    </tr>\n",
       "    <tr>\n",
       "      <th>50%</th>\n",
       "      <td>446.000000</td>\n",
       "      <td>0.000000</td>\n",
       "      <td>3.000000</td>\n",
       "      <td>28.000000</td>\n",
       "      <td>0.000000</td>\n",
       "      <td>0.000000</td>\n",
       "      <td>14.454200</td>\n",
       "    </tr>\n",
       "    <tr>\n",
       "      <th>75%</th>\n",
       "      <td>668.500000</td>\n",
       "      <td>1.000000</td>\n",
       "      <td>3.000000</td>\n",
       "      <td>38.000000</td>\n",
       "      <td>1.000000</td>\n",
       "      <td>0.000000</td>\n",
       "      <td>31.000000</td>\n",
       "    </tr>\n",
       "    <tr>\n",
       "      <th>max</th>\n",
       "      <td>891.000000</td>\n",
       "      <td>1.000000</td>\n",
       "      <td>3.000000</td>\n",
       "      <td>80.000000</td>\n",
       "      <td>8.000000</td>\n",
       "      <td>6.000000</td>\n",
       "      <td>512.329200</td>\n",
       "    </tr>\n",
       "  </tbody>\n",
       "</table>\n",
       "</div>"
      ],
      "text/plain": [
       "       PassengerId    Survived      Pclass         Age       SibSp  \\\n",
       "count   891.000000  891.000000  891.000000  714.000000  891.000000   \n",
       "mean    446.000000    0.383838    2.308642   29.699118    0.523008   \n",
       "std     257.353842    0.486592    0.836071   14.526497    1.102743   \n",
       "min       1.000000    0.000000    1.000000    0.420000    0.000000   \n",
       "25%     223.500000    0.000000    2.000000   20.125000    0.000000   \n",
       "50%     446.000000    0.000000    3.000000   28.000000    0.000000   \n",
       "75%     668.500000    1.000000    3.000000   38.000000    1.000000   \n",
       "max     891.000000    1.000000    3.000000   80.000000    8.000000   \n",
       "\n",
       "            Parch        Fare  \n",
       "count  891.000000  891.000000  \n",
       "mean     0.381594   32.204208  \n",
       "std      0.806057   49.693429  \n",
       "min      0.000000    0.000000  \n",
       "25%      0.000000    7.910400  \n",
       "50%      0.000000   14.454200  \n",
       "75%      0.000000   31.000000  \n",
       "max      6.000000  512.329200  "
      ]
     },
     "execution_count": 99,
     "metadata": {},
     "output_type": "execute_result"
    }
   ],
   "source": [
    "csv_df.describe()"
   ]
  },
  {
   "cell_type": "code",
   "execution_count": 100,
   "id": "9688e922",
   "metadata": {},
   "outputs": [
    {
     "data": {
      "text/html": [
       "<div>\n",
       "<style scoped>\n",
       "    .dataframe tbody tr th:only-of-type {\n",
       "        vertical-align: middle;\n",
       "    }\n",
       "\n",
       "    .dataframe tbody tr th {\n",
       "        vertical-align: top;\n",
       "    }\n",
       "\n",
       "    .dataframe thead th {\n",
       "        text-align: right;\n",
       "    }\n",
       "</style>\n",
       "<table border=\"1\" class=\"dataframe\">\n",
       "  <thead>\n",
       "    <tr style=\"text-align: right;\">\n",
       "      <th></th>\n",
       "      <th>Sex</th>\n",
       "      <th>Age</th>\n",
       "      <th>SibSp</th>\n",
       "    </tr>\n",
       "  </thead>\n",
       "  <tbody>\n",
       "    <tr>\n",
       "      <th>0</th>\n",
       "      <td>male</td>\n",
       "      <td>22.0</td>\n",
       "      <td>1</td>\n",
       "    </tr>\n",
       "    <tr>\n",
       "      <th>1</th>\n",
       "      <td>female</td>\n",
       "      <td>38.0</td>\n",
       "      <td>1</td>\n",
       "    </tr>\n",
       "    <tr>\n",
       "      <th>2</th>\n",
       "      <td>female</td>\n",
       "      <td>26.0</td>\n",
       "      <td>0</td>\n",
       "    </tr>\n",
       "    <tr>\n",
       "      <th>3</th>\n",
       "      <td>female</td>\n",
       "      <td>35.0</td>\n",
       "      <td>1</td>\n",
       "    </tr>\n",
       "    <tr>\n",
       "      <th>4</th>\n",
       "      <td>male</td>\n",
       "      <td>35.0</td>\n",
       "      <td>0</td>\n",
       "    </tr>\n",
       "    <tr>\n",
       "      <th>...</th>\n",
       "      <td>...</td>\n",
       "      <td>...</td>\n",
       "      <td>...</td>\n",
       "    </tr>\n",
       "    <tr>\n",
       "      <th>886</th>\n",
       "      <td>male</td>\n",
       "      <td>27.0</td>\n",
       "      <td>0</td>\n",
       "    </tr>\n",
       "    <tr>\n",
       "      <th>887</th>\n",
       "      <td>female</td>\n",
       "      <td>19.0</td>\n",
       "      <td>0</td>\n",
       "    </tr>\n",
       "    <tr>\n",
       "      <th>888</th>\n",
       "      <td>female</td>\n",
       "      <td>NaN</td>\n",
       "      <td>1</td>\n",
       "    </tr>\n",
       "    <tr>\n",
       "      <th>889</th>\n",
       "      <td>male</td>\n",
       "      <td>26.0</td>\n",
       "      <td>0</td>\n",
       "    </tr>\n",
       "    <tr>\n",
       "      <th>890</th>\n",
       "      <td>male</td>\n",
       "      <td>32.0</td>\n",
       "      <td>0</td>\n",
       "    </tr>\n",
       "  </tbody>\n",
       "</table>\n",
       "<p>891 rows × 3 columns</p>\n",
       "</div>"
      ],
      "text/plain": [
       "        Sex   Age  SibSp\n",
       "0      male  22.0      1\n",
       "1    female  38.0      1\n",
       "2    female  26.0      0\n",
       "3    female  35.0      1\n",
       "4      male  35.0      0\n",
       "..      ...   ...    ...\n",
       "886    male  27.0      0\n",
       "887  female  19.0      0\n",
       "888  female   NaN      1\n",
       "889    male  26.0      0\n",
       "890    male  32.0      0\n",
       "\n",
       "[891 rows x 3 columns]"
      ]
     },
     "execution_count": 100,
     "metadata": {},
     "output_type": "execute_result"
    }
   ],
   "source": [
    "csv_df.iloc[:, 4:7]"
   ]
  },
  {
   "cell_type": "markdown",
   "id": "0d01a8f8",
   "metadata": {},
   "source": [
    "#### CSV Save"
   ]
  },
  {
   "cell_type": "markdown",
   "id": "6ea80168",
   "metadata": {},
   "source": [
    "* 다음과 같이 처리된 데이터프레임을 저장할 수 있음\n",
    "    * DataFrame.to_csv('파일 경로/파일.csv')\n",
    "        * index = False로 지정할 경우 Index를 제외하고 저장 가능"
   ]
  },
  {
   "cell_type": "code",
   "execution_count": 101,
   "id": "d2bce04c",
   "metadata": {},
   "outputs": [],
   "source": [
    "csv_test_df = csv_df.iloc[:, 4:7]"
   ]
  },
  {
   "cell_type": "code",
   "execution_count": 102,
   "id": "4942bc20",
   "metadata": {},
   "outputs": [],
   "source": [
    "csv_test_df.to_csv('save.csv', index = False)"
   ]
  },
  {
   "cell_type": "markdown",
   "id": "bf98a148",
   "metadata": {},
   "source": [
    "#### Q8. Age 열을 따로 뽑아 결측치를 처리하는 코드를 아래 셀에 작성하시오."
   ]
  },
  {
   "cell_type": "markdown",
   "id": "e255949e",
   "metadata": {},
   "source": [
    "* 대치값 = (결측치의 수 - 열의 평균) // 5"
   ]
  },
  {
   "cell_type": "code",
   "execution_count": 103,
   "id": "73ecbf7a",
   "metadata": {},
   "outputs": [
    {
     "data": {
      "text/plain": [
       "0      22.0\n",
       "1      38.0\n",
       "2      26.0\n",
       "3      35.0\n",
       "4      35.0\n",
       "       ... \n",
       "886    27.0\n",
       "887    19.0\n",
       "888    29.0\n",
       "889    26.0\n",
       "890    32.0\n",
       "Name: Age, Length: 891, dtype: float64"
      ]
     },
     "execution_count": 103,
     "metadata": {},
     "output_type": "execute_result"
    }
   ],
   "source": [
    "Q8_ans = csv_test_df['Age']\n",
    "na = Q8_ans.isna().sum()\n",
    "avg = Q8_ans.mean(axis=0)\n",
    "Q8_ans.fillna((na-avg)//5)"
   ]
  },
  {
   "cell_type": "code",
   "execution_count": 104,
   "id": "7dda66a3",
   "metadata": {},
   "outputs": [],
   "source": [
    "### Your Code ###"
   ]
  },
  {
   "cell_type": "markdown",
   "id": "793befc8",
   "metadata": {},
   "source": [
    "### JSON"
   ]
  },
  {
   "cell_type": "markdown",
   "id": "2ddffdb4",
   "metadata": {},
   "source": [
    "* pd.read_json('파일 경로/파일.json')\n",
    "    * 읽어올 파일은 주피터 노트북 파일과 동일한 폴더에 존재하지 않을 경우 경로를 함께 지정해야 함\n",
    "* 읽어들인 파일은 별도의 변수에 저장해야 함"
   ]
  },
  {
   "cell_type": "markdown",
   "id": "65a53114",
   "metadata": {},
   "source": [
    "* 연습용 파일 다운받기\n",
    "    1. https://drive.google.com/file/d/1Jfp31oQMZMiyHARmLkhvyIFMv_f9tCwr/view?usp=share_link\n",
    "    2. 상단 우측에 프린터기 아이콘 옆 버튼을 통해 다운로드 가능\n",
    "    3. 편의를 위해 한 폴더에 넣어주기"
   ]
  },
  {
   "cell_type": "markdown",
   "id": "e2f74bb5",
   "metadata": {},
   "source": [
    "#### JSON Read"
   ]
  },
  {
   "cell_type": "markdown",
   "id": "4c4dff8e",
   "metadata": {},
   "source": [
    "* JSON 파일을 읽어오면 기본적으로 아래와 같이 표시됨\n",
    "    * 불러올 파일의 길이는 동일해야 함"
   ]
  },
  {
   "cell_type": "code",
   "execution_count": 105,
   "id": "5da5542c",
   "metadata": {},
   "outputs": [],
   "source": [
    "json_df = pd.read_json('test.json')"
   ]
  },
  {
   "cell_type": "code",
   "execution_count": 106,
   "id": "1e7bdd7d",
   "metadata": {},
   "outputs": [
    {
     "data": {
      "text/html": [
       "<div>\n",
       "<style scoped>\n",
       "    .dataframe tbody tr th:only-of-type {\n",
       "        vertical-align: middle;\n",
       "    }\n",
       "\n",
       "    .dataframe tbody tr th {\n",
       "        vertical-align: top;\n",
       "    }\n",
       "\n",
       "    .dataframe thead th {\n",
       "        text-align: right;\n",
       "    }\n",
       "</style>\n",
       "<table border=\"1\" class=\"dataframe\">\n",
       "  <thead>\n",
       "    <tr style=\"text-align: right;\">\n",
       "      <th></th>\n",
       "      <th>userId</th>\n",
       "      <th>Name</th>\n",
       "      <th>phoneNumber</th>\n",
       "    </tr>\n",
       "  </thead>\n",
       "  <tbody>\n",
       "    <tr>\n",
       "      <th>0</th>\n",
       "      <td>1</td>\n",
       "      <td>Kim</td>\n",
       "      <td>1011111111</td>\n",
       "    </tr>\n",
       "    <tr>\n",
       "      <th>1</th>\n",
       "      <td>2</td>\n",
       "      <td>Jo</td>\n",
       "      <td>1022222222</td>\n",
       "    </tr>\n",
       "    <tr>\n",
       "      <th>2</th>\n",
       "      <td>3</td>\n",
       "      <td>Park</td>\n",
       "      <td>1033333333</td>\n",
       "    </tr>\n",
       "    <tr>\n",
       "      <th>3</th>\n",
       "      <td>4</td>\n",
       "      <td>Hong</td>\n",
       "      <td>1044444444</td>\n",
       "    </tr>\n",
       "    <tr>\n",
       "      <th>4</th>\n",
       "      <td>5</td>\n",
       "      <td>Yeo</td>\n",
       "      <td>1055555555</td>\n",
       "    </tr>\n",
       "  </tbody>\n",
       "</table>\n",
       "</div>"
      ],
      "text/plain": [
       "   userId  Name  phoneNumber\n",
       "0       1   Kim   1011111111\n",
       "1       2    Jo   1022222222\n",
       "2       3  Park   1033333333\n",
       "3       4  Hong   1044444444\n",
       "4       5   Yeo   1055555555"
      ]
     },
     "execution_count": 106,
     "metadata": {},
     "output_type": "execute_result"
    }
   ],
   "source": [
    "json_df"
   ]
  },
  {
   "cell_type": "code",
   "execution_count": 107,
   "id": "6a7716c7",
   "metadata": {},
   "outputs": [
    {
     "data": {
      "text/html": [
       "<div>\n",
       "<style scoped>\n",
       "    .dataframe tbody tr th:only-of-type {\n",
       "        vertical-align: middle;\n",
       "    }\n",
       "\n",
       "    .dataframe tbody tr th {\n",
       "        vertical-align: top;\n",
       "    }\n",
       "\n",
       "    .dataframe thead th {\n",
       "        text-align: right;\n",
       "    }\n",
       "</style>\n",
       "<table border=\"1\" class=\"dataframe\">\n",
       "  <thead>\n",
       "    <tr style=\"text-align: right;\">\n",
       "      <th></th>\n",
       "      <th>Name</th>\n",
       "    </tr>\n",
       "  </thead>\n",
       "  <tbody>\n",
       "    <tr>\n",
       "      <th>0</th>\n",
       "      <td>Kim</td>\n",
       "    </tr>\n",
       "    <tr>\n",
       "      <th>1</th>\n",
       "      <td>Jo</td>\n",
       "    </tr>\n",
       "    <tr>\n",
       "      <th>2</th>\n",
       "      <td>Park</td>\n",
       "    </tr>\n",
       "    <tr>\n",
       "      <th>3</th>\n",
       "      <td>Hong</td>\n",
       "    </tr>\n",
       "    <tr>\n",
       "      <th>4</th>\n",
       "      <td>Yeo</td>\n",
       "    </tr>\n",
       "  </tbody>\n",
       "</table>\n",
       "</div>"
      ],
      "text/plain": [
       "   Name\n",
       "0   Kim\n",
       "1    Jo\n",
       "2  Park\n",
       "3  Hong\n",
       "4   Yeo"
      ]
     },
     "execution_count": 107,
     "metadata": {},
     "output_type": "execute_result"
    }
   ],
   "source": [
    "json_df[['Name']]"
   ]
  },
  {
   "cell_type": "code",
   "execution_count": 108,
   "id": "c3117d50",
   "metadata": {},
   "outputs": [
    {
     "data": {
      "text/html": [
       "<div>\n",
       "<style scoped>\n",
       "    .dataframe tbody tr th:only-of-type {\n",
       "        vertical-align: middle;\n",
       "    }\n",
       "\n",
       "    .dataframe tbody tr th {\n",
       "        vertical-align: top;\n",
       "    }\n",
       "\n",
       "    .dataframe thead th {\n",
       "        text-align: right;\n",
       "    }\n",
       "</style>\n",
       "<table border=\"1\" class=\"dataframe\">\n",
       "  <thead>\n",
       "    <tr style=\"text-align: right;\">\n",
       "      <th></th>\n",
       "      <th>userId</th>\n",
       "      <th>phoneNumber</th>\n",
       "    </tr>\n",
       "  </thead>\n",
       "  <tbody>\n",
       "    <tr>\n",
       "      <th>0</th>\n",
       "      <td>1</td>\n",
       "      <td>1011111111</td>\n",
       "    </tr>\n",
       "    <tr>\n",
       "      <th>1</th>\n",
       "      <td>2</td>\n",
       "      <td>1022222222</td>\n",
       "    </tr>\n",
       "    <tr>\n",
       "      <th>2</th>\n",
       "      <td>3</td>\n",
       "      <td>1033333333</td>\n",
       "    </tr>\n",
       "    <tr>\n",
       "      <th>3</th>\n",
       "      <td>4</td>\n",
       "      <td>1044444444</td>\n",
       "    </tr>\n",
       "    <tr>\n",
       "      <th>4</th>\n",
       "      <td>5</td>\n",
       "      <td>1055555555</td>\n",
       "    </tr>\n",
       "  </tbody>\n",
       "</table>\n",
       "</div>"
      ],
      "text/plain": [
       "   userId  phoneNumber\n",
       "0       1   1011111111\n",
       "1       2   1022222222\n",
       "2       3   1033333333\n",
       "3       4   1044444444\n",
       "4       5   1055555555"
      ]
     },
     "execution_count": 108,
     "metadata": {},
     "output_type": "execute_result"
    }
   ],
   "source": [
    "json_df.loc[:, ['userId', 'phoneNumber']]"
   ]
  },
  {
   "cell_type": "markdown",
   "id": "4dab4363",
   "metadata": {},
   "source": [
    "#### JSON Save"
   ]
  },
  {
   "cell_type": "markdown",
   "id": "19d82830",
   "metadata": {},
   "source": [
    "* 다음과 같이 처리된 데이터프레임을 저장할 수 있음\n",
    "    * DataFrame.to_json('파일 경로/파일.json')\n",
    "    * orient에 따라 저장 유형 변경\n",
    "        * columns: 기본 값\n",
    "        * records\n",
    "        * split\n",
    "        * values\n",
    "        * index"
   ]
  },
  {
   "cell_type": "code",
   "execution_count": 109,
   "id": "b5c1d259",
   "metadata": {},
   "outputs": [
    {
     "data": {
      "text/plain": [
       "'{\"userId\":{\"0\":1,\"1\":2,\"2\":3,\"3\":4,\"4\":5},\"Name\":{\"0\":\"Kim\",\"1\":\"Jo\",\"2\":\"Park\",\"3\":\"Hong\",\"4\":\"Yeo\"},\"phoneNumber\":{\"0\":1011111111,\"1\":1022222222,\"2\":1033333333,\"3\":1044444444,\"4\":1055555555}}'"
      ]
     },
     "execution_count": 109,
     "metadata": {},
     "output_type": "execute_result"
    }
   ],
   "source": [
    "json_df.to_json(orient='columns')"
   ]
  },
  {
   "cell_type": "code",
   "execution_count": 110,
   "id": "062ed18d",
   "metadata": {},
   "outputs": [
    {
     "data": {
      "text/plain": [
       "'[{\"userId\":1,\"Name\":\"Kim\",\"phoneNumber\":1011111111},{\"userId\":2,\"Name\":\"Jo\",\"phoneNumber\":1022222222},{\"userId\":3,\"Name\":\"Park\",\"phoneNumber\":1033333333},{\"userId\":4,\"Name\":\"Hong\",\"phoneNumber\":1044444444},{\"userId\":5,\"Name\":\"Yeo\",\"phoneNumber\":1055555555}]'"
      ]
     },
     "execution_count": 110,
     "metadata": {},
     "output_type": "execute_result"
    }
   ],
   "source": [
    "json_df.to_json(orient='records')"
   ]
  },
  {
   "cell_type": "markdown",
   "id": "aeb67e77",
   "metadata": {},
   "source": [
    "* 아래 방식으로 저장하고 다시 불러온다면 길이가 일정하지 않아 오류 발생"
   ]
  },
  {
   "cell_type": "code",
   "execution_count": 111,
   "id": "891b7ff9",
   "metadata": {},
   "outputs": [
    {
     "data": {
      "text/plain": [
       "'{\"columns\":[\"userId\",\"Name\",\"phoneNumber\"],\"index\":[0,1,2,3,4],\"data\":[[1,\"Kim\",1011111111],[2,\"Jo\",1022222222],[3,\"Park\",1033333333],[4,\"Hong\",1044444444],[5,\"Yeo\",1055555555]]}'"
      ]
     },
     "execution_count": 111,
     "metadata": {},
     "output_type": "execute_result"
    }
   ],
   "source": [
    "json_df.to_json(orient='split')"
   ]
  },
  {
   "cell_type": "code",
   "execution_count": 112,
   "id": "413c0394",
   "metadata": {},
   "outputs": [
    {
     "data": {
      "text/plain": [
       "'[[1,\"Kim\",1011111111],[2,\"Jo\",1022222222],[3,\"Park\",1033333333],[4,\"Hong\",1044444444],[5,\"Yeo\",1055555555]]'"
      ]
     },
     "execution_count": 112,
     "metadata": {},
     "output_type": "execute_result"
    }
   ],
   "source": [
    "json_df.to_json(orient='values')"
   ]
  },
  {
   "cell_type": "code",
   "execution_count": 113,
   "id": "b7bd2451",
   "metadata": {
    "scrolled": true
   },
   "outputs": [
    {
     "data": {
      "text/plain": [
       "'{\"0\":{\"userId\":1,\"Name\":\"Kim\",\"phoneNumber\":1011111111},\"1\":{\"userId\":2,\"Name\":\"Jo\",\"phoneNumber\":1022222222},\"2\":{\"userId\":3,\"Name\":\"Park\",\"phoneNumber\":1033333333},\"3\":{\"userId\":4,\"Name\":\"Hong\",\"phoneNumber\":1044444444},\"4\":{\"userId\":5,\"Name\":\"Yeo\",\"phoneNumber\":1055555555}}'"
      ]
     },
     "execution_count": 113,
     "metadata": {},
     "output_type": "execute_result"
    }
   ],
   "source": [
    "json_df.to_json(orient='index')"
   ]
  },
  {
   "cell_type": "code",
   "execution_count": 114,
   "id": "1cc1feca",
   "metadata": {},
   "outputs": [],
   "source": [
    "json_df.to_json('save.json', orient='index')"
   ]
  },
  {
   "cell_type": "code",
   "execution_count": 115,
   "id": "1ea6124e",
   "metadata": {},
   "outputs": [
    {
     "data": {
      "text/html": [
       "<div>\n",
       "<style scoped>\n",
       "    .dataframe tbody tr th:only-of-type {\n",
       "        vertical-align: middle;\n",
       "    }\n",
       "\n",
       "    .dataframe tbody tr th {\n",
       "        vertical-align: top;\n",
       "    }\n",
       "\n",
       "    .dataframe thead th {\n",
       "        text-align: right;\n",
       "    }\n",
       "</style>\n",
       "<table border=\"1\" class=\"dataframe\">\n",
       "  <thead>\n",
       "    <tr style=\"text-align: right;\">\n",
       "      <th></th>\n",
       "      <th>0</th>\n",
       "      <th>1</th>\n",
       "      <th>2</th>\n",
       "      <th>3</th>\n",
       "      <th>4</th>\n",
       "    </tr>\n",
       "  </thead>\n",
       "  <tbody>\n",
       "    <tr>\n",
       "      <th>userId</th>\n",
       "      <td>1</td>\n",
       "      <td>2</td>\n",
       "      <td>3</td>\n",
       "      <td>4</td>\n",
       "      <td>5</td>\n",
       "    </tr>\n",
       "    <tr>\n",
       "      <th>Name</th>\n",
       "      <td>Kim</td>\n",
       "      <td>Jo</td>\n",
       "      <td>Park</td>\n",
       "      <td>Hong</td>\n",
       "      <td>Yeo</td>\n",
       "    </tr>\n",
       "    <tr>\n",
       "      <th>phoneNumber</th>\n",
       "      <td>1011111111</td>\n",
       "      <td>1022222222</td>\n",
       "      <td>1033333333</td>\n",
       "      <td>1044444444</td>\n",
       "      <td>1055555555</td>\n",
       "    </tr>\n",
       "  </tbody>\n",
       "</table>\n",
       "</div>"
      ],
      "text/plain": [
       "                      0           1           2           3           4\n",
       "userId                1           2           3           4           5\n",
       "Name                Kim          Jo        Park        Hong         Yeo\n",
       "phoneNumber  1011111111  1022222222  1033333333  1044444444  1055555555"
      ]
     },
     "execution_count": 115,
     "metadata": {},
     "output_type": "execute_result"
    }
   ],
   "source": [
    "json_test_df = pd.read_json('save.json')\n",
    "json_test_df"
   ]
  }
 ],
 "metadata": {
  "kernelspec": {
   "display_name": "Python 3 (ipykernel)",
   "language": "python",
   "name": "python3"
  },
  "language_info": {
   "codemirror_mode": {
    "name": "ipython",
    "version": 3
   },
   "file_extension": ".py",
   "mimetype": "text/x-python",
   "name": "python",
   "nbconvert_exporter": "python",
   "pygments_lexer": "ipython3",
   "version": "3.9.7"
  }
 },
 "nbformat": 4,
 "nbformat_minor": 5
}
