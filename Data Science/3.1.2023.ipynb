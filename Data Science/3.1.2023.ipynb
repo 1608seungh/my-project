{
 "cells": [
  {
   "cell_type": "markdown",
   "id": "3aece725",
   "metadata": {},
   "source": [
    "### BMI를 계산해서 변수에 저장하고 조건문을 통해 비만, 과체중, 정상, 저체중 여부 판별하는 코드 작성\n",
    "* BMI = 몸무게 / (키*키)   키 : [m] 몸무게 : kg\n",
    "* BMI <  18.5 : 저체중 \n",
    "* 18.5<= BMI <= 23 : 정상\n",
    "* 23 <= bmi <= 24.9 과체중\n",
    "* BMI >= 25 : 비만"
   ]
  },
  {
   "cell_type": "code",
   "execution_count": 16,
   "id": "c699e941",
   "metadata": {},
   "outputs": [
    {
     "name": "stdout",
     "output_type": "stream",
     "text": [
      "정상\n"
     ]
    }
   ],
   "source": [
    "weight = 59\n",
    "height = 1.72\n",
    "\n",
    "BMI = weight / (height * height)\n",
    "\n",
    "if BMI < 18.5:\n",
    "    print(\"저체중\")\n",
    "elif BMI >= 23 and BMI <25:\n",
    "    print(\"과체중\")\n",
    "elif BMI >= 25:\n",
    "    print(\"비만\")\n",
    "else:\n",
    "    print(\"정상\")\n",
    "\n"
   ]
  },
  {
   "cell_type": "markdown",
   "id": "d8eb18d7",
   "metadata": {},
   "source": [
    "## 고급 자료형"
   ]
  },
  {
   "cell_type": "markdown",
   "id": "ea63e0a0",
   "metadata": {},
   "source": [
    "#### 리스트\n",
    "\n",
    "* 한 번에 여러 데이터를 연속적으로 저장 가능\n",
    "* 인덱스 번호를 통해 접근 가능\n",
    "    * 인덱스 번호는 0번부터 시작 \n",
    "    "
   ]
  },
  {
   "cell_type": "code",
   "execution_count": 28,
   "id": "8903c5bb",
   "metadata": {},
   "outputs": [
    {
     "data": {
      "text/plain": [
       "([1, 2, 'clap', 4.0, 5, 'clap'], list)"
      ]
     },
     "execution_count": 28,
     "metadata": {},
     "output_type": "execute_result"
    }
   ],
   "source": [
    "arr = [1, 2,'clap', 4.0, 5, 'clap']\n",
    "arr, type(arr)\n"
   ]
  },
  {
   "cell_type": "markdown",
   "id": "4e9a753f",
   "metadata": {},
   "source": [
    "### 인덱싱\n",
    "* 앞에서부터는 0번 부터\n",
    "* 뒤에서부터는 -1번 부터\n",
    "* 값을 하나만 가져온다"
   ]
  },
  {
   "cell_type": "code",
   "execution_count": 29,
   "id": "0f10780b",
   "metadata": {},
   "outputs": [
    {
     "data": {
      "text/plain": [
       "'clap'"
      ]
     },
     "execution_count": 29,
     "metadata": {},
     "output_type": "execute_result"
    }
   ],
   "source": [
    "arr[2]"
   ]
  },
  {
   "cell_type": "markdown",
   "id": "2705e4ef",
   "metadata": {},
   "source": [
    "### 슬라이싱\n",
    "* 인덱스가 0 혹은 마지막이라면 생략 가능 (1)\n",
    "* 뒷번호 앞 까지 슬라이싱 가능 (2)\n",
    "* 건너 뛰면서 슬라이싱도 가능 (3) - 맨 뒤가 건너뛸 칸의 수"
   ]
  },
  {
   "cell_type": "code",
   "execution_count": 30,
   "id": "8530c048",
   "metadata": {
    "scrolled": true
   },
   "outputs": [
    {
     "data": {
      "text/plain": [
       "[1, 2, 'clap']"
      ]
     },
     "execution_count": 30,
     "metadata": {},
     "output_type": "execute_result"
    }
   ],
   "source": [
    "arr[:3]"
   ]
  },
  {
   "cell_type": "code",
   "execution_count": 31,
   "id": "c16d6691",
   "metadata": {
    "scrolled": true
   },
   "outputs": [
    {
     "data": {
      "text/plain": [
       "[2, 'clap', 4.0]"
      ]
     },
     "execution_count": 31,
     "metadata": {},
     "output_type": "execute_result"
    }
   ],
   "source": [
    "arr[1:4]"
   ]
  },
  {
   "cell_type": "code",
   "execution_count": 32,
   "id": "eeb24769",
   "metadata": {},
   "outputs": [
    {
     "data": {
      "text/plain": [
       "[1, 'clap', 5]"
      ]
     },
     "execution_count": 32,
     "metadata": {},
     "output_type": "execute_result"
    }
   ],
   "source": [
    "arr[0:6:2]"
   ]
  },
  {
   "cell_type": "code",
   "execution_count": 33,
   "id": "f968d98b",
   "metadata": {},
   "outputs": [
    {
     "data": {
      "text/plain": [
       "[-1, 0, 1, 2, 3, 5]"
      ]
     },
     "execution_count": 33,
     "metadata": {},
     "output_type": "execute_result"
    }
   ],
   "source": [
    "arr = [1, 2, 3, 5, 0, -1]\n",
    "arr.sort()\n",
    "arr"
   ]
  },
  {
   "cell_type": "code",
   "execution_count": 34,
   "id": "6ee60f31",
   "metadata": {},
   "outputs": [
    {
     "data": {
      "text/plain": [
       "[5, 3, 2, 1, 0, -1]"
      ]
     },
     "execution_count": 34,
     "metadata": {},
     "output_type": "execute_result"
    }
   ],
   "source": [
    "arr[::-1]"
   ]
  },
  {
   "cell_type": "markdown",
   "id": "5d3b8aca",
   "metadata": {},
   "source": [
    "### 조작\n",
    "* 길이 확인 (마지막에 필수)\n",
    "* pop - List의 맨 오른쪽 값을 빼온다\n",
    "* append - List의 맨 오른쪽에 값을 채워넣는다"
   ]
  },
  {
   "cell_type": "code",
   "execution_count": 35,
   "id": "c53a1dd9",
   "metadata": {},
   "outputs": [
    {
     "data": {
      "text/plain": [
       "6"
      ]
     },
     "execution_count": 35,
     "metadata": {},
     "output_type": "execute_result"
    }
   ],
   "source": [
    "len(arr)"
   ]
  },
  {
   "cell_type": "code",
   "execution_count": 37,
   "id": "d93079e7",
   "metadata": {},
   "outputs": [
    {
     "data": {
      "text/plain": [
       "[-1, 0, 'end', 2, 3, 5]"
      ]
     },
     "execution_count": 37,
     "metadata": {},
     "output_type": "execute_result"
    }
   ],
   "source": [
    "arr[2] = \"end\"\n",
    "arr"
   ]
  },
  {
   "cell_type": "code",
   "execution_count": 38,
   "id": "ef6061b8",
   "metadata": {},
   "outputs": [
    {
     "data": {
      "text/plain": [
       "5"
      ]
     },
     "execution_count": 38,
     "metadata": {},
     "output_type": "execute_result"
    }
   ],
   "source": [
    "arr.pop()"
   ]
  },
  {
   "cell_type": "code",
   "execution_count": 39,
   "id": "f3888018",
   "metadata": {},
   "outputs": [
    {
     "data": {
      "text/plain": [
       "[-1, 0, 'end', 2, 3]"
      ]
     },
     "execution_count": 39,
     "metadata": {},
     "output_type": "execute_result"
    }
   ],
   "source": [
    "arr"
   ]
  },
  {
   "cell_type": "code",
   "execution_count": 42,
   "id": "8e701594",
   "metadata": {},
   "outputs": [
    {
     "data": {
      "text/plain": [
       "[-1, 0, 'end', 2, 3, 10, 10, 10]"
      ]
     },
     "execution_count": 42,
     "metadata": {},
     "output_type": "execute_result"
    }
   ],
   "source": [
    "arr.append(10)\n",
    "arr"
   ]
  },
  {
   "cell_type": "markdown",
   "id": "c51134b8",
   "metadata": {},
   "source": [
    "### Dictionary\n",
    "* 중괄호 {} 사용\n",
    "* key : value = item\n",
    "--> 하나의 쌍으로 값이 저장 "
   ]
  },
  {
   "cell_type": "code",
   "execution_count": 43,
   "id": "3df2bfd1",
   "metadata": {},
   "outputs": [
    {
     "data": {
      "text/plain": [
       "dict"
      ]
     },
     "execution_count": 43,
     "metadata": {},
     "output_type": "execute_result"
    }
   ],
   "source": [
    "dic = {}\n",
    "type(dic)"
   ]
  },
  {
   "cell_type": "code",
   "execution_count": 44,
   "id": "cce699b7",
   "metadata": {},
   "outputs": [
    {
     "data": {
      "text/plain": [
       "{'title': 'hi', 'year': 1856, 'author': 'JW', 'page': 256}"
      ]
     },
     "execution_count": 44,
     "metadata": {},
     "output_type": "execute_result"
    }
   ],
   "source": [
    "dic = {'title': 'hi', 'year' : 1856, 'author' : 'JW', 'page' : 256}\n",
    "dic"
   ]
  },
  {
   "cell_type": "code",
   "execution_count": 45,
   "id": "3a23150a",
   "metadata": {},
   "outputs": [
    {
     "data": {
      "text/plain": [
       "dict_items([('title', 'hi'), ('year', 1856), ('author', 'JW'), ('page', 256)])"
      ]
     },
     "execution_count": 45,
     "metadata": {},
     "output_type": "execute_result"
    }
   ],
   "source": [
    "dic.items()"
   ]
  },
  {
   "cell_type": "code",
   "execution_count": 47,
   "id": "d755912b",
   "metadata": {},
   "outputs": [
    {
     "data": {
      "text/plain": [
       "dict_keys(['title', 'year', 'author', 'page'])"
      ]
     },
     "execution_count": 47,
     "metadata": {},
     "output_type": "execute_result"
    }
   ],
   "source": [
    "dic.keys()"
   ]
  },
  {
   "cell_type": "code",
   "execution_count": 48,
   "id": "952c176d",
   "metadata": {},
   "outputs": [
    {
     "data": {
      "text/plain": [
       "dict_values(['hi', 1856, 'JW', 256])"
      ]
     },
     "execution_count": 48,
     "metadata": {},
     "output_type": "execute_result"
    }
   ],
   "source": [
    "dic.values()"
   ]
  },
  {
   "cell_type": "code",
   "execution_count": 49,
   "id": "9589d332",
   "metadata": {},
   "outputs": [
    {
     "data": {
      "text/plain": [
       "4"
      ]
     },
     "execution_count": 49,
     "metadata": {},
     "output_type": "execute_result"
    }
   ],
   "source": [
    "len(dic)"
   ]
  },
  {
   "cell_type": "code",
   "execution_count": 51,
   "id": "f983850e",
   "metadata": {},
   "outputs": [
    {
     "data": {
      "text/plain": [
       "{'title': 'hi', 'year': 1856, 'author': 'JW', 'page': 256, 'genre': 'fantasy'}"
      ]
     },
     "execution_count": 51,
     "metadata": {},
     "output_type": "execute_result"
    }
   ],
   "source": [
    "dic['genre'] = 'fantasy'\n",
    "dic"
   ]
  },
  {
   "cell_type": "code",
   "execution_count": 52,
   "id": "b35fb7ea",
   "metadata": {},
   "outputs": [
    {
     "data": {
      "text/plain": [
       "{'title': 'hi', 'year': 2021, 'author': 'JW', 'page': 256, 'genre': 'fantasy'}"
      ]
     },
     "execution_count": 52,
     "metadata": {},
     "output_type": "execute_result"
    }
   ],
   "source": [
    "dic['year'] = 2021\n",
    "dic"
   ]
  },
  {
   "cell_type": "code",
   "execution_count": 53,
   "id": "efcdc304",
   "metadata": {},
   "outputs": [
    {
     "data": {
      "text/plain": [
       "'hi'"
      ]
     },
     "execution_count": 53,
     "metadata": {},
     "output_type": "execute_result"
    }
   ],
   "source": [
    "dic.pop('title')"
   ]
  },
  {
   "cell_type": "code",
   "execution_count": 54,
   "id": "2e27c92c",
   "metadata": {},
   "outputs": [
    {
     "data": {
      "text/plain": [
       "{'year': 2021, 'author': 'JW', 'page': 256, 'genre': 'fantasy'}"
      ]
     },
     "execution_count": 54,
     "metadata": {},
     "output_type": "execute_result"
    }
   ],
   "source": [
    "dic"
   ]
  },
  {
   "cell_type": "markdown",
   "id": "83208687",
   "metadata": {},
   "source": [
    "### 튜플(tuple)\n",
    "* 값을 변경할 수 없는 리스트 (인덱싱만 가능하다)"
   ]
  },
  {
   "cell_type": "code",
   "execution_count": 55,
   "id": "2cd1db83",
   "metadata": {},
   "outputs": [
    {
     "data": {
      "text/plain": [
       "(1, 4, 2, 5)"
      ]
     },
     "execution_count": 55,
     "metadata": {},
     "output_type": "execute_result"
    }
   ],
   "source": [
    "tup = (1, 4, 2, 5)\n",
    "tup\n"
   ]
  },
  {
   "cell_type": "code",
   "execution_count": 56,
   "id": "cbabcfca",
   "metadata": {},
   "outputs": [
    {
     "ename": "TypeError",
     "evalue": "'tuple' object does not support item assignment",
     "output_type": "error",
     "traceback": [
      "\u001b[1;31m---------------------------------------------------------------------------\u001b[0m",
      "\u001b[1;31mTypeError\u001b[0m                                 Traceback (most recent call last)",
      "\u001b[1;32m~\\AppData\\Local\\Temp\\ipykernel_23088\\2229593161.py\u001b[0m in \u001b[0;36m<module>\u001b[1;34m\u001b[0m\n\u001b[1;32m----> 1\u001b[1;33m \u001b[0mtup\u001b[0m\u001b[1;33m[\u001b[0m\u001b[1;36m3\u001b[0m\u001b[1;33m]\u001b[0m \u001b[1;33m=\u001b[0m \u001b[1;36m10\u001b[0m\u001b[1;33m\u001b[0m\u001b[1;33m\u001b[0m\u001b[0m\n\u001b[0m",
      "\u001b[1;31mTypeError\u001b[0m: 'tuple' object does not support item assignment"
     ]
    }
   ],
   "source": [
    "tup[3] = 10"
   ]
  },
  {
   "cell_type": "code",
   "execution_count": 57,
   "id": "64085f4c",
   "metadata": {},
   "outputs": [
    {
     "data": {
      "text/plain": [
       "5"
      ]
     },
     "execution_count": 57,
     "metadata": {},
     "output_type": "execute_result"
    }
   ],
   "source": [
    "tup[3]"
   ]
  },
  {
   "cell_type": "code",
   "execution_count": 58,
   "id": "e5d85560",
   "metadata": {},
   "outputs": [
    {
     "data": {
      "text/plain": [
       "(246, 10)"
      ]
     },
     "execution_count": 58,
     "metadata": {},
     "output_type": "execute_result"
    }
   ],
   "source": [
    "(246, 10)"
   ]
  },
  {
   "cell_type": "markdown",
   "id": "e068fe79",
   "metadata": {},
   "source": [
    "## 반복문 \n",
    "\n",
    "### while \n",
    "* 특정 조건을 만족할 때까지 내부 코드가 반복된다. "
   ]
  },
  {
   "cell_type": "code",
   "execution_count": 59,
   "id": "405d1e0c",
   "metadata": {},
   "outputs": [
    {
     "name": "stdout",
     "output_type": "stream",
     "text": [
      "0\n",
      "1\n",
      "2\n",
      "3\n",
      "4\n"
     ]
    }
   ],
   "source": [
    "i = 0\n",
    "\n",
    "while i < 5:\n",
    "    print(i)\n",
    "    i += 1"
   ]
  },
  {
   "cell_type": "code",
   "execution_count": 63,
   "id": "0c3aa282",
   "metadata": {},
   "outputs": [
    {
     "name": "stdout",
     "output_type": "stream",
     "text": [
      "1 2 3 4 5 "
     ]
    }
   ],
   "source": [
    "i = 1\n",
    "\n",
    "while True:\n",
    "    if i >= 6:\n",
    "        break\n",
    "    print(i, end=' ')\n",
    "    i += 1 "
   ]
  },
  {
   "cell_type": "markdown",
   "id": "b5fa8c80",
   "metadata": {},
   "source": [
    "## For \n",
    "* for i in range(10):\n"
   ]
  },
  {
   "cell_type": "code",
   "execution_count": 70,
   "id": "2c834db2",
   "metadata": {},
   "outputs": [
    {
     "name": "stdout",
     "output_type": "stream",
     "text": [
      "10\n",
      "9\n",
      "8\n",
      "7\n",
      "6\n",
      "5\n",
      "4\n",
      "3\n",
      "2\n",
      "1\n",
      "0\n"
     ]
    }
   ],
   "source": [
    "for i in range(10, -1, -1):\n",
    "    print(i)"
   ]
  },
  {
   "cell_type": "code",
   "execution_count": 76,
   "id": "eb5c6030",
   "metadata": {},
   "outputs": [
    {
     "data": {
      "text/plain": [
       "[0, 1, 2, 3, 4, 5, 6, 7, 8, 9]"
      ]
     },
     "execution_count": 76,
     "metadata": {},
     "output_type": "execute_result"
    }
   ],
   "source": [
    "range(0,10)\n",
    "list(range(10))\n"
   ]
  },
  {
   "cell_type": "code",
   "execution_count": null,
   "id": "0d036f3e",
   "metadata": {},
   "outputs": [],
   "source": [
    "for i in range(2,10):\n",
    "    for j in range(1,10):\n",
    "        print(f'{i} x {j} = {i * j}')\n",
    "        "
   ]
  },
  {
   "cell_type": "markdown",
   "id": "92b20a37",
   "metadata": {},
   "source": [
    "## 반복문 심화"
   ]
  },
  {
   "cell_type": "code",
   "execution_count": 79,
   "id": "4ab1968a",
   "metadata": {},
   "outputs": [
    {
     "name": "stdout",
     "output_type": "stream",
     "text": [
      "1 2 4 6 7 "
     ]
    }
   ],
   "source": [
    "data = [1,2,4,6,7]\n",
    "\n",
    "for i in data:\n",
    "    print(i, end=' ')"
   ]
  },
  {
   "cell_type": "code",
   "execution_count": null,
   "id": "cbcb3dec",
   "metadata": {},
   "outputs": [],
   "source": []
  },
  {
   "cell_type": "code",
   "execution_count": 81,
   "id": "ac4a9276",
   "metadata": {},
   "outputs": [
    {
     "data": {
      "text/plain": [
       "{'A': 0,\n",
       " 'B': 0,\n",
       " 'C': 0,\n",
       " 'D': 0,\n",
       " 'E': 0,\n",
       " 'F': 0,\n",
       " 'G': 0,\n",
       " 'H': 0,\n",
       " 'I': 0,\n",
       " 'J': 0,\n",
       " 'K': 0,\n",
       " 'L': 0,\n",
       " 'M': 0,\n",
       " 'N': 0,\n",
       " 'O': 0,\n",
       " 'P': 0,\n",
       " 'Q': 0,\n",
       " 'R': 0,\n",
       " 'S': 0,\n",
       " 'T': 0,\n",
       " 'U': 0,\n",
       " 'V': 0,\n",
       " 'W': 0,\n",
       " 'X': 0,\n",
       " 'Y': 0,\n",
       " 'Z': 0}"
      ]
     },
     "execution_count": 81,
     "metadata": {},
     "output_type": "execute_result"
    }
   ],
   "source": [
    "temp = {chr(i): 0 for i in range(65,91)}\n",
    "temp"
   ]
  },
  {
   "cell_type": "code",
   "execution_count": 83,
   "id": "0ee74438",
   "metadata": {},
   "outputs": [
    {
     "name": "stdout",
     "output_type": "stream",
     "text": [
      "A B C D E F G H I J K L M N O P Q R S T U V W X Y Z "
     ]
    }
   ],
   "source": [
    "for i in temp.keys():\n",
    "    print(i, end=' ')"
   ]
  },
  {
   "cell_type": "code",
   "execution_count": 84,
   "id": "3cf36fdf",
   "metadata": {},
   "outputs": [
    {
     "name": "stdout",
     "output_type": "stream",
     "text": [
      "('A', 0) ('B', 0) ('C', 0) ('D', 0) ('E', 0) ('F', 0) ('G', 0) ('H', 0) ('I', 0) ('J', 0) ('K', 0) ('L', 0) ('M', 0) ('N', 0) ('O', 0) ('P', 0) ('Q', 0) ('R', 0) ('S', 0) ('T', 0) ('U', 0) ('V', 0) ('W', 0) ('X', 0) ('Y', 0) ('Z', 0) "
     ]
    }
   ],
   "source": [
    "for i in temp.items():\n",
    "    print(i, end=' ')"
   ]
  },
  {
   "cell_type": "code",
   "execution_count": 85,
   "id": "87ad736e",
   "metadata": {},
   "outputs": [
    {
     "name": "stdout",
     "output_type": "stream",
     "text": [
      "0 0 0 0 0 0 0 0 0 0 0 0 0 0 0 0 0 0 0 0 0 0 0 0 0 0 "
     ]
    }
   ],
   "source": [
    "for i in temp.values():\n",
    "    print(i, end=' ')"
   ]
  },
  {
   "cell_type": "code",
   "execution_count": 86,
   "id": "f49a341b",
   "metadata": {},
   "outputs": [
    {
     "name": "stdout",
     "output_type": "stream",
     "text": [
      "a 1\n",
      "b 2\n",
      "c 3\n",
      "d 4\n"
     ]
    }
   ],
   "source": [
    "data1 = ['a', 'b','c','d']\n",
    "data2 = [1,2,3,4]\n",
    "\n",
    "for i,j in zip(data1,data2):\n",
    "        print(i,j)\n",
    "        "
   ]
  },
  {
   "cell_type": "code",
   "execution_count": 87,
   "id": "a5a14350",
   "metadata": {},
   "outputs": [
    {
     "name": "stdout",
     "output_type": "stream",
     "text": [
      "0 a\n",
      "1 b\n",
      "2 c\n",
      "3 d\n"
     ]
    }
   ],
   "source": [
    "for i, j in enumerate(data1):\n",
    "    print(i,j)"
   ]
  },
  {
   "cell_type": "code",
   "execution_count": 88,
   "id": "8a180a15",
   "metadata": {},
   "outputs": [
    {
     "data": {
      "text/plain": [
       "'1567'"
      ]
     },
     "execution_count": 88,
     "metadata": {},
     "output_type": "execute_result"
    }
   ],
   "source": [
    "temp = 1567\n",
    "str(temp)"
   ]
  },
  {
   "cell_type": "code",
   "execution_count": 89,
   "id": "136b2584",
   "metadata": {},
   "outputs": [
    {
     "name": "stdout",
     "output_type": "stream",
     "text": [
      "1 5 6 7 "
     ]
    }
   ],
   "source": [
    "temp = 1567\n",
    "for i in str(temp):\n",
    "    print(i, end = ' ')"
   ]
  },
  {
   "cell_type": "code",
   "execution_count": 90,
   "id": "49cda423",
   "metadata": {},
   "outputs": [
    {
     "data": {
      "text/plain": [
       "['1', '5', '6', '7']"
      ]
     },
     "execution_count": 90,
     "metadata": {},
     "output_type": "execute_result"
    }
   ],
   "source": [
    "list(str(temp))"
   ]
  },
  {
   "cell_type": "code",
   "execution_count": 92,
   "id": "53026c06",
   "metadata": {},
   "outputs": [
    {
     "data": {
      "text/plain": [
       "['2', '5', '6', '7']"
      ]
     },
     "execution_count": 92,
     "metadata": {},
     "output_type": "execute_result"
    }
   ],
   "source": [
    "a = list(str(temp))\n",
    "a[0] = '2'\n",
    "a\n"
   ]
  },
  {
   "cell_type": "markdown",
   "id": "c7528bbe",
   "metadata": {},
   "source": [
    "## 사용자 정의 함수"
   ]
  },
  {
   "cell_type": "code",
   "execution_count": 94,
   "id": "c4222b98",
   "metadata": {},
   "outputs": [
    {
     "data": {
      "text/plain": [
       "3.5"
      ]
     },
     "execution_count": 94,
     "metadata": {},
     "output_type": "execute_result"
    }
   ],
   "source": [
    "test = [2,3,4,5]\n",
    "def cal_mean(datas: list):\n",
    "    cal_sum = 0\n",
    "    \n",
    "    for data in datas:\n",
    "        cal_sum += data \n",
    "    res_mean = cal_sum / len(datas)\n",
    "    \n",
    "    return res_mean\n",
    "\n",
    "cal_mean(test)"
   ]
  },
  {
   "cell_type": "markdown",
   "id": "a31c7f62",
   "metadata": {},
   "source": [
    "# Quiz "
   ]
  },
  {
   "cell_type": "markdown",
   "id": "e0fd9671",
   "metadata": {},
   "source": [
    "* 양의 정수 x가 주어지고, x의 자릿수의 합으로 나누어 떨어지면 이를 하샤드 수라고 한다. \n",
    "* 입력받은 데이터가 하샤드 수인지 판별하는 함수 작성 \n",
    "* x = 18이라고 하면 1+8=9 --> x/9의 나머지가 0이라면 하샤드 수 \n",
    "* 나누어 떨어지지 않는다면 하샤드 수가 아니다. "
   ]
  },
  {
   "cell_type": "code",
   "execution_count": 107,
   "id": "7e07bc95",
   "metadata": {},
   "outputs": [
    {
     "data": {
      "text/plain": [
       "1"
      ]
     },
     "execution_count": 107,
     "metadata": {},
     "output_type": "execute_result"
    }
   ],
   "source": [
    "x = 18\n",
    "a = list(str(x))\n",
    "int(a[0])"
   ]
  },
  {
   "cell_type": "code",
   "execution_count": 112,
   "id": "f116f710",
   "metadata": {},
   "outputs": [
    {
     "name": "stdout",
     "output_type": "stream",
     "text": [
      "13\n"
     ]
    },
    {
     "ename": "TypeError",
     "evalue": "unsupported operand type(s) for /: 'str' and 'float'",
     "output_type": "error",
     "traceback": [
      "\u001b[1;31m---------------------------------------------------------------------------\u001b[0m",
      "\u001b[1;31mTypeError\u001b[0m                                 Traceback (most recent call last)",
      "\u001b[1;32m~\\AppData\\Local\\Temp\\ipykernel_23088\\2910024640.py\u001b[0m in \u001b[0;36m<module>\u001b[1;34m\u001b[0m\n\u001b[0;32m      4\u001b[0m \u001b[0mx2\u001b[0m \u001b[1;33m=\u001b[0m \u001b[0mfloat\u001b[0m\u001b[1;33m(\u001b[0m\u001b[0ma\u001b[0m\u001b[1;33m[\u001b[0m\u001b[1;36m1\u001b[0m\u001b[1;33m]\u001b[0m\u001b[1;33m)\u001b[0m\u001b[1;33m\u001b[0m\u001b[1;33m\u001b[0m\u001b[0m\n\u001b[0;32m      5\u001b[0m \u001b[1;33m\u001b[0m\u001b[0m\n\u001b[1;32m----> 6\u001b[1;33m \u001b[1;32mif\u001b[0m \u001b[0mx\u001b[0m \u001b[1;33m/\u001b[0m \u001b[1;33m(\u001b[0m\u001b[0mx1\u001b[0m\u001b[1;33m+\u001b[0m\u001b[0mx2\u001b[0m\u001b[1;33m)\u001b[0m \u001b[1;33m%\u001b[0m \u001b[1;36m0\u001b[0m\u001b[1;33m:\u001b[0m\u001b[1;33m\u001b[0m\u001b[1;33m\u001b[0m\u001b[0m\n\u001b[0m\u001b[0;32m      7\u001b[0m     \u001b[0mprint\u001b[0m\u001b[1;33m(\u001b[0m\u001b[1;34m\"이 수는 하샤드 수 이다.\"\u001b[0m\u001b[1;33m)\u001b[0m\u001b[1;33m\u001b[0m\u001b[1;33m\u001b[0m\u001b[0m\n\u001b[0;32m      8\u001b[0m \u001b[1;32melse\u001b[0m\u001b[1;33m:\u001b[0m\u001b[1;33m\u001b[0m\u001b[1;33m\u001b[0m\u001b[0m\n",
      "\u001b[1;31mTypeError\u001b[0m: unsupported operand type(s) for /: 'str' and 'float'"
     ]
    }
   ],
   "source": [
    "x = input()\n",
    "a = list(str(x))\n",
    "x1 = float(a[0])\n",
    "x2 = float(a[1])\n",
    "\n",
    "if x / (x1+x2) % 0:\n",
    "    print(\"이 수는 하샤드 수 이다.\")\n",
    "else:\n",
    "    print(\"이 수는 햐사드 수가 아니다.\")"
   ]
  },
  {
   "cell_type": "code",
   "execution_count": 111,
   "id": "369316d0",
   "metadata": {},
   "outputs": [
    {
     "name": "stdout",
     "output_type": "stream",
     "text": [
      "13\n"
     ]
    }
   ],
   "source": [
    "x = input()"
   ]
  },
  {
   "cell_type": "code",
   "execution_count": 113,
   "id": "22264876",
   "metadata": {},
   "outputs": [],
   "source": [
    "def quiz(x):\n",
    "    res = 0\n",
    "    \n",
    "    for i in str(x):\n",
    "        res += int(i)\n",
    "    return True if x % res == 0 else False \n"
   ]
  },
  {
   "cell_type": "code",
   "execution_count": 114,
   "id": "e86a6643",
   "metadata": {},
   "outputs": [
    {
     "data": {
      "text/plain": [
       "True"
      ]
     },
     "execution_count": 114,
     "metadata": {},
     "output_type": "execute_result"
    }
   ],
   "source": [
    "quiz(18)"
   ]
  },
  {
   "cell_type": "code",
   "execution_count": 116,
   "id": "02582787",
   "metadata": {},
   "outputs": [
    {
     "name": "stdout",
     "output_type": "stream",
     "text": [
      "[[0. 0.]\n",
      " [0. 0.]]\n"
     ]
    }
   ],
   "source": [
    "import numpy as np\n",
    "a = np.zeros((2,2))\n",
    "print(a)"
   ]
  },
  {
   "cell_type": "code",
   "execution_count": 117,
   "id": "fd05ab75",
   "metadata": {},
   "outputs": [
    {
     "name": "stdout",
     "output_type": "stream",
     "text": [
      "[]\n"
     ]
    }
   ],
   "source": [
    "print(np.arange(4,3,0.13))"
   ]
  },
  {
   "cell_type": "code",
   "execution_count": 119,
   "id": "a200a6f6",
   "metadata": {},
   "outputs": [
    {
     "data": {
      "text/plain": [
       "array([[[0.72723243, 0.16067484, 0.20339196, 0.91145659, 0.72663997,\n",
       "         0.49678549, 0.25007834],\n",
       "        [0.1897903 , 0.72894775, 0.2436516 , 0.90662333, 0.54749999,\n",
       "         0.30767547, 0.04708826],\n",
       "        [0.78313067, 0.55200969, 0.89873425, 0.11812348, 0.79271237,\n",
       "         0.20153093, 0.23551459]],\n",
       "\n",
       "       [[0.00769943, 0.27107085, 0.85291919, 0.83507868, 0.83273086,\n",
       "         0.20299518, 0.51017961],\n",
       "        [0.88907673, 0.6377756 , 0.64210596, 0.96050227, 0.02722894,\n",
       "         0.64127229, 0.93818418],\n",
       "        [0.31087822, 0.67694172, 0.83705334, 0.34479748, 0.03162762,\n",
       "         0.21806386, 0.9265154 ]],\n",
       "\n",
       "       [[0.21478333, 0.59041454, 0.42146634, 0.96838099, 0.88903512,\n",
       "         0.3505865 , 0.102961  ],\n",
       "        [0.39887163, 0.16460821, 0.76326966, 0.95938859, 0.41127877,\n",
       "         0.75083885, 0.48534751],\n",
       "        [0.70249057, 0.82292717, 0.75214446, 0.72431952, 0.86664401,\n",
       "         0.00928596, 0.90934544]],\n",
       "\n",
       "       [[0.49927857, 0.44970868, 0.51243162, 0.77392447, 0.97471478,\n",
       "         0.00105742, 0.53364952],\n",
       "        [0.1854212 , 0.54405605, 0.2908972 , 0.25147148, 0.89731611,\n",
       "         0.09398733, 0.36225458],\n",
       "        [0.18682051, 0.63123214, 0.37896882, 0.69750751, 0.47381568,\n",
       "         0.90375741, 0.61336225]]])"
      ]
     },
     "execution_count": 119,
     "metadata": {},
     "output_type": "execute_result"
    }
   ],
   "source": [
    "np.random.rand(4,3,7)"
   ]
  },
  {
   "cell_type": "code",
   "execution_count": 124,
   "id": "16dead90",
   "metadata": {},
   "outputs": [
    {
     "data": {
      "text/plain": [
       "array([[ 1,  4],\n",
       "       [13, 16]])"
      ]
     },
     "execution_count": 124,
     "metadata": {},
     "output_type": "execute_result"
    }
   ],
   "source": [
    "arr = np.array([[1,2,3,4],[5,6,7,8],[9,10,11,12],[13,14,15,16]])\n",
    "arr\n",
    "a = arr[0:4:3,0:4:3]\n",
    "a"
   ]
  },
  {
   "cell_type": "markdown",
   "id": "21db5ec4",
   "metadata": {},
   "source": [
    "## Replacement\n",
    "* 넘파이 배열은 인덱싱 및 슬라이싱을 통해 값 변경이 가능하다.\n"
   ]
  },
  {
   "cell_type": "code",
   "execution_count": 125,
   "id": "5c4b93f7",
   "metadata": {},
   "outputs": [
    {
     "data": {
      "text/plain": [
       "array([[ 1,  2,  3,  4],\n",
       "       [ 5,  6,  7,  8],\n",
       "       [ 9, 10, 11, 12],\n",
       "       [13, 14, 15, 16]])"
      ]
     },
     "execution_count": 125,
     "metadata": {},
     "output_type": "execute_result"
    }
   ],
   "source": [
    "import numpy as np\n",
    "arr = np.array([[1,2,3,4],[5,6,7,8],[9,10,11,12],[13,14,15,16]])\n",
    "arr"
   ]
  },
  {
   "cell_type": "code",
   "execution_count": 126,
   "id": "fff40b17",
   "metadata": {},
   "outputs": [
    {
     "data": {
      "text/plain": [
       "array([[ 1,  2,  3,  4],\n",
       "       [ 0,  6,  7,  8],\n",
       "       [ 9, 10, 11, 12],\n",
       "       [13, 14, 15, 16]])"
      ]
     },
     "execution_count": 126,
     "metadata": {},
     "output_type": "execute_result"
    }
   ],
   "source": [
    "arr[1,0]=0\n",
    "arr"
   ]
  },
  {
   "cell_type": "code",
   "execution_count": 128,
   "id": "2cb89874",
   "metadata": {},
   "outputs": [
    {
     "data": {
      "text/plain": [
       "array([[ 1,  2,  3,  4],\n",
       "       [25,  6,  7,  8],\n",
       "       [ 9, 10, 11, 12],\n",
       "       [13, 14, 15, 16]])"
      ]
     },
     "execution_count": 128,
     "metadata": {},
     "output_type": "execute_result"
    }
   ],
   "source": [
    "arr[1][0]=25\n",
    "arr"
   ]
  },
  {
   "cell_type": "code",
   "execution_count": 129,
   "id": "a348a610",
   "metadata": {},
   "outputs": [
    {
     "data": {
      "text/plain": [
       "array([[  1,   2,   3,   4],\n",
       "       [100,   6,   7,   8],\n",
       "       [100, 100, 100, 100],\n",
       "       [100, 100, 100, 100]])"
      ]
     },
     "execution_count": 129,
     "metadata": {},
     "output_type": "execute_result"
    }
   ],
   "source": [
    "arr[arr > 8] = 100\n",
    "arr"
   ]
  },
  {
   "cell_type": "code",
   "execution_count": 130,
   "id": "d8a7e606",
   "metadata": {},
   "outputs": [
    {
     "data": {
      "text/plain": [
       "array([[  1,   2,  99,  99],\n",
       "       [100,   6,  99,  99],\n",
       "       [100, 100,  99,  99],\n",
       "       [100, 100,  99,  99]])"
      ]
     },
     "execution_count": 130,
     "metadata": {},
     "output_type": "execute_result"
    }
   ],
   "source": [
    "arr[:, 2:] = 99\n",
    "arr"
   ]
  },
  {
   "cell_type": "code",
   "execution_count": 131,
   "id": "1f6b839e",
   "metadata": {},
   "outputs": [
    {
     "data": {
      "text/plain": [
       "array([[  1,   2,  99,  99],\n",
       "       [100,   6,  99,  99],\n",
       "       [ -1,  -2,  99,  99],\n",
       "       [ -3,  -4,  99,  99]])"
      ]
     },
     "execution_count": 131,
     "metadata": {},
     "output_type": "execute_result"
    }
   ],
   "source": [
    "arr[2:, :2] = [[-1,-2],[-3,-4]]\n",
    "arr"
   ]
  },
  {
   "cell_type": "markdown",
   "id": "b098b60d",
   "metadata": {},
   "source": [
    "## Quiz \n",
    "다음과 같은 행렬이 주어졌을 때 1로 바꾸기 "
   ]
  },
  {
   "cell_type": "code",
   "execution_count": 149,
   "id": "8e0a41b6",
   "metadata": {},
   "outputs": [
    {
     "data": {
      "text/plain": [
       "array([[0., 0., 1., 0., 0.],\n",
       "       [0., 0., 1., 0., 0.],\n",
       "       [1., 1., 1., 1., 1.],\n",
       "       [0., 0., 1., 0., 0.],\n",
       "       [0., 0., 1., 0., 0.]])"
      ]
     },
     "execution_count": 149,
     "metadata": {},
     "output_type": "execute_result"
    }
   ],
   "source": [
    "Q3 = np.zeros((5,5))\n",
    "Q3[:,2] = 1\n",
    "Q3[2,:] = 1\n",
    "Q3"
   ]
  },
  {
   "cell_type": "markdown",
   "id": "2ead4724",
   "metadata": {},
   "source": [
    "# Array Shape"
   ]
  },
  {
   "cell_type": "markdown",
   "id": "94a71da6",
   "metadata": {},
   "source": [
    "* 넘파이 배열의 상태를 확인하는 방법 \n",
    "    * 배열이 다차원일 경우, 인덱싱 및 슬라이싱을 통해 해당 차원의 크기를 확인가능하다 ."
   ]
  },
  {
   "cell_type": "code",
   "execution_count": 150,
   "id": "88d7cb1a",
   "metadata": {},
   "outputs": [
    {
     "data": {
      "text/plain": [
       "array([ 1,  2,  3,  4,  5,  6,  7,  8,  9, 10, 11, 12, 13, 14, 15, 16])"
      ]
     },
     "execution_count": 150,
     "metadata": {},
     "output_type": "execute_result"
    }
   ],
   "source": [
    "arr = np.arange(1,17)\n",
    "arr"
   ]
  },
  {
   "cell_type": "code",
   "execution_count": 152,
   "id": "c021cc9e",
   "metadata": {},
   "outputs": [
    {
     "name": "stdout",
     "output_type": "stream",
     "text": [
      "행의 길이: 16\n",
      "요소의 수: 16\n",
      "배열의 크기: (16,)\n",
      "배열의 차원: 1\n"
     ]
    }
   ],
   "source": [
    "print(f'행의 길이: {len(arr)}')\n",
    "print(f'요소의 수: {arr.size}')\n",
    "print(f'배열의 크기: {arr.shape}')\n",
    "print(f'배열의 차원: {arr.ndim}')"
   ]
  },
  {
   "cell_type": "markdown",
   "id": "cc5f9bb8",
   "metadata": {},
   "source": [
    "* 행의 길이 - len(arr)\n",
    "* 열의 길이 - len(arr[0])"
   ]
  },
  {
   "cell_type": "code",
   "execution_count": 155,
   "id": "a5e40cfa",
   "metadata": {},
   "outputs": [
    {
     "data": {
      "text/plain": [
       "5"
      ]
     },
     "execution_count": 155,
     "metadata": {},
     "output_type": "execute_result"
    }
   ],
   "source": [
    "len(Q3[0])"
   ]
  },
  {
   "cell_type": "markdown",
   "id": "63af5c2a",
   "metadata": {},
   "source": [
    "## Reshape"
   ]
  },
  {
   "cell_type": "markdown",
   "id": "715407c4",
   "metadata": {},
   "source": [
    "* 예를 들어, 배열의 크기가 (12,)일 경우, (3, 4), (6, 2), (12, 1)로 바꿀 수 있다. \n",
    "* -1을 사용하면, 나머지 축에 대해서 알아서 맞춰줌 \n",
    "    * (-1,4), (6,-1)\n",
    "    * (-1)\n",
    "    \n",
    "   "
   ]
  },
  {
   "cell_type": "code",
   "execution_count": 161,
   "id": "38ed9bf2",
   "metadata": {},
   "outputs": [
    {
     "name": "stdout",
     "output_type": "stream",
     "text": [
      "행의 길이: 4\n",
      "열의 길이: 4\n",
      "배열의 크기: (4, 4)\n",
      "배열의 차원: 2\n"
     ]
    }
   ],
   "source": [
    "arr44 = arr.reshape(4,4)\n",
    "arr44\n",
    "\n",
    "print(f'행의 길이: {len(arr44)}')\n",
    "print(f'열의 길이: {len(arr44[0])}')\n",
    "print(f'배열의 크기: {arr44.shape}')\n",
    "print(f'배열의 차원: {arr44.ndim}')"
   ]
  },
  {
   "cell_type": "code",
   "execution_count": 163,
   "id": "a76a43c6",
   "metadata": {},
   "outputs": [
    {
     "name": "stdout",
     "output_type": "stream",
     "text": [
      "행의 길이: 8\n",
      "열의 길이: 2\n",
      "배열의 크기: (8, 2)\n",
      "배열의 차원: 2\n"
     ]
    },
    {
     "data": {
      "text/plain": [
       "array([[ 1,  2],\n",
       "       [ 3,  4],\n",
       "       [ 5,  6],\n",
       "       [ 7,  8],\n",
       "       [ 9, 10],\n",
       "       [11, 12],\n",
       "       [13, 14],\n",
       "       [15, 16]])"
      ]
     },
     "execution_count": 163,
     "metadata": {},
     "output_type": "execute_result"
    }
   ],
   "source": [
    "arr88 = arr.reshape(8,2)\n",
    "arr88\n",
    "\n",
    "print(f'행의 길이: {len(arr88)}')\n",
    "print(f'열의 길이: {len(arr88[0])}')\n",
    "print(f'배열의 크기: {arr88.shape}')\n",
    "print(f'배열의 차원: {arr88.ndim}')\n",
    "arr88"
   ]
  },
  {
   "cell_type": "code",
   "execution_count": 165,
   "id": "3ee85ce1",
   "metadata": {},
   "outputs": [
    {
     "name": "stdout",
     "output_type": "stream",
     "text": [
      "행의 길이: 16\n",
      "열의 길이: 1\n",
      "배열의 크기: (16, 1)\n",
      "배열의 차원: 2\n"
     ]
    },
    {
     "data": {
      "text/plain": [
       "array([[ 1],\n",
       "       [ 2],\n",
       "       [ 3],\n",
       "       [ 4],\n",
       "       [ 5],\n",
       "       [ 6],\n",
       "       [ 7],\n",
       "       [ 8],\n",
       "       [ 9],\n",
       "       [10],\n",
       "       [11],\n",
       "       [12],\n",
       "       [13],\n",
       "       [14],\n",
       "       [15],\n",
       "       [16]])"
      ]
     },
     "execution_count": 165,
     "metadata": {},
     "output_type": "execute_result"
    }
   ],
   "source": [
    "arr161 = arr.reshape(16,1)\n",
    "arr161\n",
    "\n",
    "print(f'행의 길이: {len(arr161)}')\n",
    "print(f'열의 길이: {len(arr161[0])}')\n",
    "print(f'배열의 크기: {arr161.shape}')\n",
    "print(f'배열의 차원: {arr161.ndim}')\n",
    "arr161"
   ]
  },
  {
   "cell_type": "markdown",
   "id": "b8d48ea3",
   "metadata": {},
   "source": [
    "## Quiz. 다음과 같은 길이 45짜리 행렬이 주어졌을 때, 크기를 9x5x1로 바꿔 출력 후, 크기를 확인하는 코드를 아래 셀에 작성하세요."
   ]
  },
  {
   "cell_type": "code",
   "execution_count": 176,
   "id": "51062ed0",
   "metadata": {},
   "outputs": [
    {
     "name": "stdout",
     "output_type": "stream",
     "text": [
      "(45,)\n"
     ]
    },
    {
     "data": {
      "text/plain": [
       "array([0., 0., 0., 0., 0., 0., 0., 0., 0., 0., 0., 0., 0., 0., 0., 0., 0.,\n",
       "       0., 0., 0., 0., 0., 0., 0., 0., 0., 0., 0., 0., 0., 0., 0., 0., 0.,\n",
       "       0., 0., 0., 0., 0., 0., 0., 0., 0., 0., 0.])"
      ]
     },
     "execution_count": 176,
     "metadata": {},
     "output_type": "execute_result"
    }
   ],
   "source": [
    "Q4 = np.zeros(45)\n",
    "print(Q4.shape)\n",
    "\n",
    "Q4.reshape(9,5,1).shape\n",
    "\n",
    "Q4"
   ]
  },
  {
   "cell_type": "markdown",
   "id": "1af1388d",
   "metadata": {},
   "source": [
    "## Numpy Operation"
   ]
  },
  {
   "cell_type": "markdown",
   "id": "05850615",
   "metadata": {},
   "source": [
    "* 넘파이 배열은 빠르다. \n",
    "    * 반복문을 사용하지 않고 배열의 모든 원소에 대해 연산을 처리할 수 있어서\n",
    "    * 이를 벡터화 연산이라고 한다. \n",
    "* 연산을 위한 조건은 연산하고자 하는 배열의 크기가 모두 동일해야 한다.\n",
    "\n"
   ]
  },
  {
   "cell_type": "markdown",
   "id": "95777060",
   "metadata": {},
   "source": [
    "### Addition"
   ]
  },
  {
   "cell_type": "code",
   "execution_count": 177,
   "id": "1e99ba5f",
   "metadata": {},
   "outputs": [
    {
     "data": {
      "text/plain": [
       "array([ 2,  4,  6,  8, 10])"
      ]
     },
     "execution_count": 177,
     "metadata": {},
     "output_type": "execute_result"
    }
   ],
   "source": [
    "A = np.arange(1,10,2)\n",
    "B = np.array([1,1,1,1,1])\n",
    "np.add(A,B)"
   ]
  },
  {
   "cell_type": "code",
   "execution_count": 178,
   "id": "51a1b1ba",
   "metadata": {},
   "outputs": [
    {
     "data": {
      "text/plain": [
       "array([[ 6, 15],\n",
       "       [13, 13]])"
      ]
     },
     "execution_count": 178,
     "metadata": {},
     "output_type": "execute_result"
    }
   ],
   "source": [
    "A = np.array([[1,5],\n",
    "              [4,2]])\n",
    "B = np.array([[1,3],\n",
    "              [2,7]])\n",
    "C = np.array([[4,7],\n",
    "              [7,4]])\n",
    "A + B + C "
   ]
  },
  {
   "cell_type": "markdown",
   "id": "f1d88254",
   "metadata": {},
   "source": [
    "## Subtraction"
   ]
  },
  {
   "cell_type": "code",
   "execution_count": 181,
   "id": "8e2b48fb",
   "metadata": {},
   "outputs": [
    {
     "data": {
      "text/plain": [
       "array([[-4, -5],\n",
       "       [-5, -9]])"
      ]
     },
     "execution_count": 181,
     "metadata": {},
     "output_type": "execute_result"
    }
   ],
   "source": [
    "A = np.array([[1,5],\n",
    "              [4,2]])\n",
    "B = np.array([[1,3],\n",
    "              [2,7]])\n",
    "C = np.array([[4,7],\n",
    "              [7,4]])\n",
    "A - B - C "
   ]
  },
  {
   "cell_type": "code",
   "execution_count": 182,
   "id": "24da9e83",
   "metadata": {},
   "outputs": [
    {
     "data": {
      "text/plain": [
       "array([[  4, 105],\n",
       "       [ 56,  56]])"
      ]
     },
     "execution_count": 182,
     "metadata": {},
     "output_type": "execute_result"
    }
   ],
   "source": [
    "A = np.array([[1,5],\n",
    "              [4,2]])\n",
    "B = np.array([[1,3],\n",
    "              [2,7]])\n",
    "C = np.array([[4,7],\n",
    "              [7,4]])\n",
    "A - B - C "
   ]
  },
  {
   "cell_type": "code",
   "execution_count": 183,
   "id": "f1caa7e5",
   "metadata": {},
   "outputs": [
    {
     "data": {
      "text/plain": [
       "array([[0.25      , 0.23809524],\n",
       "       [0.28571429, 0.07142857]])"
      ]
     },
     "execution_count": 183,
     "metadata": {},
     "output_type": "execute_result"
    }
   ],
   "source": [
    "A = np.array([[1,5],\n",
    "              [4,2]])\n",
    "B = np.array([[1,3],\n",
    "              [2,7]])\n",
    "C = np.array([[4,7],\n",
    "              [7,4]])\n",
    "A / B / C "
   ]
  },
  {
   "cell_type": "markdown",
   "id": "bbb6fe3a",
   "metadata": {},
   "source": [
    "* 넘파이는 크기가 동일하다는 전제 하에 사칙연산이 가능하다. \n",
    "* 방법도 실제 사칙연산과 동일하다. "
   ]
  },
  {
   "cell_type": "markdown",
   "id": "ec9d8b51",
   "metadata": {},
   "source": [
    "## Broadcasting "
   ]
  },
  {
   "cell_type": "markdown",
   "id": "4f437d7b",
   "metadata": {},
   "source": [
    "## Dimension Reduction"
   ]
  },
  {
   "cell_type": "markdown",
   "id": "c0d1af33",
   "metadata": {},
   "source": [
    "* 데이터가 주어졌을 때, 각 성적에 대한 평균, 학생들의 평균 등 행이나 열에 따라 값을 구하는 연산을 차원 축소 연산이라고 한다.\n",
    "* 행과 열에 대한 계산은 축에 따라 계산되며, 축을 지정하지 않으면 전체를 계산하게 됨\n",
    "    * 축을 음수로 사용하면 현재 데이터에서 제일 큰 차원이 기준이 된다. \n",
    "        axis = -1 --> 3dim, axis = -2 --> 2dim, axis = -3 --> 1dim\n",
    "    * 3dim 기준 "
   ]
  },
  {
   "cell_type": "code",
   "execution_count": 184,
   "id": "d1eee86f",
   "metadata": {},
   "outputs": [
    {
     "data": {
      "text/plain": [
       "array([[ 97,  78,  43,  53],\n",
       "       [ 78,  65,  57,  68],\n",
       "       [100,  98,  36,  59],\n",
       "       [ 35,  50,   7,  46]])"
      ]
     },
     "execution_count": 184,
     "metadata": {},
     "output_type": "execute_result"
    }
   ],
   "source": [
    "scores = np.array([[97,78,43,53],\n",
    "                   [78,65,57,68],\n",
    "                   [100,98,36,59],\n",
    "                   [35,50,7,46]])\n",
    "scores"
   ]
  },
  {
   "cell_type": "code",
   "execution_count": 186,
   "id": "f9f24b05",
   "metadata": {},
   "outputs": [
    {
     "data": {
      "text/plain": [
       "array([77.5 , 72.75, 35.75, 56.5 ])"
      ]
     },
     "execution_count": 186,
     "metadata": {},
     "output_type": "execute_result"
    }
   ],
   "source": [
    "students_mean = scores.mean(axis = 0)\n",
    "students_mean\n"
   ]
  },
  {
   "cell_type": "code",
   "execution_count": 187,
   "id": "c774a2ac",
   "metadata": {},
   "outputs": [
    {
     "name": "stdout",
     "output_type": "stream",
     "text": [
      "A의 평균: 77.5\n",
      "B의 평균: 72.75\n",
      "C의 평균: 35.75\n",
      "D의 평균: 56.5\n"
     ]
    }
   ],
   "source": [
    "students_mean = scores.mean(axis = 0)\n",
    "\n",
    "print(f'A의 평균: {students_mean[0]}')\n",
    "print(f'B의 평균: {students_mean[1]}')\n",
    "print(f'C의 평균: {students_mean[2]}')\n",
    "print(f'D의 평균: {students_mean[3]}')"
   ]
  },
  {
   "cell_type": "code",
   "execution_count": 188,
   "id": "2710ea57",
   "metadata": {},
   "outputs": [
    {
     "name": "stdout",
     "output_type": "stream",
     "text": [
      "국어의 평균: 67.75\n",
      "영어의 평균: 67.0\n",
      "수학의 평균: 73.25\n",
      "탐구의 평균: 34.5\n"
     ]
    }
   ],
   "source": [
    "subject_mean = scores.mean(axis = 1)\n",
    "\n",
    "print(f'국어의 평균: {subject_mean[0]}')\n",
    "print(f'영어의 평균: {subject_mean[1]}')\n",
    "print(f'수학의 평균: {subject_mean[2]}')\n",
    "print(f'탐구의 평균: {subject_mean[3]}')"
   ]
  },
  {
   "cell_type": "code",
   "execution_count": 191,
   "id": "2100d6f3",
   "metadata": {},
   "outputs": [
    {
     "name": "stdout",
     "output_type": "stream",
     "text": [
      "국어의 표준편차: 21.16\n",
      "영어의 표준편차: 7.517\n",
      "수학의 표준편차: 27.01\n",
      "탐구의 표준편차: 16.8\n"
     ]
    }
   ],
   "source": [
    "subject_std = scores.std(axis = 1)\n",
    "\n",
    "print(f'국어의 표준편차: {round(subject_std[0],2)}')\n",
    "print(f'영어의 표준편차: {round(subject_std[1],3)}')\n",
    "print(f'수학의 표준편차: {round(subject_std[2],2)}')\n",
    "print(f'탐구의 표준편차: {round(subject_std[3],1)}')"
   ]
  },
  {
   "cell_type": "code",
   "execution_count": 201,
   "id": "5ea22d60",
   "metadata": {},
   "outputs": [
    {
     "data": {
      "text/plain": [
       "array([[ 97,  78, 100,  35],\n",
       "       [ 78,  65,  98,  50],\n",
       "       [ 43,  57,  36,   7],\n",
       "       [ 53,  68,  59,  46]])"
      ]
     },
     "execution_count": 201,
     "metadata": {},
     "output_type": "execute_result"
    }
   ],
   "source": [
    "Q7 = scores.T\n",
    "Q7"
   ]
  },
  {
   "cell_type": "markdown",
   "id": "b5e91350",
   "metadata": {},
   "source": [
    "#### Quiz. 위와 같이 전치 행렬이 주어졌을 때, 학생들의 과목 평균 및 표준편차 구하기\n",
    "\n",
    "* 행 = 학생 (axis = 1)\n",
    "* 열 = 성적 (axis = 0)"
   ]
  },
  {
   "cell_type": "code",
   "execution_count": 202,
   "id": "0dfb5b91",
   "metadata": {},
   "outputs": [
    {
     "name": "stdout",
     "output_type": "stream",
     "text": [
      "A의 평균: 77.5\n",
      "B의 평균: 72.75\n",
      "C의 평균: 35.75\n",
      "D의 평균: 56.5\n"
     ]
    }
   ],
   "source": [
    "students_mean = scores.T.mean(axis = 1)\n",
    "\n",
    "print(f'A의 평균: {students_mean[0]}')\n",
    "print(f'B의 평균: {students_mean[1]}')\n",
    "print(f'C의 평균: {students_mean[2]}')\n",
    "print(f'D의 평균: {students_mean[3]}')\n"
   ]
  },
  {
   "cell_type": "code",
   "execution_count": 203,
   "id": "36b95b43",
   "metadata": {},
   "outputs": [
    {
     "name": "stdout",
     "output_type": "stream",
     "text": [
      "국어의 표준편차: 21.16\n",
      "영어의 표준편차: 7.517\n",
      "수학의 표준편차: 27.01\n",
      "탐구의 표준편차: 16.8\n"
     ]
    }
   ],
   "source": [
    "subject_std = scores.T.std(axis = 0)\n",
    "\n",
    "print(f'국어의 표준편차: {round(subject_std[0],2)}')\n",
    "print(f'영어의 표준편차: {round(subject_std[1],3)}')\n",
    "print(f'수학의 표준편차: {round(subject_std[2],2)}')\n",
    "print(f'탐구의 표준편차: {round(subject_std[3],2)}')"
   ]
  },
  {
   "cell_type": "markdown",
   "id": "7f592534",
   "metadata": {},
   "source": [
    "### argmin & argmax \n",
    "* 최소 및 최대값의 위치 = 인덱스 반환\n",
    "    * 축을 지정하지 않으면 1차원 기준으로 생각해서 인덱스를 반환한다. \n",
    "    * 축을 지정하면 각 열 혹은 행에 대해서 순서를 기준으로 위치를 반환한다. "
   ]
  },
  {
   "cell_type": "code",
   "execution_count": 207,
   "id": "10b8484c",
   "metadata": {},
   "outputs": [
    {
     "data": {
      "text/plain": [
       "14"
      ]
     },
     "execution_count": 207,
     "metadata": {},
     "output_type": "execute_result"
    }
   ],
   "source": [
    "scores.argmin()\n",
    "#scores.argmax()"
   ]
  },
  {
   "cell_type": "code",
   "execution_count": 209,
   "id": "6b46b7e7",
   "metadata": {},
   "outputs": [
    {
     "data": {
      "text/plain": [
       "array([2, 2, 2, 2], dtype=int64)"
      ]
     },
     "execution_count": 209,
     "metadata": {},
     "output_type": "execute_result"
    }
   ],
   "source": [
    "scores.argmin(axis=1)"
   ]
  },
  {
   "cell_type": "markdown",
   "id": "3d3a57c3",
   "metadata": {},
   "source": [
    "* 최빈값"
   ]
  },
  {
   "cell_type": "code",
   "execution_count": 210,
   "id": "49a84619",
   "metadata": {},
   "outputs": [
    {
     "data": {
      "text/plain": [
       "78"
      ]
     },
     "execution_count": 210,
     "metadata": {},
     "output_type": "execute_result"
    }
   ],
   "source": [
    "np.bincount(scores.reshape(-1)).argmax()"
   ]
  },
  {
   "cell_type": "markdown",
   "id": "40a1bb2b",
   "metadata": {},
   "source": [
    "## Sum()"
   ]
  },
  {
   "cell_type": "code",
   "execution_count": 212,
   "id": "64c028aa",
   "metadata": {},
   "outputs": [
    {
     "data": {
      "text/plain": [
       "970"
      ]
     },
     "execution_count": 212,
     "metadata": {},
     "output_type": "execute_result"
    }
   ],
   "source": [
    "scores.sum()"
   ]
  },
  {
   "cell_type": "code",
   "execution_count": 213,
   "id": "8b33e931",
   "metadata": {},
   "outputs": [
    {
     "data": {
      "text/plain": [
       "array([310, 291, 143, 226])"
      ]
     },
     "execution_count": 213,
     "metadata": {},
     "output_type": "execute_result"
    }
   ],
   "source": [
    "scores.sum(axis=0)"
   ]
  },
  {
   "cell_type": "code",
   "execution_count": 214,
   "id": "1bd96116",
   "metadata": {},
   "outputs": [
    {
     "data": {
      "text/plain": [
       "array([271, 268, 293, 138])"
      ]
     },
     "execution_count": 214,
     "metadata": {},
     "output_type": "execute_result"
    }
   ],
   "source": [
    "scores.sum(axis=1)"
   ]
  },
  {
   "cell_type": "markdown",
   "id": "2423507e",
   "metadata": {},
   "source": [
    "### Q8. sum()을 사용하여 과목들의 평균을 구하기 \n",
    "* 평균 = 데이터의 총합 / 데이터의 수 \n"
   ]
  },
  {
   "cell_type": "code",
   "execution_count": 228,
   "id": "2549d5a1",
   "metadata": {},
   "outputs": [
    {
     "name": "stdout",
     "output_type": "stream",
     "text": [
      "국어 평균 :  67.75\n",
      "영어 평균 :  67.0\n",
      "수학 평균 :  73.25\n",
      "탐구 평균 :  34.5\n"
     ]
    }
   ],
   "source": [
    "scores = np.array([[97,78,43,53],\n",
    "                   [78,65,57,68],\n",
    "                   [100,98,36,59],\n",
    "                   [35,50,7,46]])\n",
    "scores.sum(axis=1)\n",
    "a = scores.sum(axis=1)\n",
    "\n",
    "print(f'국어 평균 : ', a[0]/4 )\n",
    "print(f'영어 평균 : ', a[1]/4 )\n",
    "print(f'수학 평균 : ', a[2]/4 )\n",
    "print(f'탐구 평균 : ', a[3]/4 )\n"
   ]
  },
  {
   "cell_type": "code",
   "execution_count": 229,
   "id": "7d754995",
   "metadata": {},
   "outputs": [
    {
     "data": {
      "text/plain": [
       "array([67.75, 67.  , 73.25, 34.5 ])"
      ]
     },
     "execution_count": 229,
     "metadata": {},
     "output_type": "execute_result"
    }
   ],
   "source": [
    "Q8 = scores.sum(axis=1) / len(scores[0])\n",
    "Q8"
   ]
  }
 ],
 "metadata": {
  "kernelspec": {
   "display_name": "Python 3 (ipykernel)",
   "language": "python",
   "name": "python3"
  },
  "language_info": {
   "codemirror_mode": {
    "name": "ipython",
    "version": 3
   },
   "file_extension": ".py",
   "mimetype": "text/x-python",
   "name": "python",
   "nbconvert_exporter": "python",
   "pygments_lexer": "ipython3",
   "version": "3.9.13"
  }
 },
 "nbformat": 4,
 "nbformat_minor": 5
}
