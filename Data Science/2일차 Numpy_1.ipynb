{
 "cells": [
  {
   "cell_type": "markdown",
   "id": "fb7dba3a",
   "metadata": {
    "id": "fb7dba3a"
   },
   "source": [
    "# Numpy"
   ]
  },
  {
   "cell_type": "markdown",
   "id": "39295213",
   "metadata": {
    "id": "39295213"
   },
   "source": [
    "# What is Numpy?"
   ]
  },
  {
   "cell_type": "markdown",
   "id": "4454b895",
   "metadata": {
    "id": "4454b895"
   },
   "source": [
    "<img src=\"https://numpy.org/doc/stable/_static/numpylogo.svg\" width=\"400\">"
   ]
  },
  {
   "cell_type": "markdown",
   "id": "169d8f24",
   "metadata": {
    "id": "169d8f24"
   },
   "source": [
    "* 과학 및 공학 분야의 파이썬 프로그래밍에서 사용되는 오픈 소스 라이브러리\n",
    "    * 데이터 분석 및 인공지능 구현 등에 사용\n",
    "    * 행렬 형태로 구성된 데이터 조작에 용이\n",
    "        * 대규모의 다차원 배열 조작도 포함\n",
    "            * ex) Tensor\n",
    "    * 빠르고 간단하게 데이터 처리 가능"
   ]
  },
  {
   "cell_type": "markdown",
   "id": "4869e9ba",
   "metadata": {
    "id": "4869e9ba"
   },
   "source": [
    "# So why Numpy?"
   ]
  },
  {
   "cell_type": "markdown",
   "id": "e03cca0f",
   "metadata": {
    "id": "e03cca0f"
   },
   "source": [
    "* 파이썬의 List의 경우 자료형의 상관없이 저장이 가능하기에 값을 저장하는 것이 아닌 주소를 저장\n",
    "    * 해당 주소는 연속적이지 않음\n",
    "    * 반면에 Numpy 배열의 경우 단일 자료형의 데이터만 취급하기 때문에 연속적으로 저장"
   ]
  },
  {
   "cell_type": "markdown",
   "id": "cb36d9ee",
   "metadata": {
    "id": "cb36d9ee"
   },
   "source": [
    "* 아래 이미지를 통해 값의 접근하는 과정을 비교해 보자.\n",
    "    * Numpy의 경우, 순서만 알면 바로 접근 가능하지만, List의 경우 해당 주소에 존재하는 객체에 접근하여 값을 찾아야 하기에 접근 과정이 번잡"
   ]
  },
  {
   "cell_type": "markdown",
   "id": "bf8c97f5",
   "metadata": {
    "id": "bf8c97f5"
   },
   "source": [
    "<img src=\"https://i.stack.imgur.com/K26b0.png\" width=\"500\">"
   ]
  },
  {
   "cell_type": "markdown",
   "id": "2047531e",
   "metadata": {
    "id": "2047531e"
   },
   "source": [
    "* \"빠르고 간단하게 데이터 처리 가능\"이 무슨 의미인지 코드로 확인해 보자\n",
    "* 해당 예제는 단순히 왜 Numpy를 사용하는지 보여주기 위함이다."
   ]
  },
  {
   "cell_type": "markdown",
   "id": "5af2bd01",
   "metadata": {
    "id": "5af2bd01"
   },
   "source": [
    "* 행렬의 내적 계산\n",
    "    * 코드의 간결성과 평균 실행 시간을 비교해 보자\n",
    "    * 내적의 계산 방법은 다루지 않는다."
   ]
  },
  {
   "cell_type": "code",
   "execution_count": 1,
   "id": "47a1c521",
   "metadata": {
    "id": "47a1c521"
   },
   "outputs": [],
   "source": [
    "A = [list(range(10000, 20000)), list(range(20000, 30000))]  # 2행 10000열 크기의 행렬\n",
    "B = [[1, 2] for _ in range(10000)]  # 10000행 2열 크기의 행렬"
   ]
  },
  {
   "cell_type": "markdown",
   "id": "665682ea",
   "metadata": {
    "id": "665682ea"
   },
   "source": [
    "## 단순 반복문 사용"
   ]
  },
  {
   "cell_type": "code",
   "execution_count": 2,
   "id": "dbd69593",
   "metadata": {
    "id": "dbd69593"
   },
   "outputs": [],
   "source": [
    "AB1 = [[0]*len(B[0]) for _ in range(len(A))]"
   ]
  },
  {
   "cell_type": "code",
   "execution_count": 3,
   "id": "926bc937",
   "metadata": {
    "id": "926bc937"
   },
   "outputs": [
    {
     "name": "stdout",
     "output_type": "stream",
     "text": [
      "Wall time: 11 ms\n"
     ]
    },
    {
     "data": {
      "text/plain": [
       "[[149995000, 299990000], [249995000, 499990000]]"
      ]
     },
     "execution_count": 3,
     "metadata": {},
     "output_type": "execute_result"
    }
   ],
   "source": [
    "%%time\n",
    "for i in range(len(A)): \n",
    "    for j in range(len(B[0])): \n",
    "        for k in range(len(A[0])): \n",
    "            AB1[i][j] += A[i][k] * B[k][j]\n",
    "AB1"
   ]
  },
  {
   "cell_type": "markdown",
   "id": "66be7ae0",
   "metadata": {
    "id": "66be7ae0"
   },
   "source": [
    "## List Comprehension 사용"
   ]
  },
  {
   "cell_type": "code",
   "execution_count": 4,
   "id": "9b5431b8",
   "metadata": {
    "id": "9b5431b8"
   },
   "outputs": [
    {
     "name": "stdout",
     "output_type": "stream",
     "text": [
      "Wall time: 4.99 ms\n"
     ]
    },
    {
     "data": {
      "text/plain": [
       "[[149995000, 299990000], [249995000, 499990000]]"
      ]
     },
     "execution_count": 4,
     "metadata": {},
     "output_type": "execute_result"
    }
   ],
   "source": [
    "%%time\n",
    "AB2 = [[sum(a*b for a, b in zip(A_row,B_col)) for B_col in zip(*B)] for A_row in A]\n",
    "AB2"
   ]
  },
  {
   "cell_type": "markdown",
   "id": "b2e6947b",
   "metadata": {
    "id": "b2e6947b"
   },
   "source": [
    "## Numpy 사용"
   ]
  },
  {
   "cell_type": "code",
   "execution_count": 5,
   "id": "dc54f6a3",
   "metadata": {
    "id": "dc54f6a3"
   },
   "outputs": [],
   "source": [
    "import numpy as np"
   ]
  },
  {
   "cell_type": "code",
   "execution_count": 6,
   "id": "91aa3bec",
   "metadata": {
    "id": "91aa3bec"
   },
   "outputs": [],
   "source": [
    "#np.__version__"
   ]
  },
  {
   "cell_type": "code",
   "execution_count": 7,
   "id": "94597cbb",
   "metadata": {
    "id": "94597cbb"
   },
   "outputs": [],
   "source": [
    "A_ = np.array(A)\n",
    "B_ = np.array(B)"
   ]
  },
  {
   "cell_type": "code",
   "execution_count": 8,
   "id": "1061837c",
   "metadata": {
    "id": "1061837c"
   },
   "outputs": [
    {
     "name": "stdout",
     "output_type": "stream",
     "text": [
      "Wall time: 0 ns\n"
     ]
    },
    {
     "data": {
      "text/plain": [
       "array([[149995000, 299990000],\n",
       "       [249995000, 499990000]])"
      ]
     },
     "execution_count": 8,
     "metadata": {},
     "output_type": "execute_result"
    }
   ],
   "source": [
    "%%time\n",
    "A_.dot(B_)"
   ]
  },
  {
   "cell_type": "markdown",
   "id": "9394cd6c",
   "metadata": {
    "id": "9394cd6c"
   },
   "source": [
    "## 결과"
   ]
  },
  {
   "cell_type": "code",
   "execution_count": 9,
   "id": "980c333a",
   "metadata": {
    "id": "980c333a"
   },
   "outputs": [
    {
     "data": {
      "text/plain": [
       "True"
      ]
     },
     "execution_count": 9,
     "metadata": {},
     "output_type": "execute_result"
    }
   ],
   "source": [
    "AB1 == AB2 == A_.dot(B_).tolist()"
   ]
  },
  {
   "cell_type": "markdown",
   "id": "954634a7",
   "metadata": {
    "id": "954634a7"
   },
   "source": [
    "# How to use Numpy"
   ]
  },
  {
   "cell_type": "markdown",
   "id": "e29d0abd",
   "metadata": {
    "id": "e29d0abd"
   },
   "source": [
    "## Installation"
   ]
  },
  {
   "cell_type": "markdown",
   "id": "68b4494d",
   "metadata": {
    "id": "68b4494d"
   },
   "source": [
    "* 만약 설치가 안 되어 있다면 아래 셀을 실행하여 설치할 수 있다."
   ]
  },
  {
   "cell_type": "code",
   "execution_count": 10,
   "id": "43931aee",
   "metadata": {
    "id": "43931aee"
   },
   "outputs": [],
   "source": [
    "#pip install numpy"
   ]
  },
  {
   "cell_type": "markdown",
   "id": "bee293ae",
   "metadata": {
    "id": "bee293ae"
   },
   "source": [
    "* Numpy 라이브러리를 사용하기 위해 아래 셀과 같이 import\n",
    "* np는 import한 라이브러리의 별칭\n",
    "    * 별칭을 지정하지 않으면 해당 라이브러리를 사용할 때마다 \"numpy.\" 의 형태로 사용해야 함\n",
    "    * 별칭을 지정하는데 별도의 규칙은 없지만 통용적으로 \"np\"를 사용"
   ]
  },
  {
   "cell_type": "markdown",
   "id": "06ecd904",
   "metadata": {
    "id": "06ecd904"
   },
   "source": [
    "## Array creation"
   ]
  },
  {
   "cell_type": "markdown",
   "id": "87a31111",
   "metadata": {
    "id": "87a31111"
   },
   "source": [
    "* 기본적인 배열 생성 방법을 알아본다."
   ]
  },
  {
   "cell_type": "markdown",
   "id": "957c04d9",
   "metadata": {
    "id": "957c04d9"
   },
   "source": [
    "### 1-Dmension"
   ]
  },
  {
   "cell_type": "markdown",
   "id": "0e0cf38d",
   "metadata": {
    "id": "0e0cf38d"
   },
   "source": [
    "* 일반적으로 1차원 형태의 데이터 집합을 벡터(Vector)라고 한다."
   ]
  },
  {
   "cell_type": "code",
   "execution_count": 11,
   "id": "1b792f25",
   "metadata": {
    "id": "1b792f25"
   },
   "outputs": [
    {
     "name": "stdout",
     "output_type": "stream",
     "text": [
      "[1, 3, 2, 5]\n",
      "<class 'list'>\n"
     ]
    }
   ],
   "source": [
    "list_arr1 = [1, 3, 2, 5]\n",
    "print(list_arr1)\n",
    "print(type(list_arr1))"
   ]
  },
  {
   "cell_type": "code",
   "execution_count": 12,
   "id": "349c4e33",
   "metadata": {
    "id": "349c4e33"
   },
   "outputs": [
    {
     "name": "stdout",
     "output_type": "stream",
     "text": [
      "[1 3 2 5]\n",
      "<class 'numpy.ndarray'>\n"
     ]
    }
   ],
   "source": [
    "#numpy_arr = np.array([1, 3, 2, 5])\n",
    "numpy_arr1 = np.array(list_arr1)\n",
    "print(numpy_arr1)\n",
    "print(type(numpy_arr1))"
   ]
  },
  {
   "cell_type": "markdown",
   "id": "8e0e2a6d",
   "metadata": {
    "id": "8e0e2a6d"
   },
   "source": [
    "### 2-Dimension"
   ]
  },
  {
   "cell_type": "markdown",
   "id": "9a1549c0",
   "metadata": {
    "id": "9a1549c0"
   },
   "source": [
    "* 일반적으로 2차원 형태의 데이터 집합을 행렬(Matrix)라고 한다."
   ]
  },
  {
   "cell_type": "code",
   "execution_count": 13,
   "id": "83bbe9f5",
   "metadata": {
    "id": "83bbe9f5"
   },
   "outputs": [
    {
     "name": "stdout",
     "output_type": "stream",
     "text": [
      "[[1, 3, 2, 5], [7, 4, 9, 0]]\n",
      "<class 'list'>\n"
     ]
    }
   ],
   "source": [
    "list_arr2 = [[1, 3, 2, 5], [7, 4, 9, 0]]\n",
    "print(list_arr2)\n",
    "print(type(list_arr2))"
   ]
  },
  {
   "cell_type": "code",
   "execution_count": 14,
   "id": "0605ce00",
   "metadata": {
    "id": "0605ce00"
   },
   "outputs": [
    {
     "name": "stdout",
     "output_type": "stream",
     "text": [
      "[[1 3 2 5]\n",
      " [7 4 9 0]]\n",
      "<class 'numpy.ndarray'>\n"
     ]
    }
   ],
   "source": [
    "#numpy_arr = np.array([[1, 3, 2, 5], [7, 4, 9, 0]])\n",
    "numpy_arr2 = np.array(list_arr2)\n",
    "print(numpy_arr2)\n",
    "print(type(numpy_arr2))"
   ]
  },
  {
   "cell_type": "markdown",
   "id": "e6789e37",
   "metadata": {
    "id": "e6789e37"
   },
   "source": [
    "### 3-Dimension"
   ]
  },
  {
   "cell_type": "markdown",
   "id": "f2303bb7",
   "metadata": {
    "id": "f2303bb7"
   },
   "source": [
    "* 일반적으로 3차원 혹은 그 이상의 차원을 가진 데이터의 집합을 텐서(Tensor)라고 한다."
   ]
  },
  {
   "cell_type": "code",
   "execution_count": 15,
   "id": "2aaa9c69",
   "metadata": {
    "id": "2aaa9c69"
   },
   "outputs": [
    {
     "name": "stdout",
     "output_type": "stream",
     "text": [
      "[[[1, 3, 2, 5], [7, 4, 9, 0]], [[6, 8, 12, 15], [17, 14, 19, 10]]]\n",
      "<class 'list'>\n"
     ]
    }
   ],
   "source": [
    "list_arr3 = [[[1, 3, 2, 5], [7, 4, 9, 0]], [[6, 8, 12, 15], [17, 14, 19, 10]]]\n",
    "print(list_arr3)\n",
    "print(type(list_arr3))"
   ]
  },
  {
   "cell_type": "code",
   "execution_count": 16,
   "id": "d8119a2e",
   "metadata": {
    "id": "d8119a2e"
   },
   "outputs": [
    {
     "name": "stdout",
     "output_type": "stream",
     "text": [
      "[[[ 1  3  2  5]\n",
      "  [ 7  4  9  0]]\n",
      "\n",
      " [[ 6  8 12 15]\n",
      "  [17 14 19 10]]]\n",
      "<class 'numpy.ndarray'>\n"
     ]
    }
   ],
   "source": [
    "#numpy_arr = np.array([[[1, 3, 2, 5], [7, 4, 9, 0]], [[6, 8, 12, 15], [17, 14, 19, 10]]])\n",
    "numpy_arr3 = np.array(list_arr3)\n",
    "print(numpy_arr3)\n",
    "print(type(numpy_arr3))"
   ]
  },
  {
   "cell_type": "markdown",
   "id": "c6711cef",
   "metadata": {
    "id": "c6711cef"
   },
   "source": [
    "<img src=\"https://art28.github.io/assets/lecture_asset/linear_algebra/1_1.png\" width=\"800\">"
   ]
  },
  {
   "cell_type": "markdown",
   "id": "0fa8c7ec",
   "metadata": {
    "id": "0fa8c7ec"
   },
   "source": [
    "### zeros and ones"
   ]
  },
  {
   "cell_type": "markdown",
   "id": "d6e8daed",
   "metadata": {
    "id": "d6e8daed"
   },
   "source": [
    "* 0 혹은 1로 된 배열을 생성"
   ]
  },
  {
   "cell_type": "markdown",
   "id": "387b8123",
   "metadata": {
    "id": "387b8123"
   },
   "source": [
    "* 1차원 생성\n",
    "    * np.zeros((len))\n",
    "    * np.ones((len))"
   ]
  },
  {
   "cell_type": "code",
   "execution_count": 17,
   "id": "3dc2b811",
   "metadata": {
    "id": "3dc2b811"
   },
   "outputs": [
    {
     "data": {
      "text/plain": [
       "array([0., 0., 0.])"
      ]
     },
     "execution_count": 17,
     "metadata": {},
     "output_type": "execute_result"
    }
   ],
   "source": [
    "np.zeros(3)\n",
    "#np.ones(3)"
   ]
  },
  {
   "cell_type": "markdown",
   "id": "6b8c2efa",
   "metadata": {
    "id": "6b8c2efa"
   },
   "source": [
    "* 2차원 생성\n",
    "    * np.zeros((row, col))\n",
    "    * np.ones((row, col))"
   ]
  },
  {
   "cell_type": "code",
   "execution_count": 18,
   "id": "3b0356fb",
   "metadata": {
    "id": "3b0356fb"
   },
   "outputs": [
    {
     "data": {
      "text/plain": [
       "array([[0., 0., 0.],\n",
       "       [0., 0., 0.],\n",
       "       [0., 0., 0.]])"
      ]
     },
     "execution_count": 18,
     "metadata": {},
     "output_type": "execute_result"
    }
   ],
   "source": [
    "np.zeros((3, 3))\n",
    "#np.ones((3, 3))"
   ]
  },
  {
   "cell_type": "markdown",
   "id": "9d8e9d10",
   "metadata": {
    "id": "9d8e9d10"
   },
   "source": [
    "* 3차원 생성\n",
    "    * np.zeros((depth, row, col))\n",
    "    * np.ones((depth, row, col))"
   ]
  },
  {
   "cell_type": "code",
   "execution_count": 19,
   "id": "676c6d48",
   "metadata": {
    "id": "676c6d48"
   },
   "outputs": [
    {
     "data": {
      "text/plain": [
       "array([[[0., 0., 0.],\n",
       "        [0., 0., 0.],\n",
       "        [0., 0., 0.]],\n",
       "\n",
       "       [[0., 0., 0.],\n",
       "        [0., 0., 0.],\n",
       "        [0., 0., 0.]],\n",
       "\n",
       "       [[0., 0., 0.],\n",
       "        [0., 0., 0.],\n",
       "        [0., 0., 0.]]])"
      ]
     },
     "execution_count": 19,
     "metadata": {},
     "output_type": "execute_result"
    }
   ],
   "source": [
    "np.zeros((3, 3, 3))\n",
    "#np.ones((3, 3, 3))"
   ]
  },
  {
   "cell_type": "markdown",
   "id": "c20ba3b5",
   "metadata": {
    "id": "c20ba3b5"
   },
   "source": [
    "### random.rand"
   ]
  },
  {
   "cell_type": "markdown",
   "id": "ce1569eb",
   "metadata": {
    "id": "ce1569eb"
   },
   "source": [
    "* random 모듈에 포함된 rand 함수를 사용하면 주어진 크기에 0 ~ 1 사이의 값을 가진 배열을 생성\n",
    "* zeros 및 ones 함수와 파라미터 사용방법은 동일하나 소괄호가 따로 붙지 않는 것에 주의"
   ]
  },
  {
   "cell_type": "code",
   "execution_count": 20,
   "id": "580ed57a",
   "metadata": {
    "id": "580ed57a"
   },
   "outputs": [
    {
     "data": {
      "text/plain": [
       "array([[0.35116766, 0.18684085, 0.82119011, 0.06458207, 0.90619991],\n",
       "       [0.83907456, 0.51906892, 0.41481199, 0.93645666, 0.20171414],\n",
       "       [0.19176069, 0.99119233, 0.57585336, 0.22537541, 0.45214769]])"
      ]
     },
     "execution_count": 20,
     "metadata": {},
     "output_type": "execute_result"
    }
   ],
   "source": [
    "np.random.rand(3, 5)"
   ]
  },
  {
   "cell_type": "markdown",
   "id": "9918111a",
   "metadata": {
    "id": "9918111a"
   },
   "source": [
    "### arange"
   ]
  },
  {
   "cell_type": "markdown",
   "id": "7c39d767",
   "metadata": {
    "id": "7c39d767"
   },
   "source": [
    "* 입력받은 범위의 값으로 배열 생성\n",
    "    * np.arange(start, stop, step)\n",
    "    * start이상 stop 미만의 값을 step에 따라 생성\n",
    "        * 기본적으로 start와 step은 지정하지 않으며, 그럴 경우 start는 0, step은 1로 지정됨"
   ]
  },
  {
   "cell_type": "code",
   "execution_count": 21,
   "id": "f6185e7b",
   "metadata": {
    "id": "f6185e7b"
   },
   "outputs": [
    {
     "name": "stdout",
     "output_type": "stream",
     "text": [
      "[ 0  1  2  3  4  5  6  7  8  9 10]\n",
      "[ 1  2  3  4  5  6  7  8  9 10]\n",
      "[1 3 5 7 9]\n",
      "[1.  1.5 2.  2.5 3.  3.5 4.  4.5]\n",
      "[10  9  8  7  6  5  4  3  2  1]\n"
     ]
    }
   ],
   "source": [
    "print(np.arange(11))\n",
    "print(np.arange(1, 11))\n",
    "print(np.arange(1, 11, 2))\n",
    "print(np.arange(1, 5, 0.5))\n",
    "print(np.arange(10, 0, -1))"
   ]
  },
  {
   "cell_type": "markdown",
   "id": "8e1d2e67",
   "metadata": {
    "id": "8e1d2e67"
   },
   "source": [
    "#### Q1. 0 ~ 1 사이의 값으로 채워진 4 x 3 x 7 크기의 배열을 생성하는 코드를 아래 셀에 작성하시오."
   ]
  },
  {
   "cell_type": "code",
   "execution_count": 22,
   "id": "fd99015b",
   "metadata": {
    "id": "fd99015b"
   },
   "outputs": [],
   "source": [
    "### Your Code ###"
   ]
  },
  {
   "cell_type": "code",
   "execution_count": 94,
   "id": "b5eeaa73",
   "metadata": {},
   "outputs": [
    {
     "data": {
      "text/plain": [
       "(4, 3, 7)"
      ]
     },
     "execution_count": 94,
     "metadata": {},
     "output_type": "execute_result"
    }
   ],
   "source": [
    "np.random.rand(4, 3, 7).shape"
   ]
  },
  {
   "cell_type": "markdown",
   "id": "58b5530f",
   "metadata": {
    "id": "58b5530f"
   },
   "source": [
    "## Array access"
   ]
  },
  {
   "cell_type": "markdown",
   "id": "7de6bc5b",
   "metadata": {
    "id": "7de6bc5b"
   },
   "source": [
    "* 기본적인 배열 접근 방법을 알아본다."
   ]
  },
  {
   "cell_type": "code",
   "execution_count": 96,
   "id": "410dc2b1",
   "metadata": {
    "id": "410dc2b1"
   },
   "outputs": [
    {
     "data": {
      "text/plain": [
       "array([[ 1,  2,  3,  4],\n",
       "       [ 5,  6,  7,  8],\n",
       "       [ 9, 10, 11, 12],\n",
       "       [13, 14, 15, 16]])"
      ]
     },
     "execution_count": 96,
     "metadata": {},
     "output_type": "execute_result"
    }
   ],
   "source": [
    "arr = np.array([[1, 2, 3, 4], [5, 6, 7, 8], [9, 10, 11, 12], [13, 14, 15, 16]])\n",
    "arr"
   ]
  },
  {
   "cell_type": "markdown",
   "id": "f7861e5f",
   "metadata": {
    "id": "f7861e5f"
   },
   "source": [
    "### Indexing"
   ]
  },
  {
   "cell_type": "markdown",
   "id": "59f8219a",
   "metadata": {
    "id": "59f8219a"
   },
   "source": [
    "* Numpy 배열의 값에 접근하는 방법을 알아본다."
   ]
  },
  {
   "cell_type": "markdown",
   "id": "a968b248",
   "metadata": {
    "id": "a968b248"
   },
   "source": [
    "|2-D Index||||\n",
    "|------|------|------|------|\n",
    "|(0, 0)|(0, 1)|(0, 2)|(0, 3)|\n",
    "|(1, 0)|(1, 1)|(1, 2)|(1, 3)|\n",
    "|(2, 0)|(2, 1)|(2, 2)|(2, 3)|\n",
    "|(3, 0)|(3, 1)|(3, 2)|(3, 3)|"
   ]
  },
  {
   "cell_type": "markdown",
   "id": "cd45449b",
   "metadata": {
    "id": "cd45449b"
   },
   "source": [
    "* 기본적인 Indexing\n",
    "    * 일반적인 List 값에 대한 접근 방법과 동일\n",
    "    * List와 마찬가지로 대괄호를 사용하며 차원의 순서대로 위치를 지정\n",
    "        * 1차원: [len]\n",
    "        * 2차원: [row, col]\n",
    "        * 3차원: [depth, row, col]"
   ]
  },
  {
   "cell_type": "markdown",
   "id": "480f18be",
   "metadata": {
    "id": "480f18be"
   },
   "source": [
    "* 2행 3열에 대한 값을 Indexing"
   ]
  },
  {
   "cell_type": "code",
   "execution_count": 24,
   "id": "37502c76",
   "metadata": {
    "id": "37502c76"
   },
   "outputs": [
    {
     "data": {
      "text/plain": [
       "12"
      ]
     },
     "execution_count": 24,
     "metadata": {},
     "output_type": "execute_result"
    }
   ],
   "source": [
    "arr[2,3]"
   ]
  },
  {
   "cell_type": "markdown",
   "id": "b2964e5c",
   "metadata": {
    "id": "b2964e5c"
   },
   "source": [
    "* 3행 3열에 대한 값을 Indexing"
   ]
  },
  {
   "cell_type": "code",
   "execution_count": 25,
   "id": "a35cee30",
   "metadata": {
    "id": "a35cee30"
   },
   "outputs": [
    {
     "data": {
      "text/plain": [
       "16"
      ]
     },
     "execution_count": 25,
     "metadata": {},
     "output_type": "execute_result"
    }
   ],
   "source": [
    "arr[-1,-1]\n",
    "#arr[3,3]"
   ]
  },
  {
   "cell_type": "markdown",
   "id": "37d2edcc",
   "metadata": {
    "id": "37d2edcc"
   },
   "source": [
    "#### Boolean Indexing"
   ]
  },
  {
   "cell_type": "markdown",
   "id": "4b1329ef",
   "metadata": {
    "id": "4b1329ef"
   },
   "source": [
    "* 조건에 따른 Indexing\n",
    "    * Numpy 배열은 조건문을 사용하여 부분적으로 index에 접근 가능\n",
    "    * 조건에 따른 Boolean 배열\n",
    "        * Boolean 배열을 index로 사용\n",
    "        * 값이 True로 된 곳만 indexing\n",
    "        * index가 가능한 이유는 문법 규칙이기 때문 = 암기"
   ]
  },
  {
   "cell_type": "markdown",
   "id": "d4989620",
   "metadata": {
    "id": "d4989620"
   },
   "source": [
    "* 값이 2의 배수인 것들에 대해서 Indexing"
   ]
  },
  {
   "cell_type": "code",
   "execution_count": 26,
   "id": "f5134bfd",
   "metadata": {
    "id": "f5134bfd"
   },
   "outputs": [
    {
     "data": {
      "text/plain": [
       "array([[False,  True, False,  True],\n",
       "       [False,  True, False,  True],\n",
       "       [False,  True, False,  True],\n",
       "       [False,  True, False,  True]])"
      ]
     },
     "execution_count": 26,
     "metadata": {},
     "output_type": "execute_result"
    }
   ],
   "source": [
    "index = arr % 2 == 0\n",
    "index"
   ]
  },
  {
   "cell_type": "code",
   "execution_count": 27,
   "id": "f4ce992c",
   "metadata": {
    "id": "f4ce992c"
   },
   "outputs": [
    {
     "data": {
      "text/plain": [
       "array([ 2,  4,  6,  8, 10, 12, 14, 16])"
      ]
     },
     "execution_count": 27,
     "metadata": {},
     "output_type": "execute_result"
    }
   ],
   "source": [
    "arr[index]"
   ]
  },
  {
   "cell_type": "markdown",
   "id": "9a194aab",
   "metadata": {
    "id": "9a194aab"
   },
   "source": [
    "* 값이 7 이상인 것들에 대해서 Indexing"
   ]
  },
  {
   "cell_type": "code",
   "execution_count": 28,
   "id": "c7d6555e",
   "metadata": {
    "id": "c7d6555e"
   },
   "outputs": [
    {
     "data": {
      "text/plain": [
       "array([ 7,  8,  9, 10, 11, 12, 13, 14, 15, 16])"
      ]
     },
     "execution_count": 28,
     "metadata": {},
     "output_type": "execute_result"
    }
   ],
   "source": [
    "arr[arr >= 7]"
   ]
  },
  {
   "cell_type": "markdown",
   "id": "27ddc8f7",
   "metadata": {
    "id": "27ddc8f7"
   },
   "source": [
    "### Slicing"
   ]
  },
  {
   "cell_type": "markdown",
   "id": "26e9c28d",
   "metadata": {
    "id": "26e9c28d"
   },
   "source": [
    "* 특정 범위 내의 Numpy 배열 값에 접근하는 방법을 알아본다."
   ]
  },
  {
   "cell_type": "markdown",
   "id": "d2da50ca",
   "metadata": {
    "id": "d2da50ca"
   },
   "source": [
    "* 기본적인 Slicing\n",
    "    * arr[start:end:step]의 형태로 접근\n",
    "        * [:] 만을 사용할 경우 모든 index\n",
    "        * [:end] 형태를 사용할 경우 주어진 index 직전까지\n",
    "        * [start:] 형태를 사용할 경우 주어진 index부터 그 이후까지\n",
    "            * start가 0일 경우 생략 가능하다.\n",
    "        * [start:end:step]: start부터 시작해서 end 앞까지 step에 따라\n",
    "            * step은 지정하지 않으면 기본적으로 1\n",
    "    * Slicing은 각 차원별로 지정\n",
    "        * 2-D의 경우\n",
    "            * arr[Slicing, Slicing] -> arr[start:end, start:step]"
   ]
  },
  {
   "cell_type": "markdown",
   "id": "eb64a880",
   "metadata": {
    "id": "eb64a880"
   },
   "source": [
    "* 행에 대한 Slicing"
   ]
  },
  {
   "cell_type": "code",
   "execution_count": 29,
   "id": "8f45247d",
   "metadata": {
    "id": "8f45247d"
   },
   "outputs": [
    {
     "data": {
      "text/plain": [
       "array([[ 5,  6,  7,  8],\n",
       "       [ 9, 10, 11, 12]])"
      ]
     },
     "execution_count": 29,
     "metadata": {},
     "output_type": "execute_result"
    }
   ],
   "source": [
    "arr[1:3, :]"
   ]
  },
  {
   "cell_type": "markdown",
   "id": "ea7ba5a7",
   "metadata": {
    "id": "ea7ba5a7"
   },
   "source": [
    "* 열에 대한 Slicing"
   ]
  },
  {
   "cell_type": "code",
   "execution_count": 30,
   "id": "6d8bf431",
   "metadata": {
    "id": "6d8bf431"
   },
   "outputs": [
    {
     "data": {
      "text/plain": [
       "array([[ 1,  3],\n",
       "       [ 5,  7],\n",
       "       [ 9, 11],\n",
       "       [13, 15]])"
      ]
     },
     "execution_count": 30,
     "metadata": {},
     "output_type": "execute_result"
    }
   ],
   "source": [
    "arr[:, :4:2]"
   ]
  },
  {
   "cell_type": "markdown",
   "id": "177b27fd",
   "metadata": {
    "id": "177b27fd"
   },
   "source": [
    "#### Q2. 다음 결과가 나오도록 Numpy 배열에 접근하는 코드를 아래 셀에 작성하시오."
   ]
  },
  {
   "cell_type": "markdown",
   "id": "07458fed",
   "metadata": {
    "id": "07458fed"
   },
   "source": [
    "```\n",
    "array([[ 1,   4],  \n",
    "       [ 13, 16]])\n",
    "```"
   ]
  },
  {
   "cell_type": "code",
   "execution_count": 31,
   "id": "b052070c",
   "metadata": {
    "id": "b052070c"
   },
   "outputs": [],
   "source": [
    "### Your Code ###"
   ]
  },
  {
   "cell_type": "code",
   "execution_count": 101,
   "id": "49d90bc0",
   "metadata": {},
   "outputs": [
    {
     "data": {
      "text/plain": [
       "array([[ 1,  4],\n",
       "       [13, 16]])"
      ]
     },
     "execution_count": 101,
     "metadata": {},
     "output_type": "execute_result"
    }
   ],
   "source": [
    "arr[:4:3, :4:3]"
   ]
  },
  {
   "cell_type": "markdown",
   "id": "9d8bf81a",
   "metadata": {
    "id": "9d8bf81a"
   },
   "source": [
    "### Replacement"
   ]
  },
  {
   "cell_type": "markdown",
   "id": "c387c8e2",
   "metadata": {
    "id": "c387c8e2"
   },
   "source": [
    "* Numpy 배열은 Indexing 및 Slicing을 통해 값 변경이 가능하다."
   ]
  },
  {
   "cell_type": "code",
   "execution_count": 32,
   "id": "b42ba183",
   "metadata": {
    "id": "b42ba183"
   },
   "outputs": [
    {
     "data": {
      "text/plain": [
       "array([[ 1,  2,  3,  4],\n",
       "       [ 0,  6,  7,  8],\n",
       "       [ 9, 10, 11, 12],\n",
       "       [13, 14, 15, 16]])"
      ]
     },
     "execution_count": 32,
     "metadata": {},
     "output_type": "execute_result"
    }
   ],
   "source": [
    "arr[1, 0] = 0\n",
    "arr"
   ]
  },
  {
   "cell_type": "code",
   "execution_count": 33,
   "id": "f5c61e0b",
   "metadata": {
    "id": "f5c61e0b"
   },
   "outputs": [
    {
     "data": {
      "text/plain": [
       "array([[  1,   2,   3,   4],\n",
       "       [  0,   6,   7,   8],\n",
       "       [100, 100, 100, 100],\n",
       "       [100, 100, 100, 100]])"
      ]
     },
     "execution_count": 33,
     "metadata": {},
     "output_type": "execute_result"
    }
   ],
   "source": [
    "arr[arr > 8] = 100\n",
    "arr"
   ]
  },
  {
   "cell_type": "code",
   "execution_count": 34,
   "id": "4bbb63c6",
   "metadata": {
    "id": "4bbb63c6"
   },
   "outputs": [
    {
     "data": {
      "text/plain": [
       "array([[  1,   2,  99,  99],\n",
       "       [  0,   6,  99,  99],\n",
       "       [100, 100,  99,  99],\n",
       "       [100, 100,  99,  99]])"
      ]
     },
     "execution_count": 34,
     "metadata": {},
     "output_type": "execute_result"
    }
   ],
   "source": [
    "arr[:, 2:] = 99\n",
    "arr"
   ]
  },
  {
   "cell_type": "markdown",
   "id": "e25f5298",
   "metadata": {
    "id": "e25f5298"
   },
   "source": [
    "* 아래와 같이 각각의 값으로 변경하는 경우, 변경하고자 하는 배열의 크기와 바꾸고자 하는 배열의 크기가 동일해야 함"
   ]
  },
  {
   "cell_type": "code",
   "execution_count": 35,
   "id": "d5f3da1b",
   "metadata": {
    "id": "d5f3da1b"
   },
   "outputs": [
    {
     "data": {
      "text/plain": [
       "array([[ 1,  2, 99, 99],\n",
       "       [ 0,  6, 99, 99],\n",
       "       [-1, -2, 99, 99],\n",
       "       [-3, -4, 99, 99]])"
      ]
     },
     "execution_count": 35,
     "metadata": {},
     "output_type": "execute_result"
    }
   ],
   "source": [
    "arr[2:, :2] = [[-1, -2], [-3, -4]]\n",
    "arr"
   ]
  },
  {
   "cell_type": "markdown",
   "id": "0fec4d82",
   "metadata": {
    "id": "0fec4d82"
   },
   "source": [
    "#### Q3. 다음과 같은 행렬이 주어졌을 때, 가운데 행과 열을 1로 바꾸는 코드를 아래 셀에 작성하시오."
   ]
  },
  {
   "cell_type": "code",
   "execution_count": 36,
   "id": "a320479c",
   "metadata": {
    "id": "a320479c"
   },
   "outputs": [
    {
     "data": {
      "text/plain": [
       "array([[0., 0., 0., 0., 0.],\n",
       "       [0., 0., 0., 0., 0.],\n",
       "       [0., 0., 0., 0., 0.],\n",
       "       [0., 0., 0., 0., 0.],\n",
       "       [0., 0., 0., 0., 0.]])"
      ]
     },
     "execution_count": 36,
     "metadata": {},
     "output_type": "execute_result"
    }
   ],
   "source": [
    "Q3 = np.zeros((5, 5))\n",
    "Q3"
   ]
  },
  {
   "cell_type": "code",
   "execution_count": 37,
   "id": "9f68b113",
   "metadata": {
    "id": "9f68b113"
   },
   "outputs": [],
   "source": [
    "### Your Code ###"
   ]
  },
  {
   "cell_type": "code",
   "execution_count": 104,
   "id": "40614be5",
   "metadata": {},
   "outputs": [
    {
     "data": {
      "text/plain": [
       "array([[0., 0., 1., 0., 0.],\n",
       "       [0., 0., 1., 0., 0.],\n",
       "       [1., 1., 1., 1., 1.],\n",
       "       [0., 0., 1., 0., 0.],\n",
       "       [0., 0., 1., 0., 0.]])"
      ]
     },
     "execution_count": 104,
     "metadata": {},
     "output_type": "execute_result"
    }
   ],
   "source": [
    "Q3[:, 2] = 1\n",
    "Q3[2, :] = 1\n",
    "Q3"
   ]
  },
  {
   "cell_type": "markdown",
   "id": "3b26bac7",
   "metadata": {
    "id": "3b26bac7"
   },
   "source": [
    "## Array shape"
   ]
  },
  {
   "cell_type": "markdown",
   "id": "eb173158",
   "metadata": {
    "id": "eb173158"
   },
   "source": [
    "* Numpy 배열의 상태를 확인하는 방법은 아래와 같다.\n",
    "    * 배열이 다차원일 경우 Indexing 혹은 Slicing을 통해 해당 차원의 크기를 확인할 수 있다."
   ]
  },
  {
   "cell_type": "code",
   "execution_count": 38,
   "id": "cc565026",
   "metadata": {
    "id": "cc565026"
   },
   "outputs": [
    {
     "data": {
      "text/plain": [
       "array([ 1,  2,  3,  4,  5,  6,  7,  8,  9, 10, 11, 12, 13, 14, 15, 16])"
      ]
     },
     "execution_count": 38,
     "metadata": {},
     "output_type": "execute_result"
    }
   ],
   "source": [
    "arr = np.arange(1, 17)\n",
    "arr"
   ]
  },
  {
   "cell_type": "code",
   "execution_count": 39,
   "id": "885a9d57",
   "metadata": {
    "id": "885a9d57"
   },
   "outputs": [
    {
     "name": "stdout",
     "output_type": "stream",
     "text": [
      "행의 길이: 16\n",
      "요소의 수: 16\n",
      "배열의 크기: (16,)\n",
      "배열의 차원: 1\n"
     ]
    }
   ],
   "source": [
    "print(f'행의 길이: {len(arr)}')\n",
    "print(f'요소의 수: {arr.size}')\n",
    "print(f'배열의 크기: {arr.shape}')  # tuple 자료형\n",
    "print(f'배열의 차원: {arr.ndim}')"
   ]
  },
  {
   "cell_type": "markdown",
   "id": "1bb7f399",
   "metadata": {
    "id": "1bb7f399"
   },
   "source": [
    "* 2차원 이상일 때, len(arr[0])를 사용하면 열의 길이를 구할 수 있다."
   ]
  },
  {
   "cell_type": "markdown",
   "id": "dc39563d",
   "metadata": {
    "id": "dc39563d"
   },
   "source": [
    "### Reshape"
   ]
  },
  {
   "cell_type": "markdown",
   "id": "96f8d768",
   "metadata": {
    "id": "96f8d768"
   },
   "source": [
    "* 주어진 Numpy 배열에 reshape 함수를 사용하여 허용되는 크기 내에서 크기 변경이 가능\n",
    "    * 가령 주어진 array의 크기가 (12, )일 경우 (3, 4), (6, 2), (12, 1) 등으로 변경 가능\n",
    "    * -1을 사용할 경우, -1을 사용하지 않은 나머지 축에 맞춰서 자동으로 크기가 할당\n",
    "        * (-1, 4)를 사용한다면 (3, 4), (6, -1)을 사용한다면 (6, 2)가 됨\n",
    "        * (-1)을 사용하면 1차원이 됨\n",
    "* 변경된 array는 기존 및 새로운 변수에 할당이 가능"
   ]
  },
  {
   "cell_type": "markdown",
   "id": "2dba5389",
   "metadata": {
    "id": "2dba5389"
   },
   "source": [
    "* 4 x 4 크기의 배열로 변경"
   ]
  },
  {
   "cell_type": "code",
   "execution_count": 40,
   "id": "78870e97",
   "metadata": {
    "id": "78870e97"
   },
   "outputs": [
    {
     "name": "stdout",
     "output_type": "stream",
     "text": [
      "[[ 1  2  3  4]\n",
      " [ 5  6  7  8]\n",
      " [ 9 10 11 12]\n",
      " [13 14 15 16]]\n",
      "\n",
      "행의 길이: 4\n",
      "열의 길이: 4\n",
      "배열의 크기: (4, 4)\n",
      "배열의 차원: 2\n"
     ]
    }
   ],
   "source": [
    "arr44 = arr.reshape(4, 4)\n",
    "print(arr44)\n",
    "print()\n",
    "print(f'행의 길이: {len(arr44)}')\n",
    "print(f'열의 길이: {len(arr44[0])}')\n",
    "print(f'배열의 크기: {arr44.shape}')\n",
    "print(f'배열의 차원: {arr44.ndim}')"
   ]
  },
  {
   "cell_type": "markdown",
   "id": "9aec57e5",
   "metadata": {
    "id": "9aec57e5"
   },
   "source": [
    "* 8 x 2 크기의 배열로 변경"
   ]
  },
  {
   "cell_type": "code",
   "execution_count": 41,
   "id": "c82cb362",
   "metadata": {
    "id": "c82cb362"
   },
   "outputs": [
    {
     "name": "stdout",
     "output_type": "stream",
     "text": [
      "[[ 1  2]\n",
      " [ 3  4]\n",
      " [ 5  6]\n",
      " [ 7  8]\n",
      " [ 9 10]\n",
      " [11 12]\n",
      " [13 14]\n",
      " [15 16]]\n",
      "\n",
      "행의 길이: 8\n",
      "열의 길이: 2\n",
      "배열의 크기: (8, 2)\n",
      "배열의 차원: 2\n"
     ]
    }
   ],
   "source": [
    "arr88 = arr.reshape(8, 2)\n",
    "print(arr88)\n",
    "print()\n",
    "print(f'행의 길이: {len(arr88)}')\n",
    "print(f'열의 길이: {len(arr88[0])}')\n",
    "print(f'배열의 크기: {arr88.shape}')\n",
    "print(f'배열의 차원: {arr88.ndim}')"
   ]
  },
  {
   "cell_type": "markdown",
   "id": "aa2da9b8",
   "metadata": {
    "id": "aa2da9b8"
   },
   "source": [
    "* 16 x 1 크기의 배열로 변경"
   ]
  },
  {
   "cell_type": "code",
   "execution_count": 42,
   "id": "d55b7b2e",
   "metadata": {
    "id": "d55b7b2e"
   },
   "outputs": [
    {
     "name": "stdout",
     "output_type": "stream",
     "text": [
      "[[ 1]\n",
      " [ 2]\n",
      " [ 3]\n",
      " [ 4]\n",
      " [ 5]\n",
      " [ 6]\n",
      " [ 7]\n",
      " [ 8]\n",
      " [ 9]\n",
      " [10]\n",
      " [11]\n",
      " [12]\n",
      " [13]\n",
      " [14]\n",
      " [15]\n",
      " [16]]\n",
      "\n",
      "행의 길이: 16\n",
      "열의 길이: 1\n",
      "배열의 크기: (16, 1)\n",
      "배열의 차원: 2\n"
     ]
    }
   ],
   "source": [
    "arr161 = arr.reshape(16, 1)\n",
    "print(arr161)\n",
    "print()\n",
    "print(f'행의 길이: {len(arr161)}')\n",
    "print(f'열의 길이: {len(arr161[0])}')\n",
    "print(f'배열의 크기: {arr161.shape}')\n",
    "print(f'배열의 차원: {arr161.ndim}')"
   ]
  },
  {
   "cell_type": "markdown",
   "id": "4e76d21c",
   "metadata": {
    "id": "4e76d21c"
   },
   "source": [
    "#### Q4. 다음과 같은 길이 45짜리 행렬이 주어졌을 때, 크기를 9 x 5 x 1로 바꿔 출력 후, 크기를 확인하는 코드를 아래 셀에 작성하시오."
   ]
  },
  {
   "cell_type": "code",
   "execution_count": 43,
   "id": "8d562bcd",
   "metadata": {
    "id": "8d562bcd"
   },
   "outputs": [
    {
     "name": "stdout",
     "output_type": "stream",
     "text": [
      "(45,)\n"
     ]
    },
    {
     "data": {
      "text/plain": [
       "array([0., 0., 0., 0., 0., 0., 0., 0., 0., 0., 0., 0., 0., 0., 0., 0., 0.,\n",
       "       0., 0., 0., 0., 0., 0., 0., 0., 0., 0., 0., 0., 0., 0., 0., 0., 0.,\n",
       "       0., 0., 0., 0., 0., 0., 0., 0., 0., 0., 0.])"
      ]
     },
     "execution_count": 43,
     "metadata": {},
     "output_type": "execute_result"
    }
   ],
   "source": [
    "Q4 = np.zeros(45)\n",
    "print(Q4.shape)\n",
    "Q4"
   ]
  },
  {
   "cell_type": "code",
   "execution_count": 44,
   "id": "9c5ce911",
   "metadata": {
    "id": "9c5ce911"
   },
   "outputs": [],
   "source": [
    "### Your Code ###"
   ]
  },
  {
   "cell_type": "code",
   "execution_count": 106,
   "id": "031c31a3",
   "metadata": {},
   "outputs": [
    {
     "data": {
      "text/plain": [
       "(9, 5, 1)"
      ]
     },
     "execution_count": 106,
     "metadata": {},
     "output_type": "execute_result"
    }
   ],
   "source": [
    "Q4.reshape(9, 5, 1).shape"
   ]
  },
  {
   "cell_type": "markdown",
   "id": "9d38398d",
   "metadata": {
    "id": "9d38398d"
   },
   "source": [
    "## Operation"
   ]
  },
  {
   "cell_type": "markdown",
   "id": "cf6339fc",
   "metadata": {
    "id": "cf6339fc"
   },
   "source": [
    "* 앞서 설명하였듯이 Numpy 배열은 빠르고 간단하게 연산을 수행할 수 있다.\n",
    "    * 이는 반복문을 사용하지 않고 배열의 모든 원소에 대해 연산을 처리할 수 있다. \n",
    "    * 이를 벡터화 연산(vectorized operation)이라고 한다.\n",
    "* 일반적으로 연산을 하고자 하는 배열들의 크기는 모두 동일해야 한다."
   ]
  },
  {
   "cell_type": "markdown",
   "id": "c6c5a4a1",
   "metadata": {
    "id": "c6c5a4a1"
   },
   "source": [
    "### Addition"
   ]
  },
  {
   "cell_type": "markdown",
   "id": "e58e36a9",
   "metadata": {
    "id": "e58e36a9"
   },
   "source": [
    "* arr1 + arr2 혹은 np.add(arr1, arr2)의 형태로 사용\n",
    "    * add() 함수는 파라미터를 2개밖에 받지 못하기 때문에 일반적으로는 \"+\"를 사용하여 연산"
   ]
  },
  {
   "cell_type": "code",
   "execution_count": 45,
   "id": "396af42e",
   "metadata": {
    "id": "396af42e"
   },
   "outputs": [
    {
     "data": {
      "text/plain": [
       "array([ 2,  4,  6,  8, 10])"
      ]
     },
     "execution_count": 45,
     "metadata": {},
     "output_type": "execute_result"
    }
   ],
   "source": [
    "A = np.arange(1, 10, 2)\n",
    "B = np.array([1, 1, 1, 1, 1])\n",
    "np.add(A, B)"
   ]
  },
  {
   "cell_type": "code",
   "execution_count": 46,
   "id": "65e1ceba",
   "metadata": {
    "id": "65e1ceba"
   },
   "outputs": [
    {
     "data": {
      "text/plain": [
       "array([[ 6, 15],\n",
       "       [13, 13]])"
      ]
     },
     "execution_count": 46,
     "metadata": {},
     "output_type": "execute_result"
    }
   ],
   "source": [
    "A = np.array([[1, 5], [4, 2]])\n",
    "B = np.array([[1, 3], [2, 7]])\n",
    "C = np.array([[4, 7], [7, 4]])\n",
    "A + B + C"
   ]
  },
  {
   "cell_type": "markdown",
   "id": "6cd6ff90",
   "metadata": {
    "id": "6cd6ff90"
   },
   "source": [
    "### Subtraction"
   ]
  },
  {
   "cell_type": "markdown",
   "id": "8806c05e",
   "metadata": {
    "id": "8806c05e"
   },
   "source": [
    "* arr1 - arr2 혹은 np.subtract(arr1, arr2)의 형태로 사용\n",
    "    * subtract() 함수는 파라미터를 2개밖에 받지 못하기 때문에 일반적으로는 \"-\"를 사용하여 연산"
   ]
  },
  {
   "cell_type": "code",
   "execution_count": 47,
   "id": "4a34e849",
   "metadata": {
    "id": "4a34e849"
   },
   "outputs": [
    {
     "data": {
      "text/plain": [
       "array([0, 2, 4, 6, 8])"
      ]
     },
     "execution_count": 47,
     "metadata": {},
     "output_type": "execute_result"
    }
   ],
   "source": [
    "A = np.arange(1, 10, 2)\n",
    "B = np.array([1, 1, 1, 1, 1])\n",
    "np.subtract(A, B)"
   ]
  },
  {
   "cell_type": "code",
   "execution_count": 48,
   "id": "e0758a20",
   "metadata": {
    "id": "e0758a20"
   },
   "outputs": [
    {
     "data": {
      "text/plain": [
       "array([[-4, -5],\n",
       "       [-5, -9]])"
      ]
     },
     "execution_count": 48,
     "metadata": {},
     "output_type": "execute_result"
    }
   ],
   "source": [
    "A = np.array([[1, 5], [4, 2]])\n",
    "B = np.array([[1, 3], [2, 7]])\n",
    "C = np.array([[4, 7], [7, 4]])\n",
    "A - B - C"
   ]
  },
  {
   "cell_type": "markdown",
   "id": "92918f83",
   "metadata": {
    "id": "92918f83"
   },
   "source": [
    "### Multiplication"
   ]
  },
  {
   "cell_type": "markdown",
   "id": "791a4316",
   "metadata": {
    "id": "791a4316"
   },
   "source": [
    "* arr1 * arr2 혹은 np.multiply(arr1, arr2)의 형태로 사용\n",
    "    * multiply() 함수는 파라미터를 2개밖에 받지 못하기 때문에 일반적으로는 \"*\"를 사용하여 연산"
   ]
  },
  {
   "cell_type": "code",
   "execution_count": 49,
   "id": "92153ccf",
   "metadata": {
    "id": "92153ccf"
   },
   "outputs": [
    {
     "data": {
      "text/plain": [
       "array([ 1,  6, 15, 28, 45])"
      ]
     },
     "execution_count": 49,
     "metadata": {},
     "output_type": "execute_result"
    }
   ],
   "source": [
    "A = np.arange(1, 10, 2)\n",
    "B = np.arange(1, 6)\n",
    "np.multiply(A, B)"
   ]
  },
  {
   "cell_type": "code",
   "execution_count": 50,
   "id": "67815eba",
   "metadata": {
    "id": "67815eba"
   },
   "outputs": [
    {
     "data": {
      "text/plain": [
       "array([[  8, 105],\n",
       "       [ 80,  56]])"
      ]
     },
     "execution_count": 50,
     "metadata": {},
     "output_type": "execute_result"
    }
   ],
   "source": [
    "A = np.array([[1, 5], [4, 2]])\n",
    "B = np.array([[2, 3], [2, 7]])\n",
    "C = np.array([[4, 7], [10, 4]])\n",
    "A * B * C"
   ]
  },
  {
   "cell_type": "markdown",
   "id": "2f8fea4f",
   "metadata": {
    "id": "2f8fea4f"
   },
   "source": [
    "### Division"
   ]
  },
  {
   "cell_type": "markdown",
   "id": "68c61a28",
   "metadata": {
    "id": "68c61a28"
   },
   "source": [
    "* arr1 / arr2 혹은 np.divide(arr1, arr2)의 형태로 사용\n",
    "    * divide() 함수는 파라미터를 2개밖에 받지 못하기 때문에 일반적으로는 \"/\"를 사용하여 연산\n",
    "    * 파이썬 연산자인 \"//\"도 사용 가능, 대신 타입이 정수형으로 변경"
   ]
  },
  {
   "cell_type": "code",
   "execution_count": 51,
   "id": "ac5c3d84",
   "metadata": {
    "id": "ac5c3d84"
   },
   "outputs": [
    {
     "data": {
      "text/plain": [
       "array([[1., 2., 3., 4., 5.]])"
      ]
     },
     "execution_count": 51,
     "metadata": {},
     "output_type": "execute_result"
    }
   ],
   "source": [
    "A = np.arange(2, 11, 2)\n",
    "B = np.full((1, 5), 2)  # 주어진 크기로 입력받은 수로 채우는 함수\n",
    "np.divide(A, B)"
   ]
  },
  {
   "cell_type": "code",
   "execution_count": 52,
   "id": "e9b85111",
   "metadata": {
    "id": "e9b85111"
   },
   "outputs": [
    {
     "data": {
      "text/plain": [
       "array([[0.125, 0.1  ],\n",
       "       [0.2  , 1.   ]])"
      ]
     },
     "execution_count": 52,
     "metadata": {},
     "output_type": "execute_result"
    }
   ],
   "source": [
    "A = np.array([[1, 5], [4, 20]])\n",
    "B = np.array([[2, 10], [2, 5]])\n",
    "C = np.array([[4, 5], [10, 4]])\n",
    "A / B / C"
   ]
  },
  {
   "cell_type": "code",
   "execution_count": 53,
   "id": "785d677b",
   "metadata": {
    "id": "785d677b"
   },
   "outputs": [
    {
     "data": {
      "text/plain": [
       "array([[0, 0],\n",
       "       [0, 1]], dtype=int32)"
      ]
     },
     "execution_count": 53,
     "metadata": {},
     "output_type": "execute_result"
    }
   ],
   "source": [
    "A // B // C"
   ]
  },
  {
   "cell_type": "markdown",
   "id": "4d1f3f38",
   "metadata": {
    "id": "4d1f3f38"
   },
   "source": [
    "#### Q5. 다음과 같이 a, b, c, d가 주어졌을 때, 연산 함수를 이용하여 (a+b)*c) - d를 구하는 코드를 아래 셀에 작성하시오."
   ]
  },
  {
   "cell_type": "code",
   "execution_count": 54,
   "id": "b8a45115",
   "metadata": {
    "id": "b8a45115"
   },
   "outputs": [],
   "source": [
    "a = np.array([1,3])\n",
    "b = np.array([1,1])\n",
    "c = np.array([2,1/2])\n",
    "d = np.array([1,1])"
   ]
  },
  {
   "cell_type": "code",
   "execution_count": 55,
   "id": "075d6774",
   "metadata": {
    "id": "075d6774"
   },
   "outputs": [],
   "source": [
    "### Your Code ###"
   ]
  },
  {
   "cell_type": "code",
   "execution_count": 110,
   "id": "eef702a8",
   "metadata": {},
   "outputs": [
    {
     "data": {
      "text/plain": [
       "array([3., 1.])"
      ]
     },
     "execution_count": 110,
     "metadata": {},
     "output_type": "execute_result"
    }
   ],
   "source": [
    "np.subtract(np.multiply(np.add(a, b), c), d)"
   ]
  },
  {
   "cell_type": "markdown",
   "id": "453d85d4",
   "metadata": {
    "id": "453d85d4"
   },
   "source": [
    "### Broadcasting"
   ]
  },
  {
   "cell_type": "markdown",
   "id": "92a04d06",
   "metadata": {
    "id": "92a04d06"
   },
   "source": [
    "* 앞서 언급한 것처럼 연산하고자 하는 배열들의 크기는 서로 동일해야 하지만 Numpy 배열은 동일하지 않아도 연산이 가능하게 해줌\n",
    "* 크기가 작은 배열 혹은 값을 크기가 큰 배열로 자동으로 확장시켜 맞춰줌"
   ]
  },
  {
   "cell_type": "markdown",
   "id": "d4449259",
   "metadata": {
    "id": "d4449259"
   },
   "source": [
    "<img src=\"http://www.astroml.org/_images/fig_broadcast_visual_1.png\">"
   ]
  },
  {
   "cell_type": "code",
   "execution_count": 56,
   "id": "24771b5b",
   "metadata": {
    "id": "24771b5b"
   },
   "outputs": [
    {
     "data": {
      "text/plain": [
       "array([[ 1],\n",
       "       [ 2],\n",
       "       [ 3],\n",
       "       [ 4],\n",
       "       [ 5],\n",
       "       [ 6],\n",
       "       [ 7],\n",
       "       [ 8],\n",
       "       [ 9],\n",
       "       [10]])"
      ]
     },
     "execution_count": 56,
     "metadata": {},
     "output_type": "execute_result"
    }
   ],
   "source": [
    "A = np.arange(1, 11).reshape(10, -1)\n",
    "A"
   ]
  },
  {
   "cell_type": "code",
   "execution_count": 57,
   "id": "3229825a",
   "metadata": {
    "id": "3229825a"
   },
   "outputs": [
    {
     "data": {
      "text/plain": [
       "array([[ 6],\n",
       "       [ 7],\n",
       "       [ 8],\n",
       "       [ 9],\n",
       "       [10],\n",
       "       [11],\n",
       "       [12],\n",
       "       [13],\n",
       "       [14],\n",
       "       [15]])"
      ]
     },
     "execution_count": 57,
     "metadata": {},
     "output_type": "execute_result"
    }
   ],
   "source": [
    "A + 5"
   ]
  },
  {
   "cell_type": "code",
   "execution_count": 58,
   "id": "39ca6d56",
   "metadata": {
    "id": "39ca6d56"
   },
   "outputs": [
    {
     "data": {
      "text/plain": [
       "array([[ 3],\n",
       "       [ 6],\n",
       "       [ 9],\n",
       "       [12],\n",
       "       [15],\n",
       "       [18],\n",
       "       [21],\n",
       "       [24],\n",
       "       [27],\n",
       "       [30]])"
      ]
     },
     "execution_count": 58,
     "metadata": {},
     "output_type": "execute_result"
    }
   ],
   "source": [
    "A * 3"
   ]
  },
  {
   "cell_type": "code",
   "execution_count": 59,
   "id": "17f73e6a",
   "metadata": {
    "id": "17f73e6a"
   },
   "outputs": [
    {
     "data": {
      "text/plain": [
       "array([1.])"
      ]
     },
     "execution_count": 59,
     "metadata": {},
     "output_type": "execute_result"
    }
   ],
   "source": [
    "B = np.ones(1)\n",
    "B"
   ]
  },
  {
   "cell_type": "code",
   "execution_count": 60,
   "id": "f48f1dcc",
   "metadata": {
    "id": "f48f1dcc"
   },
   "outputs": [
    {
     "data": {
      "text/plain": [
       "array([[ 2.],\n",
       "       [ 3.],\n",
       "       [ 4.],\n",
       "       [ 5.],\n",
       "       [ 6.],\n",
       "       [ 7.],\n",
       "       [ 8.],\n",
       "       [ 9.],\n",
       "       [10.],\n",
       "       [11.]])"
      ]
     },
     "execution_count": 60,
     "metadata": {},
     "output_type": "execute_result"
    }
   ],
   "source": [
    "A + B"
   ]
  },
  {
   "cell_type": "markdown",
   "id": "85fe151e",
   "metadata": {
    "id": "85fe151e"
   },
   "source": [
    "#### Q6. 다음과 같이 행벡터가 주어졌을 때, 행벡터를 열벡터로 하는 벡터를 만들어 두 벡터의 곱을 구하는 코드를 아래 셀에 작성하시오."
   ]
  },
  {
   "cell_type": "code",
   "execution_count": 61,
   "id": "3016a1d8",
   "metadata": {
    "id": "3016a1d8"
   },
   "outputs": [
    {
     "data": {
      "text/plain": [
       "array([ 1,  2,  3,  4,  5,  6,  7,  8,  9, 10])"
      ]
     },
     "execution_count": 61,
     "metadata": {},
     "output_type": "execute_result"
    }
   ],
   "source": [
    "Q6R = np.arange(1, 11)\n",
    "Q6R"
   ]
  },
  {
   "cell_type": "code",
   "execution_count": 62,
   "id": "e7156718",
   "metadata": {
    "id": "e7156718"
   },
   "outputs": [],
   "source": [
    "### Your Code ###"
   ]
  },
  {
   "cell_type": "code",
   "execution_count": 115,
   "id": "c7612056",
   "metadata": {},
   "outputs": [
    {
     "data": {
      "text/plain": [
       "array([[  1,   2,   3,   4,   5,   6,   7,   8,   9,  10],\n",
       "       [  2,   4,   6,   8,  10,  12,  14,  16,  18,  20],\n",
       "       [  3,   6,   9,  12,  15,  18,  21,  24,  27,  30],\n",
       "       [  4,   8,  12,  16,  20,  24,  28,  32,  36,  40],\n",
       "       [  5,  10,  15,  20,  25,  30,  35,  40,  45,  50],\n",
       "       [  6,  12,  18,  24,  30,  36,  42,  48,  54,  60],\n",
       "       [  7,  14,  21,  28,  35,  42,  49,  56,  63,  70],\n",
       "       [  8,  16,  24,  32,  40,  48,  56,  64,  72,  80],\n",
       "       [  9,  18,  27,  36,  45,  54,  63,  72,  81,  90],\n",
       "       [ 10,  20,  30,  40,  50,  60,  70,  80,  90, 100]])"
      ]
     },
     "execution_count": 115,
     "metadata": {},
     "output_type": "execute_result"
    }
   ],
   "source": [
    "Q6C = Q6R.reshape(10, -1)\n",
    "Q6R * Q6C"
   ]
  },
  {
   "cell_type": "markdown",
   "id": "9670c120",
   "metadata": {
    "id": "9670c120"
   },
   "source": [
    "## Dimension reduction"
   ]
  },
  {
   "cell_type": "markdown",
   "id": "6a120ba9",
   "metadata": {
    "id": "6a120ba9"
   },
   "source": [
    "* 다음과 같은 데이터가 주어졌을 때, 각 성적에 대한 평균 혹은 학생들의 평균 등, 행 또는 열에 따라 값을 구하는 방법을 차원 축소(dimension reduction) 연산이라고 함\n",
    "* 행과 열에 대한 계산은 축에 따라 계산되며, 축을 지정하지 않으면 전체에 대해 계산됨\n",
    "    * 축을 음수로 사용할 경우 가장 큰 축이 기준이 됨\n",
    "        * 가령 3차원일 경우 axis=-1은 axis=2, axis=-2는 axis=1, axis=-3은 axis=0이 됨\n",
    "* 데이터 분석을 할 때 특정 값들을 처리할 수 있음"
   ]
  },
  {
   "cell_type": "markdown",
   "id": "3972385d",
   "metadata": {
    "id": "3972385d"
   },
   "source": [
    "||A|B|C|D|\n",
    "|--|--|--|--|--|\n",
    "|국어|97|78|43|53|\n",
    "|영어|78|65|57|68|\n",
    "|수학|100|98|36|59|\n",
    "|탐구|35|50|7|46|"
   ]
  },
  {
   "cell_type": "markdown",
   "id": "e1fe2cfd",
   "metadata": {
    "id": "e1fe2cfd"
   },
   "source": [
    "<img src=\"https://hyemin-kim.github.io/images/S-Python-Numpy1/n_array.png\">"
   ]
  },
  {
   "cell_type": "code",
   "execution_count": 63,
   "id": "79d4f37c",
   "metadata": {
    "id": "79d4f37c"
   },
   "outputs": [
    {
     "data": {
      "text/plain": [
       "array([[ 97,  78,  43,  53],\n",
       "       [ 78,  65,  57,  68],\n",
       "       [100,  98,  36,  59],\n",
       "       [ 35,  50,   7,  46]])"
      ]
     },
     "execution_count": 63,
     "metadata": {},
     "output_type": "execute_result"
    }
   ],
   "source": [
    "scores = np.array([[97, 78, 43, 53], [78, 65, 57, 68], [100, 98, 36, 59], [35, 50, 7, 46]])\n",
    "scores"
   ]
  },
  {
   "cell_type": "markdown",
   "id": "db8f6e58",
   "metadata": {
    "id": "db8f6e58"
   },
   "source": [
    "### Mean"
   ]
  },
  {
   "cell_type": "markdown",
   "id": "6fd66854",
   "metadata": {
    "id": "6fd66854"
   },
   "source": [
    "* 학생들의 평균"
   ]
  },
  {
   "cell_type": "code",
   "execution_count": 64,
   "id": "966f9f38",
   "metadata": {
    "id": "966f9f38"
   },
   "outputs": [
    {
     "name": "stdout",
     "output_type": "stream",
     "text": [
      "A의 평균: 77.5\n",
      "B의 평균: 72.75\n",
      "C의 평균: 35.75\n",
      "D의 평균: 56.5\n"
     ]
    }
   ],
   "source": [
    "students_mean = scores.mean(axis=0)\n",
    "print(f'A의 평균: {students_mean[0]}')\n",
    "print(f'B의 평균: {students_mean[1]}')\n",
    "print(f'C의 평균: {students_mean[2]}')\n",
    "print(f'D의 평균: {students_mean[3]}')"
   ]
  },
  {
   "cell_type": "markdown",
   "id": "c6c7814a",
   "metadata": {
    "id": "c6c7814a"
   },
   "source": [
    "* 과목들의 평균"
   ]
  },
  {
   "cell_type": "code",
   "execution_count": 65,
   "id": "edfc7fa3",
   "metadata": {
    "id": "edfc7fa3"
   },
   "outputs": [
    {
     "name": "stdout",
     "output_type": "stream",
     "text": [
      "국어 평균: 67.75\n",
      "영어 평균: 67.0\n",
      "수학 평균: 73.25\n",
      "탐구 평균: 34.5\n"
     ]
    }
   ],
   "source": [
    "subjects_mean = scores.mean(axis=1)\n",
    "print(f'국어 평균: {subjects_mean[0]}')\n",
    "print(f'영어 평균: {subjects_mean[1]}')\n",
    "print(f'수학 평균: {subjects_mean[2]}')\n",
    "print(f'탐구 평균: {subjects_mean[3]}')"
   ]
  },
  {
   "cell_type": "markdown",
   "id": "aedc00d8",
   "metadata": {
    "id": "aedc00d8"
   },
   "source": [
    "### Standard deviation"
   ]
  },
  {
   "cell_type": "markdown",
   "id": "ae837268",
   "metadata": {
    "id": "ae837268"
   },
   "source": [
    "* 과목들의 표준 편차"
   ]
  },
  {
   "cell_type": "code",
   "execution_count": 66,
   "id": "b0b75b77",
   "metadata": {
    "id": "b0b75b77",
    "scrolled": true
   },
   "outputs": [
    {
     "name": "stdout",
     "output_type": "stream",
     "text": [
      "국어 표준 편차: 21.16\n",
      "영어 표준 편차: 7.52\n",
      "수학 표준 편차: 27.01\n",
      "탐구 표준 편차: 16.8\n"
     ]
    }
   ],
   "source": [
    "subjects_std = scores.std(axis=1)\n",
    "print(f'국어 표준 편차: {round(subjects_std[0], 2)}')\n",
    "print(f'영어 표준 편차: {round(subjects_std[1], 2)}')\n",
    "print(f'수학 표준 편차: {round(subjects_std[2], 2)}')\n",
    "print(f'탐구 표준 편차: {round(subjects_std[3], 2)}')"
   ]
  },
  {
   "cell_type": "markdown",
   "id": "1074e0c5",
   "metadata": {
    "id": "1074e0c5"
   },
   "source": [
    "#### Q7. 다음과 같이 행과 열이 바뀐 전치 행렬이 주어졌을 때, 학생들과 과목들의 평균 및 표준 편차를 구하는 코드를 아래 셀에 작성하시오. "
   ]
  },
  {
   "cell_type": "code",
   "execution_count": 67,
   "id": "362f92c0",
   "metadata": {
    "id": "362f92c0"
   },
   "outputs": [
    {
     "data": {
      "text/plain": [
       "array([[ 97,  78, 100,  35],\n",
       "       [ 78,  65,  98,  50],\n",
       "       [ 43,  57,  36,   7],\n",
       "       [ 53,  68,  59,  46]])"
      ]
     },
     "execution_count": 67,
     "metadata": {},
     "output_type": "execute_result"
    }
   ],
   "source": [
    "Q7 = scores.T\n",
    "Q7"
   ]
  },
  {
   "cell_type": "code",
   "execution_count": 116,
   "id": "329df43b",
   "metadata": {},
   "outputs": [
    {
     "name": "stdout",
     "output_type": "stream",
     "text": [
      "학생들의 평균\n",
      "A의 평균: 67.75\n",
      "B의 평균: 67.0\n",
      "C의 평균: 73.25\n",
      "D의 평균: 34.5\n",
      "\n",
      "과목들의 평균\n",
      "국어 평균: 77.5\n",
      "영어 평균: 72.75\n",
      "수학 평균: 35.75\n",
      "탐구 평균: 56.5\n",
      "\n",
      "과목들의 표준 편차\n",
      "국어 표준 편차: 25.95\n",
      "영어 표준 편차: 17.63\n",
      "수학 표준 편차: 18.24\n",
      "탐구 표준 편차: 8.08\n"
     ]
    }
   ],
   "source": [
    "print('학생들의 평균')\n",
    "Q7_mean = Q7.mean(axis=1)\n",
    "print(f'A의 평균: {Q7_mean[0]}')\n",
    "print(f'B의 평균: {Q7_mean[1]}')\n",
    "print(f'C의 평균: {Q7_mean[2]}')\n",
    "print(f'D의 평균: {Q7_mean[3]}')\n",
    "\n",
    "print('\\n과목들의 평균')\n",
    "Q7_mean = Q7.mean(axis=0)\n",
    "print(f'국어 평균: {Q7_mean[0]}')\n",
    "print(f'영어 평균: {Q7_mean[1]}')\n",
    "print(f'수학 평균: {Q7_mean[2]}')\n",
    "print(f'탐구 평균: {Q7_mean[3]}')\n",
    "\n",
    "print('\\n과목들의 표준 편차')\n",
    "Q7_std = Q7.std(axis=0)\n",
    "print(f'국어 표준 편차: {round(Q7_std[0], 2)}')\n",
    "print(f'영어 표준 편차: {round(Q7_std[1], 2)}')\n",
    "print(f'수학 표준 편차: {round(Q7_std[2], 2)}')\n",
    "print(f'탐구 표준 편차: {round(Q7_std[3], 2)}')"
   ]
  },
  {
   "cell_type": "markdown",
   "id": "caf507a2",
   "metadata": {
    "id": "caf507a2"
   },
   "source": [
    "### min and max"
   ]
  },
  {
   "cell_type": "markdown",
   "id": "c969151d",
   "metadata": {
    "id": "c969151d"
   },
   "source": [
    "* 최솟값과 최댓값 반환"
   ]
  },
  {
   "cell_type": "code",
   "execution_count": 69,
   "id": "01aa0225",
   "metadata": {
    "id": "01aa0225"
   },
   "outputs": [
    {
     "name": "stdout",
     "output_type": "stream",
     "text": [
      "가장 낮은 점수: 7\n",
      "가장 높은 점수: 100\n"
     ]
    }
   ],
   "source": [
    "print(f'가장 낮은 점수: {scores.min()}')\n",
    "print(f'가장 높은 점수: {scores.max()}')"
   ]
  },
  {
   "cell_type": "markdown",
   "id": "f6156cbc",
   "metadata": {
    "id": "f6156cbc"
   },
   "source": [
    "### argmin and argmax"
   ]
  },
  {
   "cell_type": "markdown",
   "id": "79ad9fd7",
   "metadata": {
    "id": "79ad9fd7"
   },
   "source": [
    "* 최솟값과 최댓값의 index를 반환\n",
    "    * axis를 정의하지 않으면 1차원 상태에서의 index가 반환\n",
    "* np.bincount()와 argmax()를 사용하면 최빈값 추출 가능\n",
    "    * 단 bincount()를 사용하려면 배열의 차원이 1차원이어야 함\n",
    "    * 최빈값의 추출은 범주형 데이터 처리에 적합"
   ]
  },
  {
   "cell_type": "code",
   "execution_count": 70,
   "id": "da58d6ac",
   "metadata": {
    "id": "da58d6ac"
   },
   "outputs": [
    {
     "name": "stdout",
     "output_type": "stream",
     "text": [
      "가장 낮은 점수의 위치: 14\n",
      "가장 높은 점수의 위치: 8\n"
     ]
    }
   ],
   "source": [
    "print(f'가장 낮은 점수의 위치: {scores.argmin()}')\n",
    "print(f'가장 높은 점수의 위치: {scores.argmax()}')"
   ]
  },
  {
   "cell_type": "code",
   "execution_count": 71,
   "id": "974e232a",
   "metadata": {
    "id": "974e232a"
   },
   "outputs": [
    {
     "data": {
      "text/plain": [
       "78"
      ]
     },
     "execution_count": 71,
     "metadata": {},
     "output_type": "execute_result"
    }
   ],
   "source": [
    "np.bincount(scores.reshape(-1)).argmax()"
   ]
  },
  {
   "cell_type": "markdown",
   "id": "1575e416",
   "metadata": {
    "id": "1575e416"
   },
   "source": [
    "### sum()"
   ]
  },
  {
   "cell_type": "markdown",
   "id": "4cc101ce",
   "metadata": {
    "id": "4cc101ce"
   },
   "source": [
    "* axis를 지정하지 않으면 전체 값에 대한 합 반환\n",
    "    * axis를 지정하면 axis에 따른 합 반환"
   ]
  },
  {
   "cell_type": "code",
   "execution_count": 72,
   "id": "5073e844",
   "metadata": {
    "id": "5073e844"
   },
   "outputs": [
    {
     "name": "stdout",
     "output_type": "stream",
     "text": [
      "전체 합: 970\n",
      "행 합: [271 268 293 138]\n",
      "열 합: [310 291 143 226]\n"
     ]
    }
   ],
   "source": [
    "print(f'전체 합: {scores.sum()}')\n",
    "print(f'행 합: {scores.sum(axis=1)}')\n",
    "print(f'열 합: {scores.sum(axis=0)}')"
   ]
  },
  {
   "cell_type": "markdown",
   "id": "72423565",
   "metadata": {
    "id": "72423565"
   },
   "source": [
    "#### Q8. sum()을 사용하여 과목들의 평균을 구하는 코드를 아래 셀에 작성하시오. "
   ]
  },
  {
   "cell_type": "markdown",
   "id": "c2813dd5",
   "metadata": {
    "id": "c2813dd5"
   },
   "source": [
    "* 평균 = 구하고자 하는 카테고리 데이터의 합 / 구하고자 하는 카테고리 데이터의 수\n",
    "* Hint\n",
    "    * 모든 데이터가 제대로 주어졌다고 가정했을 때 각 과목의 데이터의 수는 모두 같다."
   ]
  },
  {
   "cell_type": "code",
   "execution_count": 74,
   "id": "84623e7b",
   "metadata": {
    "id": "84623e7b"
   },
   "outputs": [
    {
     "name": "stdout",
     "output_type": "stream",
     "text": [
      "국어 평균: 67.75\n",
      "영어 평균: 67.0\n",
      "수학 평균: 73.25\n",
      "탐구 평균: 34.5\n"
     ]
    }
   ],
   "source": [
    "Q8 = scores.sum(axis=1)/len(scores[0])\n",
    "print(f'국어 평균: {Q8[0]}')\n",
    "print(f'영어 평균: {Q8[1]}')\n",
    "print(f'수학 평균: {Q8[2]}')\n",
    "print(f'탐구 평균: {Q8[3]}')"
   ]
  }
 ],
 "metadata": {
  "colab": {
   "collapsed_sections": [
    "b2e6947b",
    "9394cd6c",
    "e29d0abd",
    "06ecd904",
    "957c04d9",
    "8e0e2a6d",
    "e6789e37",
    "0fa8c7ec",
    "c20ba3b5",
    "9918111a",
    "8e1d2e67",
    "58b5530f",
    "f7861e5f",
    "37d2edcc",
    "27ddc8f7",
    "177b27fd",
    "9d8bf81a",
    "0fec4d82",
    "3b26bac7",
    "dc39563d",
    "4e76d21c",
    "9d38398d",
    "c6c5a4a1",
    "6cd6ff90",
    "92918f83",
    "2f8fea4f",
    "4d1f3f38",
    "453d85d4",
    "85fe151e",
    "db8f6e58",
    "aedc00d8",
    "1074e0c5",
    "1575e416",
    "72423565",
    "52e797ae",
    "9bdf9013",
    "00a2d9be",
    "ff1f38e6",
    "df70c13e",
    "9226e242",
    "6d8dec91"
   ],
   "provenance": []
  },
  "kernelspec": {
   "display_name": "Python 3 (ipykernel)",
   "language": "python",
   "name": "python3"
  },
  "language_info": {
   "codemirror_mode": {
    "name": "ipython",
    "version": 3
   },
   "file_extension": ".py",
   "mimetype": "text/x-python",
   "name": "python",
   "nbconvert_exporter": "python",
   "pygments_lexer": "ipython3",
   "version": "3.9.13"
  }
 },
 "nbformat": 4,
 "nbformat_minor": 5
}
