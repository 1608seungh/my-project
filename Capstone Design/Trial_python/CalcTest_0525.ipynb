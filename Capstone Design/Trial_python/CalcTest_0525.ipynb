{
 "cells": [
  {
   "cell_type": "code",
   "execution_count": 58,
   "id": "b2a54d6c",
   "metadata": {},
   "outputs": [],
   "source": [
    "import numpy as np\n",
    "\n",
    "\n",
    "def Skew(w):\n",
    "    skew_mat = np.array([[0, -w[2], w[1]],\n",
    "                                [w[2], 0, -w[0]],\n",
    "                                [-w[1], w[0], 0]], dtype = object)\n",
    "    return skew_mat\n",
    "\n",
    "def matrix_exp(w_hat, theta):\n",
    "    skew_w = Skew(w_hat)\n",
    "    R = np.eye(3) + np.sin(theta) * skew_w + (1 - np.cos(theta)) * np.matmul(skew_w, skew_w)\n",
    "    return R\n",
    "\n",
    "def screw_exp(screw, theta):\n",
    "    w_hat = screw[:3]\n",
    "    v = screw[3:]\n",
    "\n",
    "    w_hat_skew = Skew(w_hat)\n",
    "\n",
    "    R = matrix_exp(w_hat, theta)\n",
    "    G_theta = np.eye(3) * theta + (1 - np.cos(theta)) * w_hat_skew + (theta - np.sin(theta)) * np.matmul(w_hat_skew, w_hat_skew)\n",
    "\n",
    "    T = np.vstack((np.hstack((R, np.matmul(G_theta, v.reshape((-1, 1))))),\n",
    "                       [0, 0, 0, 1]))\n",
    "    return T\n",
    "    \n",
    "def Ad(T):\n",
    "    p = T[:3, 3]\n",
    "    R = T[:3, :3]\n",
    "    p_mat = Skew(p)\n",
    "    Adjoint = np.vstack((np.hstack((R, np.zeros((3, 3)))),\n",
    "                             np.hstack((p_mat @ R, R))))\n",
    "    return Adjoint\n",
    "\n",
    "def BodyTwist(V_bmat):\n",
    "    w_b = np.array([V_bmat[2, 1], V_bmat[0, 2], V_bmat[1, 0]])\n",
    "    w_b = w_b.reshape(-1,1)\n",
    "    v_b = V_bmat[:3, 3]\n",
    "    v_b = v_b.reshape(-1,1)\n",
    "    output = np.vstack((w_b, v_b))\n",
    "    return output\n",
    "    \n",
    "    "
   ]
  },
  {
   "cell_type": "code",
   "execution_count": 59,
   "id": "250d5d98",
   "metadata": {},
   "outputs": [
    {
     "data": {
      "text/plain": [
       "array([[0.0],\n",
       "       [0.0],\n",
       "       [0.479425538604203],\n",
       "       [array([-0.20200208])],\n",
       "       [array([0.62510424])],\n",
       "       [array([-0.01])]], dtype=object)"
      ]
     },
     "execution_count": 59,
     "metadata": {},
     "output_type": "execute_result"
    }
   ],
   "source": [
    "w1 = np.array([0, 0, 1])\n",
    "v1 = np.array([0, 1, 0])\n",
    "s1 = np.array([w1, v1])\n",
    "s1 = s1.reshape(-1,1)\n",
    "th = 0.5\n",
    "\n",
    "T1 = screw_exp(s1, th)\n",
    "T1\n",
    "\n",
    "q = np.array([0, 0.166, -0.01])\n",
    "M = np.vstack([np.hstack([np.eye(3), q.reshape(-1, 1)]),\n",
    "                  np.array([0, 0, 0, 1])])\n",
    "M_ = T1 @ M\n",
    "M_\n",
    "\n",
    "A = Ad(M_)\n",
    "A\n",
    "\n",
    "B = BodyTwist(M_)\n",
    "B\n",
    "\n",
    "\n"
   ]
  }
 ],
 "metadata": {
  "kernelspec": {
   "display_name": "Python 3 (ipykernel)",
   "language": "python",
   "name": "python3"
  },
  "language_info": {
   "codemirror_mode": {
    "name": "ipython",
    "version": 3
   },
   "file_extension": ".py",
   "mimetype": "text/x-python",
   "name": "python",
   "nbconvert_exporter": "python",
   "pygments_lexer": "ipython3",
   "version": "3.9.13"
  }
 },
 "nbformat": 4,
 "nbformat_minor": 5
}
