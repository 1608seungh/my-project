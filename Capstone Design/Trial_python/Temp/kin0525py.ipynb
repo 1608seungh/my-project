{
 "cells": [
  {
   "cell_type": "code",
   "execution_count": 2,
   "id": "dcf53ec4",
   "metadata": {},
   "outputs": [],
   "source": [
    "import numpy as np\n",
    "\n",
    "def Ad(T):\n",
    "    p = T[:3, 3]\n",
    "    R = T[:3, :3]\n",
    "    p_mat = np.array([[0, -p[2], p[1]],\n",
    "                      [p[2], 0, -p[0]],\n",
    "                      [-p[1], p[0], 0]])\n",
    "    Adjoint = np.vstack((np.hstack((R, np.zeros((3, 3)))),\n",
    "                         np.hstack((p_mat @ R, R))))\n",
    "    return Adjoint\n",
    "\n",
    "def skew(w):\n",
    "    skew_mat = np.array([[0, -w[2], w[1]],\n",
    "                         [w[2], 0, -w[0]],\n",
    "                         [-w[1], w[0], 0]], dtype = object)\n",
    "    return skew_mat\n",
    "\n",
    "def screw(w, q):\n",
    "    w_mat = np.array([[0, -w[2], w[1]],\n",
    "                      [w[2], 0, -w[0]],\n",
    "                      [-w[1], w[0], 0]], dtype = object)\n",
    "    v = -np.cross(w, q)\n",
    "    screw = np.vstack((np.hstack((w_mat, v.reshape(-1, 1))), np.zeros((1, 4))))\n",
    "    return screw"
   ]
  },
  {
   "cell_type": "code",
   "execution_count": 3,
   "id": "b6be47f4",
   "metadata": {},
   "outputs": [],
   "source": [
    "import numpy as np\n",
    "import time\n",
    "\n",
    "from scipy.linalg import expm\n",
    "from scipy.linalg import logm\n",
    "\n",
    "q = np.array([0, 0.166, -0.01])\n",
    "\n",
    "M = np.vstack([np.hstack([np.eye(3), q.reshape(-1, 1)]),\n",
    "                  np.array([0, 0, 0, 1])])\n",
    "\n",
    "w1 = np.array([0, 0, 1])\n",
    "w2 = np.array([1, 0, 0])\n",
    "w3 = np.array([1, 0, 0])\n",
    "w4 = np.array([1, 0, 0])\n",
    "w5 = np.array([0, 0, 1])\n",
    "\n",
    "q1 = np.array([0, 0, 0])\n",
    "q2 = np.array([0, 0, 0.073])\n",
    "q3 = np.array([0, 0.083, 0.073])\n",
    "q4 = np.array([0, 0.166, 0.073])\n",
    "q5 = np.array([0, 0.166, 0.033])\n",
    "\n",
    "v1 = -np.cross(w1, q1)\n",
    "v2 = -np.cross(w2, q2)\n",
    "v3 = -np.cross(w3, q3)\n",
    "v4 = -np.cross(w4, q4)\n",
    "v5 = -np.cross(w5, q5)\n",
    "\n",
    "S1 = screw(w1, q1)\n",
    "S2 = screw(w2, q2)\n",
    "S3 = screw(w3, q3)\n",
    "S4 = screw(w4, q4)\n",
    "S5 = screw(w5, q5)\n",
    "\n",
    "w1 = w1.reshape(-1,1)\n",
    "w2 = w2.reshape(-1,1)\n",
    "w3 = w3.reshape(-1,1)\n",
    "w4 = w4.reshape(-1,1)\n",
    "w5 = w5.reshape(-1,1)\n",
    "\n",
    "v1 = v1.reshape(-1,1)\n",
    "v2 = v2.reshape(-1,1)\n",
    "v3 = v3.reshape(-1,1)\n",
    "v4 = v4.reshape(-1,1)\n",
    "v5 = v5.reshape(-1,1)\n",
    "\n",
    "# start position : [0.15, 0.07, 0.0701]\n",
    "x_d = np.array([0.02, 0.12, 0.07]) \n",
    "x_d = x_d.reshape(-1,1)\n",
    "T_sd = np.vstack([np.hstack([np.eye(3), x_d]),\n",
    "                  np.array([[0, 0, 0, 1]])])\n",
    "\n",
    "# th = np.deg2rad([-86.9474, 41.3064, -44.3338, 3.0274, 86.9474])\n",
    "# th = np.deg2rad([-65.28392204, 47.79348963, -55.77497405, 7.98148442, 65.28392204])\n",
    "th = np.deg2rad([-81.2715, 53.2575, -43.9620, -9.2955, 81.2715])\n",
    "th = th.reshape(-1,1)\n",
    "        \n",
    "w_b = np.array([1, 1, 1])\n",
    "w_b = w_b.reshape(-1,1)\n",
    "v_b = np.array([1, 1, 1])\n",
    "v_b = v_b.reshape(-1,1)\n",
    "\n",
    "k = 1\n",
    "dt = 1\n",
    "\n",
    "while (np.linalg.norm(w_b) > 0.001 or np.linalg.norm(v_b) > 0.0001):\n",
    "\n",
    "\n",
    "    T_sb = expm(S1 * th[0]) @ expm(S2 * th[1]) @ expm(S3 * th[2]) @ expm(S4 * th[3]) @ expm(S5 * th[4]) @ M\n",
    "    T_bs = np.linalg.inv(T_sb)\n",
    "\n",
    "    AdT_bs = Ad(T_bs)\n",
    "\n",
    "    Js1 = np.vstack([w1, v1])\n",
    "    Js2 = Ad(expm(S1 * th[0])) @ np.vstack([w2, v2])\n",
    "    Js3 = Ad(expm(S1 * th[0]) @ expm(S2 * th[1])) @ np.vstack([w3, v3])\n",
    "    Js4 = Ad(expm(S1 * th[0]) @ expm(S2 * th[1]) @ expm(S3 * th[2])) @ np.vstack([w4, v4])\n",
    "    Js5 = Ad(expm(S1 * th[0]) @ expm(S2 * th[1]) @ expm(S3 * th[2]) @ expm(S4 * th[3])) @ np.vstack([w5, v5])\n",
    "    Js = np.hstack([Js1, Js2, Js3, Js4, Js5])\n",
    "    Jb = AdT_bs @ Js\n",
    "\n",
    "    T_bd = T_bs @ T_sd\n",
    "    V_bmat = logm(T_bd) * 0.1\n",
    "    w_b = np.array([V_bmat[2, 1], V_bmat[0, 2], V_bmat[1, 0]])\n",
    "    v_b = V_bmat[:3, 3]\n",
    "    V_b = np.hstack([w_b, v_b])\n",
    "\n",
    "    th_center = np.zeros((1, 5))\n",
    "    th_center[0,2] = -np.pi / 3\n",
    "    th_center[0,3] = np.pi / 6\n",
    "    grad_H = np.zeros((1, 5))\n",
    "    grad_H[0,2] = th[2] - th_center[0,2]\n",
    "    grad_H[0,3] = th[3] - th_center[0,3]\n",
    "    grad_H = grad_H.reshape(-1,1)\n",
    "    gamma = -0.2\n",
    "\n",
    "    Jvb = np.linalg.pinv(Jb) @ V_b\n",
    "    Jvb = Jvb.reshape(-1,1)\n",
    "    dth = Jvb + gamma * (np.eye(5) - np.linalg.pinv(Jb) @ Jb) @ grad_H\n",
    "\n",
    "    th = th + dth*dt\n",
    "    th_deg = np.rad2deg(th)\n",
    "    \n",
    "    thd = [th_deg[0]+90, th_deg[1], th_deg[2]+90, th_deg[3], -th_deg[4]+90]\n",
    "    \n",
    "    k = k + 1\n",
    "    \n",
    "    if k == 200:\n",
    "        break"
   ]
  },
  {
   "cell_type": "code",
   "execution_count": 4,
   "id": "4ccf68db",
   "metadata": {},
   "outputs": [
    {
     "data": {
      "text/plain": [
       "array([[ 1.00000000e+00,  4.44089210e-16,  7.28583860e-17,\n",
       "         2.06393903e-02],\n",
       "       [-4.16333634e-16,  1.00000000e+00,  4.99600361e-16,\n",
       "         1.19301673e-01],\n",
       "       [-8.75323381e-17, -5.05962350e-16,  1.00000000e+00,\n",
       "         6.99794326e-02],\n",
       "       [ 0.00000000e+00,  0.00000000e+00,  0.00000000e+00,\n",
       "         1.00000000e+00]])"
      ]
     },
     "execution_count": 4,
     "metadata": {},
     "output_type": "execute_result"
    }
   ],
   "source": [
    "T_sb"
   ]
  },
  {
   "cell_type": "code",
   "execution_count": 93,
   "id": "3bb41aae",
   "metadata": {
    "scrolled": false
   },
   "outputs": [
    {
     "data": {
      "text/plain": [
       "array([[ 2.26063529e-16],\n",
       "       [-1.42125972e-16],\n",
       "       [ 2.26449430e-16],\n",
       "       [-1.31744990e-16],\n",
       "       [-2.36389130e-16]])"
      ]
     },
     "execution_count": 93,
     "metadata": {},
     "output_type": "execute_result"
    }
   ],
   "source": [
    "gamma * (np.eye(5) - np.linalg.pinv(Jb)@Jb) @ grad_H"
   ]
  },
  {
   "cell_type": "code",
   "execution_count": 5,
   "id": "10c68b2c",
   "metadata": {},
   "outputs": [
    {
     "data": {
      "text/plain": [
       "array([ 5.83420833e-17, -3.30091918e-18,  3.22841602e-17, -6.39390275e-05,\n",
       "        6.98326794e-05,  2.05674285e-06])"
      ]
     },
     "execution_count": 5,
     "metadata": {},
     "output_type": "execute_result"
    }
   ],
   "source": [
    "V_b"
   ]
  }
 ],
 "metadata": {
  "kernelspec": {
   "display_name": "Python 3 (ipykernel)",
   "language": "python",
   "name": "python3"
  },
  "language_info": {
   "codemirror_mode": {
    "name": "ipython",
    "version": 3
   },
   "file_extension": ".py",
   "mimetype": "text/x-python",
   "name": "python",
   "nbconvert_exporter": "python",
   "pygments_lexer": "ipython3",
   "version": "3.9.13"
  }
 },
 "nbformat": 4,
 "nbformat_minor": 5
}
