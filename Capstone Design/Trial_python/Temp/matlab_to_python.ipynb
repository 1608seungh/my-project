{
 "cells": [
  {
   "cell_type": "code",
   "execution_count": 19,
   "id": "3437500b",
   "metadata": {},
   "outputs": [],
   "source": [
    "import numpy as np\n",
    "\n",
    "def Ad(T):\n",
    "    p = T[:3, 3]\n",
    "    R = T[:3, :3]\n",
    "    p_mat = np.array([[0, -p[2], p[1]],\n",
    "                      [p[2], 0, -p[0]],\n",
    "                      [-p[1], p[0], 0]])\n",
    "    Adjoint = np.vstack((np.hstack((R, np.zeros((3, 3)))),\n",
    "                         np.hstack((p_mat @ R, R))))\n",
    "    return Adjoint"
   ]
  },
  {
   "cell_type": "code",
   "execution_count": 39,
   "id": "c113845e",
   "metadata": {},
   "outputs": [
    {
     "ename": "ValueError",
     "evalue": "operands could not be broadcast together with shapes (4,4) (5,) ",
     "output_type": "error",
     "traceback": [
      "\u001b[1;31m---------------------------------------------------------------------------\u001b[0m",
      "\u001b[1;31mValueError\u001b[0m                                Traceback (most recent call last)",
      "\u001b[1;32m~\\AppData\\Local\\Temp\\ipykernel_29160\\2127980679.py\u001b[0m in \u001b[0;36m<module>\u001b[1;34m\u001b[0m\n\u001b[0;32m     75\u001b[0m \u001b[0mk\u001b[0m \u001b[1;33m=\u001b[0m \u001b[1;36m1\u001b[0m\u001b[1;33m\u001b[0m\u001b[1;33m\u001b[0m\u001b[0m\n\u001b[0;32m     76\u001b[0m \u001b[1;32mwhile\u001b[0m \u001b[1;33m(\u001b[0m\u001b[0mnp\u001b[0m\u001b[1;33m.\u001b[0m\u001b[0mlinalg\u001b[0m\u001b[1;33m.\u001b[0m\u001b[0mnorm\u001b[0m\u001b[1;33m(\u001b[0m\u001b[0mw_b\u001b[0m\u001b[1;33m)\u001b[0m \u001b[1;33m>\u001b[0m \u001b[1;36m0.001\u001b[0m \u001b[1;32mor\u001b[0m \u001b[0mnp\u001b[0m\u001b[1;33m.\u001b[0m\u001b[0mlinalg\u001b[0m\u001b[1;33m.\u001b[0m\u001b[0mnorm\u001b[0m\u001b[1;33m(\u001b[0m\u001b[0mv_b\u001b[0m\u001b[1;33m)\u001b[0m \u001b[1;33m>\u001b[0m \u001b[1;36m0.0001\u001b[0m\u001b[1;33m)\u001b[0m \u001b[1;32mand\u001b[0m \u001b[0mk\u001b[0m \u001b[1;33m<\u001b[0m \u001b[1;36m200\u001b[0m\u001b[1;33m:\u001b[0m\u001b[1;33m\u001b[0m\u001b[1;33m\u001b[0m\u001b[0m\n\u001b[1;32m---> 77\u001b[1;33m     \u001b[0mT_sb\u001b[0m \u001b[1;33m=\u001b[0m \u001b[0mexpm\u001b[0m\u001b[1;33m(\u001b[0m\u001b[0mS1\u001b[0m \u001b[1;33m*\u001b[0m \u001b[0mth\u001b[0m\u001b[1;33m[\u001b[0m\u001b[1;36m0\u001b[0m\u001b[1;33m]\u001b[0m\u001b[1;33m)\u001b[0m \u001b[1;33m@\u001b[0m \u001b[0mexpm\u001b[0m\u001b[1;33m(\u001b[0m\u001b[0mS2\u001b[0m \u001b[1;33m*\u001b[0m \u001b[0mth\u001b[0m\u001b[1;33m[\u001b[0m\u001b[1;36m1\u001b[0m\u001b[1;33m]\u001b[0m\u001b[1;33m)\u001b[0m \u001b[1;33m@\u001b[0m \u001b[0mexpm\u001b[0m\u001b[1;33m(\u001b[0m\u001b[0mS3\u001b[0m \u001b[1;33m*\u001b[0m \u001b[0mth\u001b[0m\u001b[1;33m[\u001b[0m\u001b[1;36m2\u001b[0m\u001b[1;33m]\u001b[0m\u001b[1;33m)\u001b[0m \u001b[1;33m@\u001b[0m \u001b[0mexpm\u001b[0m\u001b[1;33m(\u001b[0m\u001b[0mS4\u001b[0m \u001b[1;33m*\u001b[0m \u001b[0mth\u001b[0m\u001b[1;33m[\u001b[0m\u001b[1;36m3\u001b[0m\u001b[1;33m]\u001b[0m\u001b[1;33m)\u001b[0m \u001b[1;33m@\u001b[0m \u001b[0mexpm\u001b[0m\u001b[1;33m(\u001b[0m\u001b[0mS5\u001b[0m \u001b[1;33m*\u001b[0m \u001b[0mth\u001b[0m\u001b[1;33m[\u001b[0m\u001b[1;36m4\u001b[0m\u001b[1;33m]\u001b[0m\u001b[1;33m)\u001b[0m \u001b[1;33m@\u001b[0m \u001b[0mM\u001b[0m\u001b[1;33m\u001b[0m\u001b[1;33m\u001b[0m\u001b[0m\n\u001b[0m\u001b[0;32m     78\u001b[0m     \u001b[0mT_bs\u001b[0m \u001b[1;33m=\u001b[0m \u001b[0mnp\u001b[0m\u001b[1;33m.\u001b[0m\u001b[0mlinalg\u001b[0m\u001b[1;33m.\u001b[0m\u001b[0minv\u001b[0m\u001b[1;33m(\u001b[0m\u001b[0mT_sb\u001b[0m\u001b[1;33m)\u001b[0m\u001b[1;33m\u001b[0m\u001b[1;33m\u001b[0m\u001b[0m\n\u001b[0;32m     79\u001b[0m \u001b[1;33m\u001b[0m\u001b[0m\n",
      "\u001b[1;31mValueError\u001b[0m: operands could not be broadcast together with shapes (4,4) (5,) "
     ]
    }
   ],
   "source": [
    "import numpy as np\n",
    "from scipy.linalg import expm\n",
    "from scipy.linalg import logm\n",
    "\n",
    "q = np.array([0, 0.2004, 0.0068])\n",
    "\n",
    "M = np.vstack([np.hstack([np.eye(3), q.reshape(-1, 1)]),\n",
    "                  np.array([0, 0, 0, 1])])\n",
    "\n",
    "w1 = np.array([0, 0, 1])\n",
    "w2 = np.array([1, 0, 0])\n",
    "w3 = np.array([1, 0, 0])\n",
    "w4 = np.array([1, 0, 0])\n",
    "w5 = np.array([0, 0, 1])\n",
    "\n",
    "q1 = np.array([0, 0, 0])\n",
    "q2 = np.array([0, 0, 0.0701])\n",
    "q3 = np.array([0, 0.1036, 0.0701])\n",
    "q4 = np.array([0, 0.2004, 0.0701])\n",
    "q5 = np.array([0, 0.2004, 0.0391])\n",
    "\n",
    "v1 = -np.cross(w1, q1)\n",
    "v2 = -np.cross(w2, q2)\n",
    "v3 = -np.cross(w3, q3)\n",
    "v4 = -np.cross(w4, q4)\n",
    "v5 = -np.cross(w5, q5)\n",
    "\n",
    "v1 = v1.reshape(-1,1)\n",
    "v2 = v2.reshape(-1,1)\n",
    "v3 = v3.reshape(-1,1)\n",
    "v4 = v4.reshape(-1,1)\n",
    "v5 = v5.reshape(-1,1)\n",
    "\n",
    "w_mat1 = np.array([[0, -w1[2], w1[1]],\n",
    "                   [w1[2], 0, -w1[0]],\n",
    "                   [-w1[1], w1[0], 0]])\n",
    "w_mat2 = np.array([[0, -w2[2], w2[1]],\n",
    "                   [w2[2], 0, -w2[0]],\n",
    "                   [-w2[1], w2[0], 0]])\n",
    "w_mat3 = np.array([[0, -w3[2], w3[1]],\n",
    "                   [w3[2], 0, -w3[0]],\n",
    "                   [-w3[1], w3[0], 0]])\n",
    "w_mat4 = np.array([[0, -w4[2], w4[1]],\n",
    "                   [w4[2], 0, -w4[0]],\n",
    "                   [-w4[1], w4[0], 0]])\n",
    "w_mat5 = np.array([[0, -w5[2], w5[1]],\n",
    "                   [w5[2], 0, -w5[0]],\n",
    "                   [-w5[1], w5[0], 0]])\n",
    "\n",
    "S1 = np.vstack([np.hstack([w_mat1, v1.reshape(-1, 1)]),\n",
    "                np.zeros((1, 4))])\n",
    "S2 = np.vstack([np.hstack([w_mat2, v2.reshape(-1, 1)]),\n",
    "                np.zeros((1, 4))])\n",
    "S3 = np.vstack([np.hstack([w_mat3, v3.reshape(-1, 1)]),\n",
    "                np.zeros((1, 4))])\n",
    "S4 = np.vstack([np.hstack([w_mat4, v4.reshape(-1, 1)]), \n",
    "                np.zeros((1, 4))])\n",
    "S5 = np.vstack([np.hstack([w_mat5, v5.reshape(-1, 1)]),\n",
    "                np.zeros((1, 4))])\n",
    "\n",
    "w1 = w1.reshape(-1,1)\n",
    "w2 = w2.reshape(-1,1)\n",
    "w3 = w3.reshape(-1,1)\n",
    "w4 = w4.reshape(-1,1)\n",
    "w5 = w5.reshape(-1,1)\n",
    "\n",
    "x_d = np.array([0.15, 0.07, 0.0701])\n",
    "T_sd = np.vstack([np.hstack([np.eye(3), x_d.reshape(-1, 1)]),\n",
    "                  np.array([[0, 0, 0, 1]])])\n",
    "\n",
    "th = np.deg2rad([-86.9474, 41.3064, -44.3338, 3.0274, 86.9474])\n",
    "w_b = np.array([1, 1, 1])\n",
    "v_b = np.array([1, 1, 1])\n",
    "\n",
    "k = 1\n",
    "while (np.linalg.norm(w_b) > 0.001 or np.linalg.norm(v_b) > 0.0001) and k < 200:\n",
    "    T_sb = expm(S1 * th[0]) @ expm(S2 * th[1]) @ expm(S3 * th[2]) @ expm(S4 * th[3]) @ expm(S5 * th[4]) @ M\n",
    "    T_bs = np.linalg.inv(T_sb)\n",
    "    \n",
    "    AdT_bs = Ad(T_bs)\n",
    "    \n",
    "    Js1 = np.vstack([w1, v1])\n",
    "    Js2 = Ad(expm(S1 * th[0])) @ np.vstack([w2, v2])\n",
    "    Js3 = Ad(expm(S1 * th[0]) @ expm(S2 * th[1])) @ np.vstack([w3, v3])\n",
    "    Js4 = Ad(expm(S1 * th[0]) @ expm(S2 * th[1]) @ expm(S3 * th[2])) @ np.vstack([w4, v4])\n",
    "    Js5 = Ad(expm(S1 * th[0]) @ expm(S2 * th[1]) @ expm(S3 * th[2]) @ expm(S4 * th[3])) @ np.vstack([w5, v5])\n",
    "    Js = np.hstack([Js1, Js2, Js3, Js4, Js5])\n",
    "    Jb = AdT_bs @ Js\n",
    "    \n",
    "    T_bd = T_bs @ T_sd\n",
    "    V_bmat = logm(T_bd) * 0.1\n",
    "    w_b = np.array([V_bmat[2, 1], V_bmat[0, 2], V_bmat[1, 0]])\n",
    "    v_b = V_bmat[:3, 3]\n",
    "    V_b = np.hstack([w_b, v_b])\n",
    "    \n",
    "    gamma = 0.2\n",
    "    th_home = np.array([0, 0, 0, 0, 0])\n",
    "    dth = np.linalg.pinv(Jb) @ V_b + (np.eye(5) - np.linalg.pinv(Jb) @ Jb) * gamma * (th_home - th)\n",
    "    \n",
    "    th = th + dth\n",
    "    th_deg = np.rad2deg(th)\n",
    "    \n",
    "    k = k + 1\n",
    "    \n",
    "                "
   ]
  },
  {
   "cell_type": "code",
   "execution_count": 30,
   "id": "341fbd12",
   "metadata": {},
   "outputs": [
    {
     "ename": "ValueError",
     "evalue": "cannot reshape array of size 3 into shape (0,0,1)",
     "output_type": "error",
     "traceback": [
      "\u001b[1;31m---------------------------------------------------------------------------\u001b[0m",
      "\u001b[1;31mValueError\u001b[0m                                Traceback (most recent call last)",
      "\u001b[1;32m~\\AppData\\Local\\Temp\\ipykernel_29160\\2386867886.py\u001b[0m in \u001b[0;36m<module>\u001b[1;34m\u001b[0m\n\u001b[1;32m----> 1\u001b[1;33m \u001b[0mw1\u001b[0m\u001b[1;33m.\u001b[0m\u001b[0mreshape\u001b[0m\u001b[1;33m(\u001b[0m\u001b[0mnp\u001b[0m\u001b[1;33m.\u001b[0m\u001b[0marray\u001b[0m\u001b[1;33m(\u001b[0m\u001b[1;33m[\u001b[0m\u001b[1;36m0\u001b[0m\u001b[1;33m,\u001b[0m \u001b[1;36m0\u001b[0m\u001b[1;33m,\u001b[0m \u001b[1;36m1\u001b[0m\u001b[1;33m]\u001b[0m\u001b[1;33m)\u001b[0m\u001b[1;33m)\u001b[0m\u001b[1;33m\u001b[0m\u001b[1;33m\u001b[0m\u001b[0m\n\u001b[0m\u001b[0;32m      2\u001b[0m \u001b[0mw2\u001b[0m \u001b[1;33m=\u001b[0m \u001b[0mnp\u001b[0m\u001b[1;33m.\u001b[0m\u001b[0marray\u001b[0m\u001b[1;33m(\u001b[0m\u001b[1;33m[\u001b[0m\u001b[1;36m1\u001b[0m\u001b[1;33m,\u001b[0m \u001b[1;36m0\u001b[0m\u001b[1;33m,\u001b[0m \u001b[1;36m0\u001b[0m\u001b[1;33m]\u001b[0m\u001b[1;33m)\u001b[0m\u001b[1;33m\u001b[0m\u001b[1;33m\u001b[0m\u001b[0m\n\u001b[0;32m      3\u001b[0m \u001b[0mw3\u001b[0m \u001b[1;33m=\u001b[0m \u001b[0mnp\u001b[0m\u001b[1;33m.\u001b[0m\u001b[0marray\u001b[0m\u001b[1;33m(\u001b[0m\u001b[1;33m[\u001b[0m\u001b[1;36m1\u001b[0m\u001b[1;33m,\u001b[0m \u001b[1;36m0\u001b[0m\u001b[1;33m,\u001b[0m \u001b[1;36m0\u001b[0m\u001b[1;33m]\u001b[0m\u001b[1;33m)\u001b[0m\u001b[1;33m\u001b[0m\u001b[1;33m\u001b[0m\u001b[0m\n\u001b[0;32m      4\u001b[0m \u001b[0mw4\u001b[0m \u001b[1;33m=\u001b[0m \u001b[0mnp\u001b[0m\u001b[1;33m.\u001b[0m\u001b[0marray\u001b[0m\u001b[1;33m(\u001b[0m\u001b[1;33m[\u001b[0m\u001b[1;36m1\u001b[0m\u001b[1;33m,\u001b[0m \u001b[1;36m0\u001b[0m\u001b[1;33m,\u001b[0m \u001b[1;36m0\u001b[0m\u001b[1;33m]\u001b[0m\u001b[1;33m)\u001b[0m\u001b[1;33m\u001b[0m\u001b[1;33m\u001b[0m\u001b[0m\n\u001b[0;32m      5\u001b[0m \u001b[0mw5\u001b[0m \u001b[1;33m=\u001b[0m \u001b[0mnp\u001b[0m\u001b[1;33m.\u001b[0m\u001b[0marray\u001b[0m\u001b[1;33m(\u001b[0m\u001b[1;33m[\u001b[0m\u001b[1;36m0\u001b[0m\u001b[1;33m,\u001b[0m \u001b[1;36m0\u001b[0m\u001b[1;33m,\u001b[0m \u001b[1;36m1\u001b[0m\u001b[1;33m]\u001b[0m\u001b[1;33m)\u001b[0m\u001b[1;33m\u001b[0m\u001b[1;33m\u001b[0m\u001b[0m\n",
      "\u001b[1;31mValueError\u001b[0m: cannot reshape array of size 3 into shape (0,0,1)"
     ]
    }
   ],
   "source": [
    "w1.reshape(np.array([0, 0, 1]))\n",
    "w2 = np.array([1, 0, 0])\n",
    "w3 = np.array([1, 0, 0])\n",
    "w4 = np.array([1, 0, 0])\n",
    "w5 = np.array([0, 0, 1])"
   ]
  },
  {
   "cell_type": "markdown",
   "id": "edd1d65f",
   "metadata": {},
   "source": [
    " Matlab에서 Python code로 변환"
   ]
  },
  {
   "cell_type": "code",
   "execution_count": 117,
   "id": "cd9d4c7d",
   "metadata": {},
   "outputs": [],
   "source": [
    "import numpy as np\n",
    "\n",
    "def Ad(T):\n",
    "    p = T[:3, 3]\n",
    "    R = T[:3, :3]\n",
    "    p_mat = np.array([[0, -p[2], p[1]],\n",
    "                      [p[2], 0, -p[0]],\n",
    "                      [-p[1], p[0], 0]])\n",
    "    Adjoint = np.vstack((np.hstack((R, np.zeros((3, 3)))),\n",
    "                         np.hstack((p_mat @ R, R))))\n",
    "    return Adjoint\n",
    "\n",
    "def skew(w):\n",
    "    skew_mat = np.array([[0, -w[2], w[1]],\n",
    "                         [w[2], 0, -w[0]],\n",
    "                         [-w[1], w[0], 0]], dtype = object)\n",
    "    return skew_mat"
   ]
  },
  {
   "cell_type": "code",
   "execution_count": 118,
   "id": "a294a375",
   "metadata": {},
   "outputs": [],
   "source": [
    "w1 = np.array([0, 0, 1])\n",
    "w_mat1 = skew(w1)\n",
    "w2 = np.array([1, 0, 0])\n",
    "w_mat2 = skew(w2)\n"
   ]
  },
  {
   "cell_type": "code",
   "execution_count": 115,
   "id": "097c2daa",
   "metadata": {},
   "outputs": [
    {
     "data": {
      "text/plain": [
       "array([[ 0,  0,  0],\n",
       "       [ 0,  0, -1],\n",
       "       [ 0,  1,  0]])"
      ]
     },
     "execution_count": 115,
     "metadata": {},
     "output_type": "execute_result"
    }
   ],
   "source": [
    "w_mat2"
   ]
  },
  {
   "cell_type": "code",
   "execution_count": 119,
   "id": "2262ae39",
   "metadata": {},
   "outputs": [],
   "source": [
    "import numpy as np\n",
    "from scipy.linalg import expm\n",
    "from scipy.linalg import logm\n",
    "\n",
    "q = np.array([0, 0.2004, 0.0068])\n",
    "\n",
    "M = np.vstack([np.hstack([np.eye(3), q.reshape(-1, 1)]),\n",
    "                  np.array([0, 0, 0, 1])])\n",
    "\n",
    "w1 = np.array([0, 0, 1])\n",
    "w2 = np.array([1, 0, 0])\n",
    "w3 = np.array([1, 0, 0])\n",
    "w4 = np.array([1, 0, 0])\n",
    "w5 = np.array([0, 0, 1])\n",
    "\n",
    "q1 = np.array([0, 0, 0])\n",
    "q2 = np.array([0, 0, 0.0701])\n",
    "q3 = np.array([0, 0.1036, 0.0701])\n",
    "q4 = np.array([0, 0.2004, 0.0701])\n",
    "q5 = np.array([0, 0.2004, 0.0391])\n",
    "\n",
    "v1 = -np.cross(w1, q1)\n",
    "v2 = -np.cross(w2, q2)\n",
    "v3 = -np.cross(w3, q3)\n",
    "v4 = -np.cross(w4, q4)\n",
    "v5 = -np.cross(w5, q5)\n",
    "\n",
    "w1 = w1.reshape(-1,1)\n",
    "w2 = w2.reshape(-1,1)\n",
    "w3 = w3.reshape(-1,1)\n",
    "w4 = w4.reshape(-1,1)\n",
    "w5 = w5.reshape(-1,1)\n",
    "\n",
    "v1 = v1.reshape(-1,1)\n",
    "v2 = v2.reshape(-1,1)\n",
    "v3 = v3.reshape(-1,1)\n",
    "v4 = v4.reshape(-1,1)\n",
    "v5 = v5.reshape(-1,1)\n",
    "\n",
    "w_mat1 = skew(w1)\n",
    "w_mat2 = skew(w2)\n",
    "w_mat3 = skew(w3)\n",
    "w_mat4 = skew(w4)\n",
    "w_mat5 = skew(w5)\n",
    "\n",
    "S1 = np.vstack([np.hstack([w_mat1, v1.reshape(-1, 1)]),\n",
    "                np.zeros((1, 4))])\n",
    "S2 = np.vstack([np.hstack([w_mat2, v2.reshape(-1, 1)]),\n",
    "                np.zeros((1, 4))])\n",
    "S3 = np.vstack([np.hstack([w_mat3, v3.reshape(-1, 1)]),\n",
    "                np.zeros((1, 4))])\n",
    "S4 = np.vstack([np.hstack([w_mat4, v4.reshape(-1, 1)]), \n",
    "                np.zeros((1, 4))])\n",
    "S5 = np.vstack([np.hstack([w_mat5, v5.reshape(-1, 1)]),\n",
    "                np.zeros((1, 4))])\n",
    "\n",
    "x_d = np.array([0.15, 0.07, 0.0701])\n",
    "x_d = x_d.reshape(-1,1)\n",
    "T_sd = np.vstack([np.hstack([np.eye(3), x_d]),\n",
    "                  np.array([[0, 0, 0, 1]])])\n",
    "\n",
    "th = np.deg2rad([-86.9474, 41.3064, -44.3338, 3.0274, 86.9474])\n",
    "w_b = np.array([1, 1, 1])\n",
    "w_b = w_b.reshape(-1,1)\n",
    "v_b = np.array([1, 1, 1])\n",
    "v_b = v_b.reshape(-1,1)\n",
    "\n",
    "k = 1\n",
    "while (np.linalg.norm(w_b) > 0.001 or np.linalg.norm(v_b) > 0.0001) and k < 200:\n",
    "\n",
    "\n",
    "    T_sb = expm(S1 * th[0]) @ expm(S2 * th[1]) @ expm(S3 * th[2]) @ expm(S4 * th[3]) @ expm(S5 * th[4]) @ M\n",
    "    T_bs = np.linalg.inv(T_sb)\n",
    "\n",
    "    AdT_bs = Ad(T_bs)\n",
    "\n",
    "    Js1 = np.vstack([w1, v1])\n",
    "    Js2 = Ad(expm(S1 * th[0])) @ np.vstack([w2, v2])\n",
    "    Js3 = Ad(expm(S1 * th[0]) @ expm(S2 * th[1])) @ np.vstack([w3, v3])\n",
    "    Js4 = Ad(expm(S1 * th[0]) @ expm(S2 * th[1]) @ expm(S3 * th[2])) @ np.vstack([w4, v4])\n",
    "    Js5 = Ad(expm(S1 * th[0]) @ expm(S2 * th[1]) @ expm(S3 * th[2]) @ expm(S4 * th[3])) @ np.vstack([w5, v5])\n",
    "    Js = np.hstack([Js1, Js2, Js3, Js4, Js5])\n",
    "    Jb = AdT_bs @ Js\n",
    "\n",
    "    T_bd = T_bs @ T_sd\n",
    "    V_bmat = logm(T_bd) * 0.1\n",
    "    w_b = np.array([V_bmat[2, 1], V_bmat[0, 2], V_bmat[1, 0]])\n",
    "    v_b = V_bmat[:3, 3]\n",
    "    V_b = np.hstack([w_b, v_b])\n",
    "\n",
    "    gamma = 0.2\n",
    "    th_home = np.array([0, 0, 0, 0, 0])\n",
    "    dth = np.linalg.pinv(Jb) @ V_b + gamma * (np.eye(5) - np.linalg.pinv(Jb) @ Jb) @ (th_home - th)\n",
    "\n",
    "    th = th + dth\n",
    "    th_deg = np.rad2deg(th)\n",
    "\n",
    "    k = k + 1\n",
    "    \n",
    "    T_sb\n",
    "\n"
   ]
  },
  {
   "cell_type": "code",
   "execution_count": 120,
   "id": "83a2f524",
   "metadata": {},
   "outputs": [
    {
     "data": {
      "text/plain": [
       "array([-65.28392204,  47.79348963, -55.77497405,   7.98148442,\n",
       "        65.28392204])"
      ]
     },
     "execution_count": 120,
     "metadata": {},
     "output_type": "execute_result"
    }
   ],
   "source": [
    "th_deg"
   ]
  },
  {
   "cell_type": "code",
   "execution_count": 105,
   "id": "e8ba7312",
   "metadata": {},
   "outputs": [
    {
     "data": {
      "text/plain": [
       "array([[ 1.00000000e+00,  2.22044605e-16, -1.38777878e-16,\n",
       "         1.50337264e-01],\n",
       "       [-1.11022302e-16,  1.00000000e+00, -9.02056208e-17,\n",
       "         6.90922278e-02],\n",
       "       [ 5.04393618e-17,  2.31809984e-17,  1.00000000e+00,\n",
       "         7.00983004e-02],\n",
       "       [ 0.00000000e+00,  0.00000000e+00,  0.00000000e+00,\n",
       "         1.00000000e+00]])"
      ]
     },
     "execution_count": 105,
     "metadata": {},
     "output_type": "execute_result"
    }
   ],
   "source": [
    "T_sb"
   ]
  },
  {
   "cell_type": "code",
   "execution_count": null,
   "id": "30fc21e5",
   "metadata": {},
   "outputs": [],
   "source": []
  }
 ],
 "metadata": {
  "kernelspec": {
   "display_name": "Python 3 (ipykernel)",
   "language": "python",
   "name": "python3"
  },
  "language_info": {
   "codemirror_mode": {
    "name": "ipython",
    "version": 3
   },
   "file_extension": ".py",
   "mimetype": "text/x-python",
   "name": "python",
   "nbconvert_exporter": "python",
   "pygments_lexer": "ipython3",
   "version": "3.9.13"
  }
 },
 "nbformat": 4,
 "nbformat_minor": 5
}
