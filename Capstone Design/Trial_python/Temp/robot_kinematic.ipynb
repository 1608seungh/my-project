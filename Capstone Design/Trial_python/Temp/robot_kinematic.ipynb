{
 "cells": [
  {
   "cell_type": "markdown",
   "id": "23159555",
   "metadata": {},
   "source": [
    " Matlab에서 Python code로 변환"
   ]
  },
  {
   "cell_type": "code",
   "execution_count": 15,
   "id": "97f68e86",
   "metadata": {},
   "outputs": [],
   "source": [
    "import numpy as np\n",
    "\n",
    "def Ad(T):\n",
    "    p = T[:3, 3]\n",
    "    R = T[:3, :3]\n",
    "    p_mat = np.array([[0, -p[2], p[1]],\n",
    "                      [p[2], 0, -p[0]],\n",
    "                      [-p[1], p[0], 0]])\n",
    "    Adjoint = np.vstack((np.hstack((R, np.zeros((3, 3)))),\n",
    "                         np.hstack((p_mat @ R, R))))\n",
    "    return Adjoint\n",
    "\n",
    "def skew(w):\n",
    "    skew_mat = np.array([[0, -w[2], w[1]],\n",
    "                         [w[2], 0, -w[0]],\n",
    "                         [-w[1], w[0], 0]], dtype = object)\n",
    "    return skew_mat\n",
    "\n",
    "def screw(w, q):\n",
    "    w_mat = np.array([[0, -w[2], w[1]],\n",
    "                      [w[2], 0, -w[0]],\n",
    "                      [-w[1], w[0], 0]], dtype = object)\n",
    "    v = -np.cross(w, q)\n",
    "    screw = np.vstack((np.hstack((w_mat, v.reshape(-1, 1))), np.zeros((1, 4))))\n",
    "    return screw"
   ]
  },
  {
   "cell_type": "code",
   "execution_count": 16,
   "id": "21badaf9",
   "metadata": {},
   "outputs": [],
   "source": [
    "\n"
   ]
  },
  {
   "cell_type": "code",
   "execution_count": 14,
   "id": "d3df6aca",
   "metadata": {},
   "outputs": [
    {
     "data": {
      "text/plain": [
       "array([-65.28392204,  47.79348963, -55.77497405,   7.98148442,\n",
       "        65.28392204])"
      ]
     },
     "execution_count": 14,
     "metadata": {},
     "output_type": "execute_result"
    }
   ],
   "source": [
    "th_deg"
   ]
  }
 ],
 "metadata": {
  "kernelspec": {
   "display_name": "Python 3 (ipykernel)",
   "language": "python",
   "name": "python3"
  },
  "language_info": {
   "codemirror_mode": {
    "name": "ipython",
    "version": 3
   },
   "file_extension": ".py",
   "mimetype": "text/x-python",
   "name": "python",
   "nbconvert_exporter": "python",
   "pygments_lexer": "ipython3",
   "version": "3.9.13"
  }
 },
 "nbformat": 4,
 "nbformat_minor": 5
}
