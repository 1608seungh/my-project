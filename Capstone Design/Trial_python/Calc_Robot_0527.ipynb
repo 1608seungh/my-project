{
 "cells": [
  {
   "cell_type": "code",
   "execution_count": 3,
   "id": "45a18136",
   "metadata": {},
   "outputs": [],
   "source": [
    "import numpy as np\n",
    "\n",
    "def Skew(w):\n",
    "    skew_mat = np.array([[0, -w[2], w[1]],\n",
    "                        [w[2], 0, -w[0]],\n",
    "                        [-w[1], w[0], 0]], dtype = object)\n",
    "    return skew_mat\n",
    "\n",
    "def matrix_exp(w_hat, theta):\n",
    "    skew_w = Skew(w_hat)\n",
    "    R = np.eye(3) + np.sin(theta) * skew_w + (1 - np.cos(theta)) * np.matmul(skew_w, skew_w)\n",
    "    return R\n",
    "\n",
    "def screw_exp(screw, theta):\n",
    "    w_hat = screw[:3]\n",
    "    v = screw[3:]\n",
    "\n",
    "    w_hat_skew = Skew(w_hat)\n",
    "\n",
    "    R = matrix_exp(w_hat, theta)\n",
    "    G_theta = np.eye(3) * theta + (1 - np.cos(theta)) * w_hat_skew + (theta - np.sin(theta)) * np.matmul(w_hat_skew, w_hat_skew)\n",
    "\n",
    "    T = np.vstack((np.hstack((R, np.matmul(G_theta, v.reshape((-1, 1))))),\n",
    "                       [0, 0, 0, 1]))\n",
    "    return T\n",
    "    \n",
    "def Ad(T):\n",
    "    p = T[:3, 3]\n",
    "    R = T[:3, :3]\n",
    "    p_mat = Skew(p)\n",
    "    Adjoint = np.vstack((np.hstack((R, np.zeros((3, 3)))),\n",
    "                             np.hstack((p_mat @ R, R))))\n",
    "    return Adjoint"
   ]
  },
  {
   "cell_type": "code",
   "execution_count": 4,
   "id": "76a7cb7d",
   "metadata": {},
   "outputs": [],
   "source": [
    "import numpy as np\n",
    "import time\n",
    "\n",
    "from scipy.linalg import logm\n",
    "\n",
    "w = np.array([[0, 0, 1], [1, 0, 0], [1, 0, 0], [1, 0, 0], [0, 0, 1]])\n",
    "q = np.array([[0, 0, 0], [0, 0, 0.1253], [0, 0.0834, 0.1253], [0, 0.1668, 0.1253], [0, 0.1668, 0.0753]])\n",
    "v = -np.cross(w,q)\n",
    "s1 = np.vstack([w[0].reshape(-1,1), v[0].reshape(-1,1)])\n",
    "s2 = np.vstack([w[1].reshape(-1,1), v[1].reshape(-1,1)])\n",
    "s3 = np.vstack([w[2].reshape(-1,1), v[2].reshape(-1,1)])\n",
    "s4 = np.vstack([w[3].reshape(-1,1), v[3].reshape(-1,1)])\n",
    "s5 = np.vstack([w[4].reshape(-1,1), v[4].reshape(-1,1)])\n",
    "\n",
    "q_end = np.array([[0], [0.1668], [0.0479]])\n",
    "M = np.vstack([np.hstack([np.eye(3), q_end]),\n",
    "                  np.array([0, 0, 0, 1])])\n",
    "\n",
    "# Initial Pos = [0; 0.12; 0.0665]\n",
    "th = np.deg2rad([[0.0315], [52.0915], [-86.5612], [34.4697], [-0.0315]])\n",
    "\n",
    "pos_d = np.array([[0.017, 0.12, 0.0665], [0.035, 0.12, 0.0665], [0.055, 0.12, 0.0665],\n",
    "                  [0.075, 0.12, 0.0665], [0.055, 0.12, 0.0665], [0.035, 0.12, 0.0665],\n",
    "                  [0.017, 0.12, 0.0665], [0, 0.12, 0.0665], [-0.017, 0.12, 0.0665],\n",
    "                  [-0.035, 0.12, 0.0665], [-0.055, 0.12, 0.0665], [-0.075, 0.12, 0.0665],\n",
    "                  [-0.055, 0.12, 0.0665], [-0.035, 0.12, 0.0665], [-0.017, 0.12, 0.0665],\n",
    "                  [0, 0.12, 0.0665]])\n",
    "\n",
    "for j in range(16):\n",
    "    x_d = pos_d[j].reshape(-1,1)\n",
    "    T_sd = np.vstack([np.hstack([np.eye(3), x_d]), [0, 0, 0, 1]])\n",
    "    \n",
    "    k = 1\n",
    "    dt = 1.2\n",
    "\n",
    "    w_b = np.array([[1], [1], [1]])\n",
    "    v_b = np.array([[1], [1], [1]])\n",
    "    \n",
    "    while (np.linalg.norm(w_b) > 0.001 or np.linalg.norm(v_b) > 0.0001):\n",
    "\n",
    "        # Forward Kinematic\n",
    "        exp1 = screw_exp(s1, th[0])\n",
    "        exp2 = screw_exp(s2, th[1])\n",
    "        exp3 = screw_exp(s3, th[2])\n",
    "        exp4 = screw_exp(s4, th[3])\n",
    "        exp5 = screw_exp(s5, th[4])\n",
    "        T_sb = exp1 @ exp2 @ exp3 @ exp4 @ exp5 @ M \n",
    "        T_sb = T_sb.astype(dtype = 'float64')\n",
    "\n",
    "        # Inverse Kinematic\n",
    "        T_bs = np.linalg.inv(T_sb)\n",
    "        AdT_bs = Ad(T_bs)\n",
    "\n",
    "        Js1 = s1\n",
    "        Js2 = Ad(exp1) @ s2\n",
    "        Js3 = Ad(exp1 @ exp2) @ s3\n",
    "        Js4 = Ad(exp1 @ exp2 @ exp3) @ s4\n",
    "        Js5 = Ad(exp1 @ exp2 @ exp3 @ exp4) @ s5\n",
    "        Js = np.hstack([Js1, Js2, Js3, Js4, Js5])\n",
    "        Js = Js.astype(dtype = 'float64')\n",
    "        Jb = AdT_bs @ Js\n",
    "        Jb = Jb.astype(dtype = 'float64')\n",
    "\n",
    "        T_bd = T_bs @ T_sd\n",
    "        V_bmat = logm(T_bd) * 0.07\n",
    "        w_b = np.array([V_bmat[2, 1], V_bmat[0, 2], V_bmat[1, 0]])\n",
    "        w_b = w_b.reshape(-1,1)\n",
    "        v_b = V_bmat[:3, 3]\n",
    "        v_b = v_b.reshape(-1,1)\n",
    "        V_b = np.vstack([w_b, v_b])\n",
    "\n",
    "        dth = np.linalg.pinv(Jb) @ V_b\n",
    "        th = th + dth * dt\n",
    "        th_deg = np.rad2deg(th)\n",
    "\n",
    "        thd = np.array([th_deg[0]+90, th_deg[1], th_deg[2]+90, th_deg[3], -th_deg[4]+90])\n",
    "        thd = thd.reshape(1,-1)\n",
    "        \n",
    "        k += 1\n",
    "\n",
    "        if k == 250:\n",
    "            break\n",
    "            \n",
    "    j += 1"
   ]
  },
  {
   "cell_type": "code",
   "execution_count": 5,
   "id": "75c8b12c",
   "metadata": {},
   "outputs": [
    {
     "data": {
      "text/plain": [
       "array([[ 8.67361738e-19,  9.99939969e-01,  9.99939969e-01,\n",
       "         9.99939969e-01,  0.00000000e+00],\n",
       "       [-1.11022302e-16,  1.09570973e-02,  1.09570973e-02,\n",
       "         1.09570973e-02,  0.00000000e+00],\n",
       "       [ 1.00000000e+00, -3.85185989e-34, -3.85185989e-34,\n",
       "        -3.85185989e-34,  1.00000000e+00],\n",
       "       [-1.19990685e-01, -6.44277888e-04, -1.36527839e-03,\n",
       "        -8.48079334e-04,  2.77829460e-17],\n",
       "       [-1.31482854e-03,  5.87965217e-02,  1.24594716e-01,\n",
       "         7.73953536e-02, -4.33680869e-19],\n",
       "       [-4.18999633e-20,  1.19997888e-01,  6.87569103e-02,\n",
       "        -1.38777878e-17,  1.63420106e-20]])"
      ]
     },
     "execution_count": 5,
     "metadata": {},
     "output_type": "execute_result"
    }
   ],
   "source": [
    "Jb"
   ]
  },
  {
   "cell_type": "code",
   "execution_count": 3,
   "id": "727abeac",
   "metadata": {},
   "outputs": [
    {
     "data": {
      "text/plain": [
       "array([[90.0315],\n",
       "       [52.0915],\n",
       "       [ 3.4388],\n",
       "       [34.4697],\n",
       "       [90.0315]])"
      ]
     },
     "execution_count": 3,
     "metadata": {},
     "output_type": "execute_result"
    }
   ],
   "source": [
    "th = np.deg2rad([[0.0315], [52.0915], [-86.5612], [34.4697], [-0.0315]])\n",
    "th_deg = np.array([[0.0315], [52.0915], [-86.5612], [34.4697], [-0.0315]])\n",
    "thd = np.array([th_deg[0]+90, th_deg[1], th_deg[2]+90, th_deg[3], -th_deg[4]+90])\n",
    "thd\n"
   ]
  }
 ],
 "metadata": {
  "kernelspec": {
   "display_name": "Python 3 (ipykernel)",
   "language": "python",
   "name": "python3"
  },
  "language_info": {
   "codemirror_mode": {
    "name": "ipython",
    "version": 3
   },
   "file_extension": ".py",
   "mimetype": "text/x-python",
   "name": "python",
   "nbconvert_exporter": "python",
   "pygments_lexer": "ipython3",
   "version": "3.9.13"
  }
 },
 "nbformat": 4,
 "nbformat_minor": 5
}
