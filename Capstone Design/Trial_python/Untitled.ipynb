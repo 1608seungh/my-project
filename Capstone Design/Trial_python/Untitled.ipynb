{
 "cells": [
  {
   "cell_type": "code",
   "execution_count": 45,
   "id": "e9e12a61",
   "metadata": {},
   "outputs": [],
   "source": [
    "import numpy as np\n",
    "\n",
    "def Skew(w):\n",
    "    skew_mat = np.array([[0, -w[2], w[1]],\n",
    "                        [w[2], 0, -w[0]],\n",
    "                        [-w[1], w[0], 0]], dtype = 'object')\n",
    "    return skew_mat\n",
    "\n",
    "def matrix_exp(w_hat, theta):\n",
    "    skew_w = Skew(w_hat)\n",
    "    R = np.eye(3) + np.sin(theta) * skew_w + (1 - np.cos(theta)) * np.matmul(skew_w, skew_w)\n",
    "    return R\n",
    "\n",
    "def screw_exp(screw, theta):\n",
    "    w_hat = screw[:3]\n",
    "    v = screw[3:]\n",
    "\n",
    "    w_hat_skew = Skew(w_hat)\n",
    "\n",
    "    R = matrix_exp(w_hat, theta)\n",
    "    G_theta = np.eye(3) * theta + (1 - np.cos(theta)) * w_hat_skew + (theta - np.sin(theta)) * np.matmul(w_hat_skew, w_hat_skew)\n",
    "\n",
    "    T = np.vstack((np.hstack((R, np.matmul(G_theta, v.reshape((-1, 1))))),\n",
    "                       [0, 0, 0, 1]))\n",
    "    return T\n",
    "    \n",
    "def Ad(T):\n",
    "    p = T[:3, 3]\n",
    "    R = T[:3, :3]\n",
    "    p_mat = Skew(p)\n",
    "    Adjoint = np.vstack((np.hstack((R, np.zeros((3, 3)))),\n",
    "                             np.hstack((p_mat @ R, R))))\n",
    "    return Adjoint"
   ]
  },
  {
   "cell_type": "code",
   "execution_count": 46,
   "id": "3e90c1b2",
   "metadata": {},
   "outputs": [
    {
     "data": {
      "text/plain": [
       "array([[-1.08420217e-19,  9.99999849e-01,  9.99999849e-01,\n",
       "         9.99999849e-01, -1.20370622e-35],\n",
       "       [ 1.11022302e-16,  5.49778687e-04,  5.49778687e-04,\n",
       "         5.49778687e-04,  1.23259516e-32],\n",
       "       [ 1.00000000e+00,  3.29407521e-36,  3.29407521e-36,\n",
       "         3.29407521e-36,  1.00000000e+00],\n",
       "       [-1.19998226e-01, -3.23269395e-05, -6.85034830e-05,\n",
       "        -4.25528703e-05, -2.66449586e-17],\n",
       "       [-6.59724770e-05,  5.87999051e-02,  1.24601907e-01,\n",
       "         7.73999883e-02,  2.46201332e-37],\n",
       "       [-5.68581742e-21,  1.19998244e-01,  6.87570958e-02,\n",
       "        -2.66449627e-17,  2.21758445e-21]])"
      ]
     },
     "execution_count": 46,
     "metadata": {},
     "output_type": "execute_result"
    }
   ],
   "source": [
    "import numpy as np\n",
    "import time\n",
    "\n",
    "from scipy.linalg import logm\n",
    "\n",
    "w = np.array([[0, 0, 1], [1, 0, 0], [1, 0, 0], [1, 0, 0], [0, 0, 1]])\n",
    "q = np.array([[0, 0, 0], [0, 0, 0.1253], [0, 0.0834, 0.1253], [0, 0.1668, 0.1253], [0, 0.1668, 0.0753]])\n",
    "v = -np.cross(w,q)\n",
    "s1 = np.vstack([w[0].reshape(-1,1), v[0].reshape(-1,1)])\n",
    "s2 = np.vstack([w[1].reshape(-1,1), v[1].reshape(-1,1)])\n",
    "s3 = np.vstack([w[2].reshape(-1,1), v[2].reshape(-1,1)])\n",
    "s4 = np.vstack([w[3].reshape(-1,1), v[3].reshape(-1,1)])\n",
    "s5 = np.vstack([w[4].reshape(-1,1), v[4].reshape(-1,1)])\n",
    "\n",
    "q_end = np.array([[0], [0.1668], [0.0479]])\n",
    "M = np.vstack([np.hstack([np.eye(3), q_end]),\n",
    "                  np.array([0, 0, 0, 1])])\n",
    "\n",
    "# Initial Pos = [0; 0.12; 0.0665]\n",
    "th = np.deg2rad([[0.0315], [52.0915], [-86.5612], [34.4697], [-0.0315]])\n",
    "\n",
    "pos_d = np.array([[0.017, 0.12, 0.0665], [0.035, 0.12, 0.0665], [0.055, 0.12, 0.0665],\n",
    "                  [0.075, 0.12, 0.0665], [0.055, 0.12, 0.0665], [0.035, 0.12, 0.0665],\n",
    "                  [0.017, 0.12, 0.0665], [0, 0.12, 0.0665], [-0.017, 0.12, 0.0665],\n",
    "                  [-0.035, 0.12, 0.0665], [-0.055, 0.12, 0.0665], [-0.075, 0.12, 0.0665],\n",
    "                  [-0.055, 0.12, 0.0665], [-0.035, 0.12, 0.0665], [-0.017, 0.12, 0.0665],\n",
    "                  [0, 0.12, 0.0665]])\n",
    "\n",
    "        # Forward Kinematic\n",
    "exp1 = screw_exp(s1, th[0])\n",
    "exp2 = screw_exp(s2, th[1])\n",
    "exp3 = screw_exp(s3, th[2])\n",
    "exp4 = screw_exp(s4, th[3])\n",
    "exp5 = screw_exp(s5, th[4])\n",
    "T_sb = exp1 @ exp2 @ exp3 @ exp4 @ exp5 @ M \n",
    "T_sb = T_sb.astype(dtype = 'float64')\n",
    "\n",
    "        # Inverse Kinematic\n",
    "T_bs = np.linalg.inv(T_sb)\n",
    "AdT_bs = Ad(T_bs).astype(dtype = 'float64')\n",
    "\n",
    "Js1 = s1\n",
    "Js2 = Ad(exp1) @ s2\n",
    "Js3 = Ad(exp1 @ exp2) @ s3\n",
    "Js4 = Ad(exp1 @ exp2 @ exp3) @ s4\n",
    "Js5 = Ad(exp1 @ exp2 @ exp3 @ exp4) @ s5\n",
    "Js = np.hstack([Js1, Js2, Js3, Js4, Js5])\n",
    "Js = Js.astype(dtype = 'float64')\n",
    "Jb = AdT_bs @ Js\n",
    "Jb"
   ]
  },
  {
   "cell_type": "code",
   "execution_count": 47,
   "id": "d83b8270",
   "metadata": {},
   "outputs": [
    {
     "data": {
      "text/plain": [
       "array([[ 1.00000000e+00,  0.00000000e+00,  1.08420217e-19,\n",
       "        -6.59724770e-05],\n",
       "       [ 1.08420217e-19,  1.00000000e+00, -1.11022302e-16,\n",
       "         1.19998226e-01],\n",
       "       [-3.05188478e-20,  5.55111428e-17,  1.00000000e+00,\n",
       "         6.65000860e-02],\n",
       "       [ 0.00000000e+00,  0.00000000e+00,  0.00000000e+00,\n",
       "         1.00000000e+00]])"
      ]
     },
     "execution_count": 47,
     "metadata": {},
     "output_type": "execute_result"
    }
   ],
   "source": [
    "T_sb"
   ]
  }
 ],
 "metadata": {
  "kernelspec": {
   "display_name": "Python 3 (ipykernel)",
   "language": "python",
   "name": "python3"
  },
  "language_info": {
   "codemirror_mode": {
    "name": "ipython",
    "version": 3
   },
   "file_extension": ".py",
   "mimetype": "text/x-python",
   "name": "python",
   "nbconvert_exporter": "python",
   "pygments_lexer": "ipython3",
   "version": "3.9.13"
  }
 },
 "nbformat": 4,
 "nbformat_minor": 5
}
